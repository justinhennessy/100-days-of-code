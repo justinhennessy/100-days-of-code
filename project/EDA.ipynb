{
 "cells": [
  {
   "cell_type": "code",
   "execution_count": 87,
   "metadata": {},
   "outputs": [],
   "source": [
    "%reload_ext autoreload"
   ]
  },
  {
   "cell_type": "code",
   "execution_count": 88,
   "metadata": {},
   "outputs": [
    {
     "name": "stdout",
     "output_type": "stream",
     "text": [
      "The autoreload extension is already loaded. To reload it, use:\n",
      "  %reload_ext autoreload\n"
     ]
    }
   ],
   "source": [
    "# Imports\n",
    "%load_ext autoreload\n",
    "%autoreload 2\n",
    "\n",
    "%matplotlib inline\n",
    "\n",
    "import sys\n",
    "import pandas as pd\n",
    "import matplotlib.pyplot as plt\n",
    "import numpy as np\n",
    "import random\n",
    "from tabulate import tabulate\n",
    "\n",
    "sys.path.append('../lib')\n",
    "import utils\n",
    "import preprocessing as pp\n",
    "\n",
    "def log_plot(columns):\n",
    "    plt.figure(figsize=(20,15))\n",
    "\n",
    "    for column in columns:\n",
    "        plt.plot(np.sort(np.log(df_raw[column])), label=column)\n",
    "\n",
    "    plt.legend(loc='lower right')\n",
    "    plt.show()"
   ]
  },
  {
   "cell_type": "code",
   "execution_count": 113,
   "metadata": {},
   "outputs": [],
   "source": [
    "# Load in data\n",
    "\n",
    "PATH = \"../data/\"\n",
    "df_raw = pd.read_csv(f'{PATH}churn.csv', low_memory=False, \n",
    "                     parse_dates=['canceldate', 'licence_registration_date', 'golive_date'])\n",
    "\n",
    "COLUMN_NAME = 'golive_days'"
   ]
  },
  {
   "cell_type": "code",
   "execution_count": 114,
   "metadata": {},
   "outputs": [],
   "source": [
    "def display_all(df):\n",
    "    with pd.option_context(\"display.max_rows\", 1000, \"display.max_columns\", 1000):\n",
    "        display(df)\n",
    "        \n",
    "def logify_feature(df, feature, drop=False):\n",
    "    df[feature + '_log'] = np.log(df[feature])\n",
    "    df[feature + '_log'] = df[feature + '_log'].replace(-np.inf, np.nan)\n",
    "    if drop:\n",
    "        df = df.drop(columns=[feature])\n",
    "    return df"
   ]
  },
  {
   "cell_type": "code",
   "execution_count": 115,
   "metadata": {},
   "outputs": [],
   "source": [
    "df_raw = logify_feature(df_raw, COLUMN_NAME)"
   ]
  },
  {
   "cell_type": "code",
   "execution_count": 116,
   "metadata": {},
   "outputs": [
    {
     "data": {
      "text/plain": [
       "Index(['username', 'licence_registration_date', 'licence_status', 'url',\n",
       "       'golive_date', 'canceldate', 'plan', 'days_active', 'account_status',\n",
       "       'customer_account_status', 'nps', 'last_login_days', 'golive_days',\n",
       "       'last_month_total', 'mtd_total', 'last_month_open', 'mtd_open',\n",
       "       'last_month_closed', 'mtd_closed', 'last_month_age_hours',\n",
       "       'mtd_age_hours', 'month_total_avg', 'open_month_avg',\n",
       "       'closed_month_avg', 'age_hours_month_avg', 'interactions_total',\n",
       "       'interactions_completed', 'interactions_no_response',\n",
       "       'interactions_no_onboarding', 'interactions_completed_training',\n",
       "       'churn_concern_cases_total', 'churn_concern_cases_open',\n",
       "       'total_churn_concern_cases_age', 'total_churn_concern_cases_age_avg',\n",
       "       'churned', 'golive_days_log'],\n",
       "      dtype='object')"
      ]
     },
     "execution_count": 116,
     "metadata": {},
     "output_type": "execute_result"
    }
   ],
   "source": [
    "df_raw.columns"
   ]
  },
  {
   "cell_type": "code",
   "execution_count": 117,
   "metadata": {},
   "outputs": [
    {
     "data": {
      "text/plain": [
       "1.0        69\n",
       "2.0        58\n",
       "6.0        55\n",
       "7.0        46\n",
       "4.0        44\n",
       "           ..\n",
       "340.0       1\n",
       "284.0       1\n",
       "712.0       1\n",
       "42305.0     1\n",
       "899.0       1\n",
       "Name: golive_days, Length: 550, dtype: int64"
      ]
     },
     "execution_count": 117,
     "metadata": {},
     "output_type": "execute_result"
    }
   ],
   "source": [
    "df_raw[COLUMN_NAME].value_counts()"
   ]
  },
  {
   "cell_type": "code",
   "execution_count": 118,
   "metadata": {},
   "outputs": [
    {
     "data": {
      "text/plain": [
       "count     3225.000000\n",
       "mean       364.170233\n",
       "std       3191.332829\n",
       "min          0.000000\n",
       "25%         23.000000\n",
       "50%         65.000000\n",
       "75%        159.000000\n",
       "max      43560.000000\n",
       "Name: golive_days, dtype: float64"
      ]
     },
     "execution_count": 118,
     "metadata": {},
     "output_type": "execute_result"
    }
   ],
   "source": [
    "df_raw[COLUMN_NAME].describe()"
   ]
  },
  {
   "cell_type": "code",
   "execution_count": 119,
   "metadata": {},
   "outputs": [
    {
     "name": "stdout",
     "output_type": "stream",
     "text": [
      "golive_days\n",
      "\n",
      "Min: 0.0\n",
      "Max: 43560.0\n",
      "Mean: 364.17023255813956\n",
      "Trimmed Mean: nan\n",
      "Median: 65.0\n",
      "Std: 0    1.0\n",
      "dtype: float64\n",
      "CV: 3191.3328288387283\n"
     ]
    }
   ],
   "source": [
    "utils.general_stats(df_raw, COLUMN_NAME)"
   ]
  },
  {
   "cell_type": "code",
   "execution_count": 120,
   "metadata": {},
   "outputs": [
    {
     "name": "stdout",
     "output_type": "stream",
     "text": [
      "STANDARD mean: 518.5567010309278\n",
      "STANDARD median: 37.0\n",
      "LISTNSEND mean: nan\n",
      "LISTNSEND median: nan\n",
      "PREMIUM mean: 522.16\n",
      "PREMIUM median: 59.0\n",
      "BUSINESS + mean: 588.0\n",
      "BUSINESS + median: 588.0\n",
      "TRIAL mean: 43153.5\n",
      "TRIAL median: 43153.5\n",
      "ULTIMATE mean: 293.1111111111111\n",
      "ULTIMATE median: 231.0\n",
      "CUSTOM mean: 10816.5\n",
      "CUSTOM median: 252.0\n",
      "PLAN-S mean: 68.59362549800797\n",
      "PLAN-S median: 33.0\n",
      "GOLD mean: nan\n",
      "GOLD median: nan\n",
      "PLAN-M mean: 84.39285714285714\n",
      "PLAN-M median: 57.0\n",
      "PREMIER mean: nan\n",
      "PREMIER median: nan\n",
      "START mean: nan\n",
      "START median: nan\n",
      "BASIC mean: nan\n",
      "BASIC median: nan\n",
      "BUSINESS mean: nan\n",
      "BUSINESS median: nan\n",
      "PLAN-S-17Q2 mean: 220.9964412811388\n",
      "PLAN-S-17Q2 median: 32.0\n",
      "LIST N SEND SILVER mean: nan\n",
      "LIST N SEND SILVER median: nan\n",
      "PLAN-XS mean: 34.4375\n",
      "PLAN-XS median: 25.0\n",
      "BRONZE mean: nan\n",
      "BRONZE median: nan\n",
      "ULTIMATE PLUS mean: nan\n",
      "ULTIMATE PLUS median: nan\n",
      "PLAN-L-19Q1 mean: 175.86703601108033\n",
      "PLAN-L-19Q1 median: 100.0\n",
      "PLAN-M-17Q2 mean: 651.2432432432432\n",
      "PLAN-M-17Q2 median: 40.0\n",
      "PLAN-360-19Q1 mean: 152.67948717948718\n",
      "PLAN-360-19Q1 median: 92.0\n",
      "PLAN-S-19Q1 mean: 137.69436485195797\n",
      "PLAN-S-19Q1 median: 76.0\n",
      "PLAN-XL-19Q1 mean: 224.9375\n",
      "PLAN-XL-19Q1 median: 161.5\n",
      "PLAN-M-19Q1 mean: 131.14814814814815\n",
      "PLAN-M-19Q1 median: 67.0\n",
      "PLAN-360-TRANSITION mean: 183.63313609467457\n",
      "PLAN-360-TRANSITION median: 113.0\n",
      "CUSTOM XL mean: nan\n",
      "CUSTOM XL median: nan\n",
      "SILVER mean: nan\n",
      "SILVER median: nan\n",
      "L&S - STANDARD mean: nan\n",
      "L&S - STANDARD median: nan\n",
      "GROW mean: nan\n",
      "GROW median: nan\n",
      "START - LEGACY mean: nan\n",
      "START - LEGACY median: nan\n",
      "PLAN-L-17Q2 mean: 3576.2\n",
      "PLAN-L-17Q2 median: 88.0\n",
      "PLAN-L mean: 75.7\n",
      "PLAN-L median: 48.5\n",
      "PLAN-360-17Q2 mean: 89.83333333333333\n",
      "PLAN-360-17Q2 median: 57.5\n",
      "PLAN-XS-17Q2 mean: 79.53658536585365\n",
      "PLAN-XS-17Q2 median: 36.0\n",
      "TELSTRA - STANDARD mean: 34169.4\n",
      "TELSTRA - STANDARD median: 42635.0\n",
      "L&S - ULTIMATE mean: nan\n",
      "L&S - ULTIMATE median: nan\n",
      "L&S - PREMIUM mean: nan\n",
      "L&S - PREMIUM median: nan\n",
      "TELSTRA - PREMIUM mean: nan\n",
      "TELSTRA - PREMIUM median: nan\n",
      "NETO XL mean: 404.0\n",
      "NETO XL median: 427.0\n",
      "TELSTRA - POS S mean: 43236.0\n",
      "TELSTRA - POS S median: 43236.0\n",
      "TELSTRA - ONLINE STORE M mean: 42921.0\n",
      "TELSTRA - ONLINE STORE M median: 42921.0\n",
      "TELSTRA - ONLINE STORE S mean: nan\n",
      "TELSTRA - ONLINE STORE S median: nan\n",
      "ENTERPRISE mean: 90.0\n",
      "ENTERPRISE median: 90.0\n",
      "NETO XXL mean: 91.0\n",
      "NETO XXL median: 91.0\n",
      "PLAN-S-US mean: nan\n",
      "PLAN-S-US median: nan\n",
      "PLAN-L-US mean: 25.0\n",
      "PLAN-L-US median: 25.0\n",
      "PLAN-M-US mean: 56.0\n",
      "PLAN-M-US median: 56.0\n",
      "PLAN-360-US mean: 43.0\n",
      "PLAN-360-US median: 43.0\n"
     ]
    }
   ],
   "source": [
    "for plan in df_raw.plan[~pd.isnull(df_raw.plan)].unique():\n",
    "    print(f\"{plan} mean: {df_raw[COLUMN_NAME][df_raw.plan == plan].mean()}\")\n",
    "    print(f\"{plan} median: {df_raw[COLUMN_NAME][df_raw.plan == plan].median()}\")"
   ]
  },
  {
   "cell_type": "code",
   "execution_count": 111,
   "metadata": {},
   "outputs": [
    {
     "data": {
      "text/plain": [
       "<matplotlib.axes._subplots.AxesSubplot at 0x1c2f9817f0>"
      ]
     },
     "execution_count": 111,
     "metadata": {},
     "output_type": "execute_result"
    },
    {
     "data": {
      "image/png": "[encoded data removed]",
      "text/plain": [
       "<Figure size 432x288 with 1 Axes>"
      ]
     },
     "metadata": {
      "needs_background": "light"
     },
     "output_type": "display_data"
    }
   ],
   "source": [
    "df_raw[COLUMN_NAME].hist()"
   ]
  },
  {
   "cell_type": "code",
   "execution_count": 112,
   "metadata": {},
   "outputs": [
    {
     "name": "stdout",
     "output_type": "stream",
     "text": [
      "Sorting dataframe by licence_registration_date ...\n",
      "Defaulting 'last_login_days' for missing values to the plans mean or platform medeian ...\n",
      "  Platform 'last_login_days' median: 12.0\n",
      "  Platform 'last_login_days' mean: 17.153525239883187\n",
      "  List records that still have NaN in them for feature 'last_login_days' ...\n",
      "  0\n",
      "Defaulting 'mtd_total' for missing values to the plans mean or platform medeian ...\n",
      "  Platform 'mtd_total' median: 0.0\n",
      "  Platform 'mtd_total' mean: 0.22980997624703087\n",
      "  List records that still have NaN in them for feature 'mtd_total' ...\n",
      "  0\n",
      "Defaulting all NaN values with median ...\n",
      "Binning last_login_days\n",
      "fortnight    4360\n",
      "month         985\n",
      "month+        802\n",
      "day           350\n",
      "week            0\n",
      "few_days        0\n",
      "Name: last_login_categories, dtype: int64\n",
      "Binning NPS data\n",
      "Fixing days_active abnormal values ...\n",
      "Bin days_active ...\n",
      "One-hot encoding customer_account_status\n",
      "One-hot encoding plan\n",
      "One-hot encoding nps\n",
      "One-hot encoding last_login_categories\n",
      "One-hot encoding days_active\n",
      "Preprocessing dates ...\n",
      "Dropping feature account_status ...\n",
      "Dropping feature customer_account_status_Good ...\n",
      "Dropping feature canceldate ...\n",
      "Dropping feature total_churn_concern_cases_age ...\n",
      "Dropping features with 'interactions' in their name ...\n",
      "Dropping features with 'churn_concern' in their name ...\n",
      "Convert categorical features into numbers ...\n",
      "List any features that still have NaN values ...\n",
      "Feature has NaN values: url, 43\n",
      "Feature has NaN values: golive_days, 3272\n",
      "Feature has NaN values: last_month_total_log, 4985\n",
      "Feature has NaN values: licence_registration_Year, 356\n",
      "Feature has NaN values: licence_registration_Month, 356\n",
      "Feature has NaN values: licence_registration_Week, 356\n",
      "Feature has NaN values: licence_registration_Day, 356\n",
      "Feature has NaN values: licence_registration_Dayofweek, 356\n",
      "Feature has NaN values: licence_registration_Dayofyear, 356\n",
      "Feature has NaN values: golive_Year, 3272\n",
      "Feature has NaN values: golive_Month, 3272\n",
      "Feature has NaN values: golive_Week, 3272\n",
      "Feature has NaN values: golive_Day, 3272\n",
      "Feature has NaN values: golive_Dayofweek, 3272\n",
      "Feature has NaN values: golive_Dayofyear, 3272\n"
     ]
    }
   ],
   "source": [
    "df_processed = pp.prepare_data(df_raw)"
   ]
  },
  {
   "cell_type": "code",
   "execution_count": 99,
   "metadata": {},
   "outputs": [
    {
     "data": {
      "text/plain": [
       "Index(['username', 'licence_status', 'url', 'last_login_days', 'golive_days',\n",
       "       'last_month_total', 'mtd_total', 'last_month_open', 'mtd_open',\n",
       "       'last_month_closed',\n",
       "       ...\n",
       "       'golive_Day', 'golive_Dayofweek', 'golive_Dayofyear',\n",
       "       'golive_Is_month_end', 'golive_Is_month_start', 'golive_Is_quarter_end',\n",
       "       'golive_Is_quarter_start', 'golive_Is_year_end', 'golive_Is_year_start',\n",
       "       'golive_Elapsed'],\n",
       "      dtype='object', length=118)"
      ]
     },
     "execution_count": 99,
     "metadata": {},
     "output_type": "execute_result"
    }
   ],
   "source": [
    "df_processed.columns"
   ]
  },
  {
   "cell_type": "code",
   "execution_count": 100,
   "metadata": {},
   "outputs": [
    {
     "data": {
      "text/plain": [
       "<matplotlib.axes._subplots.AxesSubplot at 0x1c2f9b7710>"
      ]
     },
     "execution_count": 100,
     "metadata": {},
     "output_type": "execute_result"
    },
    {
     "data": {
      "image/png": "[encoded data removed]",
      "text/plain": [
       "<Figure size 432x288 with 1 Axes>"
      ]
     },
     "metadata": {
      "needs_background": "light"
     },
     "output_type": "display_data"
    }
   ],
   "source": [
    "df_processed[COLUMN_NAME + \"_log\"].hist()"
   ]
  },
  {
   "cell_type": "code",
   "execution_count": 101,
   "metadata": {},
   "outputs": [
    {
     "name": "stdout",
     "output_type": "stream",
     "text": [
      "1 STD: 44.87% of the data fits in here\n",
      "2 STD: 49.11% of the data fits in here\n",
      "3 STD: 50.61% of the data fits in here\n"
     ]
    }
   ],
   "source": [
    "def data_distribution(df, feature):\n",
    "    feature_mean = df[feature].mean()\n",
    "    feature_std = df[feature].std()\n",
    "\n",
    "    for i in [1,2,3]:\n",
    "        output = round(len(df[COLUMN_NAME].loc[(df[COLUMN_NAME] > (feature_mean - (feature_std * i))) &\n",
    "                                            (df[COLUMN_NAME] < (feature_mean + (feature_std * i)))]) / len(df) * 100,2)\n",
    "        print(f\"{i} STD: {output}% of the data fits in here\")\n",
    "\n",
    "data_distribution(df_raw, COLUMN_NAME)"
   ]
  },
  {
   "cell_type": "code",
   "execution_count": 102,
   "metadata": {},
   "outputs": [
    {
     "name": "stdout",
     "output_type": "stream",
     "text": [
      "mtd_total\n",
      "\n",
      "Min: 0\n",
      "Max: 9\n",
      "Mean: 0.11928582422656611\n",
      "Trimmed Mean: 0.0\n",
      "Median: 0.0\n",
      "Std: 0    0\n",
      "dtype: int64\n",
      "CV: 0.530845577188186\n"
     ]
    }
   ],
   "source": [
    "utils.general_stats(df_processed, COLUMN_NAME)"
   ]
  },
  {
   "cell_type": "code",
   "execution_count": 18,
   "metadata": {},
   "outputs": [
    {
     "ename": "NameError",
     "evalue": "name 'get_sample' is not defined",
     "output_type": "error",
     "traceback": [
      "\u001b[0;31m---------------------------------------------------------------------------\u001b[0m",
      "\u001b[0;31mNameError\u001b[0m                                 Traceback (most recent call last)",
      "\u001b[0;32m<ipython-input-18-812c12f35572>\u001b[0m in \u001b[0;36m<module>\u001b[0;34m\u001b[0m\n\u001b[1;32m      1\u001b[0m \u001b[0;32mfrom\u001b[0m \u001b[0mpdpbox\u001b[0m \u001b[0;32mimport\u001b[0m \u001b[0mpdp\u001b[0m\u001b[0;34m\u001b[0m\u001b[0;34m\u001b[0m\u001b[0m\n\u001b[1;32m      2\u001b[0m \u001b[0;34m\u001b[0m\u001b[0m\n\u001b[0;32m----> 3\u001b[0;31m \u001b[0mx\u001b[0m \u001b[0;34m=\u001b[0m \u001b[0mget_sample\u001b[0m\u001b[0;34m(\u001b[0m\u001b[0mX_train\u001b[0m\u001b[0;34m,\u001b[0m \u001b[0;36m2000\u001b[0m\u001b[0;34m)\u001b[0m\u001b[0;34m\u001b[0m\u001b[0;34m\u001b[0m\u001b[0m\n\u001b[0m\u001b[1;32m      4\u001b[0m \u001b[0;34m\u001b[0m\u001b[0m\n\u001b[1;32m      5\u001b[0m \u001b[0;32mdef\u001b[0m \u001b[0mplot_pdp\u001b[0m\u001b[0;34m(\u001b[0m\u001b[0mfeat\u001b[0m\u001b[0;34m,\u001b[0m \u001b[0mclusters\u001b[0m\u001b[0;34m=\u001b[0m\u001b[0;32mNone\u001b[0m\u001b[0;34m,\u001b[0m \u001b[0mfeat_name\u001b[0m\u001b[0;34m=\u001b[0m\u001b[0;32mNone\u001b[0m\u001b[0;34m)\u001b[0m\u001b[0;34m:\u001b[0m\u001b[0;34m\u001b[0m\u001b[0;34m\u001b[0m\u001b[0m\n",
      "\u001b[0;31mNameError\u001b[0m: name 'get_sample' is not defined"
     ]
    }
   ],
   "source": [
    "from pdpbox import pdp\n",
    "\n",
    "x = get_sample(X_train, 2000)\n",
    "\n",
    "def plot_pdp(feat, clusters=None, feat_name=None):\n",
    "    feat_name = feat_name or feat\n",
    "    p = pdp.pdp_isolate(m, x, feature = feat, model_features = x.columns, num_grid_points=30)\n",
    "    #p = pdp.pdp_isolate(m, x, feature = feat, num_grid_points=30)\n",
    "    return pdp.pdp_plot(p, feat_name, plot_lines=True,\n",
    "                        cluster=clusters is not None,\n",
    "                        n_cluster_centers=clusters)\n",
    "\n",
    "%time plot_pdp('COLUMN_NAME')"
   ]
  },
  {
   "cell_type": "code",
   "execution_count": null,
   "metadata": {},
   "outputs": [],
   "source": [
    "plot_pdp('days_active', clusters=5)"
   ]
  },
  {
   "cell_type": "code",
   "execution_count": 24,
   "metadata": {},
   "outputs": [
    {
     "data": {
      "image/png": "[encoded data removed]",
      "text/plain": [
       "<Figure size 720x720 with 1 Axes>"
      ]
     },
     "metadata": {
      "needs_background": "light"
     },
     "output_type": "display_data"
    }
   ],
   "source": [
    "import matplotlib.pyplot as plt\n",
    "\n",
    "plt.figure(figsize=(10,10))\n",
    "plt.scatter(df_raw.index, df_raw[COLUMN_NAME],\n",
    "            c='b', marker='.', label=COLUMN_NAME,\n",
    "            s=500, alpha=.1)\n",
    "\n",
    "plt.legend(loc='upper left')\n",
    "plt.ylabel(COLUMN_NAME)\n",
    "plt.xlabel(\"index\")\n",
    "\n",
    "plt.show()"
   ]
  },
  {
   "cell_type": "code",
   "execution_count": 25,
   "metadata": {},
   "outputs": [
    {
     "name": "stdout",
     "output_type": "stream",
     "text": [
      "44.87\n",
      "49.11\n",
      "50.61\n"
     ]
    }
   ],
   "source": [
    "def data_distribution(df, feature):\n",
    "    feature_mean = df[feature].mean()\n",
    "    feature_std = df[feature].std()\n",
    "\n",
    "    for i in [1,2,3]:\n",
    "        output = round(len(df[COLUMN_NAME].loc[(df[COLUMN_NAME] > (feature_mean - (feature_std * i))) &\n",
    "                                            (df[COLUMN_NAME] < (feature_mean + (feature_std * i)))]) / len(df) * 100,2)\n",
    "        print(output)\n",
    "        \n",
    "data_distribution(df_raw, COLUMN_NAME)"
   ]
  },
  {
   "cell_type": "code",
   "execution_count": 28,
   "metadata": {},
   "outputs": [
    {
     "data": {
      "text/html": [
       "<div>\n",
       "<style scoped>\n",
       "    .dataframe tbody tr th:only-of-type {\n",
       "        vertical-align: middle;\n",
       "    }\n",
       "\n",
       "    .dataframe tbody tr th {\n",
       "        vertical-align: top;\n",
       "    }\n",
       "\n",
       "    .dataframe thead th {\n",
       "        text-align: right;\n",
       "    }\n",
       "</style>\n",
       "<table border=\"1\" class=\"dataframe\">\n",
       "  <thead>\n",
       "    <tr style=\"text-align: right;\">\n",
       "      <th></th>\n",
       "      <th>username</th>\n",
       "      <th>licence_registration_date</th>\n",
       "      <th>licence_status</th>\n",
       "      <th>url</th>\n",
       "      <th>golive_date</th>\n",
       "      <th>canceldate</th>\n",
       "      <th>plan</th>\n",
       "      <th>days_active</th>\n",
       "      <th>account_status</th>\n",
       "      <th>customer_account_status</th>\n",
       "      <th>...</th>\n",
       "      <th>interactions_total</th>\n",
       "      <th>interactions_completed</th>\n",
       "      <th>interactions_no_response</th>\n",
       "      <th>interactions_no_onboarding</th>\n",
       "      <th>interactions_completed_training</th>\n",
       "      <th>churn_concern_cases_total</th>\n",
       "      <th>churn_concern_cases_open</th>\n",
       "      <th>total_churn_concern_cases_age</th>\n",
       "      <th>total_churn_concern_cases_age_avg</th>\n",
       "      <th>churned</th>\n",
       "    </tr>\n",
       "  </thead>\n",
       "  <tbody>\n",
       "    <tr>\n",
       "      <td>0</td>\n",
       "      <td>12vFridges</td>\n",
       "      <td>2013-11-28</td>\n",
       "      <td>CANCELLED</td>\n",
       "      <td>www.kickassproducts.com.au</td>\n",
       "      <td>NaT</td>\n",
       "      <td>2016-06-07</td>\n",
       "      <td>STANDARD</td>\n",
       "      <td>922.0</td>\n",
       "      <td>NaN</td>\n",
       "      <td>NaN</td>\n",
       "      <td>...</td>\n",
       "      <td>NaN</td>\n",
       "      <td>NaN</td>\n",
       "      <td>NaN</td>\n",
       "      <td>NaN</td>\n",
       "      <td>NaN</td>\n",
       "      <td>NaN</td>\n",
       "      <td>NaN</td>\n",
       "      <td>NaN</td>\n",
       "      <td>NaN</td>\n",
       "      <td>1</td>\n",
       "    </tr>\n",
       "    <tr>\n",
       "      <td>1</td>\n",
       "      <td>1808thestore</td>\n",
       "      <td>NaT</td>\n",
       "      <td>CANCELLED</td>\n",
       "      <td>1808thestore.mylistandsend.com</td>\n",
       "      <td>NaT</td>\n",
       "      <td>NaT</td>\n",
       "      <td>LISTNSEND</td>\n",
       "      <td>NaN</td>\n",
       "      <td>NaN</td>\n",
       "      <td>NaN</td>\n",
       "      <td>...</td>\n",
       "      <td>NaN</td>\n",
       "      <td>NaN</td>\n",
       "      <td>NaN</td>\n",
       "      <td>NaN</td>\n",
       "      <td>NaN</td>\n",
       "      <td>NaN</td>\n",
       "      <td>NaN</td>\n",
       "      <td>NaN</td>\n",
       "      <td>NaN</td>\n",
       "      <td>1</td>\n",
       "    </tr>\n",
       "    <tr>\n",
       "      <td>2</td>\n",
       "      <td>4sme</td>\n",
       "      <td>NaT</td>\n",
       "      <td>CANCELLED</td>\n",
       "      <td>NaN</td>\n",
       "      <td>NaT</td>\n",
       "      <td>NaT</td>\n",
       "      <td>NaN</td>\n",
       "      <td>NaN</td>\n",
       "      <td>NaN</td>\n",
       "      <td>NaN</td>\n",
       "      <td>...</td>\n",
       "      <td>NaN</td>\n",
       "      <td>NaN</td>\n",
       "      <td>NaN</td>\n",
       "      <td>NaN</td>\n",
       "      <td>NaN</td>\n",
       "      <td>NaN</td>\n",
       "      <td>NaN</td>\n",
       "      <td>NaN</td>\n",
       "      <td>NaN</td>\n",
       "      <td>1</td>\n",
       "    </tr>\n",
       "    <tr>\n",
       "      <td>3</td>\n",
       "      <td>55parrots</td>\n",
       "      <td>2014-03-10</td>\n",
       "      <td>CANCELLED</td>\n",
       "      <td>55parrots.neto.com.au</td>\n",
       "      <td>NaT</td>\n",
       "      <td>2018-01-29</td>\n",
       "      <td>STANDARD</td>\n",
       "      <td>1421.0</td>\n",
       "      <td>NaN</td>\n",
       "      <td>NaN</td>\n",
       "      <td>...</td>\n",
       "      <td>NaN</td>\n",
       "      <td>NaN</td>\n",
       "      <td>NaN</td>\n",
       "      <td>NaN</td>\n",
       "      <td>NaN</td>\n",
       "      <td>NaN</td>\n",
       "      <td>NaN</td>\n",
       "      <td>NaN</td>\n",
       "      <td>NaN</td>\n",
       "      <td>1</td>\n",
       "    </tr>\n",
       "    <tr>\n",
       "      <td>4</td>\n",
       "      <td>5thelementexped</td>\n",
       "      <td>2014-05-12</td>\n",
       "      <td>CANCELLED</td>\n",
       "      <td>www.5thelementexpeditions.com</td>\n",
       "      <td>NaT</td>\n",
       "      <td>2017-11-20</td>\n",
       "      <td>PREMIUM</td>\n",
       "      <td>1288.0</td>\n",
       "      <td>NaN</td>\n",
       "      <td>NaN</td>\n",
       "      <td>...</td>\n",
       "      <td>NaN</td>\n",
       "      <td>NaN</td>\n",
       "      <td>NaN</td>\n",
       "      <td>NaN</td>\n",
       "      <td>NaN</td>\n",
       "      <td>NaN</td>\n",
       "      <td>NaN</td>\n",
       "      <td>NaN</td>\n",
       "      <td>NaN</td>\n",
       "      <td>1</td>\n",
       "    </tr>\n",
       "    <tr>\n",
       "      <td>...</td>\n",
       "      <td>...</td>\n",
       "      <td>...</td>\n",
       "      <td>...</td>\n",
       "      <td>...</td>\n",
       "      <td>...</td>\n",
       "      <td>...</td>\n",
       "      <td>...</td>\n",
       "      <td>...</td>\n",
       "      <td>...</td>\n",
       "      <td>...</td>\n",
       "      <td>...</td>\n",
       "      <td>...</td>\n",
       "      <td>...</td>\n",
       "      <td>...</td>\n",
       "      <td>...</td>\n",
       "      <td>...</td>\n",
       "      <td>...</td>\n",
       "      <td>...</td>\n",
       "      <td>...</td>\n",
       "      <td>...</td>\n",
       "      <td>...</td>\n",
       "    </tr>\n",
       "    <tr>\n",
       "      <td>6492</td>\n",
       "      <td>NewtonFurniture</td>\n",
       "      <td>2013-11-25</td>\n",
       "      <td>CANCELLED</td>\n",
       "      <td>www.jackynewton.com.au</td>\n",
       "      <td>NaT</td>\n",
       "      <td>2016-09-12</td>\n",
       "      <td>ULTIMATE</td>\n",
       "      <td>1022.0</td>\n",
       "      <td>NaN</td>\n",
       "      <td>NaN</td>\n",
       "      <td>...</td>\n",
       "      <td>NaN</td>\n",
       "      <td>NaN</td>\n",
       "      <td>NaN</td>\n",
       "      <td>NaN</td>\n",
       "      <td>NaN</td>\n",
       "      <td>NaN</td>\n",
       "      <td>NaN</td>\n",
       "      <td>NaN</td>\n",
       "      <td>NaN</td>\n",
       "      <td>1</td>\n",
       "    </tr>\n",
       "    <tr>\n",
       "      <td>6493</td>\n",
       "      <td>nicholas262411061112</td>\n",
       "      <td>2013-11-27</td>\n",
       "      <td>CANCELLED</td>\n",
       "      <td>nicheclub.neto.com.au</td>\n",
       "      <td>NaT</td>\n",
       "      <td>NaT</td>\n",
       "      <td>NaN</td>\n",
       "      <td>2173.0</td>\n",
       "      <td>NaN</td>\n",
       "      <td>NaN</td>\n",
       "      <td>...</td>\n",
       "      <td>NaN</td>\n",
       "      <td>NaN</td>\n",
       "      <td>NaN</td>\n",
       "      <td>NaN</td>\n",
       "      <td>NaN</td>\n",
       "      <td>NaN</td>\n",
       "      <td>NaN</td>\n",
       "      <td>NaN</td>\n",
       "      <td>NaN</td>\n",
       "      <td>1</td>\n",
       "    </tr>\n",
       "    <tr>\n",
       "      <td>6494</td>\n",
       "      <td>nicknimbleneta6</td>\n",
       "      <td>2013-11-25</td>\n",
       "      <td>CANCELLED</td>\n",
       "      <td>www.diaxi.com</td>\n",
       "      <td>NaT</td>\n",
       "      <td>2016-09-08</td>\n",
       "      <td>BRONZE</td>\n",
       "      <td>1018.0</td>\n",
       "      <td>NaN</td>\n",
       "      <td>NaN</td>\n",
       "      <td>...</td>\n",
       "      <td>NaN</td>\n",
       "      <td>NaN</td>\n",
       "      <td>NaN</td>\n",
       "      <td>NaN</td>\n",
       "      <td>NaN</td>\n",
       "      <td>NaN</td>\n",
       "      <td>NaN</td>\n",
       "      <td>NaN</td>\n",
       "      <td>NaN</td>\n",
       "      <td>1</td>\n",
       "    </tr>\n",
       "    <tr>\n",
       "      <td>6495</td>\n",
       "      <td>nictimecodest23</td>\n",
       "      <td>2013-11-25</td>\n",
       "      <td>CANCELLED</td>\n",
       "      <td>www.zeusadventuregear.com.au</td>\n",
       "      <td>NaT</td>\n",
       "      <td>NaT</td>\n",
       "      <td>NaN</td>\n",
       "      <td>2175.0</td>\n",
       "      <td>NaN</td>\n",
       "      <td>NaN</td>\n",
       "      <td>...</td>\n",
       "      <td>NaN</td>\n",
       "      <td>NaN</td>\n",
       "      <td>NaN</td>\n",
       "      <td>NaN</td>\n",
       "      <td>NaN</td>\n",
       "      <td>NaN</td>\n",
       "      <td>NaN</td>\n",
       "      <td>NaN</td>\n",
       "      <td>NaN</td>\n",
       "      <td>1</td>\n",
       "    </tr>\n",
       "    <tr>\n",
       "      <td>6496</td>\n",
       "      <td>nomadsportfishi</td>\n",
       "      <td>2014-03-28</td>\n",
       "      <td>CANCELLED</td>\n",
       "      <td>nomadsportfishing.neto.com.au</td>\n",
       "      <td>NaT</td>\n",
       "      <td>2017-11-07</td>\n",
       "      <td>PREMIUM</td>\n",
       "      <td>1320.0</td>\n",
       "      <td>NaN</td>\n",
       "      <td>NaN</td>\n",
       "      <td>...</td>\n",
       "      <td>NaN</td>\n",
       "      <td>NaN</td>\n",
       "      <td>NaN</td>\n",
       "      <td>NaN</td>\n",
       "      <td>NaN</td>\n",
       "      <td>NaN</td>\n",
       "      <td>NaN</td>\n",
       "      <td>NaN</td>\n",
       "      <td>NaN</td>\n",
       "      <td>1</td>\n",
       "    </tr>\n",
       "  </tbody>\n",
       "</table>\n",
       "<p>3129 rows × 35 columns</p>\n",
       "</div>"
      ],
      "text/plain": [
       "                  username licence_registration_date licence_status  \\\n",
       "0               12vFridges                2013-11-28      CANCELLED   \n",
       "1             1808thestore                       NaT      CANCELLED   \n",
       "2                     4sme                       NaT      CANCELLED   \n",
       "3                55parrots                2014-03-10      CANCELLED   \n",
       "4          5thelementexped                2014-05-12      CANCELLED   \n",
       "...                    ...                       ...            ...   \n",
       "6492       NewtonFurniture                2013-11-25      CANCELLED   \n",
       "6493  nicholas262411061112                2013-11-27      CANCELLED   \n",
       "6494       nicknimbleneta6                2013-11-25      CANCELLED   \n",
       "6495       nictimecodest23                2013-11-25      CANCELLED   \n",
       "6496       nomadsportfishi                2014-03-28      CANCELLED   \n",
       "\n",
       "                                 url golive_date canceldate       plan  \\\n",
       "0         www.kickassproducts.com.au         NaT 2016-06-07   STANDARD   \n",
       "1     1808thestore.mylistandsend.com         NaT        NaT  LISTNSEND   \n",
       "2                                NaN         NaT        NaT        NaN   \n",
       "3              55parrots.neto.com.au         NaT 2018-01-29   STANDARD   \n",
       "4      www.5thelementexpeditions.com         NaT 2017-11-20    PREMIUM   \n",
       "...                              ...         ...        ...        ...   \n",
       "6492          www.jackynewton.com.au         NaT 2016-09-12   ULTIMATE   \n",
       "6493           nicheclub.neto.com.au         NaT        NaT        NaN   \n",
       "6494                   www.diaxi.com         NaT 2016-09-08     BRONZE   \n",
       "6495    www.zeusadventuregear.com.au         NaT        NaT        NaN   \n",
       "6496   nomadsportfishing.neto.com.au         NaT 2017-11-07    PREMIUM   \n",
       "\n",
       "      days_active account_status customer_account_status  ...  \\\n",
       "0           922.0            NaN                     NaN  ...   \n",
       "1             NaN            NaN                     NaN  ...   \n",
       "2             NaN            NaN                     NaN  ...   \n",
       "3          1421.0            NaN                     NaN  ...   \n",
       "4          1288.0            NaN                     NaN  ...   \n",
       "...           ...            ...                     ...  ...   \n",
       "6492       1022.0            NaN                     NaN  ...   \n",
       "6493       2173.0            NaN                     NaN  ...   \n",
       "6494       1018.0            NaN                     NaN  ...   \n",
       "6495       2175.0            NaN                     NaN  ...   \n",
       "6496       1320.0            NaN                     NaN  ...   \n",
       "\n",
       "      interactions_total  interactions_completed  interactions_no_response  \\\n",
       "0                    NaN                     NaN                       NaN   \n",
       "1                    NaN                     NaN                       NaN   \n",
       "2                    NaN                     NaN                       NaN   \n",
       "3                    NaN                     NaN                       NaN   \n",
       "4                    NaN                     NaN                       NaN   \n",
       "...                  ...                     ...                       ...   \n",
       "6492                 NaN                     NaN                       NaN   \n",
       "6493                 NaN                     NaN                       NaN   \n",
       "6494                 NaN                     NaN                       NaN   \n",
       "6495                 NaN                     NaN                       NaN   \n",
       "6496                 NaN                     NaN                       NaN   \n",
       "\n",
       "      interactions_no_onboarding  interactions_completed_training  \\\n",
       "0                            NaN                              NaN   \n",
       "1                            NaN                              NaN   \n",
       "2                            NaN                              NaN   \n",
       "3                            NaN                              NaN   \n",
       "4                            NaN                              NaN   \n",
       "...                          ...                              ...   \n",
       "6492                         NaN                              NaN   \n",
       "6493                         NaN                              NaN   \n",
       "6494                         NaN                              NaN   \n",
       "6495                         NaN                              NaN   \n",
       "6496                         NaN                              NaN   \n",
       "\n",
       "      churn_concern_cases_total  churn_concern_cases_open  \\\n",
       "0                           NaN                       NaN   \n",
       "1                           NaN                       NaN   \n",
       "2                           NaN                       NaN   \n",
       "3                           NaN                       NaN   \n",
       "4                           NaN                       NaN   \n",
       "...                         ...                       ...   \n",
       "6492                        NaN                       NaN   \n",
       "6493                        NaN                       NaN   \n",
       "6494                        NaN                       NaN   \n",
       "6495                        NaN                       NaN   \n",
       "6496                        NaN                       NaN   \n",
       "\n",
       "      total_churn_concern_cases_age  total_churn_concern_cases_age_avg  \\\n",
       "0                               NaN                                NaN   \n",
       "1                               NaN                                NaN   \n",
       "2                               NaN                                NaN   \n",
       "3                               NaN                                NaN   \n",
       "4                               NaN                                NaN   \n",
       "...                             ...                                ...   \n",
       "6492                            NaN                                NaN   \n",
       "6493                            NaN                                NaN   \n",
       "6494                            NaN                                NaN   \n",
       "6495                            NaN                                NaN   \n",
       "6496                            NaN                                NaN   \n",
       "\n",
       "      churned  \n",
       "0           1  \n",
       "1           1  \n",
       "2           1  \n",
       "3           1  \n",
       "4           1  \n",
       "...       ...  \n",
       "6492        1  \n",
       "6493        1  \n",
       "6494        1  \n",
       "6495        1  \n",
       "6496        1  \n",
       "\n",
       "[3129 rows x 35 columns]"
      ]
     },
     "execution_count": 28,
     "metadata": {},
     "output_type": "execute_result"
    }
   ],
   "source": [
    "df_raw[df_raw[COLUMN_NAME].isna() == True]"
   ]
  },
  {
   "cell_type": "code",
   "execution_count": 29,
   "metadata": {},
   "outputs": [
    {
     "data": {
      "text/plain": [
       "count    3368.000000\n",
       "mean        0.229810\n",
       "std         0.719727\n",
       "min         0.000000\n",
       "25%         0.000000\n",
       "50%         0.000000\n",
       "75%         0.000000\n",
       "max         9.000000\n",
       "Name: mtd_total, dtype: float64"
      ]
     },
     "execution_count": 29,
     "metadata": {},
     "output_type": "execute_result"
    }
   ],
   "source": [
    "df_raw[COLUMN_NAME].describe()"
   ]
  },
  {
   "cell_type": "code",
   "execution_count": 30,
   "metadata": {},
   "outputs": [
    {
     "data": {
      "text/plain": [
       "0.0    2915\n",
       "1.0     276\n",
       "2.0      97\n",
       "3.0      42\n",
       "4.0      24\n",
       "6.0       6\n",
       "5.0       6\n",
       "9.0       1\n",
       "7.0       1\n",
       "Name: mtd_total, dtype: int64"
      ]
     },
     "execution_count": 30,
     "metadata": {},
     "output_type": "execute_result"
    }
   ],
   "source": [
    "df_raw[COLUMN_NAME].value_counts()"
   ]
  },
  {
   "cell_type": "code",
   "execution_count": 105,
   "metadata": {},
   "outputs": [],
   "source": [
    "from pdpbox import pdp\n",
    "\n",
    "x = get_sample(X_train, 2000)\n",
    "\n",
    "def plot_pdp(feat, clusters=None, feat_name=None):\n",
    "    feat_name = feat_name or feat\n",
    "    p = pdp.pdp_isolate(m, x, feature = feat, model_features = x.columns, num_grid_points=30)\n",
    "    #p = pdp.pdp_isolate(m, x, feature = feat, num_grid_points=30)\n",
    "    return pdp.pdp_plot(p, feat_name, plot_lines=True,\n",
    "                        cluster=clusters is not None,\n",
    "                        n_cluster_centers=clusters)\n",
    "\n",
    "%time plot_pdp(COLUMN_NAME)"
   ]
  },
  {
   "cell_type": "code",
   "execution_count": 106,
   "metadata": {},
   "outputs": [],
   "source": [
    "np.sort(df_raw[COLUMN_NAME])[1000:2000]"
   ]
  },
  {
   "cell_type": "code",
   "execution_count": 31,
   "metadata": {},
   "outputs": [
    {
     "data": {
      "image/png": "[encoded data removed]",
      "text/plain": [
       "<Figure size 1440x1080 with 1 Axes>"
      ]
     },
     "metadata": {
      "needs_background": "light"
     },
     "output_type": "display_data"
    }
   ],
   "source": [
    "# Plot sorted unique and non unique values for COLUMN_NAME\n",
    "\n",
    "plt.figure(figsize=(20,15))\n",
    "\n",
    "plt.plot(np.unique(np.sort(df_raw[COLUMN_NAME])), label=COLUMN_NAME)\n",
    "plt.plot(np.sort(df_raw[COLUMN_NAME]), label=COLUMN_NAME)\n",
    "\n",
    "plt.legend(loc='lower right')\n",
    "plt.show()"
   ]
  },
  {
   "cell_type": "code",
   "execution_count": 40,
   "metadata": {},
   "outputs": [
    {
     "name": "stdout",
     "output_type": "stream",
     "text": [
      "0      NaN\n",
      "1      NaN\n",
      "2      NaN\n",
      "3      NaN\n",
      "4      NaN\n",
      "        ..\n",
      "6492   NaN\n",
      "6493   NaN\n",
      "6494   NaN\n",
      "6495   NaN\n",
      "6496   NaN\n",
      "Name: mtd_total, Length: 6497, dtype: float64\n"
     ]
    }
   ],
   "source": [
    "from scipy import stats\n",
    "df_copy = abs(df_raw[COLUMN_NAME])\n",
    "\n",
    "#boxcox, bc_params = stats.boxcox(df_copy)\n",
    "#bc_params"
   ]
  },
  {
   "cell_type": "code",
   "execution_count": 114,
   "metadata": {},
   "outputs": [],
   "source": [
    "df_processed[COLUMN_NAME + '_bc'] = boxcox"
   ]
  },
  {
   "cell_type": "code",
   "execution_count": 115,
   "metadata": {},
   "outputs": [
    {
     "data": {
      "text/plain": [
       "Text(0,0.5,'Occurrence')"
      ]
     },
     "execution_count": 115,
     "metadata": {},
     "output_type": "execute_result"
    },
    {
     "data": {
      "image/png": "[encoded data removed]",
      "text/plain": [
       "<Figure size 1080x1080 with 3 Axes>"
      ]
     },
     "metadata": {
      "needs_background": "light"
     },
     "output_type": "display_data"
    }
   ],
   "source": [
    "fig, (ax1, ax2, ax3) = plt.subplots(3,1,figsize=(15,15))\n",
    "\n",
    "# original review count histogram\n",
    "df_processed[COLUMN_NAME].hist(ax=ax1, bins=100)\n",
    "ax1.set_yscale('log')\n",
    "ax1.tick_params(labelsize=14)\n",
    "ax1.set_title(COLUMN_NAME + ' Histogram', fontsize=14)\n",
    "ax1.set_xlabel('')\n",
    "ax1.set_ylabel('Occurrence', fontsize=14)\n",
    "\n",
    "# review count after log transform\n",
    "df_processed[COLUMN_NAME + '_log'].hist(ax=ax2, bins=100)\n",
    "ax2.set_yscale('log')\n",
    "ax2.tick_params(labelsize=14)\n",
    "ax2.set_title('Log Transformed ' + COLUMN_NAME + ' Histogram', fontsize=14)\n",
    "ax2.set_xlabel('')\n",
    "ax2.set_ylabel('Occurrence', fontsize=14)# review count after optimal Box-Cox transform\n",
    "\n",
    "df_processed[COLUMN_NAME + '_bc'].hist(ax=ax3, bins=100)\n",
    "ax3.set_yscale('log')\n",
    "ax3.tick_params(labelsize=14)\n",
    "ax3.set_title('Box-Cox Transformed ' + COLUMN_NAME + ' Histogram', fontsize=14)\n",
    "ax3.set_xlabel('')\n",
    "ax3.set_ylabel('Occurrence', fontsize=14)"
   ]
  },
  {
   "cell_type": "code",
   "execution_count": 121,
   "metadata": {},
   "outputs": [
    {
     "name": "stdout",
     "output_type": "stream",
     "text": [
      "Log transform skew: -6.599977513350912\n",
      "Box-Cox transform skew: 1.7393019055073713\n"
     ]
    }
   ],
   "source": [
    "print(f\"Log transform skew: {df_processed[COLUMN_NAME + '_log'].skew()}\")\n",
    "print(f\"Box-Cox transform skew: {df_processed[COLUMN_NAME + '_bc'].skew()}\")"
   ]
  },
  {
   "cell_type": "code",
   "execution_count": 122,
   "metadata": {},
   "outputs": [
    {
     "data": {
      "text/plain": [
       "count    5885.000000\n",
       "mean        5.966895\n",
       "std         0.428202\n",
       "min         0.000000\n",
       "25%         5.986452\n",
       "50%         5.986452\n",
       "75%         5.986452\n",
       "max         8.874868\n",
       "Name: churn_concern_cases_avg_hours_log, dtype: float64"
      ]
     },
     "execution_count": 122,
     "metadata": {},
     "output_type": "execute_result"
    }
   ],
   "source": [
    "df_processed[COLUMN_NAME + '_log'].describe()"
   ]
  },
  {
   "cell_type": "code",
   "execution_count": 123,
   "metadata": {},
   "outputs": [
    {
     "data": {
      "text/plain": [
       "count    5889.000000\n",
       "mean       16.302658\n",
       "std         2.012782\n",
       "min         0.000000\n",
       "25%        16.290015\n",
       "50%        16.290015\n",
       "75%        16.290015\n",
       "max        42.483867\n",
       "Name: churn_concern_cases_avg_hours_bc, dtype: float64"
      ]
     },
     "execution_count": 123,
     "metadata": {},
     "output_type": "execute_result"
    }
   ],
   "source": [
    "df_processed[COLUMN_NAME + '_bc'].describe()"
   ]
  },
  {
   "cell_type": "code",
   "execution_count": 127,
   "metadata": {},
   "outputs": [
    {
     "name": "stdout",
     "output_type": "stream",
     "text": [
      "churn_concern_cases_avg_hours_log\n",
      "\n",
      "Min: 0.0\n",
      "Max: 8.874867635688053\n",
      "Mean: 5.966894977879099\n",
      "Trimmed Mean: 5.986452005284437\n",
      "Median: 5.986452005284438\n",
      "Std: 0.42820243081206477\n",
      "CV: 0.07176302455456775\n"
     ]
    }
   ],
   "source": [
    "general_stats(df_processed, f\"{COLUMN_NAME}_log\")"
   ]
  },
  {
   "cell_type": "code",
   "execution_count": 131,
   "metadata": {},
   "outputs": [
    {
     "name": "stdout",
     "output_type": "stream",
     "text": [
      "churn_concern_cases_avg_hours_bc\n",
      "\n",
      "Min: 0.0\n",
      "Max: 42.4838674597342\n",
      "Mean: 16.30265752220549\n",
      "Trimmed Mean: 16.290014936864818\n",
      "Median: 16.290014936864818\n",
      "Std: 2.0127821052430592\n",
      "CV: 0.1234634354859932\n"
     ]
    }
   ],
   "source": [
    "general_stats(df_processed, f\"{COLUMN_NAME}_bc\")"
   ]
  },
  {
   "cell_type": "code",
   "execution_count": 134,
   "metadata": {},
   "outputs": [
    {
     "name": "stdout",
     "output_type": "stream",
     "text": [
      "0.02\n",
      "0.02\n",
      "0.08\n"
     ]
    }
   ],
   "source": [
    "data_distribution(df_processed, f\"{COLUMN_NAME}_log\")"
   ]
  },
  {
   "cell_type": "code",
   "execution_count": 135,
   "metadata": {},
   "outputs": [
    {
     "name": "stdout",
     "output_type": "stream",
     "text": [
      "0.03\n",
      "0.14\n",
      "0.22\n"
     ]
    }
   ],
   "source": [
    "data_distribution(df_processed, f\"{COLUMN_NAME}_bc\")"
   ]
  },
  {
   "cell_type": "code",
   "execution_count": null,
   "metadata": {},
   "outputs": [],
   "source": []
  }
 ],
 "metadata": {
  "kernelspec": {
   "display_name": "Python 3",
   "language": "python",
   "name": "python3"
  },
  "language_info": {
   "codemirror_mode": {
    "name": "ipython",
    "version": 3
   },
   "file_extension": ".py",
   "mimetype": "text/x-python",
   "name": "python",
   "nbconvert_exporter": "python",
   "pygments_lexer": "ipython3",
   "version": "3.6.9"
  }
 },
 "nbformat": 4,
 "nbformat_minor": 2
}
