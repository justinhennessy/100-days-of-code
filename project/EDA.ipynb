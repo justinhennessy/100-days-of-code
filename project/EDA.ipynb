{
 "cells": [
  {
   "cell_type": "code",
   "execution_count": 114,
   "metadata": {},
   "outputs": [
    {
     "name": "stdout",
     "output_type": "stream",
     "text": [
      "The autoreload extension is already loaded. To reload it, use:\n",
      "  %reload_ext autoreload\n"
     ]
    }
   ],
   "source": [
    "# Imports\n",
    "%reload_ext autoreload\n",
    "%load_ext autoreload\n",
    "%autoreload 2\n",
    "\n",
    "%matplotlib inline\n",
    "\n",
    "import sys\n",
    "import pandas as pd\n",
    "import matplotlib.pyplot as plt\n",
    "import numpy as np\n",
    "from tabulate import tabulate\n",
    "\n",
    "sys.path.append('../lib')\n",
    "import utils\n",
    "import preprocessing\n",
    "\n",
    "def log_plot(columns):\n",
    "    plt.figure(figsize=(20,15))\n",
    "\n",
    "    for column in columns:\n",
    "        plt.plot(np.sort(np.log(df_raw[column])), label=column)\n",
    "\n",
    "    plt.legend(loc='lower right')\n",
    "    plt.show()"
   ]
  },
  {
   "cell_type": "code",
   "execution_count": 115,
   "metadata": {},
   "outputs": [],
   "source": [
    "# Load in data\n",
    "\n",
    "PATH = \"../data/\"\n",
    "df_raw = pd.read_csv(f'{PATH}churn.csv', low_memory=False, \n",
    "                     parse_dates=['canceldate', 'licence_registration_date', 'golive_date'])\n",
    "\n",
    "COLUMN_NAME = 'days_active'"
   ]
  },
  {
   "cell_type": "code",
   "execution_count": 116,
   "metadata": {},
   "outputs": [],
   "source": [
    "def display_all(df):\n",
    "    with pd.option_context(\"display.max_rows\", 1000, \"display.max_columns\", 1000):\n",
    "        display(df)"
   ]
  },
  {
   "cell_type": "code",
   "execution_count": 117,
   "metadata": {},
   "outputs": [
    {
     "name": "stdout",
     "output_type": "stream",
     "text": [
      "Feature has NaN values: last_login_categories\n"
     ]
    }
   ],
   "source": [
    "df_processed = preprocessing.prepare_data(df_raw.loc[df_raw.licence_status != \"STAGING\"])"
   ]
  },
  {
   "cell_type": "code",
   "execution_count": 118,
   "metadata": {},
   "outputs": [
    {
     "name": "stdout",
     "output_type": "stream",
     "text": [
      "days_active\n",
      "\n",
      "Min: 0\n",
      "Max: 2269\n",
      "Mean: 695.4692626645034\n",
      "Trimmed Mean: 628.1617481414733\n",
      "Median: 552.0\n",
      "Std: 0    2137\n",
      "dtype: int64\n",
      "CV: 570.3058171883525\n"
     ]
    }
   ],
   "source": [
    "def general_stats(df, feature):\n",
    "    array = utils.data_summary_feature(df, feature)\n",
    "    print(array[0])\n",
    "    print(\"\")\n",
    "    count = 1\n",
    "    for heading in ['Min', 'Max', 'Mean', 'Trimmed Mean', 'Median', 'Std', 'CV']:\n",
    "        print(f\"{heading}: {array[count]}\")\n",
    "        count += 1\n",
    "\n",
    "def data_distribution(df, feature):\n",
    "    feature_mean = df[feature].mean()\n",
    "    feature_std = df[feature].std()\n",
    "\n",
    "    for i in [1,2,3]:\n",
    "        output = round(len(df[COLUMN_NAME].loc[(df[COLUMN_NAME] > (feature_mean - (feature_std * i))) &\n",
    "                                            (df[COLUMN_NAME] < (feature_mean + (feature_std * i)))]) / len(df) * 100,2)\n",
    "        print(output)\n",
    "        \n",
    "general_stats(df_processed, COLUMN_NAME)"
   ]
  },
  {
   "cell_type": "code",
   "execution_count": 119,
   "metadata": {},
   "outputs": [
    {
     "data": {
      "text/html": [
       "<div>\n",
       "<style scoped>\n",
       "    .dataframe tbody tr th:only-of-type {\n",
       "        vertical-align: middle;\n",
       "    }\n",
       "\n",
       "    .dataframe tbody tr th {\n",
       "        vertical-align: top;\n",
       "    }\n",
       "\n",
       "    .dataframe thead th {\n",
       "        text-align: right;\n",
       "    }\n",
       "</style>\n",
       "<table border=\"1\" class=\"dataframe\">\n",
       "  <thead>\n",
       "    <tr style=\"text-align: right;\">\n",
       "      <th></th>\n",
       "      <th>days_active</th>\n",
       "      <th>team</th>\n",
       "      <th>vertical</th>\n",
       "      <th>salesperson</th>\n",
       "      <th>golive_days</th>\n",
       "      <th>cases_total</th>\n",
       "      <th>cases_open</th>\n",
       "      <th>cases_closed</th>\n",
       "      <th>cases_age_hours_total</th>\n",
       "      <th>cases_age_hours_average</th>\n",
       "      <th>...</th>\n",
       "      <th>licence_registration_Dayofweek_was_nan</th>\n",
       "      <th>licence_registration_Dayofyear_was_nan</th>\n",
       "      <th>licence_registration_Elapsed_was_nan</th>\n",
       "      <th>golive_Year_was_nan</th>\n",
       "      <th>golive_Month_was_nan</th>\n",
       "      <th>golive_Week_was_nan</th>\n",
       "      <th>golive_Day_was_nan</th>\n",
       "      <th>golive_Dayofweek_was_nan</th>\n",
       "      <th>golive_Dayofyear_was_nan</th>\n",
       "      <th>golive_Elapsed_was_nan</th>\n",
       "    </tr>\n",
       "  </thead>\n",
       "  <tbody>\n",
       "  </tbody>\n",
       "</table>\n",
       "<p>0 rows × 138 columns</p>\n",
       "</div>"
      ],
      "text/plain": [
       "Empty DataFrame\n",
       "Columns: [days_active, team, vertical, salesperson, golive_days, cases_total, cases_open, cases_closed, cases_age_hours_total, cases_age_hours_average, annual_revenue, interactions_total, interactions_completed, interactions_no_response, interactions_no_onboarding, interactions_completed_training, churn_concern_cases_total, churn_concern_cases_open, churn_concern_cases_avg_hours, churned, cases_totalwas_nan, cases_openwas_nan, cases_closedwas_nan, cases_age_hours_totalwas_nan, cases_age_hours_averagewas_nan, last_login_dayswas_nan, annual_revenue_was_missing, last_login_categories, customer_account_status_PoorStanding, plan_BASIC, plan_BRONZE, plan_BUSINESS, plan_BUSINESS +, plan_BUSINESS ONE, plan_CUSTOM, plan_CUSTOM XL, plan_ENTERPRISE, plan_GOLD, plan_GROW, plan_L&S - PREMIUM, plan_L&S - STANDARD, plan_L&S - ULTIMATE, plan_LIST N SEND SILVER, plan_LISTNSEND, plan_NETO XL, plan_PLAN-360-17Q2, plan_PLAN-360-19Q1, plan_PLAN-360-TRANSITION, plan_PLAN-360-US, plan_PLAN-L, plan_PLAN-L-17Q2, plan_PLAN-L-19Q1, plan_PLAN-M, plan_PLAN-M-17Q2, plan_PLAN-M-19Q1, plan_PLAN-M-US, plan_PLAN-S, plan_PLAN-S-17Q2, plan_PLAN-S-19Q1, plan_PLAN-S-US, plan_PLAN-XL-19Q1, plan_PLAN-XS, plan_PLAN-XS-17Q2, plan_PREMIUM, plan_STANDARD, plan_START, plan_START - LEGACY, plan_TRIAL, plan_ULTIMATE, plan_ULTIMATE PLUS, nps_no_data, nps_detractor, nps_passive, nps_promoter, licence_registration_Year, licence_registration_Month, licence_registration_Week, licence_registration_Day, licence_registration_Dayofweek, licence_registration_Dayofyear, licence_registration_Is_month_end, licence_registration_Is_month_start, licence_registration_Is_quarter_end, licence_registration_Is_quarter_start, licence_registration_Is_year_end, licence_registration_Is_year_start, licence_registration_Elapsed, golive_Year, golive_Month, golive_Week, golive_Day, golive_Dayofweek, golive_Dayofyear, golive_Is_month_end, golive_Is_month_start, golive_Is_quarter_end, golive_Is_quarter_start, golive_Is_year_end, golive_Is_year_start, golive_Elapsed, ...]\n",
       "Index: []\n",
       "\n",
       "[0 rows x 138 columns]"
      ]
     },
     "execution_count": 119,
     "metadata": {},
     "output_type": "execute_result"
    }
   ],
   "source": [
    "df_processed[df_processed[COLUMN_NAME].isna() == True]"
   ]
  },
  {
   "cell_type": "code",
   "execution_count": 120,
   "metadata": {},
   "outputs": [
    {
     "data": {
      "text/plain": [
       "count    5547.000000\n",
       "mean      695.469263\n",
       "std       570.305817\n",
       "min         0.000000\n",
       "25%       203.000000\n",
       "50%       552.000000\n",
       "75%      1073.500000\n",
       "max      2269.000000\n",
       "Name: days_active, dtype: float64"
      ]
     },
     "execution_count": 120,
     "metadata": {},
     "output_type": "execute_result"
    }
   ],
   "source": [
    "df_processed[COLUMN_NAME].describe()"
   ]
  },
  {
   "cell_type": "code",
   "execution_count": 121,
   "metadata": {},
   "outputs": [
    {
     "data": {
      "text/plain": [
       "<matplotlib.axes._subplots.AxesSubplot at 0x1c2941a2b0>"
      ]
     },
     "execution_count": 121,
     "metadata": {},
     "output_type": "execute_result"
    },
    {
     "data": {
      "image/png": "[encoded data removed]",
      "text/plain": [
       "<Figure size 432x288 with 1 Axes>"
      ]
     },
     "metadata": {
      "needs_background": "light"
     },
     "output_type": "display_data"
    }
   ],
   "source": [
    "df_processed[COLUMN_NAME].hist(bins=100)"
   ]
  },
  {
   "cell_type": "code",
   "execution_count": 105,
   "metadata": {},
   "outputs": [
    {
     "data": {
      "text/plain": [
       "2137    80\n",
       "91      22\n",
       "92      17\n",
       "793     16\n",
       "154     15\n",
       "        ..\n",
       "1896     1\n",
       "1900     1\n",
       "1904     1\n",
       "1940     1\n",
       "2043     1\n",
       "Name: days_active, Length: 1623, dtype: int64"
      ]
     },
     "execution_count": 105,
     "metadata": {},
     "output_type": "execute_result"
    }
   ],
   "source": [
    "df_processed[COLUMN_NAME].value_counts()"
   ]
  },
  {
   "cell_type": "code",
   "execution_count": 111,
   "metadata": {},
   "outputs": [
    {
     "data": {
      "text/plain": [
       "180    2137\n",
       "181    2137\n",
       "182    2137\n",
       "183    2137\n",
       "191    2137\n",
       "       ... \n",
       "140    2137\n",
       "141    2137\n",
       "142    2137\n",
       "138    2137\n",
       "144    2137\n",
       "Name: days_active, Length: 80, dtype: int64"
      ]
     },
     "execution_count": 111,
     "metadata": {},
     "output_type": "execute_result"
    }
   ],
   "source": [
    "from scipy.stats import trim_mean, kurtosis\n",
    "\n",
    "median = df_processed[COLUMN_NAME].median()\n",
    "mean = df_processed[COLUMN_NAME].mean()\n",
    "trimmed_mean = trim_mean(df_processed[COLUMN_NAME].values, 0.1)\n",
    "\n",
    "#df_processed.loc[(df_processed[COLUMN_NAME] > 2136) & (df_processed[COLUMN_NAME] < 2138), COLUMN_NAME] = mean\n",
    "df_processed.loc[(df_processed[COLUMN_NAME] > 2136) & (df_processed[COLUMN_NAME] < 2138), COLUMN_NAME]"
   ]
  },
  {
   "cell_type": "code",
   "execution_count": 112,
   "metadata": {},
   "outputs": [
    {
     "data": {
      "text/plain": [
       "2137    80\n",
       "91      22\n",
       "92      17\n",
       "793     16\n",
       "154     15\n",
       "        ..\n",
       "1896     1\n",
       "1900     1\n",
       "1904     1\n",
       "1940     1\n",
       "2043     1\n",
       "Name: days_active, Length: 1623, dtype: int64"
      ]
     },
     "execution_count": 112,
     "metadata": {},
     "output_type": "execute_result"
    }
   ],
   "source": [
    "df_processed[COLUMN_NAME].value_counts()"
   ]
  },
  {
   "cell_type": "code",
   "execution_count": 113,
   "metadata": {},
   "outputs": [
    {
     "data": {
      "text/plain": [
       "<matplotlib.axes._subplots.AxesSubplot at 0x1c298b4240>"
      ]
     },
     "execution_count": 113,
     "metadata": {},
     "output_type": "execute_result"
    },
    {
     "data": {
      "image/png": "[encoded data removed]",
      "text/plain": [
       "<Figure size 432x288 with 1 Axes>"
      ]
     },
     "metadata": {
      "needs_background": "light"
     },
     "output_type": "display_data"
    }
   ],
   "source": [
    "df_processed[COLUMN_NAME].hist(bins=100)"
   ]
  },
  {
   "cell_type": "code",
   "execution_count": 109,
   "metadata": {},
   "outputs": [
    {
     "data": {
      "text/plain": [
       "2137    80\n",
       "91      22\n",
       "92      17\n",
       "793     16\n",
       "154     15\n",
       "        ..\n",
       "1896     1\n",
       "1900     1\n",
       "1904     1\n",
       "1940     1\n",
       "2043     1\n",
       "Name: days_active, Length: 1623, dtype: int64"
      ]
     },
     "execution_count": 109,
     "metadata": {},
     "output_type": "execute_result"
    }
   ],
   "source": [
    "df_processed[COLUMN_NAME].value_counts()"
   ]
  },
  {
   "cell_type": "code",
   "execution_count": 24,
   "metadata": {},
   "outputs": [
    {
     "data": {
      "text/plain": [
       "2137    80\n",
       "91      22\n",
       "92      17\n",
       "793     16\n",
       "154     15\n",
       "        ..\n",
       "1896     1\n",
       "1900     1\n",
       "1904     1\n",
       "1940     1\n",
       "2043     1\n",
       "Name: days_active, Length: 1623, dtype: int64"
      ]
     },
     "execution_count": 24,
     "metadata": {},
     "output_type": "execute_result"
    }
   ],
   "source": [
    "# Looking for a \"normal\" disbritution of counts, as in a good spread\n",
    "df_processed[COLUMN_NAME].value_counts()"
   ]
  },
  {
   "cell_type": "code",
   "execution_count": 29,
   "metadata": {
    "scrolled": false
   },
   "outputs": [
    {
     "data": {
      "text/html": [
       "<div>\n",
       "<style scoped>\n",
       "    .dataframe tbody tr th:only-of-type {\n",
       "        vertical-align: middle;\n",
       "    }\n",
       "\n",
       "    .dataframe tbody tr th {\n",
       "        vertical-align: top;\n",
       "    }\n",
       "\n",
       "    .dataframe thead th {\n",
       "        text-align: right;\n",
       "    }\n",
       "</style>\n",
       "<table border=\"1\" class=\"dataframe\">\n",
       "  <thead>\n",
       "    <tr style=\"text-align: right;\">\n",
       "      <th></th>\n",
       "      <th>days_active</th>\n",
       "      <th>team</th>\n",
       "      <th>vertical</th>\n",
       "      <th>salesperson</th>\n",
       "      <th>golive_days</th>\n",
       "      <th>cases_total</th>\n",
       "      <th>cases_open</th>\n",
       "      <th>cases_closed</th>\n",
       "      <th>cases_age_hours_total</th>\n",
       "      <th>cases_age_hours_average</th>\n",
       "      <th>...</th>\n",
       "      <th>licence_registration_Dayofweek_was_nan</th>\n",
       "      <th>licence_registration_Dayofyear_was_nan</th>\n",
       "      <th>licence_registration_Elapsed_was_nan</th>\n",
       "      <th>golive_Year_was_nan</th>\n",
       "      <th>golive_Month_was_nan</th>\n",
       "      <th>golive_Week_was_nan</th>\n",
       "      <th>golive_Day_was_nan</th>\n",
       "      <th>golive_Dayofweek_was_nan</th>\n",
       "      <th>golive_Dayofyear_was_nan</th>\n",
       "      <th>golive_Elapsed_was_nan</th>\n",
       "    </tr>\n",
       "  </thead>\n",
       "  <tbody>\n",
       "    <tr>\n",
       "      <td>180</td>\n",
       "      <td>2137</td>\n",
       "      <td>not specified</td>\n",
       "      <td>Health &amp; Beauty</td>\n",
       "      <td>not specified</td>\n",
       "      <td>-1</td>\n",
       "      <td>5</td>\n",
       "      <td>0</td>\n",
       "      <td>0</td>\n",
       "      <td>1159</td>\n",
       "      <td>249</td>\n",
       "      <td>...</td>\n",
       "      <td>1</td>\n",
       "      <td>1</td>\n",
       "      <td>1</td>\n",
       "      <td>1</td>\n",
       "      <td>1</td>\n",
       "      <td>1</td>\n",
       "      <td>1</td>\n",
       "      <td>1</td>\n",
       "      <td>1</td>\n",
       "      <td>1</td>\n",
       "    </tr>\n",
       "    <tr>\n",
       "      <td>181</td>\n",
       "      <td>2137</td>\n",
       "      <td>not specified</td>\n",
       "      <td>Health &amp; Beauty</td>\n",
       "      <td>dominic</td>\n",
       "      <td>-1</td>\n",
       "      <td>57</td>\n",
       "      <td>4</td>\n",
       "      <td>4</td>\n",
       "      <td>7884</td>\n",
       "      <td>249</td>\n",
       "      <td>...</td>\n",
       "      <td>1</td>\n",
       "      <td>1</td>\n",
       "      <td>1</td>\n",
       "      <td>1</td>\n",
       "      <td>1</td>\n",
       "      <td>1</td>\n",
       "      <td>1</td>\n",
       "      <td>1</td>\n",
       "      <td>1</td>\n",
       "      <td>1</td>\n",
       "    </tr>\n",
       "    <tr>\n",
       "      <td>182</td>\n",
       "      <td>2137</td>\n",
       "      <td>not specified</td>\n",
       "      <td>Health &amp; Beauty</td>\n",
       "      <td>not specified</td>\n",
       "      <td>-1</td>\n",
       "      <td>23</td>\n",
       "      <td>0</td>\n",
       "      <td>0</td>\n",
       "      <td>2717</td>\n",
       "      <td>249</td>\n",
       "      <td>...</td>\n",
       "      <td>1</td>\n",
       "      <td>1</td>\n",
       "      <td>1</td>\n",
       "      <td>1</td>\n",
       "      <td>1</td>\n",
       "      <td>1</td>\n",
       "      <td>1</td>\n",
       "      <td>1</td>\n",
       "      <td>1</td>\n",
       "      <td>1</td>\n",
       "    </tr>\n",
       "    <tr>\n",
       "      <td>183</td>\n",
       "      <td>2137</td>\n",
       "      <td>not specified</td>\n",
       "      <td>Toys &amp; Hobbies</td>\n",
       "      <td>not specified</td>\n",
       "      <td>-1</td>\n",
       "      <td>2</td>\n",
       "      <td>0</td>\n",
       "      <td>0</td>\n",
       "      <td>233</td>\n",
       "      <td>249</td>\n",
       "      <td>...</td>\n",
       "      <td>1</td>\n",
       "      <td>1</td>\n",
       "      <td>1</td>\n",
       "      <td>1</td>\n",
       "      <td>1</td>\n",
       "      <td>1</td>\n",
       "      <td>1</td>\n",
       "      <td>1</td>\n",
       "      <td>1</td>\n",
       "      <td>1</td>\n",
       "    </tr>\n",
       "    <tr>\n",
       "      <td>191</td>\n",
       "      <td>2137</td>\n",
       "      <td>not specified</td>\n",
       "      <td>Pets &amp; Animals</td>\n",
       "      <td>not specified</td>\n",
       "      <td>-1</td>\n",
       "      <td>15</td>\n",
       "      <td>1</td>\n",
       "      <td>1</td>\n",
       "      <td>4670</td>\n",
       "      <td>249</td>\n",
       "      <td>...</td>\n",
       "      <td>1</td>\n",
       "      <td>1</td>\n",
       "      <td>1</td>\n",
       "      <td>1</td>\n",
       "      <td>1</td>\n",
       "      <td>1</td>\n",
       "      <td>1</td>\n",
       "      <td>1</td>\n",
       "      <td>1</td>\n",
       "      <td>1</td>\n",
       "    </tr>\n",
       "    <tr>\n",
       "      <td>...</td>\n",
       "      <td>...</td>\n",
       "      <td>...</td>\n",
       "      <td>...</td>\n",
       "      <td>...</td>\n",
       "      <td>...</td>\n",
       "      <td>...</td>\n",
       "      <td>...</td>\n",
       "      <td>...</td>\n",
       "      <td>...</td>\n",
       "      <td>...</td>\n",
       "      <td>...</td>\n",
       "      <td>...</td>\n",
       "      <td>...</td>\n",
       "      <td>...</td>\n",
       "      <td>...</td>\n",
       "      <td>...</td>\n",
       "      <td>...</td>\n",
       "      <td>...</td>\n",
       "      <td>...</td>\n",
       "      <td>...</td>\n",
       "      <td>...</td>\n",
       "    </tr>\n",
       "    <tr>\n",
       "      <td>140</td>\n",
       "      <td>2137</td>\n",
       "      <td>Neto XL</td>\n",
       "      <td>Toys &amp; Hobbies</td>\n",
       "      <td>not specified</td>\n",
       "      <td>-1</td>\n",
       "      <td>17</td>\n",
       "      <td>0</td>\n",
       "      <td>0</td>\n",
       "      <td>505</td>\n",
       "      <td>249</td>\n",
       "      <td>...</td>\n",
       "      <td>1</td>\n",
       "      <td>1</td>\n",
       "      <td>1</td>\n",
       "      <td>1</td>\n",
       "      <td>1</td>\n",
       "      <td>1</td>\n",
       "      <td>1</td>\n",
       "      <td>1</td>\n",
       "      <td>1</td>\n",
       "      <td>1</td>\n",
       "    </tr>\n",
       "    <tr>\n",
       "      <td>141</td>\n",
       "      <td>2137</td>\n",
       "      <td>Neto XL</td>\n",
       "      <td>Gifting</td>\n",
       "      <td>dominic</td>\n",
       "      <td>-1</td>\n",
       "      <td>25</td>\n",
       "      <td>3</td>\n",
       "      <td>3</td>\n",
       "      <td>10280</td>\n",
       "      <td>249</td>\n",
       "      <td>...</td>\n",
       "      <td>1</td>\n",
       "      <td>1</td>\n",
       "      <td>1</td>\n",
       "      <td>1</td>\n",
       "      <td>1</td>\n",
       "      <td>1</td>\n",
       "      <td>1</td>\n",
       "      <td>1</td>\n",
       "      <td>1</td>\n",
       "      <td>1</td>\n",
       "    </tr>\n",
       "    <tr>\n",
       "      <td>142</td>\n",
       "      <td>2137</td>\n",
       "      <td>Neto XL</td>\n",
       "      <td>Sports &amp; Recreation</td>\n",
       "      <td>not specified</td>\n",
       "      <td>-1</td>\n",
       "      <td>80</td>\n",
       "      <td>5</td>\n",
       "      <td>5</td>\n",
       "      <td>13635</td>\n",
       "      <td>249</td>\n",
       "      <td>...</td>\n",
       "      <td>1</td>\n",
       "      <td>1</td>\n",
       "      <td>1</td>\n",
       "      <td>1</td>\n",
       "      <td>1</td>\n",
       "      <td>1</td>\n",
       "      <td>1</td>\n",
       "      <td>1</td>\n",
       "      <td>1</td>\n",
       "      <td>1</td>\n",
       "    </tr>\n",
       "    <tr>\n",
       "      <td>138</td>\n",
       "      <td>2137</td>\n",
       "      <td>not specified</td>\n",
       "      <td>Electronics &amp; HiFi</td>\n",
       "      <td>alison.jordan</td>\n",
       "      <td>-1</td>\n",
       "      <td>30</td>\n",
       "      <td>2</td>\n",
       "      <td>2</td>\n",
       "      <td>8916</td>\n",
       "      <td>249</td>\n",
       "      <td>...</td>\n",
       "      <td>1</td>\n",
       "      <td>1</td>\n",
       "      <td>1</td>\n",
       "      <td>1</td>\n",
       "      <td>1</td>\n",
       "      <td>1</td>\n",
       "      <td>1</td>\n",
       "      <td>1</td>\n",
       "      <td>1</td>\n",
       "      <td>1</td>\n",
       "    </tr>\n",
       "    <tr>\n",
       "      <td>144</td>\n",
       "      <td>2137</td>\n",
       "      <td>not specified</td>\n",
       "      <td>Fashion</td>\n",
       "      <td>not specified</td>\n",
       "      <td>-1</td>\n",
       "      <td>2</td>\n",
       "      <td>0</td>\n",
       "      <td>0</td>\n",
       "      <td>698</td>\n",
       "      <td>249</td>\n",
       "      <td>...</td>\n",
       "      <td>1</td>\n",
       "      <td>1</td>\n",
       "      <td>1</td>\n",
       "      <td>1</td>\n",
       "      <td>1</td>\n",
       "      <td>1</td>\n",
       "      <td>1</td>\n",
       "      <td>1</td>\n",
       "      <td>1</td>\n",
       "      <td>1</td>\n",
       "    </tr>\n",
       "  </tbody>\n",
       "</table>\n",
       "<p>80 rows × 138 columns</p>\n",
       "</div>"
      ],
      "text/plain": [
       "     days_active           team             vertical    salesperson  \\\n",
       "180         2137  not specified      Health & Beauty  not specified   \n",
       "181         2137  not specified      Health & Beauty        dominic   \n",
       "182         2137  not specified      Health & Beauty  not specified   \n",
       "183         2137  not specified       Toys & Hobbies  not specified   \n",
       "191         2137  not specified       Pets & Animals  not specified   \n",
       "..           ...            ...                  ...            ...   \n",
       "140         2137        Neto XL       Toys & Hobbies  not specified   \n",
       "141         2137        Neto XL              Gifting        dominic   \n",
       "142         2137        Neto XL  Sports & Recreation  not specified   \n",
       "138         2137  not specified   Electronics & HiFi  alison.jordan   \n",
       "144         2137  not specified              Fashion  not specified   \n",
       "\n",
       "     golive_days  cases_total  cases_open  cases_closed  \\\n",
       "180           -1            5           0             0   \n",
       "181           -1           57           4             4   \n",
       "182           -1           23           0             0   \n",
       "183           -1            2           0             0   \n",
       "191           -1           15           1             1   \n",
       "..           ...          ...         ...           ...   \n",
       "140           -1           17           0             0   \n",
       "141           -1           25           3             3   \n",
       "142           -1           80           5             5   \n",
       "138           -1           30           2             2   \n",
       "144           -1            2           0             0   \n",
       "\n",
       "     cases_age_hours_total  cases_age_hours_average  ...  \\\n",
       "180                   1159                      249  ...   \n",
       "181                   7884                      249  ...   \n",
       "182                   2717                      249  ...   \n",
       "183                    233                      249  ...   \n",
       "191                   4670                      249  ...   \n",
       "..                     ...                      ...  ...   \n",
       "140                    505                      249  ...   \n",
       "141                  10280                      249  ...   \n",
       "142                  13635                      249  ...   \n",
       "138                   8916                      249  ...   \n",
       "144                    698                      249  ...   \n",
       "\n",
       "     licence_registration_Dayofweek_was_nan  \\\n",
       "180                                       1   \n",
       "181                                       1   \n",
       "182                                       1   \n",
       "183                                       1   \n",
       "191                                       1   \n",
       "..                                      ...   \n",
       "140                                       1   \n",
       "141                                       1   \n",
       "142                                       1   \n",
       "138                                       1   \n",
       "144                                       1   \n",
       "\n",
       "     licence_registration_Dayofyear_was_nan  \\\n",
       "180                                       1   \n",
       "181                                       1   \n",
       "182                                       1   \n",
       "183                                       1   \n",
       "191                                       1   \n",
       "..                                      ...   \n",
       "140                                       1   \n",
       "141                                       1   \n",
       "142                                       1   \n",
       "138                                       1   \n",
       "144                                       1   \n",
       "\n",
       "     licence_registration_Elapsed_was_nan  golive_Year_was_nan  \\\n",
       "180                                     1                    1   \n",
       "181                                     1                    1   \n",
       "182                                     1                    1   \n",
       "183                                     1                    1   \n",
       "191                                     1                    1   \n",
       "..                                    ...                  ...   \n",
       "140                                     1                    1   \n",
       "141                                     1                    1   \n",
       "142                                     1                    1   \n",
       "138                                     1                    1   \n",
       "144                                     1                    1   \n",
       "\n",
       "     golive_Month_was_nan  golive_Week_was_nan  golive_Day_was_nan  \\\n",
       "180                     1                    1                   1   \n",
       "181                     1                    1                   1   \n",
       "182                     1                    1                   1   \n",
       "183                     1                    1                   1   \n",
       "191                     1                    1                   1   \n",
       "..                    ...                  ...                 ...   \n",
       "140                     1                    1                   1   \n",
       "141                     1                    1                   1   \n",
       "142                     1                    1                   1   \n",
       "138                     1                    1                   1   \n",
       "144                     1                    1                   1   \n",
       "\n",
       "     golive_Dayofweek_was_nan  golive_Dayofyear_was_nan  \\\n",
       "180                         1                         1   \n",
       "181                         1                         1   \n",
       "182                         1                         1   \n",
       "183                         1                         1   \n",
       "191                         1                         1   \n",
       "..                        ...                       ...   \n",
       "140                         1                         1   \n",
       "141                         1                         1   \n",
       "142                         1                         1   \n",
       "138                         1                         1   \n",
       "144                         1                         1   \n",
       "\n",
       "     golive_Elapsed_was_nan  \n",
       "180                       1  \n",
       "181                       1  \n",
       "182                       1  \n",
       "183                       1  \n",
       "191                       1  \n",
       "..                      ...  \n",
       "140                       1  \n",
       "141                       1  \n",
       "142                       1  \n",
       "138                       1  \n",
       "144                       1  \n",
       "\n",
       "[80 rows x 138 columns]"
      ]
     },
     "execution_count": 29,
     "metadata": {},
     "output_type": "execute_result"
    }
   ],
   "source": [
    "df_processed[(df_processed[COLUMN_NAME] > 2136) & (df_processed[COLUMN_NAME] < 2138)]"
   ]
  },
  {
   "cell_type": "code",
   "execution_count": 105,
   "metadata": {},
   "outputs": [],
   "source": [
    "#df_processed.to_csv('./data.csv')\n",
    "#df_processed[df_processed['plan_PLAN-S-19Q1'] == 1 & df_processed['annual_revenue'] == 0].describe()\n",
    "#df_processed.query('annual_revenue == 0.0')\n"
   ]
  },
  {
   "cell_type": "code",
   "execution_count": 106,
   "metadata": {},
   "outputs": [],
   "source": [
    "#np.sort(df_processed[COLUMN_NAME])[1000:2000]"
   ]
  },
  {
   "cell_type": "code",
   "execution_count": 107,
   "metadata": {},
   "outputs": [],
   "source": [
    "# Plot sorted unique and non unique values for COLUMN_NAME\n",
    "\n",
    "#plt.figure(figsize=(20,15))\n",
    "\n",
    "#plt.plot(np.unique(np.sort(df_processed[COLUMN_NAME])), label=COLUMN_NAME)\n",
    "#plt.plot(np.sort(df_processed[COLUMN_NAME]), label=COLUMN_NAME)\n",
    "\n",
    "#plt.legend(loc='lower right')\n",
    "#plt.show()"
   ]
  },
  {
   "cell_type": "code",
   "execution_count": 108,
   "metadata": {},
   "outputs": [],
   "source": [
    "import matplotlib.pyplot as plt\n",
    "\n",
    "#plt.figure(figsize=(20,20))\n",
    "#plt.scatter(df_processed['days_active_log'],df_processed[COLUMN_NAME], c='b', marker='.', label='median')\n",
    "\n",
    "#plt.legend(loc='upper left')\n",
    "#plt.show()"
   ]
  },
  {
   "cell_type": "code",
   "execution_count": 109,
   "metadata": {},
   "outputs": [],
   "source": [
    "df_processed = preprocessing.logify_feature(df_processed, COLUMN_NAME, False)"
   ]
  },
  {
   "cell_type": "code",
   "execution_count": 110,
   "metadata": {},
   "outputs": [
    {
     "name": "stderr",
     "output_type": "stream",
     "text": [
      "//anaconda2/envs/fastai-cpu/lib/python3.6/site-packages/ipykernel_launcher.py:5: SettingWithCopyWarning: \n",
      "A value is trying to be set on a copy of a slice from a DataFrame\n",
      "\n",
      "See the caveats in the documentation: http://pandas.pydata.org/pandas-docs/stable/user_guide/indexing.html#returning-a-view-versus-a-copy\n",
      "  \"\"\"\n"
     ]
    }
   ],
   "source": [
    "# The next step needs only positive values, this will show which rows are <= 0\n",
    "df_processed[df_processed[COLUMN_NAME] <= 0]\n",
    "\n",
    "# This is how to replace the <= 0 values with something, mean or median is usually a good idea\n",
    "df_processed[COLUMN_NAME][df_processed[COLUMN_NAME] <= 0] = df_processed[COLUMN_NAME].median()"
   ]
  },
  {
   "cell_type": "code",
   "execution_count": 112,
   "metadata": {},
   "outputs": [
    {
     "data": {
      "text/plain": [
       "(0.1833573217533611, -6.599977513350912, 0.08744376340845679, 0    5.986452\n",
       " dtype: float64)"
      ]
     },
     "execution_count": 112,
     "metadata": {},
     "output_type": "execute_result"
    }
   ],
   "source": [
    "df_processed[COLUMN_NAME + '_log'].var(), df_processed[COLUMN_NAME + '_log'].skew(), df_processed[COLUMN_NAME + '_log'].mad(), df_processed[COLUMN_NAME + '_log'].mode()\n",
    "\n"
   ]
  },
  {
   "cell_type": "code",
   "execution_count": 113,
   "metadata": {},
   "outputs": [
    {
     "data": {
      "text/plain": [
       "0.2927335330290034"
      ]
     },
     "execution_count": 113,
     "metadata": {},
     "output_type": "execute_result"
    }
   ],
   "source": [
    "from scipy import stats\n",
    "boxcox, bc_params = stats.boxcox(df_processed[COLUMN_NAME])\n",
    "bc_params"
   ]
  },
  {
   "cell_type": "code",
   "execution_count": 114,
   "metadata": {},
   "outputs": [],
   "source": [
    "df_processed[COLUMN_NAME + '_bc'] = boxcox"
   ]
  },
  {
   "cell_type": "code",
   "execution_count": 115,
   "metadata": {},
   "outputs": [
    {
     "data": {
      "text/plain": [
       "Text(0,0.5,'Occurrence')"
      ]
     },
     "execution_count": 115,
     "metadata": {},
     "output_type": "execute_result"
    },
    {
     "data": {
      "image/png": "[encoded data removed]",
      "text/plain": [
       "<Figure size 1080x1080 with 3 Axes>"
      ]
     },
     "metadata": {
      "needs_background": "light"
     },
     "output_type": "display_data"
    }
   ],
   "source": [
    "fig, (ax1, ax2, ax3) = plt.subplots(3,1,figsize=(15,15))\n",
    "\n",
    "# original review count histogram\n",
    "df_processed[COLUMN_NAME].hist(ax=ax1, bins=100)\n",
    "ax1.set_yscale('log')\n",
    "ax1.tick_params(labelsize=14)\n",
    "ax1.set_title(COLUMN_NAME + ' Histogram', fontsize=14)\n",
    "ax1.set_xlabel('')\n",
    "ax1.set_ylabel('Occurrence', fontsize=14)\n",
    "\n",
    "# review count after log transform\n",
    "df_processed[COLUMN_NAME + '_log'].hist(ax=ax2, bins=100)\n",
    "ax2.set_yscale('log')\n",
    "ax2.tick_params(labelsize=14)\n",
    "ax2.set_title('Log Transformed ' + COLUMN_NAME + ' Histogram', fontsize=14)\n",
    "ax2.set_xlabel('')\n",
    "ax2.set_ylabel('Occurrence', fontsize=14)# review count after optimal Box-Cox transform\n",
    "\n",
    "df_processed[COLUMN_NAME + '_bc'].hist(ax=ax3, bins=100)\n",
    "ax3.set_yscale('log')\n",
    "ax3.tick_params(labelsize=14)\n",
    "ax3.set_title('Box-Cox Transformed ' + COLUMN_NAME + ' Histogram', fontsize=14)\n",
    "ax3.set_xlabel('')\n",
    "ax3.set_ylabel('Occurrence', fontsize=14)"
   ]
  },
  {
   "cell_type": "code",
   "execution_count": 121,
   "metadata": {},
   "outputs": [
    {
     "name": "stdout",
     "output_type": "stream",
     "text": [
      "Log transform skew: -6.599977513350912\n",
      "Box-Cox transform skew: 1.7393019055073713\n"
     ]
    }
   ],
   "source": [
    "print(f\"Log transform skew: {df_processed[COLUMN_NAME + '_log'].skew()}\")\n",
    "print(f\"Box-Cox transform skew: {df_processed[COLUMN_NAME + '_bc'].skew()}\")"
   ]
  },
  {
   "cell_type": "code",
   "execution_count": 122,
   "metadata": {},
   "outputs": [
    {
     "data": {
      "text/plain": [
       "count    5885.000000\n",
       "mean        5.966895\n",
       "std         0.428202\n",
       "min         0.000000\n",
       "25%         5.986452\n",
       "50%         5.986452\n",
       "75%         5.986452\n",
       "max         8.874868\n",
       "Name: churn_concern_cases_avg_hours_log, dtype: float64"
      ]
     },
     "execution_count": 122,
     "metadata": {},
     "output_type": "execute_result"
    }
   ],
   "source": [
    "df_processed[COLUMN_NAME + '_log'].describe()"
   ]
  },
  {
   "cell_type": "code",
   "execution_count": 123,
   "metadata": {},
   "outputs": [
    {
     "data": {
      "text/plain": [
       "count    5889.000000\n",
       "mean       16.302658\n",
       "std         2.012782\n",
       "min         0.000000\n",
       "25%        16.290015\n",
       "50%        16.290015\n",
       "75%        16.290015\n",
       "max        42.483867\n",
       "Name: churn_concern_cases_avg_hours_bc, dtype: float64"
      ]
     },
     "execution_count": 123,
     "metadata": {},
     "output_type": "execute_result"
    }
   ],
   "source": [
    "df_processed[COLUMN_NAME + '_bc'].describe()"
   ]
  },
  {
   "cell_type": "code",
   "execution_count": 127,
   "metadata": {},
   "outputs": [
    {
     "name": "stdout",
     "output_type": "stream",
     "text": [
      "churn_concern_cases_avg_hours_log\n",
      "\n",
      "Min: 0.0\n",
      "Max: 8.874867635688053\n",
      "Mean: 5.966894977879099\n",
      "Trimmed Mean: 5.986452005284437\n",
      "Median: 5.986452005284438\n",
      "Std: 0.42820243081206477\n",
      "CV: 0.07176302455456775\n"
     ]
    }
   ],
   "source": [
    "general_stats(df_processed, f\"{COLUMN_NAME}_log\")"
   ]
  },
  {
   "cell_type": "code",
   "execution_count": 131,
   "metadata": {},
   "outputs": [
    {
     "name": "stdout",
     "output_type": "stream",
     "text": [
      "churn_concern_cases_avg_hours_bc\n",
      "\n",
      "Min: 0.0\n",
      "Max: 42.4838674597342\n",
      "Mean: 16.30265752220549\n",
      "Trimmed Mean: 16.290014936864818\n",
      "Median: 16.290014936864818\n",
      "Std: 2.0127821052430592\n",
      "CV: 0.1234634354859932\n"
     ]
    }
   ],
   "source": [
    "general_stats(df_processed, f\"{COLUMN_NAME}_bc\")"
   ]
  },
  {
   "cell_type": "code",
   "execution_count": 134,
   "metadata": {},
   "outputs": [
    {
     "name": "stdout",
     "output_type": "stream",
     "text": [
      "0.02\n",
      "0.02\n",
      "0.08\n"
     ]
    }
   ],
   "source": [
    "data_distribution(df_processed, f\"{COLUMN_NAME}_log\")"
   ]
  },
  {
   "cell_type": "code",
   "execution_count": 135,
   "metadata": {},
   "outputs": [
    {
     "name": "stdout",
     "output_type": "stream",
     "text": [
      "0.03\n",
      "0.14\n",
      "0.22\n"
     ]
    }
   ],
   "source": [
    "data_distribution(df_processed, f\"{COLUMN_NAME}_bc\")"
   ]
  },
  {
   "cell_type": "code",
   "execution_count": null,
   "metadata": {},
   "outputs": [],
   "source": []
  }
 ],
 "metadata": {
  "kernelspec": {
   "display_name": "Python 3",
   "language": "python",
   "name": "python3"
  },
  "language_info": {
   "codemirror_mode": {
    "name": "ipython",
    "version": 3
   },
   "file_extension": ".py",
   "mimetype": "text/x-python",
   "name": "python",
   "nbconvert_exporter": "python",
   "pygments_lexer": "ipython3",
   "version": "3.6.9"
  }
 },
 "nbformat": 4,
 "nbformat_minor": 2
}
