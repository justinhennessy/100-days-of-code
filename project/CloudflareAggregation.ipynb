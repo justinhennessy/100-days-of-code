{
 "cells": [
  {
   "cell_type": "code",
   "execution_count": 293,
   "metadata": {},
   "outputs": [
    {
     "name": "stdout",
     "output_type": "stream",
     "text": [
      "Requirement already satisfied: s3fs in /Users/justinhennessy/anaconda3/envs/fastai/lib/python3.6/site-packages (0.4.2)\n",
      "Requirement already satisfied: fsspec>=0.6.0 in /Users/justinhennessy/anaconda3/envs/fastai/lib/python3.6/site-packages (from s3fs) (0.7.4)\n",
      "Requirement already satisfied: botocore>=1.12.91 in /Users/justinhennessy/anaconda3/envs/fastai/lib/python3.6/site-packages (from s3fs) (1.16.13)\n",
      "Requirement already satisfied: docutils<0.16,>=0.10 in /Users/justinhennessy/anaconda3/envs/fastai/lib/python3.6/site-packages (from botocore>=1.12.91->s3fs) (0.15.2)\n",
      "Requirement already satisfied: python-dateutil<3.0.0,>=2.1 in /Users/justinhennessy/anaconda3/envs/fastai/lib/python3.6/site-packages (from botocore>=1.12.91->s3fs) (2.8.0)\n",
      "Requirement already satisfied: urllib3<1.26,>=1.20; python_version != \"3.4\" in /Users/justinhennessy/anaconda3/envs/fastai/lib/python3.6/site-packages (from botocore>=1.12.91->s3fs) (1.24.2)\n",
      "Requirement already satisfied: jmespath<1.0.0,>=0.7.1 in /Users/justinhennessy/anaconda3/envs/fastai/lib/python3.6/site-packages (from botocore>=1.12.91->s3fs) (0.9.4)\n",
      "Requirement already satisfied: six>=1.5 in /Users/justinhennessy/anaconda3/envs/fastai/lib/python3.6/site-packages (from python-dateutil<3.0.0,>=2.1->botocore>=1.12.91->s3fs) (1.12.0)\n"
     ]
    }
   ],
   "source": [
    "#!pip install s3fs"
   ]
  },
  {
   "cell_type": "code",
   "execution_count": 412,
   "metadata": {},
   "outputs": [],
   "source": [
    "sys.path.append('../lib')\n",
    "import cloudflare_aggregates\n",
    "\n",
    "create_cloudflare_directory_structure(bucket)\n",
    "\n",
    "PATH = \"../data/\"\n",
    "\n",
    "DATE         = '01-05-2020'\n",
    "bucket       = os.environ[\"DATALAKE_PATH\"] = 'lakeneto-internal-public'\n",
    "s3_base_path = os.environ[\"CLOUDFLARE_FILE_PATH\"] = 'processed/platform/cloudflare/'\n",
    "\n",
    "# Load in initial data sets\n",
    "df_cloudflare = create_cloudflare_dataframe(bucket, s3_base_path + generate_file_name(DATE, 'csv'))\n",
    "df_active     = create_active_subscriptions_dataframe('lakeneto-internal-public', 'raw/dataset-active-subscriptions/2020-5-25.csv')\n",
    "df_idmap      = create_domain_id_map_dataframe(bucket, s3_base_path + 'MerchantIDMap.csv')\n",
    "df_totals     = create_totals_dataframe(df_cloudflare)\n",
    "\n",
    "# Join initial data into a MASTER dataset, per active subscription\n",
    "df_final = create_merchant_dataframe(df_cloudflare, df_active, df_idmap)\n",
    "\n",
    "# Generate plan and per merchant aggregate dataframes\n",
    "df_plan_agg         = generate_plan_aggregates(df_final)\n",
    "df_final            = generate_merchant_aggregates(df_final, df_plan_agg)\n",
    "df_final            = df_final.set_index('merchant_id')\n",
    "df_high_utilisation = df_final[df_final['utilisation_rating'] == 2]\n",
    "    \n",
    "upload_file(df_final, 'merchant_aggregates')\n",
    "upload_file(df_plan_agg, 'plan_aggregates')\n",
    "upload_file(df_totals, 'total_aggregates')\n",
    "upload_file(df_high_utilisation, 'high_utilisation')\n",
    "\n",
    "#df_final.to_json('April2020.json', orient='records')"
   ]
  },
  {
   "cell_type": "code",
   "execution_count": null,
   "metadata": {},
   "outputs": [],
   "source": []
  }
 ],
 "metadata": {
  "kernelspec": {
   "display_name": "Python 3",
   "language": "python",
   "name": "python3"
  },
  "language_info": {
   "codemirror_mode": {
    "name": "ipython",
    "version": 3
   },
   "file_extension": ".py",
   "mimetype": "text/x-python",
   "name": "python",
   "nbconvert_exporter": "python",
   "pygments_lexer": "ipython3",
   "version": "3.6.9"
  }
 },
 "nbformat": 4,
 "nbformat_minor": 2
}
