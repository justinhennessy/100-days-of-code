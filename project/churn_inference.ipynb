{
 "cells": [
  {
   "cell_type": "code",
   "execution_count": 1,
   "metadata": {},
   "outputs": [],
   "source": [
    "%reload_ext autoreload"
   ]
  },
  {
   "cell_type": "code",
   "execution_count": 36,
   "metadata": {},
   "outputs": [
    {
     "name": "stdout",
     "output_type": "stream",
     "text": [
      "The autoreload extension is already loaded. To reload it, use:\n",
      "  %reload_ext autoreload\n"
     ]
    }
   ],
   "source": [
    "# Imports\n",
    "\n",
    "%load_ext autoreload\n",
    "%autoreload 2\n",
    "\n",
    "%matplotlib inline\n",
    "import numpy as np\n",
    "import random\n",
    "import csv\n",
    "import pandas as pd\n",
    "\n",
    "from fastai.imports import *\n",
    "from fastai.structured import *\n",
    "from matplotlib import pyplot\n",
    "from pandas_summary import DataFrameSummary\n",
    "from sklearn.ensemble import RandomForestRegressor, RandomForestClassifier\n",
    "from IPython.display import display\n",
    "from tabulate import tabulate\n",
    "from sklearn.model_selection import GridSearchCV\n",
    "from scipy.stats import trim_mean, kurtosis\n",
    "from scipy.stats.mstats import mode, gmean, hmean\n",
    "from imblearn.over_sampling import SMOTE\n",
    "from sklearn import metrics\n",
    "from sklearn.externals import joblib\n",
    "from sklearn.metrics import f1_score,\\\n",
    "    accuracy_score, confusion_matrix,\\\n",
    "    precision_score, recall_score,\\\n",
    "    roc_curve, roc_auc_score,\\\n",
    "    cohen_kappa_score, mean_absolute_error,\\\n",
    "    precision_recall_curve, auc,\\\n",
    "    average_precision_score\n",
    "\n",
    "set_plot_sizes(12,14,16)"
   ]
  },
  {
   "cell_type": "code",
   "execution_count": 37,
   "metadata": {},
   "outputs": [
    {
     "name": "stdout",
     "output_type": "stream",
     "text": [
      "\u001b[34m__pycache__\u001b[m\u001b[m utils.py\r\n"
     ]
    }
   ],
   "source": [
    "!ls ../lib/"
   ]
  },
  {
   "cell_type": "code",
   "execution_count": 38,
   "metadata": {},
   "outputs": [],
   "source": [
    "import csv\n",
    "\n",
    "sys.path.append('../lib')\n",
    "import utils"
   ]
  },
  {
   "cell_type": "code",
   "execution_count": 39,
   "metadata": {},
   "outputs": [],
   "source": [
    "# Load in data\n",
    "\n",
    "PATH = \"../data/\"\n",
    "df_raw = pd.read_csv(f'{PATH}churn.csv', low_memory=False, \n",
    "                     parse_dates=['canceldate', 'licence_registration_date', 'golive_date'])"
   ]
  },
  {
   "cell_type": "code",
   "execution_count": 40,
   "metadata": {},
   "outputs": [
    {
     "name": "stdout",
     "output_type": "stream",
     "text": [
      "2780 (2780, 38)\n",
      "5889 (5889, 99)\n",
      "1351 (1351, 102)\n"
     ]
    },
    {
     "name": "stderr",
     "output_type": "stream",
     "text": [
      "/Users/justinhennessy/anaconda3/envs/fastai/lib/python3.6/site-packages/pandas/core/frame.py:4102: SettingWithCopyWarning: \n",
      "A value is trying to be set on a copy of a slice from a DataFrame\n",
      "\n",
      "See the caveats in the documentation: http://pandas.pydata.org/pandas-docs/stable/user_guide/indexing.html#returning-a-view-versus-a-copy\n",
      "  errors=errors,\n"
     ]
    }
   ],
   "source": [
    "print(len(df_raw[df_raw.churned == 0]), df_raw[df_raw.churned == 0].shape)\n",
    "df_processed = utils.prepare_data(df_raw)\n",
    "print(len(df_processed), df_processed.shape)\n",
    "df_filtered = df_processed[df_processed.licence_registration_Year >2017]\n",
    "df_data, y_data, nas = proc_df(df_filtered, 'churned')\n",
    "print(len(df_data), df_data.shape)"
   ]
  },
  {
   "cell_type": "code",
   "execution_count": 41,
   "metadata": {},
   "outputs": [
    {
     "name": "stdout",
     "output_type": "stream",
     "text": [
      "2780 243\n"
     ]
    }
   ],
   "source": [
    "joblib_file = \"churn_model.pkl\"\n",
    "\n",
    "# Load from file\n",
    "churn_model = joblib.load(joblib_file)\n",
    "\n",
    "predictions = churn_model.predict(df_data)\n",
    "probability = churn_model.predict_proba(df_data)\n",
    "\n",
    "now = datetime.datetime.now()\n",
    "array = []\n",
    "for i in range(len(df_filtered[df_filtered.churned == 0].username)):\n",
    "    if predictions[i] == 1:\n",
    "        array.append([now,df_filtered[df_filtered.churned == 0].username.iloc[i],df_filtered[df_filtered.churned == 0].url.iloc[i],df_filtered[df_filtered.churned == 0].annual_revenue.iloc[i],probability[i][1],predictions[i]])\n",
    "        \n",
    "\n",
    "print(len(df_raw[df_raw.churned == 0]), len(array))"
   ]
  },
  {
   "cell_type": "code",
   "execution_count": 42,
   "metadata": {},
   "outputs": [],
   "source": [
    "count = 0\n",
    "\n",
    "churn_concerns = []\n",
    "\n",
    "for i in range(len(array)):\n",
    "    if array[i][4] > .7:\n",
    "        count += 1\n",
    "        churn_concerns.append(array[i])"
   ]
  },
  {
   "cell_type": "code",
   "execution_count": 43,
   "metadata": {},
   "outputs": [
    {
     "name": "stdout",
     "output_type": "stream",
     "text": [
      "80\n"
     ]
    }
   ],
   "source": [
    "print(count)"
   ]
  },
  {
   "cell_type": "code",
   "execution_count": 44,
   "metadata": {},
   "outputs": [
    {
     "name": "stdout",
     "output_type": "stream",
     "text": [
      "2019-10-05 15:33:26.859530,N062160,www.optimusenergy.com.au,5822790.28,0.7101540482752969,1\n",
      "2019-10-05 15:33:26.859530,N052273,logitechshop.neto.com.au,3161843.85,0.7149377498979065,1\n",
      "2019-10-05 15:33:26.859530,N050357,www.australianhomebrewing.com.au,1913375.39,0.7204407690954798,1\n",
      "2019-10-05 15:33:26.859530,N056451,www.bosscoauto.com.au,1296910.26,0.7212239210197177,1\n",
      "2019-10-05 15:33:26.859530,N055220,www.xdw.com.au,800290.23,0.7180261193111497,1\n",
      "2019-10-05 15:33:26.859530,N054211,www.funeralproducts.com.au,649310.58,0.71853871584007,1\n",
      "2019-10-05 15:33:26.859530,N054344,www.adolfodominguez.com.au,585114.98,0.7228967016882764,1\n",
      "2019-10-05 15:33:26.859530,N052113,www.willowspoolshop.com.au,485805.76,0.7096051287422293,1\n",
      "2019-10-05 15:33:26.859530,N054407,www.gssautoparts.com.au,394472.03,0.7241069100373339,1\n",
      "2019-10-05 15:33:26.859530,N056267,wheel-house-bik.neto.com.au,393561.83,0.7204315937996917,1\n",
      "2019-10-05 15:33:26.859530,N059921,www.directcarparts.com.au,330861.34,0.7152241434003952,1\n",
      "2019-10-05 15:33:26.859530,N055984,www.trailersrus.com.au,295827.07,0.7179981752995295,1\n",
      "2019-10-05 15:33:26.859530,N053827,www.nordicfusion.com.au,257118.25,0.7188950322579494,1\n",
      "2019-10-05 15:33:26.859530,N059080,pod-gardens-1.neto.com.au,189731.85,0.7203005667582347,1\n",
      "2019-10-05 15:33:26.859530,N058191,www.scangauge.com.au,117760.57,0.7172913415470089,1\n",
      "2019-10-05 15:33:26.859530,N060326,www.trainerhub.net.au,87983.24,0.7141728110561619,1\n",
      "2019-10-05 15:33:26.859530,N064475,mort-pestle.neto.com.au,82186.56,0.7127128133350616,1\n",
      "2019-10-05 15:33:26.859530,N047717,www.onthethrottle.com.au,73909.26,0.7077316737941906,1\n",
      "2019-10-05 15:33:26.859530,N054941,www.gymmart.com.au,73811.91,0.7203405330804464,1\n",
      "2019-10-05 15:33:26.859530,N060424,www.lectron.co.uk,70739.14,0.7196031315937925,1\n",
      "2019-10-05 15:33:26.859530,N060976,www.apca.net.au,70305.75,0.7160221109721432,1\n",
      "2019-10-05 15:33:26.859530,N056363,www.gluesaustralia.com.au,51103.36,0.7188807741275605,1\n",
      "2019-10-05 15:33:26.859530,N052154,www.materbabyproducts.com.au,50501.22,0.7190267835705072,1\n",
      "2019-10-05 15:33:26.859530,N062111,gainey-lawn-bow.neto.com.au,49879.88,0.7107564099997784,1\n",
      "2019-10-05 15:33:26.859530,N060521,www.brookys.com.au,48159.26,0.7172805943890634,1\n",
      "2019-10-05 15:33:26.859530,N056088,www.tecnisport.co.nz,44007.72,0.7186962023271875,1\n",
      "2019-10-05 15:33:26.859530,N060421,www.ergox.com.au,43651.09,0.7161795912871038,1\n",
      "2019-10-05 15:33:26.859530,N057593,mammojo.neto.com.au,42420.59,0.7077460658950763,1\n",
      "2019-10-05 15:33:26.859530,N059423,www.gunworld.com.au,35853.86,0.7010784242844025,1\n",
      "2019-10-05 15:33:26.859530,N056151,www.brighttomato.com.au,31767.57,0.7201943547031255,1\n"
     ]
    }
   ],
   "source": [
    "now = datetime.datetime.now()\n",
    "\n",
    "sorted_array = sorted(churn_concerns, key=lambda x: x[3], reverse=True)\n",
    "\n",
    "#for i in range(len(sorted_array)):\n",
    "for i in range(30):\n",
    "    print(f\"{sorted_array[i][0]},{sorted_array[i][1]},{sorted_array[i][2]},{sorted_array[i][3]},{sorted_array[i][4]},{sorted_array[i][5]}\")\n",
    "    with open('../data/predictions.csv', 'w') as writeFile:\n",
    "        writer = csv.writer(writeFile)\n",
    "        writer.writerows(sorted_array)\n",
    "\n",
    "writeFile.close()"
   ]
  },
  {
   "cell_type": "code",
   "execution_count": null,
   "metadata": {},
   "outputs": [],
   "source": []
  }
 ],
 "metadata": {
  "_draft": {
   "nbviewer_url": "https://gist.github.com/1292bacee4b6c087ed3ec76def23c344"
  },
  "gist": {
   "data": {
    "description": "courses/ml1/churn.ipynb",
    "public": false
   },
   "id": "1292bacee4b6c087ed3ec76def23c344"
  },
  "kernelspec": {
   "display_name": "Python 3",
   "language": "python",
   "name": "python3"
  },
  "language_info": {
   "codemirror_mode": {
    "name": "ipython",
    "version": 3
   },
   "file_extension": ".py",
   "mimetype": "text/x-python",
   "name": "python",
   "nbconvert_exporter": "python",
   "pygments_lexer": "ipython3",
   "version": "3.6.9"
  }
 },
 "nbformat": 4,
 "nbformat_minor": 2
}
