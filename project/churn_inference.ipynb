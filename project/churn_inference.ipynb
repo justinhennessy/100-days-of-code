{
 "cells": [
  {
   "cell_type": "code",
   "execution_count": 1,
   "metadata": {},
   "outputs": [],
   "source": [
    "%reload_ext autoreload"
   ]
  },
  {
   "cell_type": "code",
   "execution_count": 2,
   "metadata": {},
   "outputs": [
    {
     "name": "stdout",
     "output_type": "stream",
     "text": [
      "The autoreload extension is already loaded. To reload it, use:\n",
      "  %reload_ext autoreload\n"
     ]
    },
    {
     "name": "stderr",
     "output_type": "stream",
     "text": [
      "/Users/justinhennessy/anaconda3/envs/fastai/lib/python3.6/site-packages/sklearn/externals/joblib/__init__.py:15: DeprecationWarning: sklearn.externals.joblib is deprecated in 0.21 and will be removed in 0.23. Please import this functionality directly from joblib, which can be installed with: pip install joblib. If this warning is raised when loading pickled models, you may need to re-serialize those models with scikit-learn 0.21+.\n",
      "  warnings.warn(msg, category=DeprecationWarning)\n"
     ]
    }
   ],
   "source": [
    "# Imports\n",
    "\n",
    "%load_ext autoreload\n",
    "%autoreload 2\n",
    "\n",
    "%matplotlib inline\n",
    "import numpy as np\n",
    "import random\n",
    "import csv\n",
    "import pandas as pd\n",
    "\n",
    "from fastai.imports import *\n",
    "from fastai.structured import *\n",
    "from matplotlib import pyplot\n",
    "from pandas_summary import DataFrameSummary\n",
    "from sklearn.ensemble import RandomForestRegressor, RandomForestClassifier\n",
    "from IPython.display import display\n",
    "from tabulate import tabulate\n",
    "from sklearn.model_selection import GridSearchCV\n",
    "from scipy.stats import trim_mean, kurtosis\n",
    "from scipy.stats.mstats import mode, gmean, hmean\n",
    "from imblearn.over_sampling import SMOTE\n",
    "from sklearn import metrics\n",
    "from sklearn.externals import joblib\n",
    "from sklearn.metrics import f1_score,\\\n",
    "    accuracy_score, confusion_matrix,\\\n",
    "    precision_score, recall_score,\\\n",
    "    roc_curve, roc_auc_score,\\\n",
    "    cohen_kappa_score, mean_absolute_error,\\\n",
    "    precision_recall_curve, auc,\\\n",
    "    average_precision_score\n",
    "\n",
    "set_plot_sizes(12,14,16)"
   ]
  },
  {
   "cell_type": "code",
   "execution_count": 3,
   "metadata": {},
   "outputs": [],
   "source": [
    "import csv\n",
    "\n",
    "sys.path.append('../lib')\n",
    "import utils\n",
    "import preprocessing"
   ]
  },
  {
   "cell_type": "code",
   "execution_count": 4,
   "metadata": {},
   "outputs": [],
   "source": [
    "# Load in data\n",
    "\n",
    "PATH = \"../data/\"\n",
    "df_raw = pd.read_csv(f'{PATH}churn.csv', low_memory=False, \n",
    "                     parse_dates=['canceldate', 'licence_registration_date', 'golive_date'])"
   ]
  },
  {
   "cell_type": "code",
   "execution_count": 5,
   "metadata": {},
   "outputs": [
    {
     "name": "stdout",
     "output_type": "stream",
     "text": [
      "2780 (2780, 38)\n"
     ]
    },
    {
     "name": "stderr",
     "output_type": "stream",
     "text": [
      "../lib/preprocessing.py:47: SettingWithCopyWarning: \n",
      "A value is trying to be set on a copy of a slice from a DataFrame\n",
      "\n",
      "See the caveats in the documentation: http://pandas.pydata.org/pandas-docs/stable/user_guide/indexing.html#returning-a-view-versus-a-copy\n",
      "  dataframe['annual_revenue'][dataframe['annual_revenue'] == 0] = dataframe['annual_revenue'].median()\n",
      "/Users/justinhennessy/anaconda3/envs/fastai/lib/python3.6/site-packages/pandas/core/series.py:853: RuntimeWarning: divide by zero encountered in log\n",
      "  result = getattr(ufunc, method)(*inputs, **kwargs)\n",
      "/Users/justinhennessy/anaconda3/envs/fastai/lib/python3.6/site-packages/pandas/core/series.py:853: RuntimeWarning: invalid value encountered in log\n",
      "  result = getattr(ufunc, method)(*inputs, **kwargs)\n"
     ]
    },
    {
     "name": "stdout",
     "output_type": "stream",
     "text": [
      "5889 (5889, 93)\n",
      "2780 (2780, 92)\n"
     ]
    },
    {
     "name": "stderr",
     "output_type": "stream",
     "text": [
      "/Users/justinhennessy/anaconda3/envs/fastai/lib/python3.6/site-packages/pandas/core/frame.py:4102: SettingWithCopyWarning: \n",
      "A value is trying to be set on a copy of a slice from a DataFrame\n",
      "\n",
      "See the caveats in the documentation: http://pandas.pydata.org/pandas-docs/stable/user_guide/indexing.html#returning-a-view-versus-a-copy\n",
      "  errors=errors,\n"
     ]
    }
   ],
   "source": [
    "print(len(df_raw.loc[df_raw.churned == 0]), df_raw.loc[df_raw.churned == 0].shape)\n",
    "\n",
    "df_processed = preprocessing.prepare_data(df_raw)\n",
    "print(len(df_processed), df_processed.shape)\n",
    "\n",
    "df_filtered = df_processed.loc[df_processed.churned == 0]\n",
    "df_data, y_data, nas = proc_df(df_filtered, 'churned')\n",
    "print(len(df_data), df_data.shape)"
   ]
  },
  {
   "cell_type": "code",
   "execution_count": 6,
   "metadata": {},
   "outputs": [],
   "source": [
    "joblib_file = \"churn_model.pkl\"\n",
    "\n",
    "# Load from file\n",
    "churn_model = joblib.load(joblib_file)"
   ]
  },
  {
   "cell_type": "code",
   "execution_count": 7,
   "metadata": {},
   "outputs": [
    {
     "data": {
      "text/plain": [
       "(2780, 2780, 2780)"
      ]
     },
     "execution_count": 7,
     "metadata": {},
     "output_type": "execute_result"
    }
   ],
   "source": [
    "predictions = churn_model.predict(df_data)\n",
    "probability = churn_model.predict_proba(df_data)[:,1]\n",
    "len(probability), len(predictions), len(df_filtered)"
   ]
  },
  {
   "cell_type": "code",
   "execution_count": 8,
   "metadata": {},
   "outputs": [],
   "source": [
    "df_predictions = pd.DataFrame(predictions)\n",
    "df_probability = pd.DataFrame(probability)"
   ]
  },
  {
   "cell_type": "code",
   "execution_count": 9,
   "metadata": {},
   "outputs": [],
   "source": [
    "df_output = df_processed[df_processed.churned == 0].copy()"
   ]
  },
  {
   "cell_type": "code",
   "execution_count": 10,
   "metadata": {},
   "outputs": [],
   "source": [
    "df_output['prediction'] = predictions\n",
    "df_output['probability'] = probability"
   ]
  },
  {
   "cell_type": "code",
   "execution_count": 11,
   "metadata": {},
   "outputs": [
    {
     "name": "stdout",
     "output_type": "stream",
     "text": [
      "Churn concern count: 70 of 2780 (2.52%)\n"
     ]
    }
   ],
   "source": [
    "# Calculate churn concern %\n",
    "churn_concern_count = len(df_output.loc[df_output['prediction'] == 1])\n",
    "total_active = len(df_output)\n",
    "churn_concern_percent = round((churn_concern_count / total_active) * 100, 2)\n",
    "print(f\"Churn concern count: {churn_concern_count} of {total_active} ({churn_concern_percent}%)\")"
   ]
  },
  {
   "cell_type": "code",
   "execution_count": 17,
   "metadata": {},
   "outputs": [],
   "source": [
    "# Sort churn concerns by probability\n",
    "df_sorted = df_output.loc[df_output['prediction'] == 1].sort_values(by=['probability'], ascending=False)"
   ]
  },
  {
   "cell_type": "code",
   "execution_count": 18,
   "metadata": {},
   "outputs": [
    {
     "data": {
      "text/plain": [
       "count    2780.000000\n",
       "mean       10.904841\n",
       "std         2.485439\n",
       "min        -0.094311\n",
       "25%         9.116422\n",
       "50%        10.818493\n",
       "75%        12.880757\n",
       "max        17.742592\n",
       "Name: annual_revenue_log, dtype: float64"
      ]
     },
     "execution_count": 18,
     "metadata": {},
     "output_type": "execute_result"
    }
   ],
   "source": [
    "df_output.annual_revenue_log.describe()"
   ]
  },
  {
   "cell_type": "code",
   "execution_count": 54,
   "metadata": {},
   "outputs": [
    {
     "data": {
      "text/plain": [
       "(6.177406819449559, -0.25333110321829916, 2.0570651569924894, 0    9.116422\n",
       " dtype: float64)"
      ]
     },
     "execution_count": 54,
     "metadata": {},
     "output_type": "execute_result"
    }
   ],
   "source": [
    "df_output.annual_revenue_log.var(), df_output.annual_revenue_log.skew(), df_output.annual_revenue_log.mad(), df_output.annual_revenue_log.mode()\n",
    "\n"
   ]
  },
  {
   "cell_type": "code",
   "execution_count": 55,
   "metadata": {},
   "outputs": [
    {
     "data": {
      "text/plain": [
       "555.0300220652385"
      ]
     },
     "execution_count": 55,
     "metadata": {},
     "output_type": "execute_result"
    }
   ],
   "source": [
    "2**9.116422"
   ]
  },
  {
   "cell_type": "code",
   "execution_count": 50,
   "metadata": {},
   "outputs": [
    {
     "name": "stdout",
     "output_type": "stream",
     "text": [
      "71.73\n",
      "96.19\n",
      "99.53\n"
     ]
    }
   ],
   "source": [
    "# Calculate the % of ros that have a annual_revenue_log of +/- 1 standard diviation\n",
    "COLUMN_NAME='annual_revenue_log'\n",
    "feature_mean = df_output[COLUMN_NAME].mean()\n",
    "feature_std = df_output[COLUMN_NAME].std()\n",
    "\n",
    "for i in [1,2,3]:\n",
    "    output = round(len(df_output[COLUMN_NAME].loc[(df_output[COLUMN_NAME] > (feature_mean - (std1 * i))) &\n",
    "                                            (df_output[COLUMN_NAME] < (feature_mean + (std1 * i)))]) / len(df_output) * 100,2)\n",
    "    print(output)"
   ]
  },
  {
   "cell_type": "code",
   "execution_count": 51,
   "metadata": {},
   "outputs": [
    {
     "name": "stdout",
     "output_type": "stream",
     "text": [
      "2019-10-15 00:37:53.712119,N061491,marshall.neto.com.au,9.116421923264706,0.6897080815118563\n",
      "2019-10-15 00:37:53.712119,N061711,lukasz-credit-t.neto.com.au,9.848569803002546,0.6838500325406136\n",
      "2019-10-15 00:37:53.712119,N063834,urban-crush.neto.com.au,9.116421923264706,0.6830457621044072\n",
      "2019-10-15 00:37:53.712119,N062610,hellotest.neto.com.au,12.818522329088832,0.6351416033187537\n",
      "2019-10-15 00:37:53.712119,N061143,bmx-internation.neto.com.au,9.116421923264706,0.6308593974115767\n",
      "2019-10-15 00:37:53.712119,N061402,zoomautoparts.neto.com.au,9.116421923264706,0.6293132035368315\n",
      "2019-10-15 00:37:53.712119,N061328,la-luna-pet-car.neto.com.au,9.837109473782805,0.6279924881992694\n",
      "2019-10-15 00:37:53.712119,N061504,supplychain.neto.com.au,9.116421923264706,0.6194579885874527\n",
      "2019-10-15 00:37:53.712119,N063884,prestige-tyre-a.neto.com.au,9.116421923264706,0.6136854534811207\n",
      "2019-10-15 00:37:53.712119,N061981,nunawadingtoyot.neto.com.au,9.116421923264706,0.6052243471818596\n",
      "2019-10-15 00:37:53.712119,N065515,miners-den-test.neto.com.au,12.3388420228948,0.6012685628669965\n",
      "2019-10-15 00:37:53.712119,N064816,holy-grace.neto.com.au,9.116421923264706,0.6008411292766139\n",
      "2019-10-15 00:37:53.712119,N064953,globaleyewear.neto.com.au,12.28236994792195,0.5997897854955812\n",
      "2019-10-15 00:37:53.712119,N060911,curve.neto.com.au,9.868825194279122,0.5950116121877909\n",
      "2019-10-15 00:37:53.712119,N062221,headspace.neto.com.au,11.565900384633094,0.5930039085666078\n",
      "2019-10-15 00:37:53.712119,N063144,www.sydneysupplies.com.au,7.519258470501572,0.5909623344192851\n",
      "2019-10-15 00:37:53.712119,N062181,unitedtackle.neto.com.au,9.116421923264706,0.5806461810231989\n",
      "2019-10-15 00:37:53.712119,N061447,gloriajeans.neto.com.au,9.116421923264706,0.5780990923933687\n",
      "2019-10-15 00:37:53.712119,N063833,k-fee.neto.com.au,9.116421923264706,0.5699183226218344\n",
      "2019-10-15 00:37:53.712119,N064484,www.hbvapour.nz,9.695480735640238,0.5676717999549747\n",
      "2019-10-15 00:37:53.712119,N048319,netotestekkaday.neto.com.au,10.872194627942005,0.5626117761063604\n",
      "2019-10-15 00:37:53.712119,N062334,www.uniquepartyshop.com.au,8.400978425381947,0.5625296918087631\n",
      "2019-10-15 00:37:53.712119,N060696,pool-equipment.neto.com.au,9.0845639743533,0.5621113380373879\n",
      "2019-10-15 00:37:53.712119,N065016,stringsforless.neto.com.au,9.116421923264706,0.5619719640077098\n",
      "2019-10-15 00:37:53.712119,N061335,snapp-office-fu.neto.com.au,9.116421923264706,0.5612994298398407\n",
      "2019-10-15 00:37:53.712119,N062014,vinosophy.neto.com.au,9.116421923264706,0.561170794789691\n",
      "2019-10-15 00:37:53.712119,N062543,cazosound-2.neto.com.au,9.116421923264706,0.5610299454318547\n",
      "2019-10-15 00:37:53.712119,N065827,www-prospeedeur.neto.com.au,9.116421923264706,0.5601597164872739\n",
      "2019-10-15 00:37:53.712119,N061051,best-chance.neto.com.au,8.80912223271534,0.5599939669041658\n",
      "2019-10-15 00:37:53.712119,N065414,themanshakenz.neto.com.au,9.116421923264706,0.5567343374712834\n",
      "2019-10-15 00:37:53.712119,N053037,skiffs.neto.com.au,9.116421923264706,0.5555766233535437\n",
      "2019-10-15 00:37:53.712119,N063303,doveandlyre-1.neto.com.au,9.116421923264706,0.5545065887062414\n",
      "2019-10-15 00:37:53.712119,N035151,tam288184163748.neto.com.au,12.950876117086429,0.5542044967029697\n",
      "2019-10-15 00:37:53.712119,N062111,gainey-lawn-bow.neto.com.au,10.817372994017221,0.5386383736476461\n",
      "2019-10-15 00:37:53.712119,N005028,filestore1.neto.com.au,9.116421923264706,0.5370465365584184\n",
      "2019-10-15 00:37:53.712119,noreg,nan,2.851284369188118,0.5364310995477996\n",
      "2019-10-15 00:37:53.712119,N054156,adtrade.neto.com.au,7.379756910890546,0.5248777642933699\n",
      "2019-10-15 00:37:53.712119,N062601,dollardropship.neto.com.au,11.495149809976978,0.5217824131273469\n",
      "2019-10-15 00:37:53.712119,N061994,invidia-exhausts.com.au,11.156674431168897,0.5216701371648171\n",
      "2019-10-15 00:37:53.712119,N060636,pure-deo-co.neto.com.au,9.116421923264706,0.5212630103943312\n",
      "2019-10-15 00:37:53.712119,N058023,symbiosis.neto.com.au,9.116421923264706,0.5183987182592924\n",
      "2019-10-15 00:37:53.712119,N062312,lukasz07.neto.com.au,9.116421923264706,0.5181252640811178\n",
      "2019-10-15 00:37:53.712119,N056509,hot-price.neto.com.au,9.116421923264706,0.5181220828576603\n",
      "2019-10-15 00:37:53.712119,N005537,digitallogic.neto.com.au,9.116421923264706,0.5177575286830721\n",
      "2019-10-15 00:37:53.712119,N063244,bobcases.neto.com.au,9.116421923264706,0.5157280573904324\n",
      "2019-10-15 00:37:53.712119,N060474,able-living-gro.neto.com.au,9.116421923264706,0.5140100959199865\n",
      "2019-10-15 00:37:53.712119,N012187,testv591.neto.com.au,9.116421923264706,0.5134142959952592\n",
      "2019-10-15 00:37:53.712119,Corpsoft,nan,7.933750278747753,0.5133689092431297\n",
      "2019-10-15 00:37:53.712119,N060188,www-pokerworld.neto.com.au,9.116421923264706,0.5128745400802409\n",
      "2019-10-15 00:37:53.712119,N064573,www.eliquidaustralia.co,10.439954606914956,0.5127432790906359\n"
     ]
    }
   ],
   "source": [
    "now = datetime.datetime.now()\n",
    "\n",
    "for i in range(50):\n",
    "    print(f\"{now},{df_sorted.username.iloc[i]},{df_raw[df_raw.username == df_sorted.username.iloc[i]].url.iloc[0]},{df_sorted.annual_revenue_log.iloc[i]},{df_sorted.probability.iloc[i]}\")\n",
    "          \n",
    "    #with open('../data/predictions.csv', 'w') as writeFile:\n",
    "    #    writer = csv.writer(writeFile)\n",
    "    #    writer.writerows(sorted_array)\n",
    "\n",
    "#writeFile.close()"
   ]
  },
  {
   "cell_type": "code",
   "execution_count": null,
   "metadata": {},
   "outputs": [],
   "source": []
  }
 ],
 "metadata": {
  "_draft": {
   "nbviewer_url": "https://gist.github.com/1292bacee4b6c087ed3ec76def23c344"
  },
  "gist": {
   "data": {
    "description": "courses/ml1/churn.ipynb",
    "public": false
   },
   "id": "1292bacee4b6c087ed3ec76def23c344"
  },
  "kernelspec": {
   "display_name": "Python 3",
   "language": "python",
   "name": "python3"
  },
  "language_info": {
   "codemirror_mode": {
    "name": "ipython",
    "version": 3
   },
   "file_extension": ".py",
   "mimetype": "text/x-python",
   "name": "python",
   "nbconvert_exporter": "python",
   "pygments_lexer": "ipython3",
   "version": "3.6.9"
  }
 },
 "nbformat": 4,
 "nbformat_minor": 2
}
