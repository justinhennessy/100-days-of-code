{
 "cells": [
  {
   "cell_type": "code",
   "execution_count": 1,
   "metadata": {},
   "outputs": [],
   "source": [
    "%reload_ext autoreload"
   ]
  },
  {
   "cell_type": "code",
   "execution_count": 7,
   "metadata": {},
   "outputs": [
    {
     "name": "stdout",
     "output_type": "stream",
     "text": [
      "The autoreload extension is already loaded. To reload it, use:\n",
      "  %reload_ext autoreload\n"
     ]
    }
   ],
   "source": [
    "# Imports\n",
    "\n",
    "%load_ext autoreload\n",
    "%autoreload 2\n",
    "\n",
    "%matplotlib inline\n",
    "import numpy as np\n",
    "import random\n",
    "import csv\n",
    "import pandas as pd\n",
    "\n",
    "from fastai.imports import *\n",
    "from fastai.structured import *\n",
    "from matplotlib import pyplot\n",
    "from pandas_summary import DataFrameSummary\n",
    "from sklearn.ensemble import RandomForestRegressor, RandomForestClassifier\n",
    "from IPython.display import display\n",
    "from tabulate import tabulate\n",
    "from sklearn.model_selection import GridSearchCV\n",
    "from scipy.stats import trim_mean, kurtosis\n",
    "from scipy.stats.mstats import mode, gmean, hmean\n",
    "from imblearn.over_sampling import SMOTE\n",
    "from sklearn import metrics\n",
    "from sklearn.externals import joblib\n",
    "from sklearn.metrics import f1_score,\\\n",
    "    accuracy_score, confusion_matrix,\\\n",
    "    precision_score, recall_score,\\\n",
    "    roc_curve, roc_auc_score,\\\n",
    "    cohen_kappa_score, mean_absolute_error,\\\n",
    "    precision_recall_curve, auc,\\\n",
    "    average_precision_score\n",
    "\n",
    "set_plot_sizes(12,14,16)"
   ]
  },
  {
   "cell_type": "code",
   "execution_count": 8,
   "metadata": {},
   "outputs": [],
   "source": [
    "import csv\n",
    "\n",
    "sys.path.append('../lib')\n",
    "import utils\n",
    "import preprocessing"
   ]
  },
  {
   "cell_type": "code",
   "execution_count": 9,
   "metadata": {},
   "outputs": [],
   "source": [
    "# Load in data\n",
    "\n",
    "PATH = \"../data/\"\n",
    "df_raw = pd.read_csv(f'{PATH}churn.csv', low_memory=False, \n",
    "                     parse_dates=['canceldate', 'licence_registration_date', 'golive_date'])"
   ]
  },
  {
   "cell_type": "code",
   "execution_count": 10,
   "metadata": {},
   "outputs": [
    {
     "name": "stdout",
     "output_type": "stream",
     "text": [
      "2780 (2780, 38)\n",
      "5889 (5889, 101)\n",
      "1351 (1351, 104)\n"
     ]
    },
    {
     "name": "stderr",
     "output_type": "stream",
     "text": [
      "//anaconda2/envs/fastai-cpu/lib/python3.6/site-packages/pandas/core/frame.py:4102: SettingWithCopyWarning: \n",
      "A value is trying to be set on a copy of a slice from a DataFrame\n",
      "\n",
      "See the caveats in the documentation: http://pandas.pydata.org/pandas-docs/stable/user_guide/indexing.html#returning-a-view-versus-a-copy\n",
      "  errors=errors,\n"
     ]
    }
   ],
   "source": [
    "print(len(df_raw[df_raw.churned == 0]), df_raw[df_raw.churned == 0].shape)\n",
    "df_processed = preprocessing.prepare_data(df_raw)\n",
    "print(len(df_processed), df_processed.shape)\n",
    "df_filtered = df_processed[df_processed.licence_registration_Year >2017]\n",
    "df_data, y_data, nas = proc_df(df_filtered, 'churned')\n",
    "print(len(df_data), df_data.shape)"
   ]
  },
  {
   "cell_type": "code",
   "execution_count": 11,
   "metadata": {},
   "outputs": [
    {
     "name": "stdout",
     "output_type": "stream",
     "text": [
      "2780 220\n"
     ]
    }
   ],
   "source": [
    "joblib_file = \"churn_model.pkl\"\n",
    "\n",
    "# Load from file\n",
    "churn_model = joblib.load(joblib_file)\n",
    "\n",
    "predictions = churn_model.predict(df_data)\n",
    "probability = churn_model.predict_proba(df_data)\n",
    "\n",
    "now = datetime.datetime.now()\n",
    "array = []\n",
    "for i in range(len(df_filtered[df_filtered.churned == 0].username)):\n",
    "    if predictions[i] == 1:\n",
    "        array.append([now,df_filtered[df_filtered.churned == 0].username.iloc[i],df_filtered[df_filtered.churned == 0].url.iloc[i],df_filtered[df_filtered.churned == 0].annual_revenue.iloc[i],probability[i][1],predictions[i]])\n",
    "        \n",
    "\n",
    "print(len(df_raw[df_raw.churned == 0]), len(array))"
   ]
  },
  {
   "cell_type": "code",
   "execution_count": 12,
   "metadata": {},
   "outputs": [],
   "source": [
    "count = 0\n",
    "\n",
    "churn_concerns = []\n",
    "\n",
    "for i in range(len(array)):\n",
    "    if array[i][4] > .7:\n",
    "        count += 1\n",
    "        churn_concerns.append(array[i])"
   ]
  },
  {
   "cell_type": "code",
   "execution_count": 13,
   "metadata": {},
   "outputs": [
    {
     "name": "stdout",
     "output_type": "stream",
     "text": [
      "58\n"
     ]
    }
   ],
   "source": [
    "print(count)"
   ]
  },
  {
   "cell_type": "code",
   "execution_count": 14,
   "metadata": {},
   "outputs": [
    {
     "name": "stdout",
     "output_type": "stream",
     "text": [
      "2019-10-10 17:39:08.984934,N052273,logitechshop.neto.com.au,3161843.85,0.732528807651913,1\n",
      "2019-10-10 17:39:08.984934,N055220,www.xdw.com.au,800290.23,0.72875622301112,1\n",
      "2019-10-10 17:39:08.984934,N054211,www.funeralproducts.com.au,649310.58,0.7372354676649026,1\n",
      "2019-10-10 17:39:08.984934,N052113,www.willowspoolshop.com.au,485805.76,0.7181696187071306,1\n",
      "2019-10-10 17:39:08.984934,N056267,wheel-house-bik.neto.com.au,393561.83,0.7336406594662853,1\n",
      "2019-10-10 17:39:08.984934,N059921,www.directcarparts.com.au,330861.34,0.7125351429677069,1\n",
      "2019-10-10 17:39:08.984934,N055984,www.trailersrus.com.au,295827.07,0.7315738493486557,1\n",
      "2019-10-10 17:39:08.984934,N053827,www.nordicfusion.com.au,257118.25,0.7343055314818924,1\n",
      "2019-10-10 17:39:08.984934,N060326,www.trainerhub.net.au,87983.24,0.716496964353777,1\n",
      "2019-10-10 17:39:08.984934,N047717,www.onthethrottle.com.au,73909.26,0.7240534578540836,1\n",
      "2019-10-10 17:39:08.984934,N060976,www.apca.net.au,70305.75,0.7153848431416557,1\n",
      "2019-10-10 17:39:08.984934,N056363,www.gluesaustralia.com.au,51103.36,0.73045550482964,1\n",
      "2019-10-10 17:39:08.984934,N061812,card-base.com.au,49879.88,0.7037286102875933,1\n",
      "2019-10-10 17:39:08.984934,N062111,gainey-lawn-bow.neto.com.au,49879.88,0.7102673356985528,1\n",
      "2019-10-10 17:39:08.984934,N060521,www.brookys.com.au,48159.26,0.7154786198347612,1\n",
      "2019-10-10 17:39:08.984934,N056088,www.tecnisport.co.nz,44007.72,0.7269702772317176,1\n",
      "2019-10-10 17:39:08.984934,N060421,www.ergox.com.au,43651.09,0.716496964353777,1\n",
      "2019-10-10 17:39:08.984934,N059423,www.gunworld.com.au,35853.86,0.7006251694032535,1\n",
      "2019-10-10 17:39:08.984934,N056151,www.brighttomato.com.au,31767.57,0.7294298284041062,1\n",
      "2019-10-10 17:39:08.984934,N056115,www.watertruckpartsonline.com.au,29618.5,0.7255358841949989,1\n",
      "2019-10-10 17:39:08.984934,N055639,www.hhcafe.shop,25441.19,0.7349686575472725,1\n",
      "2019-10-10 17:39:08.984934,N059709,www.localefoods.com.au,22462.54,0.7039041007330046,1\n",
      "2019-10-10 17:39:08.984934,N054480,haruka-puchong.neto.com.au,22360.39,0.7324288076519129,1\n",
      "2019-10-10 17:39:08.984934,N061232,www.weavehome.com.au,21143.91,0.7175516532592856,1\n",
      "2019-10-10 17:39:08.984934,N058214,www.dopplerumbrellas.com.au,11489.68,0.7154786198347612,1\n",
      "2019-10-10 17:39:08.984934,N061685,www.swimpretty.com.au,10782.22,0.716496964353777,1\n",
      "2019-10-10 17:39:08.984934,N058482,www.yumseenaustralia.com,5397.89,0.7154786198347612,1\n",
      "2019-10-10 17:39:08.984934,N062334,www.uniquepartyshop.com.au,4451.42,0.7140748351210724,1\n",
      "2019-10-10 17:39:08.984934,N054783,www.vspecperformance.com.au,4371.81,0.7324288076519129,1\n",
      "2019-10-10 17:39:08.984934,N056294,www.equinenutrientcomponents.com,1762.37,0.7314738493486556,1\n"
     ]
    }
   ],
   "source": [
    "now = datetime.datetime.now()\n",
    "\n",
    "sorted_array = sorted(churn_concerns, key=lambda x: x[3], reverse=True)\n",
    "\n",
    "#for i in range(len(sorted_array)):\n",
    "for i in range(30):\n",
    "    print(f\"{sorted_array[i][0]},{sorted_array[i][1]},{sorted_array[i][2]},{sorted_array[i][3]},{sorted_array[i][4]},{sorted_array[i][5]}\")\n",
    "    with open('../data/predictions.csv', 'w') as writeFile:\n",
    "        writer = csv.writer(writeFile)\n",
    "        writer.writerows(sorted_array)\n",
    "\n",
    "writeFile.close()"
   ]
  },
  {
   "cell_type": "code",
   "execution_count": null,
   "metadata": {},
   "outputs": [],
   "source": []
  }
 ],
 "metadata": {
  "_draft": {
   "nbviewer_url": "https://gist.github.com/1292bacee4b6c087ed3ec76def23c344"
  },
  "gist": {
   "data": {
    "description": "courses/ml1/churn.ipynb",
    "public": false
   },
   "id": "1292bacee4b6c087ed3ec76def23c344"
  },
  "kernelspec": {
   "display_name": "Python 3",
   "language": "python",
   "name": "python3"
  },
  "language_info": {
   "codemirror_mode": {
    "name": "ipython",
    "version": 3
   },
   "file_extension": ".py",
   "mimetype": "text/x-python",
   "name": "python",
   "nbconvert_exporter": "python",
   "pygments_lexer": "ipython3",
   "version": "3.6.9"
  }
 },
 "nbformat": 4,
 "nbformat_minor": 2
}
