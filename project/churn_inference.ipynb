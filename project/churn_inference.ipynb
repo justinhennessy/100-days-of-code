{
 "cells": [
  {
   "cell_type": "code",
   "execution_count": 92,
   "metadata": {},
   "outputs": [],
   "source": [
    "%reload_ext autoreload"
   ]
  },
  {
   "cell_type": "code",
   "execution_count": 93,
   "metadata": {},
   "outputs": [
    {
     "name": "stdout",
     "output_type": "stream",
     "text": [
      "The autoreload extension is already loaded. To reload it, use:\n",
      "  %reload_ext autoreload\n"
     ]
    }
   ],
   "source": [
    "# Imports\n",
    "\n",
    "%load_ext autoreload\n",
    "%autoreload 2\n",
    "\n",
    "%matplotlib inline\n",
    "import numpy as np\n",
    "import random\n",
    "import csv\n",
    "import pandas as pd\n",
    "\n",
    "from fastai.imports import *\n",
    "from fastai.structured import *\n",
    "from matplotlib import pyplot\n",
    "from pandas_summary import DataFrameSummary\n",
    "from sklearn.ensemble import RandomForestRegressor, RandomForestClassifier\n",
    "from IPython.display import display\n",
    "from tabulate import tabulate\n",
    "from sklearn.model_selection import GridSearchCV\n",
    "from scipy.stats import trim_mean, kurtosis\n",
    "from scipy.stats.mstats import mode, gmean, hmean\n",
    "from imblearn.over_sampling import SMOTE\n",
    "from sklearn import metrics\n",
    "from sklearn.externals import joblib\n",
    "from sklearn.metrics import f1_score,\\\n",
    "    accuracy_score, confusion_matrix,\\\n",
    "    precision_score, recall_score,\\\n",
    "    roc_curve, roc_auc_score,\\\n",
    "    cohen_kappa_score, mean_absolute_error,\\\n",
    "    precision_recall_curve, auc,\\\n",
    "    average_precision_score\n",
    "\n",
    "set_plot_sizes(12,14,16)"
   ]
  },
  {
   "cell_type": "code",
   "execution_count": 94,
   "metadata": {},
   "outputs": [],
   "source": [
    "import csv\n",
    "\n",
    "sys.path.append('../lib')\n",
    "import utils\n",
    "import preprocessing"
   ]
  },
  {
   "cell_type": "code",
   "execution_count": 95,
   "metadata": {},
   "outputs": [],
   "source": [
    "# Load in data\n",
    "\n",
    "PATH = \"../data/\"\n",
    "df_raw = pd.read_csv(f'{PATH}churn.csv', low_memory=False, \n",
    "                     parse_dates=['canceldate', 'licence_registration_date', 'golive_date'])"
   ]
  },
  {
   "cell_type": "code",
   "execution_count": 96,
   "metadata": {},
   "outputs": [
    {
     "name": "stdout",
     "output_type": "stream",
     "text": [
      "2780 (2780, 38)\n",
      "Sorting dataframe by licence_registration_date ...\n",
      "Converting annual_revenue to a number ...\n",
      "Defaulting all NaN values with median ...\n",
      "Defaulting annual_revenue for missing values to the plans mean or platform medeian ...\n",
      "Binning last_login_days\n",
      "day          4636\n",
      "month+        545\n",
      "few_days       99\n",
      "fortnight      96\n",
      "week           88\n",
      "month          83\n",
      "Name: last_login_categories, dtype: int64\n",
      "Binning NPS data\n",
      "Fixing days_active abnormal values ...\n",
      "One-hot encoding customer_account_status\n",
      "One-hot encoding plan\n",
      "One-hot encoding nps\n",
      "Preprocessing dates ...\n",
      "Dropping features ...\n"
     ]
    },
    {
     "name": "stderr",
     "output_type": "stream",
     "text": [
      "../lib/preprocessing.py:42: SettingWithCopyWarning: \n",
      "A value is trying to be set on a copy of a slice from a DataFrame\n",
      "\n",
      "See the caveats in the documentation: http://pandas.pydata.org/pandas-docs/stable/user_guide/indexing.html#returning-a-view-versus-a-copy\n",
      "  df[feature][i] = random_replace_value(df, feature)\n"
     ]
    },
    {
     "name": "stdout",
     "output_type": "stream",
     "text": [
      "Replacing NaN values with median and adding '_was_nan' column ...\n",
      "Convert categorical features into numbers ...\n",
      "List any features that still have NaN values ...\n",
      "5547 (5547, 141)\n",
      "2438 (2438, 140)\n"
     ]
    },
    {
     "name": "stderr",
     "output_type": "stream",
     "text": [
      "//anaconda2/envs/fastai-cpu/lib/python3.6/site-packages/pandas/core/frame.py:4102: SettingWithCopyWarning: \n",
      "A value is trying to be set on a copy of a slice from a DataFrame\n",
      "\n",
      "See the caveats in the documentation: http://pandas.pydata.org/pandas-docs/stable/user_guide/indexing.html#returning-a-view-versus-a-copy\n",
      "  errors=errors,\n"
     ]
    }
   ],
   "source": [
    "print(len(df_raw.loc[df_raw.churned == 0]), df_raw.loc[df_raw.churned == 0].shape)\n",
    "\n",
    "df_processed = preprocessing.prepare_data(df_raw.loc[df_raw.licence_status != \"STAGING\"])\n",
    "print(len(df_processed), df_processed.shape)\n",
    "\n",
    "df_filtered = df_processed.loc[df_processed.churned == 0]\n",
    "df_data, y_data, nas = proc_df(df_filtered, 'churned')\n",
    "print(len(df_data), df_data.shape)"
   ]
  },
  {
   "cell_type": "code",
   "execution_count": 97,
   "metadata": {},
   "outputs": [],
   "source": [
    "joblib_file = \"churn_model.pkl\"\n",
    "\n",
    "# Load from file\n",
    "churn_model = joblib.load(joblib_file)"
   ]
  },
  {
   "cell_type": "code",
   "execution_count": 98,
   "metadata": {},
   "outputs": [
    {
     "data": {
      "text/plain": [
       "(2438, 2438, 2438)"
      ]
     },
     "execution_count": 98,
     "metadata": {},
     "output_type": "execute_result"
    }
   ],
   "source": [
    "predictions = churn_model.predict(df_data)\n",
    "probability = churn_model.predict_proba(df_data)[:,1]\n",
    "len(probability), len(predictions), len(df_filtered)"
   ]
  },
  {
   "cell_type": "code",
   "execution_count": 99,
   "metadata": {},
   "outputs": [],
   "source": [
    "df_predictions = pd.DataFrame(predictions)\n",
    "df_probability = pd.DataFrame(probability)"
   ]
  },
  {
   "cell_type": "code",
   "execution_count": 100,
   "metadata": {},
   "outputs": [],
   "source": [
    "df_output = df_processed[df_processed.churned == 0].copy()"
   ]
  },
  {
   "cell_type": "code",
   "execution_count": 101,
   "metadata": {},
   "outputs": [],
   "source": [
    "df_output['prediction'] = predictions\n",
    "df_output['probability'] = probability"
   ]
  },
  {
   "cell_type": "code",
   "execution_count": 102,
   "metadata": {},
   "outputs": [
    {
     "name": "stdout",
     "output_type": "stream",
     "text": [
      "Churn concern count: 44 of 2438 (1.8%)\n"
     ]
    }
   ],
   "source": [
    "# Calculate churn concern %\n",
    "churn_concern_count = len(df_output.loc[df_output['prediction'] == 1])\n",
    "total_active = len(df_output)\n",
    "churn_concern_percent = round((churn_concern_count / total_active) * 100, 2)\n",
    "print(f\"Churn concern count: {churn_concern_count} of {total_active} ({churn_concern_percent}%)\")"
   ]
  },
  {
   "cell_type": "code",
   "execution_count": 103,
   "metadata": {},
   "outputs": [],
   "source": [
    "# Sort churn concerns by probability\n",
    "df_sorted = df_output.loc[df_output['prediction'] == 1].sort_values(by=['probability'], ascending=False)"
   ]
  },
  {
   "cell_type": "code",
   "execution_count": 104,
   "metadata": {},
   "outputs": [],
   "source": [
    "#df_output.annual_revenue_log.var(), df_output.annual_revenue_log.skew(), df_output.annual_revenue_log.mad(), df_output.annual_revenue_log.mode()\n",
    "\n"
   ]
  },
  {
   "cell_type": "code",
   "execution_count": 105,
   "metadata": {},
   "outputs": [
    {
     "name": "stdout",
     "output_type": "stream",
     "text": [
      "2019-10-21 07:58:10.144872,N061491,marshall.neto.com.au,PLAN-360-17Q2,2018,0.0,0.7340037093927961\n",
      "2019-10-21 07:58:10.144872,N040687,vantage-demo.neto.com.au,PLAN-360-17Q2,2018,45800.31,0.7311534844286806\n",
      "2019-10-21 07:58:10.144872,N059446,tobias-tattoo-a.neto.com.au,CUSTOM,2018,0.0,0.7207971205266968\n",
      "2019-10-21 07:58:10.144872,N063144,www.sydneysupplies.com.au,PLAN-M-19Q1,2019,1843.2,0.6425499975596661\n",
      "2019-10-21 07:58:10.144872,N061402,zoomautoparts.neto.com.au,PLAN-360-19Q1,2019,0.0,0.6338416187272468\n",
      "2019-10-21 07:58:10.144872,N064484,www.hbvapour.nz,PLAN-360-19Q1,2019,16244.03,0.6216278734620522\n",
      "2019-10-21 07:58:10.144872,N061994,invidia-exhausts.com.au,PLAN-S-19Q1,2019,70029.68,0.5967283433649279\n",
      "2019-10-21 07:58:10.144872,N060361,the-drawing-roo.neto.com.au,PLAN-S-19Q1,2018,13949.17,0.5917993752406551\n",
      "2019-10-21 07:58:10.144872,N062334,www.uniquepartyshop.com.au,PLAN-M-19Q1,2019,4451.42,0.5886293029889961\n",
      "2019-10-21 07:58:10.144872,N064573,www.eliquidaustralia.co,PLAN-S-19Q1,2019,34199.1,0.5852234589431982\n",
      "2019-10-21 07:58:10.144872,N062601,dollardropship.neto.com.au,PLAN-S-US,2019,98238.14,0.5735864166014707\n",
      "2019-10-21 07:58:10.144872,N015189,siatemplate.neto.com.au,CUSTOM,2016,0.0,0.5687292299082491\n",
      "2019-10-21 07:58:10.144872,N043747,cd.neto.com.au,CUSTOM,2017,80.91,0.5680907579056641\n",
      "2019-10-21 07:58:10.144872,N021587,me-mediaold.neto.com.au,CUSTOM,2016,3146.41,0.5672819074605223\n",
      "2019-10-21 07:58:10.144872,N064149,force-industrie.neto.com.au,PLAN-M-19Q1,2019,0.0,0.5665425229422473\n",
      "2019-10-21 07:58:10.144872,N037999,neto-nz-1.neto.com.au,PLAN-L,2017,0.0,0.562943473518235\n",
      "2019-10-21 07:58:10.144872,N062704,www.computertown.com.au,PLAN-M-19Q1,2019,1149.59,0.5567136727975909\n",
      "2019-10-21 07:58:10.144872,N065566,www.mypottedplants.com.au,PLAN-S-19Q1,2019,152.7,0.5531264020801268\n",
      "2019-10-21 07:58:10.144872,N064207,www.myessentialhome.com.au,PLAN-S-19Q1,2019,0.0,0.5498866754369001\n",
      "2019-10-21 07:58:10.144872,N063095,www.kindwaysocks.com,PLAN-S-19Q1,2019,0.0,0.5489533788298032\n",
      "2019-10-21 07:58:10.144872,N063150,www.replenishrefill.com.au,PLAN-S-19Q1,2019,0.0,0.5483419638966743\n",
      "2019-10-21 07:58:10.144872,N062963,case2go.neto.com.au,PLAN-S-19Q1,2019,91461.12,0.5477606958266829\n",
      "2019-10-21 07:58:10.144872,N061886,www.petstation.com.au,PLAN-S-19Q1,2019,22319.63,0.5476288147575347\n",
      "2019-10-21 07:58:10.144872,N059535,www.techtoppers.com.au,PLAN-S-19Q1,2018,1455.48,0.5469002428312095\n",
      "2019-10-21 07:58:10.144872,N064892,www.jrautofix.com.au,PLAN-S-19Q1,2019,0.0,0.5443426913751975\n",
      "2019-10-21 07:58:10.144872,N001439,www.lovesongs.com.au,PLAN-360-17Q2,2017,593.97,0.5438185121702317\n",
      "2019-10-21 07:58:10.144872,N012187,testv591.neto.com.au,CUSTOM,2015,0.0,0.5437856788366981\n",
      "2019-10-21 07:58:10.144872,N065793,www.foreverfantasy.com.au,PLAN-S-19Q1,2019,0.0,0.5400161962856384\n",
      "2019-10-21 07:58:10.144872,N065843,www.siegeanddee.com,PLAN-S-19Q1,2019,0.0,0.5366424622689907\n",
      "2019-10-21 07:58:10.144872,N030565,the-book-mill-o.neto.com.au,PLAN-L-19Q1,2016,31583.84,0.5279946221990512\n",
      "2019-10-21 07:58:10.144872,N062983,www.yourlogistics.com.au,PLAN-S-19Q1,2019,28523.81,0.5268494106451465\n",
      "2019-10-21 07:58:10.144872,N050501,bloodylaces.neto.com.au,PLAN-L-19Q1,2017,0.0,0.5250807585259868\n",
      "2019-10-21 07:58:10.144872,N061123,www.vitaminsaustralia.com.au,PLAN-S-19Q1,2019,8620.49,0.5237765536534573\n",
      "2019-10-21 07:58:10.144872,N059936,our-french-door.neto.com.au,PLAN-S-19Q1,2019,49914.3,0.5222541277106661\n",
      "2019-10-21 07:58:10.144872,N065792,www.kaaftan.com.au,PLAN-S-19Q1,2019,0.0,0.5218770534768153\n",
      "2019-10-21 07:58:10.144872,N059530,www.pumpandpoolpeople.com.au,PLAN-M-19Q1,2018,9939.36,0.5165373875599758\n",
      "2019-10-21 07:58:10.144872,N062861,www.simplysheds.co.nz,PLAN-S-19Q1,2019,22253.16,0.5153960781086168\n",
      "2019-10-21 07:58:10.144872,N058966,www.bigwigaustralia.com,PLAN-S-19Q1,2018,0.0,0.5147264163688717\n",
      "2019-10-21 07:58:10.144872,N065090,shop.tiffinmotorhomes.com.au,PLAN-S-19Q1,2019,0.0,0.5144586662746492\n",
      "2019-10-21 07:58:10.144872,N007670,yourit.neto.com.au,CUSTOM,2015,0.0,0.5119627552775649\n",
      "2019-10-21 07:58:10.144872,N012287,spotlightsg.neto.com.au,CUSTOM,2016,0.0,0.5076750387436406\n",
      "2019-10-21 07:58:10.144872,Corpsoft,nan,CUSTOM,2015,3146.41,0.5008709379153393\n",
      "2019-10-21 07:58:10.144872,N060830,www.5red.com.au,PLAN-S-17Q2,2018,0.0,0.5008459629736719\n",
      "2019-10-21 07:58:10.144872,N035151,tam288184163748.neto.com.au,PLAN-L-19Q1,2019,439000.52,0.5002689407972757\n"
     ]
    }
   ],
   "source": [
    "now = datetime.datetime.now()\n",
    "\n",
    "#for i in range(len(df_sorted.loc[df_sorted['probability'] > 0.551])):\n",
    "for i in range(len(df_sorted)):\n",
    "    print(f\"{now},{df_sorted.username.iloc[i]},{df_raw[df_raw.username == df_sorted.username.iloc[i]].url.iloc[0]},{df_raw[df_raw.username == df_sorted.username.iloc[i]].plan.iloc[0]},{df_sorted.licence_registration_Year.iloc[i]},{df_sorted.annual_revenue.iloc[i]},{df_sorted.probability.iloc[i]}\")\n",
    "          \n",
    "    #with open('../data/predictions.csv', 'w') as writeFile:\n",
    "    #    writer = csv.writer(writeFile)\n",
    "    #    writer.writerows(sorted_array)\n",
    "\n",
    "#writeFile.close()"
   ]
  },
  {
   "cell_type": "code",
   "execution_count": 85,
   "metadata": {},
   "outputs": [
    {
     "data": {
      "text/plain": [
       "[]"
      ]
     },
     "execution_count": 85,
     "metadata": {},
     "output_type": "execute_result"
    }
   ],
   "source": [
    "list(set(df_data.columns) - set(df_sorted.columns))"
   ]
  },
  {
   "cell_type": "code",
   "execution_count": 90,
   "metadata": {},
   "outputs": [
    {
     "data": {
      "text/plain": [
       "username                                              N040687\n",
       "days_active                                               405\n",
       "team                                            not specified\n",
       "vertical                                   Electronics & HiFi\n",
       "salesperson                                             jesse\n",
       "golive_days                                                -1\n",
       "cases_total                                                 5\n",
       "cases_open                                                  0\n",
       "cases_closed                                                0\n",
       "cases_age_hours_total                                    1159\n",
       "cases_age_hours_average                                   249\n",
       "annual_revenue                                        45800.3\n",
       "interactions_total                                          2\n",
       "interactions_completed                                      2\n",
       "interactions_no_response                                    0\n",
       "interactions_no_onboarding                                  0\n",
       "interactions_completed_training                             0\n",
       "churn_concern_cases_total                                   1\n",
       "churn_concern_cases_open                                    0\n",
       "churn_concern_cases_avg_hours                             404\n",
       "cases_totalwas_nan                                          1\n",
       "cases_openwas_nan                                           1\n",
       "cases_closedwas_nan                                         1\n",
       "cases_age_hours_totalwas_nan                                1\n",
       "cases_age_hours_averagewas_nan                              1\n",
       "last_login_dayswas_nan                                      1\n",
       "annual_revenue_was_missing                                  1\n",
       "last_login_categories                                     day\n",
       "days_active_modified                                        0\n",
       "customer_account_status_PoorStanding                        0\n",
       "plan_BASIC                                                  0\n",
       "plan_BRONZE                                                 0\n",
       "plan_BUSINESS                                               0\n",
       "plan_BUSINESS +                                             0\n",
       "plan_BUSINESS ONE                                           0\n",
       "plan_CUSTOM                                                 0\n",
       "plan_CUSTOM XL                                              0\n",
       "plan_ENTERPRISE                                             0\n",
       "plan_GOLD                                                   0\n",
       "plan_GROW                                                   0\n",
       "plan_L&S - PREMIUM                                          0\n",
       "plan_L&S - STANDARD                                         0\n",
       "plan_L&S - ULTIMATE                                         0\n",
       "plan_LIST N SEND SILVER                                     0\n",
       "plan_LISTNSEND                                              0\n",
       "plan_NETO XL                                                0\n",
       "plan_PLAN-360-17Q2                                          1\n",
       "plan_PLAN-360-19Q1                                          0\n",
       "plan_PLAN-360-TRANSITION                                    0\n",
       "plan_PLAN-360-US                                            0\n",
       "plan_PLAN-L                                                 0\n",
       "plan_PLAN-L-17Q2                                            0\n",
       "plan_PLAN-L-19Q1                                            0\n",
       "plan_PLAN-M                                                 0\n",
       "plan_PLAN-M-17Q2                                            0\n",
       "plan_PLAN-M-19Q1                                            0\n",
       "plan_PLAN-M-US                                              0\n",
       "plan_PLAN-S                                                 0\n",
       "plan_PLAN-S-17Q2                                            0\n",
       "plan_PLAN-S-19Q1                                            0\n",
       "plan_PLAN-S-US                                              0\n",
       "plan_PLAN-XL-19Q1                                           0\n",
       "plan_PLAN-XS                                                0\n",
       "plan_PLAN-XS-17Q2                                           0\n",
       "plan_PREMIUM                                                0\n",
       "plan_STANDARD                                               0\n",
       "plan_START                                                  0\n",
       "plan_START - LEGACY                                         0\n",
       "plan_TRIAL                                                  0\n",
       "plan_ULTIMATE                                               0\n",
       "plan_ULTIMATE PLUS                                          0\n",
       "nps_no_data                                                 1\n",
       "nps_detractor                                               0\n",
       "nps_passive                                                 0\n",
       "nps_promoter                                                0\n",
       "licence_registration_Year                                2018\n",
       "licence_registration_Month                                  9\n",
       "licence_registration_Week                                  37\n",
       "licence_registration_Day                                   10\n",
       "licence_registration_Dayofweek                              0\n",
       "licence_registration_Dayofyear                            253\n",
       "licence_registration_Is_month_end                       False\n",
       "licence_registration_Is_month_start                     False\n",
       "licence_registration_Is_quarter_end                     False\n",
       "licence_registration_Is_quarter_start                   False\n",
       "licence_registration_Is_year_end                        False\n",
       "licence_registration_Is_year_start                      False\n",
       "licence_registration_Elapsed                       1536537600\n",
       "golive_Year                                              1970\n",
       "golive_Month                                                1\n",
       "golive_Week                                                 1\n",
       "golive_Day                                                  1\n",
       "golive_Dayofweek                                            3\n",
       "golive_Dayofyear                                            1\n",
       "golive_Is_month_end                                     False\n",
       "golive_Is_month_start                                    True\n",
       "golive_Is_quarter_end                                   False\n",
       "golive_Is_quarter_start                                  True\n",
       "golive_Is_year_end                                      False\n",
       "golive_Is_year_start                                     True\n",
       "golive_Elapsed                                              0\n",
       "days_active_was_nan                                         1\n",
       "golive_days_was_nan                                         1\n",
       "cases_total_was_nan                                         1\n",
       "cases_open_was_nan                                          1\n",
       "cases_closed_was_nan                                        1\n",
       "cases_age_hours_total_was_nan                               1\n",
       "cases_age_hours_average_was_nan                             1\n",
       "annual_revenue_was_nan                                      1\n",
       "interactions_total_was_nan                                  1\n",
       "interactions_completed_was_nan                              1\n",
       "interactions_no_response_was_nan                            1\n",
       "interactions_no_onboarding_was_nan                          1\n",
       "interactions_completed_training_was_nan                     1\n",
       "churn_concern_cases_total_was_nan                           1\n",
       "churn_concern_cases_open_was_nan                            1\n",
       "churn_concern_cases_avg_hours_was_nan                       1\n",
       "churned_was_nan                                             1\n",
       "cases_totalwas_nan_was_nan                                  1\n",
       "cases_openwas_nan_was_nan                                   1\n",
       "cases_closedwas_nan_was_nan                                 1\n",
       "cases_age_hours_totalwas_nan_was_nan                        1\n",
       "cases_age_hours_averagewas_nan_was_nan                      1\n",
       "last_login_dayswas_nan_was_nan                              1\n",
       "annual_revenue_was_missing_was_nan                          1\n",
       "days_active_modified_was_nan                                1\n",
       "licence_registration_Year_was_nan                           1\n",
       "licence_registration_Month_was_nan                          1\n",
       "licence_registration_Week_was_nan                           1\n",
       "licence_registration_Day_was_nan                            1\n",
       "licence_registration_Dayofweek_was_nan                      1\n",
       "licence_registration_Dayofyear_was_nan                      1\n",
       "licence_registration_Elapsed_was_nan                        1\n",
       "golive_Year_was_nan                                         1\n",
       "golive_Month_was_nan                                        1\n",
       "golive_Week_was_nan                                         1\n",
       "golive_Day_was_nan                                          1\n",
       "golive_Dayofweek_was_nan                                    1\n",
       "golive_Dayofyear_was_nan                                    1\n",
       "golive_Elapsed_was_nan                                      1\n",
       "Name: 5236, dtype: object"
      ]
     },
     "metadata": {},
     "output_type": "display_data"
    }
   ],
   "source": [
    "utils.display_all(df_sorted.iloc[1])"
   ]
  },
  {
   "cell_type": "code",
   "execution_count": 87,
   "metadata": {},
   "outputs": [
    {
     "ename": "KeyError",
     "evalue": "\"['prediction' 'probability' 'churned'] not found in axis\"",
     "output_type": "error",
     "traceback": [
      "\u001b[0;31m---------------------------------------------------------------------------\u001b[0m",
      "\u001b[0;31mKeyError\u001b[0m                                  Traceback (most recent call last)",
      "\u001b[0;32m<ipython-input-87-4eeee6974a55>\u001b[0m in \u001b[0;36m<module>\u001b[0;34m\u001b[0m\n\u001b[1;32m      1\u001b[0m \u001b[0;32mfrom\u001b[0m \u001b[0meli5\u001b[0m \u001b[0;32mimport\u001b[0m \u001b[0mshow_prediction\u001b[0m\u001b[0;34m\u001b[0m\u001b[0;34m\u001b[0m\u001b[0m\n\u001b[0;32m----> 2\u001b[0;31m \u001b[0mdf_sorted\u001b[0m \u001b[0;34m=\u001b[0m \u001b[0mdf_sorted\u001b[0m\u001b[0;34m.\u001b[0m\u001b[0mdrop\u001b[0m\u001b[0;34m(\u001b[0m\u001b[0mcolumns\u001b[0m\u001b[0;34m=\u001b[0m\u001b[0;34m[\u001b[0m\u001b[0;34m'prediction'\u001b[0m\u001b[0;34m,\u001b[0m \u001b[0;34m'probability'\u001b[0m\u001b[0;34m,\u001b[0m \u001b[0;34m'churned'\u001b[0m\u001b[0;34m]\u001b[0m\u001b[0;34m)\u001b[0m\u001b[0;34m\u001b[0m\u001b[0;34m\u001b[0m\u001b[0m\n\u001b[0m\u001b[1;32m      3\u001b[0m \u001b[0mshow_prediction\u001b[0m\u001b[0;34m(\u001b[0m\u001b[0mchurn_model\u001b[0m\u001b[0;34m,\u001b[0m \u001b[0mdf_sorted\u001b[0m\u001b[0;34m.\u001b[0m\u001b[0miloc\u001b[0m\u001b[0;34m[\u001b[0m\u001b[0;36m1\u001b[0m\u001b[0;34m]\u001b[0m\u001b[0;34m,\u001b[0m \u001b[0mfeature_names\u001b[0m\u001b[0;34m=\u001b[0m\u001b[0mlist\u001b[0m\u001b[0;34m(\u001b[0m\u001b[0mdf_data\u001b[0m\u001b[0;34m.\u001b[0m\u001b[0mcolumns\u001b[0m\u001b[0;34m)\u001b[0m\u001b[0;34m,\u001b[0m \u001b[0mshow_feature_values\u001b[0m\u001b[0;34m=\u001b[0m\u001b[0;32mTrue\u001b[0m\u001b[0;34m)\u001b[0m\u001b[0;34m\u001b[0m\u001b[0;34m\u001b[0m\u001b[0m\n",
      "\u001b[0;32m//anaconda2/envs/fastai-cpu/lib/python3.6/site-packages/pandas/core/frame.py\u001b[0m in \u001b[0;36mdrop\u001b[0;34m(self, labels, axis, index, columns, level, inplace, errors)\u001b[0m\n\u001b[1;32m   4100\u001b[0m             \u001b[0mlevel\u001b[0m\u001b[0;34m=\u001b[0m\u001b[0mlevel\u001b[0m\u001b[0;34m,\u001b[0m\u001b[0;34m\u001b[0m\u001b[0;34m\u001b[0m\u001b[0m\n\u001b[1;32m   4101\u001b[0m             \u001b[0minplace\u001b[0m\u001b[0;34m=\u001b[0m\u001b[0minplace\u001b[0m\u001b[0;34m,\u001b[0m\u001b[0;34m\u001b[0m\u001b[0;34m\u001b[0m\u001b[0m\n\u001b[0;32m-> 4102\u001b[0;31m             \u001b[0merrors\u001b[0m\u001b[0;34m=\u001b[0m\u001b[0merrors\u001b[0m\u001b[0;34m,\u001b[0m\u001b[0;34m\u001b[0m\u001b[0;34m\u001b[0m\u001b[0m\n\u001b[0m\u001b[1;32m   4103\u001b[0m         )\n\u001b[1;32m   4104\u001b[0m \u001b[0;34m\u001b[0m\u001b[0m\n",
      "\u001b[0;32m//anaconda2/envs/fastai-cpu/lib/python3.6/site-packages/pandas/core/generic.py\u001b[0m in \u001b[0;36mdrop\u001b[0;34m(self, labels, axis, index, columns, level, inplace, errors)\u001b[0m\n\u001b[1;32m   3912\u001b[0m         \u001b[0;32mfor\u001b[0m \u001b[0maxis\u001b[0m\u001b[0;34m,\u001b[0m \u001b[0mlabels\u001b[0m \u001b[0;32min\u001b[0m \u001b[0maxes\u001b[0m\u001b[0;34m.\u001b[0m\u001b[0mitems\u001b[0m\u001b[0;34m(\u001b[0m\u001b[0;34m)\u001b[0m\u001b[0;34m:\u001b[0m\u001b[0;34m\u001b[0m\u001b[0;34m\u001b[0m\u001b[0m\n\u001b[1;32m   3913\u001b[0m             \u001b[0;32mif\u001b[0m \u001b[0mlabels\u001b[0m \u001b[0;32mis\u001b[0m \u001b[0;32mnot\u001b[0m \u001b[0;32mNone\u001b[0m\u001b[0;34m:\u001b[0m\u001b[0;34m\u001b[0m\u001b[0;34m\u001b[0m\u001b[0m\n\u001b[0;32m-> 3914\u001b[0;31m                 \u001b[0mobj\u001b[0m \u001b[0;34m=\u001b[0m \u001b[0mobj\u001b[0m\u001b[0;34m.\u001b[0m\u001b[0m_drop_axis\u001b[0m\u001b[0;34m(\u001b[0m\u001b[0mlabels\u001b[0m\u001b[0;34m,\u001b[0m \u001b[0maxis\u001b[0m\u001b[0;34m,\u001b[0m \u001b[0mlevel\u001b[0m\u001b[0;34m=\u001b[0m\u001b[0mlevel\u001b[0m\u001b[0;34m,\u001b[0m \u001b[0merrors\u001b[0m\u001b[0;34m=\u001b[0m\u001b[0merrors\u001b[0m\u001b[0;34m)\u001b[0m\u001b[0;34m\u001b[0m\u001b[0;34m\u001b[0m\u001b[0m\n\u001b[0m\u001b[1;32m   3915\u001b[0m \u001b[0;34m\u001b[0m\u001b[0m\n\u001b[1;32m   3916\u001b[0m         \u001b[0;32mif\u001b[0m \u001b[0minplace\u001b[0m\u001b[0;34m:\u001b[0m\u001b[0;34m\u001b[0m\u001b[0;34m\u001b[0m\u001b[0m\n",
      "\u001b[0;32m//anaconda2/envs/fastai-cpu/lib/python3.6/site-packages/pandas/core/generic.py\u001b[0m in \u001b[0;36m_drop_axis\u001b[0;34m(self, labels, axis, level, errors)\u001b[0m\n\u001b[1;32m   3944\u001b[0m                 \u001b[0mnew_axis\u001b[0m \u001b[0;34m=\u001b[0m \u001b[0maxis\u001b[0m\u001b[0;34m.\u001b[0m\u001b[0mdrop\u001b[0m\u001b[0;34m(\u001b[0m\u001b[0mlabels\u001b[0m\u001b[0;34m,\u001b[0m \u001b[0mlevel\u001b[0m\u001b[0;34m=\u001b[0m\u001b[0mlevel\u001b[0m\u001b[0;34m,\u001b[0m \u001b[0merrors\u001b[0m\u001b[0;34m=\u001b[0m\u001b[0merrors\u001b[0m\u001b[0;34m)\u001b[0m\u001b[0;34m\u001b[0m\u001b[0;34m\u001b[0m\u001b[0m\n\u001b[1;32m   3945\u001b[0m             \u001b[0;32melse\u001b[0m\u001b[0;34m:\u001b[0m\u001b[0;34m\u001b[0m\u001b[0;34m\u001b[0m\u001b[0m\n\u001b[0;32m-> 3946\u001b[0;31m                 \u001b[0mnew_axis\u001b[0m \u001b[0;34m=\u001b[0m \u001b[0maxis\u001b[0m\u001b[0;34m.\u001b[0m\u001b[0mdrop\u001b[0m\u001b[0;34m(\u001b[0m\u001b[0mlabels\u001b[0m\u001b[0;34m,\u001b[0m \u001b[0merrors\u001b[0m\u001b[0;34m=\u001b[0m\u001b[0merrors\u001b[0m\u001b[0;34m)\u001b[0m\u001b[0;34m\u001b[0m\u001b[0;34m\u001b[0m\u001b[0m\n\u001b[0m\u001b[1;32m   3947\u001b[0m             \u001b[0mresult\u001b[0m \u001b[0;34m=\u001b[0m \u001b[0mself\u001b[0m\u001b[0;34m.\u001b[0m\u001b[0mreindex\u001b[0m\u001b[0;34m(\u001b[0m\u001b[0;34m**\u001b[0m\u001b[0;34m{\u001b[0m\u001b[0maxis_name\u001b[0m\u001b[0;34m:\u001b[0m \u001b[0mnew_axis\u001b[0m\u001b[0;34m}\u001b[0m\u001b[0;34m)\u001b[0m\u001b[0;34m\u001b[0m\u001b[0;34m\u001b[0m\u001b[0m\n\u001b[1;32m   3948\u001b[0m \u001b[0;34m\u001b[0m\u001b[0m\n",
      "\u001b[0;32m//anaconda2/envs/fastai-cpu/lib/python3.6/site-packages/pandas/core/indexes/base.py\u001b[0m in \u001b[0;36mdrop\u001b[0;34m(self, labels, errors)\u001b[0m\n\u001b[1;32m   5338\u001b[0m         \u001b[0;32mif\u001b[0m \u001b[0mmask\u001b[0m\u001b[0;34m.\u001b[0m\u001b[0many\u001b[0m\u001b[0;34m(\u001b[0m\u001b[0;34m)\u001b[0m\u001b[0;34m:\u001b[0m\u001b[0;34m\u001b[0m\u001b[0;34m\u001b[0m\u001b[0m\n\u001b[1;32m   5339\u001b[0m             \u001b[0;32mif\u001b[0m \u001b[0merrors\u001b[0m \u001b[0;34m!=\u001b[0m \u001b[0;34m\"ignore\"\u001b[0m\u001b[0;34m:\u001b[0m\u001b[0;34m\u001b[0m\u001b[0;34m\u001b[0m\u001b[0m\n\u001b[0;32m-> 5340\u001b[0;31m                 \u001b[0;32mraise\u001b[0m \u001b[0mKeyError\u001b[0m\u001b[0;34m(\u001b[0m\u001b[0;34m\"{} not found in axis\"\u001b[0m\u001b[0;34m.\u001b[0m\u001b[0mformat\u001b[0m\u001b[0;34m(\u001b[0m\u001b[0mlabels\u001b[0m\u001b[0;34m[\u001b[0m\u001b[0mmask\u001b[0m\u001b[0;34m]\u001b[0m\u001b[0;34m)\u001b[0m\u001b[0;34m)\u001b[0m\u001b[0;34m\u001b[0m\u001b[0;34m\u001b[0m\u001b[0m\n\u001b[0m\u001b[1;32m   5341\u001b[0m             \u001b[0mindexer\u001b[0m \u001b[0;34m=\u001b[0m \u001b[0mindexer\u001b[0m\u001b[0;34m[\u001b[0m\u001b[0;34m~\u001b[0m\u001b[0mmask\u001b[0m\u001b[0;34m]\u001b[0m\u001b[0;34m\u001b[0m\u001b[0;34m\u001b[0m\u001b[0m\n\u001b[1;32m   5342\u001b[0m         \u001b[0;32mreturn\u001b[0m \u001b[0mself\u001b[0m\u001b[0;34m.\u001b[0m\u001b[0mdelete\u001b[0m\u001b[0;34m(\u001b[0m\u001b[0mindexer\u001b[0m\u001b[0;34m)\u001b[0m\u001b[0;34m\u001b[0m\u001b[0;34m\u001b[0m\u001b[0m\n",
      "\u001b[0;31mKeyError\u001b[0m: \"['prediction' 'probability' 'churned'] not found in axis\""
     ]
    }
   ],
   "source": [
    "from eli5 import show_prediction\n",
    "df_sorted = df_sorted.drop(columns=['prediction', 'probability', 'churned'])\n",
    "show_prediction(churn_model, df_sorted.iloc[1], feature_names=list(df_data.columns), show_feature_values=True)"
   ]
  },
  {
   "cell_type": "code",
   "execution_count": 115,
   "metadata": {},
   "outputs": [
    {
     "data": {
      "image/png": "[encoded data removed]",
      "text/plain": [
       "<Figure size 720x720 with 1 Axes>"
      ]
     },
     "metadata": {
      "needs_background": "light"
     },
     "output_type": "display_data"
    }
   ],
   "source": [
    "import matplotlib.pyplot as plt\n",
    "\n",
    "feature='days_active'\n",
    "\n",
    "plt.figure(figsize=(10,10))\n",
    "plt.scatter(df_sorted[feature], df_sorted['probability'],\n",
    "            c='b', marker='.', label=feature,\n",
    "            s=500, alpha=.5)\n",
    "\n",
    "plt.legend(loc='upper left')\n",
    "plt.xlabel(feature)\n",
    "plt.ylabel(\"probability\")\n",
    "\n",
    "plt.show()"
   ]
  },
  {
   "cell_type": "code",
   "execution_count": 17,
   "metadata": {},
   "outputs": [
    {
     "name": "stdout",
     "output_type": "stream",
     "text": [
      "0    136\n",
      "1    208\n",
      "dtype: int64\n"
     ]
    }
   ],
   "source": [
    "print(df_sorted[feature].mode())"
   ]
  },
  {
   "cell_type": "code",
   "execution_count": 18,
   "metadata": {},
   "outputs": [
    {
     "name": "stdout",
     "output_type": "stream",
     "text": [
      "days_active\n",
      "\n",
      "Min: 52\n",
      "Max: 1705\n",
      "Mean: 457.95454545454544\n",
      "Trimmed Mean: 381.30555555555554\n",
      "Median: 252.0\n",
      "Mode: 0    136\n",
      "1    208\n",
      "dtype: int64\n",
      "Std: 460.1027162642512\n",
      "CV: 1.0046907948202013\n"
     ]
    }
   ],
   "source": [
    "def general_stats(df, feature):\n",
    "    array = utils.data_summary_feature(df, feature)\n",
    "    print(array[0])\n",
    "    print(\"\")\n",
    "    count = 1\n",
    "    for heading in ['Min', 'Max', 'Mean', 'Trimmed Mean', 'Median', 'Mode', 'Std', 'CV']:\n",
    "        print(f\"{heading}: {array[count]}\")\n",
    "        count += 1\n",
    "        \n",
    "general_stats(df_sorted,feature)"
   ]
  },
  {
   "cell_type": "code",
   "execution_count": null,
   "metadata": {},
   "outputs": [],
   "source": []
  }
 ],
 "metadata": {
  "_draft": {
   "nbviewer_url": "https://gist.github.com/1292bacee4b6c087ed3ec76def23c344"
  },
  "gist": {
   "data": {
    "description": "courses/ml1/churn.ipynb",
    "public": false
   },
   "id": "1292bacee4b6c087ed3ec76def23c344"
  },
  "kernelspec": {
   "display_name": "Python 3",
   "language": "python",
   "name": "python3"
  },
  "language_info": {
   "codemirror_mode": {
    "name": "ipython",
    "version": 3
   },
   "file_extension": ".py",
   "mimetype": "text/x-python",
   "name": "python",
   "nbconvert_exporter": "python",
   "pygments_lexer": "ipython3",
   "version": "3.6.9"
  }
 },
 "nbformat": 4,
 "nbformat_minor": 2
}
