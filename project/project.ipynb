{
 "cells": [
  {
   "cell_type": "code",
   "execution_count": 235,
   "metadata": {},
   "outputs": [
    {
     "name": "stdout",
     "output_type": "stream",
     "text": [
      "The autoreload extension is already loaded. To reload it, use:\n",
      "  %reload_ext autoreload\n"
     ]
    }
   ],
   "source": [
    "# Imports\n",
    "\n",
    "%load_ext autoreload\n",
    "%autoreload 2\n",
    "\n",
    "%matplotlib inline\n",
    "\n",
    "from fastai.imports import *\n",
    "from fastai.structured import *\n",
    "from pandas_summary import DataFrameSummary\n",
    "from sklearn.ensemble import RandomForestRegressor, RandomForestClassifier\n",
    "from IPython.display import display\n",
    "from sklearn import metrics\n",
    "\n",
    "set_plot_sizes(12,14,16)"
   ]
  },
  {
   "cell_type": "code",
   "execution_count": 236,
   "metadata": {},
   "outputs": [],
   "source": [
    "# Load in data\n",
    "\n",
    "PATH = \"../../data/\"\n",
    "df_raw = pd.read_csv(f'{PATH}churn.csv', low_memory=False, \n",
    "                     parse_dates=[\"canceldate\", \"licence_registration_date\", \"golive_date\"])\n",
    "\n",
    "def display_all(df):\n",
    "    with pd.option_context(\"display.max_rows\", 1000, \"display.max_columns\", 1000): \n",
    "        display(df)\n",
    "\n",
    "# Convert annual_revenue from a string to a float\n",
    "\n",
    "df_raw['annual_revenue'] = pd.to_numeric(df_raw['annual_revenue'].str.replace(',', ''))\n",
    "df_raw['churn_concern'] = df_raw['churn_concern'].fillna(0).astype(int)"
   ]
  },
  {
   "cell_type": "code",
   "execution_count": 237,
   "metadata": {},
   "outputs": [
    {
     "data": {
      "text/plain": [
       "0          NaN\n",
       "1       Active\n",
       "2       Active\n",
       "3       Active\n",
       "4       Active\n",
       "         ...  \n",
       "5884    Active\n",
       "5885    Active\n",
       "5886    Active\n",
       "5887    Active\n",
       "5888    Active\n",
       "Name: account_status, Length: 5889, dtype: object"
      ]
     },
     "execution_count": 237,
     "metadata": {},
     "output_type": "execute_result"
    }
   ],
   "source": [
    "df_raw.account_status"
   ]
  },
  {
   "cell_type": "code",
   "execution_count": 238,
   "metadata": {},
   "outputs": [],
   "source": [
    "# Converted all cases fields to INT and setting any NaNs to the mean of that type\n",
    "case_types = ['cases_total','cases_open','cases_closed','cases_age_hours']\n",
    "\n",
    "for case_type in case_types:\n",
    "    df_raw[case_type] = df_raw[case_type].fillna(df_raw[case_type].mean()).astype(int)"
   ]
  },
  {
   "cell_type": "code",
   "execution_count": 239,
   "metadata": {},
   "outputs": [],
   "source": [
    "#df_raw.loc[df_raw.plan=='PLAN-S-19Q1', 'annual_revenue'].fillna(round(df_raw.annual_revenue[df_raw.plan == 'PLAN-S-19Q1'].mean(), 2))"
   ]
  },
  {
   "cell_type": "code",
   "execution_count": 240,
   "metadata": {},
   "outputs": [],
   "source": [
    "plan_list = df_raw.plan[~pd.isnull(df_raw.plan)].unique()\n",
    "\n",
    "for plan in plan_list:\n",
    "    plan_revenue_mean = round(df_raw.annual_revenue[df_raw.plan == plan].mean(), 2)\n",
    "    \n",
    "    if pd.isnull(plan_revenue_mean):\n",
    "        revenue = 0\n",
    "    else:\n",
    "        revenue = plan_revenue_mean\n",
    "    df_raw.loc[df_raw.plan==plan, 'annual_revenue'] = df_raw.loc[df_raw.plan==plan, 'annual_revenue'].fillna(revenue)"
   ]
  },
  {
   "cell_type": "code",
   "execution_count": 241,
   "metadata": {},
   "outputs": [
    {
     "name": "stdout",
     "output_type": "stream",
     "text": [
      "Data Types:\n",
      "username                                   object\n",
      "merchant                                   object\n",
      "canceldate                         datetime64[ns]\n",
      "licence_registration_date          datetime64[ns]\n",
      "days_active                                 int64\n",
      "account_status                             object\n",
      "customer_account_status                    object\n",
      "nps                                       float64\n",
      "licence_status                             object\n",
      "cancel_reason                              object\n",
      "cancel_details                             object\n",
      "team                                       object\n",
      "vertical                                   object\n",
      "plans                                      object\n",
      "plan                                       object\n",
      "last_login_days                           float64\n",
      "last_login_concern                        float64\n",
      "changing_platform                          object\n",
      "new_platform                               object\n",
      "salesperson                                object\n",
      "golive_date                        datetime64[ns]\n",
      "golive_days                                 int64\n",
      "url                                        object\n",
      "cases_total                                 int64\n",
      "cases_open                                  int64\n",
      "cases_closed                                int64\n",
      "cases_age_hours                             int64\n",
      "annual_revenue                            float64\n",
      "interactions_total                        float64\n",
      "interactions_completed                    float64\n",
      "interactions_no_response                  float64\n",
      "interactions_no_onboarding                float64\n",
      "interactions_completed_training           float64\n",
      "churn_concern_cases_total                 float64\n",
      "churn_concern_cases_open                  float64\n",
      "total_churn_concern_cases_age             float64\n",
      "churned                                     int64\n",
      "churn_concern                               int64\n",
      "dtype: object\n",
      "Rows and Columns:\n",
      "(5889, 38)\n",
      "Column Names:\n",
      "Index(['username', 'merchant', 'canceldate', 'licence_registration_date',\n",
      "       'days_active', 'account_status', 'customer_account_status', 'nps',\n",
      "       'licence_status', 'cancel_reason', 'cancel_details', 'team', 'vertical',\n",
      "       'plans', 'plan', 'last_login_days', 'last_login_concern',\n",
      "       'changing_platform', 'new_platform', 'salesperson', 'golive_date',\n",
      "       'golive_days', 'url', 'cases_total', 'cases_open', 'cases_closed',\n",
      "       'cases_age_hours', 'annual_revenue', 'interactions_total',\n",
      "       'interactions_completed', 'interactions_no_response',\n",
      "       'interactions_no_onboarding', 'interactions_completed_training',\n",
      "       'churn_concern_cases_total', 'churn_concern_cases_open',\n",
      "       'total_churn_concern_cases_age', 'churned', 'churn_concern'],\n",
      "      dtype='object')\n",
      "Null Values:\n",
      "username                           0.000000\n",
      "merchant                           0.000679\n",
      "canceldate                         0.000000\n",
      "licence_registration_date          0.000000\n",
      "days_active                        0.000000\n",
      "account_status                     0.468840\n",
      "customer_account_status            0.469010\n",
      "nps                                0.908983\n",
      "licence_status                     0.000000\n",
      "cancel_reason                      0.471727\n",
      "cancel_details                     0.523179\n",
      "team                               0.000000\n",
      "vertical                           0.000000\n",
      "plans                              0.000849\n",
      "plan                               0.000849\n",
      "last_login_days                    0.470029\n",
      "last_login_concern                 0.468840\n",
      "changing_platform                  0.690779\n",
      "new_platform                       0.874682\n",
      "salesperson                        0.000000\n",
      "golive_date                        0.000000\n",
      "golive_days                        0.000000\n",
      "url                                0.000849\n",
      "cases_total                        0.000000\n",
      "cases_open                         0.000000\n",
      "cases_closed                       0.000000\n",
      "cases_age_hours                    0.000000\n",
      "annual_revenue                     0.000849\n",
      "interactions_total                 0.569027\n",
      "interactions_completed             0.569027\n",
      "interactions_no_response           0.569027\n",
      "interactions_no_onboarding         0.569027\n",
      "interactions_completed_training    0.569027\n",
      "churn_concern_cases_total          0.956020\n",
      "churn_concern_cases_open           0.956020\n",
      "total_churn_concern_cases_age      0.956020\n",
      "churned                            0.000000\n",
      "churn_concern                      0.000000\n",
      "dtype: float64\n"
     ]
    }
   ],
   "source": [
    "import pandas as pd\n",
    "\n",
    "def quick_analysis(df):\n",
    " print(\"Data Types:\")\n",
    " print(df.dtypes)\n",
    " print(\"Rows and Columns:\")\n",
    " print(df.shape)\n",
    " print(\"Column Names:\")\n",
    " print(df.columns)\n",
    " print(\"Null Values:\")\n",
    " print(df.apply(lambda x: sum(x.isnull()) / len(df)))\n",
    "    \n",
    "quick_analysis(df_raw)"
   ]
  },
  {
   "cell_type": "code",
   "execution_count": 242,
   "metadata": {},
   "outputs": [
    {
     "data": {
      "text/plain": [
       "array([[<matplotlib.axes._subplots.AxesSubplot object at 0x1c3e466150>,\n",
       "        <matplotlib.axes._subplots.AxesSubplot object at 0x1c3a5aa7d0>,\n",
       "        <matplotlib.axes._subplots.AxesSubplot object at 0x1c3e51ced0>,\n",
       "        <matplotlib.axes._subplots.AxesSubplot object at 0x1c3cb7f710>],\n",
       "       [<matplotlib.axes._subplots.AxesSubplot object at 0x1c3cbb8f10>,\n",
       "        <matplotlib.axes._subplots.AxesSubplot object at 0x1c3cb3a750>,\n",
       "        <matplotlib.axes._subplots.AxesSubplot object at 0x1c3caecf50>,\n",
       "        <matplotlib.axes._subplots.AxesSubplot object at 0x1c3caad750>],\n",
       "       [<matplotlib.axes._subplots.AxesSubplot object at 0x1c3cab72d0>,\n",
       "        <matplotlib.axes._subplots.AxesSubplot object at 0x1c3ca6dc50>,\n",
       "        <matplotlib.axes._subplots.AxesSubplot object at 0x1c3c9d6f90>,\n",
       "        <matplotlib.axes._subplots.AxesSubplot object at 0x1c3c9987d0>],\n",
       "       [<matplotlib.axes._subplots.AxesSubplot object at 0x1c3cb4afd0>,\n",
       "        <matplotlib.axes._subplots.AxesSubplot object at 0x1c3c7f6810>,\n",
       "        <matplotlib.axes._subplots.AxesSubplot object at 0x1c3c7aaf90>,\n",
       "        <matplotlib.axes._subplots.AxesSubplot object at 0x1c3c508850>],\n",
       "       [<matplotlib.axes._subplots.AxesSubplot object at 0x1c3c4c6bd0>,\n",
       "        <matplotlib.axes._subplots.AxesSubplot object at 0x1c3c4fe890>,\n",
       "        <matplotlib.axes._subplots.AxesSubplot object at 0x1c3c4bcc10>,\n",
       "        <matplotlib.axes._subplots.AxesSubplot object at 0x1c3c96c8d0>]], dtype=object)"
      ]
     },
     "execution_count": 242,
     "metadata": {},
     "output_type": "execute_result"
    },
    {
     "data": {
      "image/png": "[encoded data removed]",
      "text/plain": [
       "<Figure size 1080x1080 with 20 Axes>"
      ]
     },
     "metadata": {
      "needs_background": "light"
     },
     "output_type": "display_data"
    }
   ],
   "source": [
    "import matplotlib.pyplot as plt\n",
    "df_raw[df_raw.dtypes[(df_raw.dtypes==\"float64\")|(df_raw.dtypes==\"int64\")]\n",
    "                        .index.values].hist(figsize=[15,15])"
   ]
  },
  {
   "cell_type": "code",
   "execution_count": 243,
   "metadata": {},
   "outputs": [
    {
     "data": {
      "text/plain": [
       "Index(['username', 'merchant', 'canceldate', 'licence_registration_date',\n",
       "       'days_active', 'account_status', 'customer_account_status', 'nps',\n",
       "       'licence_status', 'cancel_reason', 'cancel_details', 'team', 'vertical',\n",
       "       'plans', 'plan', 'last_login_days', 'last_login_concern',\n",
       "       'changing_platform', 'new_platform', 'salesperson', 'golive_date',\n",
       "       'golive_days', 'url', 'cases_total', 'cases_open', 'cases_closed',\n",
       "       'cases_age_hours', 'annual_revenue', 'interactions_total',\n",
       "       'interactions_completed', 'interactions_no_response',\n",
       "       'interactions_no_onboarding', 'interactions_completed_training',\n",
       "       'churn_concern_cases_total', 'churn_concern_cases_open',\n",
       "       'total_churn_concern_cases_age', 'churned', 'churn_concern'],\n",
       "      dtype='object')"
      ]
     },
     "execution_count": 243,
     "metadata": {},
     "output_type": "execute_result"
    }
   ],
   "source": [
    "#print (df_raw.columns.tolist())\n",
    "df_raw.columns"
   ]
  },
  {
   "cell_type": "code",
   "execution_count": 244,
   "metadata": {
    "scrolled": true
   },
   "outputs": [
    {
     "name": "stdout",
     "output_type": "stream",
     "text": [
      "account_status\n",
      "customer_account_status\n"
     ]
    }
   ],
   "source": [
    "# A more standard way to one-hot encoding\n",
    "\n",
    "dummy_columns = ['account_status', 'customer_account_status']\n",
    "\n",
    "for dummy_column in dummy_columns:\n",
    "    print(dummy_column)\n",
    "    dummy = pd.get_dummies(df_raw[dummy_column], prefix=dummy_column)\n",
    "    df_raw = pd.concat([df_raw,dummy], axis=1)\n",
    "    df_raw = df_raw.drop(columns=dummy_column)"
   ]
  },
  {
   "cell_type": "code",
   "execution_count": 245,
   "metadata": {},
   "outputs": [
    {
     "data": {
      "text/plain": [
       "Index(['username', 'merchant', 'canceldate', 'licence_registration_date',\n",
       "       'days_active', 'nps', 'licence_status', 'cancel_reason',\n",
       "       'cancel_details', 'team', 'vertical', 'plans', 'plan',\n",
       "       'last_login_days', 'last_login_concern', 'changing_platform',\n",
       "       'new_platform', 'salesperson', 'golive_date', 'golive_days', 'url',\n",
       "       'cases_total', 'cases_open', 'cases_closed', 'cases_age_hours',\n",
       "       'annual_revenue', 'interactions_total', 'interactions_completed',\n",
       "       'interactions_no_response', 'interactions_no_onboarding',\n",
       "       'interactions_completed_training', 'churn_concern_cases_total',\n",
       "       'churn_concern_cases_open', 'total_churn_concern_cases_age', 'churned',\n",
       "       'churn_concern', 'account_status_Active', 'account_status_Cancelled',\n",
       "       'account_status_Draft', 'account_status_Hold',\n",
       "       'account_status_Suspended', 'customer_account_status_Good',\n",
       "       'customer_account_status_PoorStanding'],\n",
       "      dtype='object')"
      ]
     },
     "execution_count": 245,
     "metadata": {},
     "output_type": "execute_result"
    }
   ],
   "source": [
    "df_raw.columns"
   ]
  },
  {
   "cell_type": "code",
   "execution_count": 246,
   "metadata": {},
   "outputs": [
    {
     "data": {
      "text/plain": [
       "few_days     174\n",
       "month        143\n",
       "week         125\n",
       "fortnight    114\n",
       "day           80\n",
       "Name: last_login_categories, dtype: int64"
      ]
     },
     "execution_count": 246,
     "metadata": {},
     "output_type": "execute_result"
    }
   ],
   "source": [
    "# 'binning' - grouping continous data into 'bins'\n",
    "\n",
    "bins = [1, 3, 7, 14, 30, 60]\n",
    "group_names = ['day', 'few_days', 'week', 'fortnight', 'month']\n",
    "\n",
    "last_login_categories = pd.cut(df_raw['last_login_days'], bins, labels=group_names)\n",
    "df_raw['last_login_categories'] = pd.cut(df_raw['last_login_days'], bins, labels=group_names)\n",
    "last_login_categories\n",
    "pd.value_counts(df_raw['last_login_categories'])"
   ]
  },
  {
   "cell_type": "code",
   "execution_count": 247,
   "metadata": {},
   "outputs": [
    {
     "data": {
      "text/plain": [
       "Index(['username', 'merchant', 'canceldate', 'licence_registration_date',\n",
       "       'days_active', 'nps', 'licence_status', 'cancel_reason',\n",
       "       'cancel_details', 'team', 'vertical', 'plans', 'plan',\n",
       "       'last_login_days', 'last_login_concern', 'changing_platform',\n",
       "       'new_platform', 'salesperson', 'golive_date', 'golive_days', 'url',\n",
       "       'cases_total', 'cases_open', 'cases_closed', 'cases_age_hours',\n",
       "       'annual_revenue', 'interactions_total', 'interactions_completed',\n",
       "       'interactions_no_response', 'interactions_no_onboarding',\n",
       "       'interactions_completed_training', 'churn_concern_cases_total',\n",
       "       'churn_concern_cases_open', 'total_churn_concern_cases_age', 'churned',\n",
       "       'churn_concern', 'account_status_Active', 'account_status_Cancelled',\n",
       "       'account_status_Draft', 'account_status_Hold',\n",
       "       'account_status_Suspended', 'customer_account_status_Good',\n",
       "       'customer_account_status_PoorStanding', 'last_login_categories'],\n",
       "      dtype='object')"
      ]
     },
     "execution_count": 247,
     "metadata": {},
     "output_type": "execute_result"
    }
   ],
   "source": [
    "df_raw.columns"
   ]
  },
  {
   "cell_type": "code",
   "execution_count": 248,
   "metadata": {},
   "outputs": [],
   "source": [
    "# These steps can only be run once then you need to comment them out\n",
    "\n",
    "#add_datepart(df_raw, 'canceldate')\n",
    "add_datepart(df_raw, 'licence_registration_date')\n",
    "add_datepart(df_raw, 'golive_date')"
   ]
  },
  {
   "cell_type": "code",
   "execution_count": 249,
   "metadata": {},
   "outputs": [],
   "source": [
    "# Drop columns\n",
    "\n",
    "df_raw = df_raw.drop(columns=['account_status_Draft', 'account_status_Active', 'account_status_Cancelled', 'changing_platform', 'new_platform', 'licence_status', 'canceldate', 'cancel_details', 'cancel_reason', 'churned'])"
   ]
  },
  {
   "cell_type": "code",
   "execution_count": 250,
   "metadata": {},
   "outputs": [
    {
     "data": {
      "text/plain": [
       "(3109, 2780, 5889)"
      ]
     },
     "execution_count": 250,
     "metadata": {},
     "output_type": "execute_result"
    }
   ],
   "source": [
    "len(df_raw[df_raw.churn_concern==1]), len(df_raw[df_raw.churn_concern==0]), len(df_raw)"
   ]
  },
  {
   "cell_type": "code",
   "execution_count": 251,
   "metadata": {},
   "outputs": [],
   "source": [
    "# this code was an attempt to do over sampling\n",
    "\n",
    "#df_copy = df_raw.copy()\n",
    "#df_copy.append([df_raw[df_raw.churn_concern==1]]*100,ignore_index=True)\n",
    "#df_copy.append([df_raw[df_raw.churn_concern==0]]*100,ignore_index=True)\n",
    "#len(df_copy[df_copy.churn_concern==1]), len(df_copy[df_copy.churn_concern==0]), len(df_copy)"
   ]
  },
  {
   "cell_type": "code",
   "execution_count": 252,
   "metadata": {},
   "outputs": [],
   "source": [
    "# Set default values for NaN values\n",
    "\n",
    "df_raw.nps = df_raw.nps.fillna(np.nanmean(df_raw.nps))\n",
    "df_raw.last_login_days = df_raw.last_login_days.fillna(np.mean(df_raw.last_login_days))\n",
    "df_raw.churn_concern = df_raw.churn_concern.fillna(0)"
   ]
  },
  {
   "cell_type": "code",
   "execution_count": 253,
   "metadata": {},
   "outputs": [],
   "source": [
    "# Complete the transformation of all data into numbers using proc_df and create training dataframes\n",
    "train_cats(df_raw)\n",
    "df_trn, y_trn, nas = proc_df(df_raw, 'churn_concern', max_n_cat=7)"
   ]
  },
  {
   "cell_type": "code",
   "execution_count": 254,
   "metadata": {},
   "outputs": [],
   "source": [
    "def split_vals(a,n): return a[:n], a[n:]\n",
    "n_valid = 500\n",
    "n_trn = len(df_trn)-n_valid\n",
    "X_train, X_valid = split_vals(df_trn, n_trn)"
   ]
  },
  {
   "cell_type": "code",
   "execution_count": 256,
   "metadata": {},
   "outputs": [
    {
     "data": {
      "text/plain": [
       "(500, 72, 5389, 72)"
      ]
     },
     "execution_count": 256,
     "metadata": {},
     "output_type": "execute_result"
    }
   ],
   "source": [
    "len(X_valid), len(X_valid.columns), len(X_train), len(X_train.columns)"
   ]
  },
  {
   "cell_type": "code",
   "execution_count": 257,
   "metadata": {},
   "outputs": [
    {
     "data": {
      "text/plain": [
       "(500, 5389)"
      ]
     },
     "execution_count": 257,
     "metadata": {},
     "output_type": "execute_result"
    }
   ],
   "source": [
    "y_train, y_valid = split_vals(y_trn, n_trn)\n",
    "#raw_train, raw_valid = split_vals(df_raw, n_trn)\n",
    "len(y_valid), len(y_train)"
   ]
  },
  {
   "cell_type": "code",
   "execution_count": 258,
   "metadata": {},
   "outputs": [
    {
     "data": {
      "text/plain": [
       "RandomForestClassifier(bootstrap=True, class_weight=None, criterion='gini',\n",
       "                       max_depth=5, max_features=0.5, max_leaf_nodes=None,\n",
       "                       min_impurity_decrease=0.0, min_impurity_split=None,\n",
       "                       min_samples_leaf=1, min_samples_split=2,\n",
       "                       min_weight_fraction_leaf=0.0, n_estimators=400,\n",
       "                       n_jobs=-1, oob_score=True, random_state=None, verbose=0,\n",
       "                       warm_start=False)"
      ]
     },
     "execution_count": 258,
     "metadata": {},
     "output_type": "execute_result"
    }
   ],
   "source": [
    "m = RandomForestClassifier(n_estimators=400, min_samples_leaf=1, max_features=0.5, n_jobs=-1, oob_score=True, max_depth=5)\n",
    "m.fit(X_train, y_train)"
   ]
  },
  {
   "cell_type": "code",
   "execution_count": 259,
   "metadata": {},
   "outputs": [],
   "source": [
    "validate_predictions = m.predict(X_valid)"
   ]
  },
  {
   "cell_type": "code",
   "execution_count": 260,
   "metadata": {},
   "outputs": [
    {
     "data": {
      "text/plain": [
       "array([1, 0, 0, 0, 0, 1, 1, 0, 1, 1, 0, 0, 0, 1, 1, 0, 1, 0, 0, 0, 0, 1, 1, 0, 0, 0, 0, 0, 0, 0, 0, 0, 0, 0,\n",
       "       0, 0, 0, 0, 0, 0, 0, 1, 1, 0, 0, 1, 1, 0, 0, 0, 1, 0, 0, 0, 0, 0, 1, 0, 1, 0, 1, 1, 0, 0, 1, 0, 1, 0,\n",
       "       0, 0, 0, 0, 0, 1, 1, 0, 0, 1, 0, 0, 0, 0, 0, 1, 0, 1, 1, 0, 0, 0, 1, 1, 1, 0, 1, 0, 1, 0, 0, 1, 0, 0,\n",
       "       0, 0, 1, 1, 1, 1, 0, 0, 0, 1, 0, 0, 0, 1, 0, 1, 0, 1, 0, 0, 0, 0, 0, 0, 1, 0, 0, 1, 0, 1, 0, 0, 0, 1,\n",
       "       0, 1, 0, 1, 0, 0, 0, 0, 0, 1, 0, 0, 0, 0, 0, 0, 0, 1, 0, 0, 0, 1, 0, 0, 0, 0, 1, 1, 1, 0, 0, 1, 0, 0,\n",
       "       1, 0, 0, 0, 1, 0, 0, 0, 0, 0, 0, 0, 0, 1, 0, 1, 1, 0, 0, 0, 0, 0, 0, 1, 1, 0, 1, 0, 0, 1, 0, 1, 0, 0,\n",
       "       0, 0, 0, 0, 1, 0, 0, 0, 0, 0, 0, 0, 1, 0, 1, 0, 0, 0, 0, 0, 0, 0, 0, 0, 0, 0, 0, 0, 0, 0, 0, 0, 0, 0,\n",
       "       0, 0, 0, 0, 0, 0, 0, 0, 0, 1, 0, 0, 1, 1, 1, 0, 0, 1, 0, 0, 0, 0, 1, 0, 1, 1, 0, 0, 0, 0, 0, 1, 0, 0,\n",
       "       0, 0, 0, 0, 0, 0, 0, 0, 0, 0, 1, 1, 0, 0, 0, 0, 1, 0, 0, 0, 0, 0, 0, 0, 0, 0, 0, 0, 0, 0, 0, 0, 0, 0,\n",
       "       0, 0, 0, 0, 0, 0, 0, 0, 0, 1, 0, 0, 0, 0, 0, 0, 0, 0, 0, 0, 1, 0, 0, 0, 0, 0, 0, 0, 0, 0, 0, 0, 0, 0,\n",
       "       0, 0, 0, 0, 0, 0, 0, 0, 1, 0, 0, 0, 0, 0, 0, 0, 1, 0, 0, 0, 0, 1, 1, 0, 0, 1, 0, 0, 0, 0, 1, 0, 0, 0,\n",
       "       0, 0, 0, 0, 0, 0, 0, 0, 0, 0, 0, 0, 0, 0, 0, 0, 0, 0, 0, 0, 0, 0, 0, 1, 0, 0, 1, 0, 0, 0, 0, 0, 0, 0,\n",
       "       0, 0, 0, 0, 0, 0, 0, 0, 0, 0, 0, 0, 0, 0, 0, 0, 0, 0, 0, 0, 0, 1, 0, 0, 0, 0, 0, 0, 0, 0, 0, 1, 0, 0,\n",
       "       0, 0, 0, 0, 0, 0, 0, 0, 0, 0, 0, 0, 0, 0, 0, 0, 0, 0, 0, 0, 0, 0, 0, 0, 0, 0, 0, 0, 0, 0, 0, 0, 0, 0,\n",
       "       0, 0, 0, 0, 0, 0, 0, 0, 0, 0, 0, 0, 0, 0, 0, 0, 0, 0, 0, 0, 0, 0, 0, 0])"
      ]
     },
     "execution_count": 260,
     "metadata": {},
     "output_type": "execute_result"
    }
   ],
   "source": [
    "validate_predictions"
   ]
  },
  {
   "cell_type": "code",
   "execution_count": 261,
   "metadata": {},
   "outputs": [],
   "source": [
    "from sklearn.metrics import f1_score, accuracy_score"
   ]
  },
  {
   "cell_type": "code",
   "execution_count": 262,
   "metadata": {},
   "outputs": [
    {
     "data": {
      "text/plain": [
       "0.924"
      ]
     },
     "execution_count": 262,
     "metadata": {},
     "output_type": "execute_result"
    }
   ],
   "source": [
    "accuracy_score(y_valid, validate_predictions)"
   ]
  },
  {
   "cell_type": "code",
   "execution_count": 263,
   "metadata": {},
   "outputs": [
    {
     "data": {
      "text/plain": [
       "0.7790697674418605"
      ]
     },
     "execution_count": 263,
     "metadata": {},
     "output_type": "execute_result"
    }
   ],
   "source": [
    "f1_score(y_valid, validate_predictions)"
   ]
  },
  {
   "cell_type": "code",
   "execution_count": 264,
   "metadata": {},
   "outputs": [
    {
     "data": {
      "image/svg+xml": [
       "<?xml version=\"1.0\" encoding=\"UTF-8\" standalone=\"no\"?>\n",
       "<!DOCTYPE svg PUBLIC \"-//W3C//DTD SVG 1.1//EN\"\n",
       " \"http://www.w3.org/Graphics/SVG/1.1/DTD/svg11.dtd\">\n",
       "<!-- Generated by graphviz version 2.40.1 (20161225.0304)\n",
       " -->\n",
       "<!-- Title: Tree Pages: 1 -->\n",
       "<svg width=\"720pt\" height=\"433pt\"\n",
       " viewBox=\"0.00 0.00 720.00 433.23\" xmlns=\"http://www.w3.org/2000/svg\" xmlns:xlink=\"http://www.w3.org/1999/xlink\">\n",
       "<g id=\"graph0\" class=\"graph\" transform=\"scale(.3942 .3942) rotate(0) translate(4 1095)\">\n",
       "<title>Tree</title>\n",
       "<polygon fill=\"#ffffff\" stroke=\"transparent\" points=\"-4,4 -4,-1095 1822.4616,-1095 1822.4616,4 -4,4\"/>\n",
       "<!-- 0 -->\n",
       "<g id=\"node1\" class=\"node\">\n",
       "<title>0</title>\n",
       "<polygon fill=\"#dbedfa\" stroke=\"#000000\" points=\"176.028,-731 32.8952,-731 32.8952,-667 176.028,-667 176.028,-731\"/>\n",
       "<text text-anchor=\"start\" x=\"40.9284\" y=\"-715.8\" font-family=\"Times,serif\" font-size=\"14.00\" fill=\"#000000\">last_login_days ≤ 25.5</text>\n",
       "<text text-anchor=\"start\" x=\"70.3742\" y=\"-701.8\" font-family=\"Times,serif\" font-size=\"14.00\" fill=\"#000000\">gini = 0.495</text>\n",
       "<text text-anchor=\"start\" x=\"60.4621\" y=\"-687.8\" font-family=\"Times,serif\" font-size=\"14.00\" fill=\"#000000\">samples = 3405</text>\n",
       "<text text-anchor=\"start\" x=\"45.693\" y=\"-673.8\" font-family=\"Times,serif\" font-size=\"14.00\" fill=\"#000000\">value = [2424, 2965]</text>\n",
       "</g>\n",
       "<!-- 1 -->\n",
       "<g id=\"node2\" class=\"node\">\n",
       "<title>1</title>\n",
       "<polygon fill=\"#e58139\" stroke=\"#000000\" points=\"471.0666,-754 305.8566,-754 305.8566,-690 471.0666,-690 471.0666,-754\"/>\n",
       "<text text-anchor=\"start\" x=\"313.6593\" y=\"-738.8\" font-family=\"Times,serif\" font-size=\"14.00\" fill=\"#000000\">account_status_Hold ≤ 0.5</text>\n",
       "<text text-anchor=\"start\" x=\"354.3742\" y=\"-724.8\" font-family=\"Times,serif\" font-size=\"14.00\" fill=\"#000000\">gini = 0.005</text>\n",
       "<text text-anchor=\"start\" x=\"344.4621\" y=\"-710.8\" font-family=\"Times,serif\" font-size=\"14.00\" fill=\"#000000\">samples = 1350</text>\n",
       "<text text-anchor=\"start\" x=\"340.193\" y=\"-696.8\" font-family=\"Times,serif\" font-size=\"14.00\" fill=\"#000000\">value = [2144, 5]</text>\n",
       "</g>\n",
       "<!-- 0&#45;&gt;1 -->\n",
       "<g id=\"edge1\" class=\"edge\">\n",
       "<title>0&#45;&gt;1</title>\n",
       "<path fill=\"none\" stroke=\"#000000\" d=\"M176.1268,-704.8039C212.3289,-707.7357 256.6907,-711.3284 295.487,-714.4704\"/>\n",
       "<polygon fill=\"#000000\" stroke=\"#000000\" points=\"295.4947,-717.9824 305.7446,-715.3011 296.0598,-711.0052 295.4947,-717.9824\"/>\n",
       "<text text-anchor=\"middle\" x=\"286.6977\" y=\"-727.2941\" font-family=\"Times,serif\" font-size=\"14.00\" fill=\"#000000\">True</text>\n",
       "</g>\n",
       "<!-- 14 -->\n",
       "<g id=\"node15\" class=\"node\">\n",
       "<title>14</title>\n",
       "<polygon fill=\"#4ca6e7\" stroke=\"#000000\" points=\"475.8835,-551 301.0397,-551 301.0397,-487 475.8835,-487 475.8835,-551\"/>\n",
       "<text text-anchor=\"start\" x=\"309.0007\" y=\"-535.8\" font-family=\"Times,serif\" font-size=\"14.00\" fill=\"#000000\">last_login_concern_na ≤ 0.5</text>\n",
       "<text text-anchor=\"start\" x=\"354.3742\" y=\"-521.8\" font-family=\"Times,serif\" font-size=\"14.00\" fill=\"#000000\">gini = 0.158</text>\n",
       "<text text-anchor=\"start\" x=\"344.4621\" y=\"-507.8\" font-family=\"Times,serif\" font-size=\"14.00\" fill=\"#000000\">samples = 2055</text>\n",
       "<text text-anchor=\"start\" x=\"333.193\" y=\"-493.8\" font-family=\"Times,serif\" font-size=\"14.00\" fill=\"#000000\">value = [280, 2960]</text>\n",
       "</g>\n",
       "<!-- 0&#45;&gt;14 -->\n",
       "<g id=\"edge14\" class=\"edge\">\n",
       "<title>0&#45;&gt;14</title>\n",
       "<path fill=\"none\" stroke=\"#000000\" d=\"M155.2351,-666.8196C203.9508,-635.9435 277.5081,-589.3227 328.9524,-556.7171\"/>\n",
       "<polygon fill=\"#000000\" stroke=\"#000000\" points=\"331.077,-559.5144 337.6497,-551.2047 327.3296,-553.6019 331.077,-559.5144\"/>\n",
       "<text text-anchor=\"middle\" x=\"313.2549\" y=\"-541.5369\" font-family=\"Times,serif\" font-size=\"14.00\" fill=\"#000000\">False</text>\n",
       "</g>\n",
       "<!-- 2 -->\n",
       "<g id=\"node3\" class=\"node\">\n",
       "<title>2</title>\n",
       "<polygon fill=\"#e58139\" stroke=\"#000000\" points=\"776.028,-919 632.8952,-919 632.8952,-855 776.028,-855 776.028,-919\"/>\n",
       "<text text-anchor=\"start\" x=\"640.9284\" y=\"-903.8\" font-family=\"Times,serif\" font-size=\"14.00\" fill=\"#000000\">last_login_days ≤ 20.5</text>\n",
       "<text text-anchor=\"start\" x=\"670.3742\" y=\"-889.8\" font-family=\"Times,serif\" font-size=\"14.00\" fill=\"#000000\">gini = 0.004</text>\n",
       "<text text-anchor=\"start\" x=\"660.4621\" y=\"-875.8\" font-family=\"Times,serif\" font-size=\"14.00\" fill=\"#000000\">samples = 1349</text>\n",
       "<text text-anchor=\"start\" x=\"656.193\" y=\"-861.8\" font-family=\"Times,serif\" font-size=\"14.00\" fill=\"#000000\">value = [2144, 4]</text>\n",
       "</g>\n",
       "<!-- 1&#45;&gt;2 -->\n",
       "<g id=\"edge2\" class=\"edge\">\n",
       "<title>1&#45;&gt;2</title>\n",
       "<path fill=\"none\" stroke=\"#000000\" d=\"M449.7643,-754.0093C502.5544,-781.5738 578.745,-821.3569 634.0293,-850.2237\"/>\n",
       "<polygon fill=\"#000000\" stroke=\"#000000\" points=\"632.576,-853.4132 643.0604,-854.9392 635.816,-847.2081 632.576,-853.4132\"/>\n",
       "</g>\n",
       "<!-- 13 -->\n",
       "<g id=\"node14\" class=\"node\">\n",
       "<title>13</title>\n",
       "<polygon fill=\"#399de5\" stroke=\"#000000\" points=\"749.9999,-747 658.9233,-747 658.9233,-697 749.9999,-697 749.9999,-747\"/>\n",
       "<text text-anchor=\"start\" x=\"677.3742\" y=\"-731.8\" font-family=\"Times,serif\" font-size=\"14.00\" fill=\"#000000\">gini = 0.0</text>\n",
       "<text text-anchor=\"start\" x=\"670.9621\" y=\"-717.8\" font-family=\"Times,serif\" font-size=\"14.00\" fill=\"#000000\">samples = 1</text>\n",
       "<text text-anchor=\"start\" x=\"666.693\" y=\"-703.8\" font-family=\"Times,serif\" font-size=\"14.00\" fill=\"#000000\">value = [0, 1]</text>\n",
       "</g>\n",
       "<!-- 1&#45;&gt;13 -->\n",
       "<g id=\"edge13\" class=\"edge\">\n",
       "<title>1&#45;&gt;13</title>\n",
       "<path fill=\"none\" stroke=\"#000000\" d=\"M471.0741,-722C526.9007,-722 599.1283,-722 648.3506,-722\"/>\n",
       "<polygon fill=\"#000000\" stroke=\"#000000\" points=\"648.4907,-725.5001 658.4907,-722 648.4907,-718.5001 648.4907,-725.5001\"/>\n",
       "</g>\n",
       "<!-- 3 -->\n",
       "<g id=\"node4\" class=\"node\">\n",
       "<title>3</title>\n",
       "<polygon fill=\"#e58139\" stroke=\"#000000\" points=\"1139.363,-1023 943.5602,-1023 943.5602,-959 1139.363,-959 1139.363,-1023\"/>\n",
       "<text text-anchor=\"start\" x=\"951.5109\" y=\"-1007.8\" font-family=\"Times,serif\" font-size=\"14.00\" fill=\"#000000\">licence_registration_Day ≤ 30.5</text>\n",
       "<text text-anchor=\"start\" x=\"1007.3742\" y=\"-993.8\" font-family=\"Times,serif\" font-size=\"14.00\" fill=\"#000000\">gini = 0.001</text>\n",
       "<text text-anchor=\"start\" x=\"997.4621\" y=\"-979.8\" font-family=\"Times,serif\" font-size=\"14.00\" fill=\"#000000\">samples = 1327</text>\n",
       "<text text-anchor=\"start\" x=\"993.4494\" y=\"-965.8\" font-family=\"Times,serif\" font-size=\"14.00\" fill=\"#000000\">value = [2117, 1]</text>\n",
       "</g>\n",
       "<!-- 2&#45;&gt;3 -->\n",
       "<g id=\"edge3\" class=\"edge\">\n",
       "<title>2&#45;&gt;3</title>\n",
       "<path fill=\"none\" stroke=\"#000000\" d=\"M776.3432,-909.183C822.1071,-923.306 882.2326,-941.8611 933.6539,-957.73\"/>\n",
       "<polygon fill=\"#000000\" stroke=\"#000000\" points=\"932.894,-961.1583 943.4815,-960.7628 934.9582,-954.4695 932.894,-961.1583\"/>\n",
       "</g>\n",
       "<!-- 8 -->\n",
       "<g id=\"node9\" class=\"node\">\n",
       "<title>8</title>\n",
       "<polygon fill=\"#e88f4f\" stroke=\"#000000\" points=\"1143.5661,-919 939.3571,-919 939.3571,-855 1143.5661,-855 1143.5661,-919\"/>\n",
       "<text text-anchor=\"start\" x=\"947.4093\" y=\"-903.8\" font-family=\"Times,serif\" font-size=\"14.00\" fill=\"#000000\">licence_registration_Week ≤ 47.0</text>\n",
       "<text text-anchor=\"start\" x=\"1010.8742\" y=\"-889.8\" font-family=\"Times,serif\" font-size=\"14.00\" fill=\"#000000\">gini = 0.18</text>\n",
       "<text text-anchor=\"start\" x=\"1004.4621\" y=\"-875.8\" font-family=\"Times,serif\" font-size=\"14.00\" fill=\"#000000\">samples = 22</text>\n",
       "<text text-anchor=\"start\" x=\"1000.193\" y=\"-861.8\" font-family=\"Times,serif\" font-size=\"14.00\" fill=\"#000000\">value = [27, 3]</text>\n",
       "</g>\n",
       "<!-- 2&#45;&gt;8 -->\n",
       "<g id=\"edge8\" class=\"edge\">\n",
       "<title>2&#45;&gt;8</title>\n",
       "<path fill=\"none\" stroke=\"#000000\" d=\"M776.3432,-887C820.7413,-887 878.6565,-887 929.0274,-887\"/>\n",
       "<polygon fill=\"#000000\" stroke=\"#000000\" points=\"929.3238,-890.5001 939.3237,-887 929.3237,-883.5001 929.3238,-890.5001\"/>\n",
       "</g>\n",
       "<!-- 4 -->\n",
       "<g id=\"node5\" class=\"node\">\n",
       "<title>4</title>\n",
       "<polygon fill=\"#e58139\" stroke=\"#000000\" points=\"1473.4997,-1091 1361.4235,-1091 1361.4235,-1041 1473.4997,-1041 1473.4997,-1091\"/>\n",
       "<text text-anchor=\"start\" x=\"1390.3742\" y=\"-1075.8\" font-family=\"Times,serif\" font-size=\"14.00\" fill=\"#000000\">gini = 0.0</text>\n",
       "<text text-anchor=\"start\" x=\"1373.4621\" y=\"-1061.8\" font-family=\"Times,serif\" font-size=\"14.00\" fill=\"#000000\">samples = 1267</text>\n",
       "<text text-anchor=\"start\" x=\"1369.193\" y=\"-1047.8\" font-family=\"Times,serif\" font-size=\"14.00\" fill=\"#000000\">value = [2015, 0]</text>\n",
       "</g>\n",
       "<!-- 3&#45;&gt;4 -->\n",
       "<g id=\"edge4\" class=\"edge\">\n",
       "<title>3&#45;&gt;4</title>\n",
       "<path fill=\"none\" stroke=\"#000000\" d=\"M1139.76,-1010.6074C1206.5062,-1023.9211 1292.9557,-1041.1651 1351.54,-1052.8507\"/>\n",
       "<polygon fill=\"#000000\" stroke=\"#000000\" points=\"1350.927,-1056.2974 1361.4185,-1054.8212 1352.2964,-1049.4326 1350.927,-1056.2974\"/>\n",
       "</g>\n",
       "<!-- 5 -->\n",
       "<g id=\"node6\" class=\"node\">\n",
       "<title>5</title>\n",
       "<polygon fill=\"#e5823b\" stroke=\"#000000\" points=\"1519.1493,-1023 1315.7739,-1023 1315.7739,-959 1519.1493,-959 1519.1493,-1023\"/>\n",
       "<text text-anchor=\"start\" x=\"1323.6178\" y=\"-1007.8\" font-family=\"Times,serif\" font-size=\"14.00\" fill=\"#000000\">last_login_categories_week ≤ 0.5</text>\n",
       "<text text-anchor=\"start\" x=\"1383.3742\" y=\"-993.8\" font-family=\"Times,serif\" font-size=\"14.00\" fill=\"#000000\">gini = 0.019</text>\n",
       "<text text-anchor=\"start\" x=\"1380.4621\" y=\"-979.8\" font-family=\"Times,serif\" font-size=\"14.00\" fill=\"#000000\">samples = 60</text>\n",
       "<text text-anchor=\"start\" x=\"1372.693\" y=\"-965.8\" font-family=\"Times,serif\" font-size=\"14.00\" fill=\"#000000\">value = [102, 1]</text>\n",
       "</g>\n",
       "<!-- 3&#45;&gt;5 -->\n",
       "<g id=\"edge5\" class=\"edge\">\n",
       "<title>3&#45;&gt;5</title>\n",
       "<path fill=\"none\" stroke=\"#000000\" d=\"M1139.76,-991C1190.557,-991 1252.766,-991 1305.4191,-991\"/>\n",
       "<polygon fill=\"#000000\" stroke=\"#000000\" points=\"1305.4748,-994.5001 1315.4748,-991 1305.4747,-987.5001 1305.4748,-994.5001\"/>\n",
       "</g>\n",
       "<!-- 6 -->\n",
       "<g id=\"node7\" class=\"node\">\n",
       "<title>6</title>\n",
       "<polygon fill=\"#e58139\" stroke=\"#000000\" points=\"1780.4998,-1077 1682.4234,-1077 1682.4234,-1027 1780.4998,-1027 1780.4998,-1077\"/>\n",
       "<text text-anchor=\"start\" x=\"1704.3742\" y=\"-1061.8\" font-family=\"Times,serif\" font-size=\"14.00\" fill=\"#000000\">gini = 0.0</text>\n",
       "<text text-anchor=\"start\" x=\"1694.4621\" y=\"-1047.8\" font-family=\"Times,serif\" font-size=\"14.00\" fill=\"#000000\">samples = 57</text>\n",
       "<text text-anchor=\"start\" x=\"1690.193\" y=\"-1033.8\" font-family=\"Times,serif\" font-size=\"14.00\" fill=\"#000000\">value = [98, 0]</text>\n",
       "</g>\n",
       "<!-- 5&#45;&gt;6 -->\n",
       "<g id=\"edge6\" class=\"edge\">\n",
       "<title>5&#45;&gt;6</title>\n",
       "<path fill=\"none\" stroke=\"#000000\" d=\"M1519.4084,-1010.805C1569.9724,-1020.6279 1629.2595,-1032.1455 1672.2697,-1040.5009\"/>\n",
       "<polygon fill=\"#000000\" stroke=\"#000000\" points=\"1671.8032,-1043.9757 1682.2872,-1042.447 1673.1382,-1037.1041 1671.8032,-1043.9757\"/>\n",
       "</g>\n",
       "<!-- 7 -->\n",
       "<g id=\"node8\" class=\"node\">\n",
       "<title>7</title>\n",
       "<polygon fill=\"#eca06a\" stroke=\"#000000\" points=\"1776.9999,-1009 1685.9233,-1009 1685.9233,-959 1776.9999,-959 1776.9999,-1009\"/>\n",
       "<text text-anchor=\"start\" x=\"1700.8742\" y=\"-993.8\" font-family=\"Times,serif\" font-size=\"14.00\" fill=\"#000000\">gini = 0.32</text>\n",
       "<text text-anchor=\"start\" x=\"1697.9621\" y=\"-979.8\" font-family=\"Times,serif\" font-size=\"14.00\" fill=\"#000000\">samples = 3</text>\n",
       "<text text-anchor=\"start\" x=\"1693.693\" y=\"-965.8\" font-family=\"Times,serif\" font-size=\"14.00\" fill=\"#000000\">value = [4, 1]</text>\n",
       "</g>\n",
       "<!-- 5&#45;&gt;7 -->\n",
       "<g id=\"edge7\" class=\"edge\">\n",
       "<title>5&#45;&gt;7</title>\n",
       "<path fill=\"none\" stroke=\"#000000\" d=\"M1519.4084,-988.7273C1571.2986,-987.5705 1632.3757,-986.2089 1675.6201,-985.2449\"/>\n",
       "<polygon fill=\"#000000\" stroke=\"#000000\" points=\"1675.7434,-988.7431 1685.6629,-985.021 1675.5873,-981.7448 1675.7434,-988.7431\"/>\n",
       "</g>\n",
       "<!-- 9 -->\n",
       "<g id=\"node10\" class=\"node\">\n",
       "<title>9</title>\n",
       "<polygon fill=\"#e58139\" stroke=\"#000000\" points=\"1466.4998,-941 1368.4234,-941 1368.4234,-891 1466.4998,-891 1466.4998,-941\"/>\n",
       "<text text-anchor=\"start\" x=\"1390.3742\" y=\"-925.8\" font-family=\"Times,serif\" font-size=\"14.00\" fill=\"#000000\">gini = 0.0</text>\n",
       "<text text-anchor=\"start\" x=\"1380.4621\" y=\"-911.8\" font-family=\"Times,serif\" font-size=\"14.00\" fill=\"#000000\">samples = 19</text>\n",
       "<text text-anchor=\"start\" x=\"1376.193\" y=\"-897.8\" font-family=\"Times,serif\" font-size=\"14.00\" fill=\"#000000\">value = [26, 0]</text>\n",
       "</g>\n",
       "<!-- 8&#45;&gt;9 -->\n",
       "<g id=\"edge9\" class=\"edge\">\n",
       "<title>8&#45;&gt;9</title>\n",
       "<path fill=\"none\" stroke=\"#000000\" d=\"M1143.7086,-894.8861C1212.535,-900.1945 1300.8766,-907.0081 1358.3065,-911.4375\"/>\n",
       "<polygon fill=\"#000000\" stroke=\"#000000\" points=\"1358.0662,-914.9293 1368.3058,-912.2087 1358.6046,-907.95 1358.0662,-914.9293\"/>\n",
       "</g>\n",
       "<!-- 10 -->\n",
       "<g id=\"node11\" class=\"node\">\n",
       "<title>10</title>\n",
       "<polygon fill=\"#7bbeee\" stroke=\"#000000\" points=\"1473.3972,-873 1361.526,-873 1361.526,-809 1473.3972,-809 1473.3972,-873\"/>\n",
       "<text text-anchor=\"start\" x=\"1369.4938\" y=\"-857.8\" font-family=\"Times,serif\" font-size=\"14.00\" fill=\"#000000\">cases_open ≤ 0.5</text>\n",
       "<text text-anchor=\"start\" x=\"1383.3742\" y=\"-843.8\" font-family=\"Times,serif\" font-size=\"14.00\" fill=\"#000000\">gini = 0.375</text>\n",
       "<text text-anchor=\"start\" x=\"1383.9621\" y=\"-829.8\" font-family=\"Times,serif\" font-size=\"14.00\" fill=\"#000000\">samples = 3</text>\n",
       "<text text-anchor=\"start\" x=\"1379.693\" y=\"-815.8\" font-family=\"Times,serif\" font-size=\"14.00\" fill=\"#000000\">value = [1, 3]</text>\n",
       "</g>\n",
       "<!-- 8&#45;&gt;10 -->\n",
       "<g id=\"edge10\" class=\"edge\">\n",
       "<title>8&#45;&gt;10</title>\n",
       "<path fill=\"none\" stroke=\"#000000\" d=\"M1143.7086,-874.4911C1209.7655,-866.4096 1293.7987,-856.129 1351.227,-849.1032\"/>\n",
       "<polygon fill=\"#000000\" stroke=\"#000000\" points=\"1351.7728,-852.5626 1361.2738,-847.874 1350.9227,-845.6144 1351.7728,-852.5626\"/>\n",
       "</g>\n",
       "<!-- 11 -->\n",
       "<g id=\"node12\" class=\"node\">\n",
       "<title>11</title>\n",
       "<polygon fill=\"#399de5\" stroke=\"#000000\" points=\"1776.9999,-934 1685.9233,-934 1685.9233,-884 1776.9999,-884 1776.9999,-934\"/>\n",
       "<text text-anchor=\"start\" x=\"1704.3742\" y=\"-918.8\" font-family=\"Times,serif\" font-size=\"14.00\" fill=\"#000000\">gini = 0.0</text>\n",
       "<text text-anchor=\"start\" x=\"1697.9621\" y=\"-904.8\" font-family=\"Times,serif\" font-size=\"14.00\" fill=\"#000000\">samples = 2</text>\n",
       "<text text-anchor=\"start\" x=\"1693.693\" y=\"-890.8\" font-family=\"Times,serif\" font-size=\"14.00\" fill=\"#000000\">value = [0, 3]</text>\n",
       "</g>\n",
       "<!-- 10&#45;&gt;11 -->\n",
       "<g id=\"edge11\" class=\"edge\">\n",
       "<title>10&#45;&gt;11</title>\n",
       "<path fill=\"none\" stroke=\"#000000\" d=\"M1473.5985,-853.157C1530.6771,-865.518 1618.6002,-884.5587 1675.5849,-896.8993\"/>\n",
       "<polygon fill=\"#000000\" stroke=\"#000000\" points=\"1674.987,-900.3509 1685.5012,-899.0468 1676.4686,-893.5095 1674.987,-900.3509\"/>\n",
       "</g>\n",
       "<!-- 12 -->\n",
       "<g id=\"node13\" class=\"node\">\n",
       "<title>12</title>\n",
       "<polygon fill=\"#e58139\" stroke=\"#000000\" points=\"1776.9999,-866 1685.9233,-866 1685.9233,-816 1776.9999,-816 1776.9999,-866\"/>\n",
       "<text text-anchor=\"start\" x=\"1704.3742\" y=\"-850.8\" font-family=\"Times,serif\" font-size=\"14.00\" fill=\"#000000\">gini = 0.0</text>\n",
       "<text text-anchor=\"start\" x=\"1697.9621\" y=\"-836.8\" font-family=\"Times,serif\" font-size=\"14.00\" fill=\"#000000\">samples = 1</text>\n",
       "<text text-anchor=\"start\" x=\"1693.693\" y=\"-822.8\" font-family=\"Times,serif\" font-size=\"14.00\" fill=\"#000000\">value = [1, 0]</text>\n",
       "</g>\n",
       "<!-- 10&#45;&gt;12 -->\n",
       "<g id=\"edge12\" class=\"edge\">\n",
       "<title>10&#45;&gt;12</title>\n",
       "<path fill=\"none\" stroke=\"#000000\" d=\"M1473.5985,-841C1530.5589,-841 1618.2363,-841 1675.2305,-841\"/>\n",
       "<polygon fill=\"#000000\" stroke=\"#000000\" points=\"1675.5013,-844.5001 1685.5012,-841 1675.5012,-837.5001 1675.5013,-844.5001\"/>\n",
       "</g>\n",
       "<!-- 15 -->\n",
       "<g id=\"node16\" class=\"node\">\n",
       "<title>15</title>\n",
       "<polygon fill=\"#d2e9f9\" stroke=\"#000000\" points=\"790.2664,-551 618.6568,-551 618.6568,-487 790.2664,-487 790.2664,-551\"/>\n",
       "<text text-anchor=\"start\" x=\"626.5593\" y=\"-535.8\" font-family=\"Times,serif\" font-size=\"14.00\" fill=\"#000000\">annual_revenue ≤ 3471.025</text>\n",
       "<text text-anchor=\"start\" x=\"670.3742\" y=\"-521.8\" font-family=\"Times,serif\" font-size=\"14.00\" fill=\"#000000\">gini = 0.492</text>\n",
       "<text text-anchor=\"start\" x=\"663.9621\" y=\"-507.8\" font-family=\"Times,serif\" font-size=\"14.00\" fill=\"#000000\">samples = 331</text>\n",
       "<text text-anchor=\"start\" x=\"652.693\" y=\"-493.8\" font-family=\"Times,serif\" font-size=\"14.00\" fill=\"#000000\">value = [225, 291]</text>\n",
       "</g>\n",
       "<!-- 14&#45;&gt;15 -->\n",
       "<g id=\"edge15\" class=\"edge\">\n",
       "<title>14&#45;&gt;15</title>\n",
       "<path fill=\"none\" stroke=\"#000000\" d=\"M476.0656,-519C517.1539,-519 566.2259,-519 608.3347,-519\"/>\n",
       "<polygon fill=\"#000000\" stroke=\"#000000\" points=\"608.6003,-522.5001 618.6003,-519 608.6002,-515.5001 608.6003,-522.5001\"/>\n",
       "</g>\n",
       "<!-- 30 -->\n",
       "<g id=\"node31\" class=\"node\">\n",
       "<title>30</title>\n",
       "<polygon fill=\"#3d9fe6\" stroke=\"#000000\" points=\"797.2664,-234 611.6568,-234 611.6568,-170 797.2664,-170 797.2664,-234\"/>\n",
       "<text text-anchor=\"start\" x=\"619.5593\" y=\"-218.8\" font-family=\"Times,serif\" font-size=\"14.00\" fill=\"#000000\">annual_revenue ≤ 306122.438</text>\n",
       "<text text-anchor=\"start\" x=\"673.8742\" y=\"-204.8\" font-family=\"Times,serif\" font-size=\"14.00\" fill=\"#000000\">gini = 0.04</text>\n",
       "<text text-anchor=\"start\" x=\"660.4621\" y=\"-190.8\" font-family=\"Times,serif\" font-size=\"14.00\" fill=\"#000000\">samples = 1724</text>\n",
       "<text text-anchor=\"start\" x=\"652.693\" y=\"-176.8\" font-family=\"Times,serif\" font-size=\"14.00\" fill=\"#000000\">value = [55, 2669]</text>\n",
       "</g>\n",
       "<!-- 14&#45;&gt;30 -->\n",
       "<g id=\"edge30\" class=\"edge\">\n",
       "<title>14&#45;&gt;30</title>\n",
       "<path fill=\"none\" stroke=\"#000000\" d=\"M420.5004,-486.8598C478.7006,-428.4754 601.6073,-305.1798 664.9207,-241.6661\"/>\n",
       "<polygon fill=\"#000000\" stroke=\"#000000\" points=\"667.7569,-243.7784 672.338,-234.2252 662.7993,-238.8365 667.7569,-243.7784\"/>\n",
       "</g>\n",
       "<!-- 16 -->\n",
       "<g id=\"node17\" class=\"node\">\n",
       "<title>16</title>\n",
       "<polygon fill=\"#f5cdb1\" stroke=\"#000000\" points=\"1105.7285,-628 977.1947,-628 977.1947,-564 1105.7285,-564 1105.7285,-628\"/>\n",
       "<text text-anchor=\"start\" x=\"985.3283\" y=\"-612.8\" font-family=\"Times,serif\" font-size=\"14.00\" fill=\"#000000\">days_active ≤ 402.0</text>\n",
       "<text text-anchor=\"start\" x=\"1010.8742\" y=\"-598.8\" font-family=\"Times,serif\" font-size=\"14.00\" fill=\"#000000\">gini = 0.47</text>\n",
       "<text text-anchor=\"start\" x=\"1000.9621\" y=\"-584.8\" font-family=\"Times,serif\" font-size=\"14.00\" fill=\"#000000\">samples = 185</text>\n",
       "<text text-anchor=\"start\" x=\"989.9494\" y=\"-570.8\" font-family=\"Times,serif\" font-size=\"14.00\" fill=\"#000000\">value = [182, 110]</text>\n",
       "</g>\n",
       "<!-- 15&#45;&gt;16 -->\n",
       "<g id=\"edge16\" class=\"edge\">\n",
       "<title>15&#45;&gt;16</title>\n",
       "<path fill=\"none\" stroke=\"#000000\" d=\"M790.3729,-538.6296C845.0587,-551.1246 915.1635,-567.1426 967.3921,-579.0761\"/>\n",
       "<polygon fill=\"#000000\" stroke=\"#000000\" points=\"966.7303,-582.515 977.2587,-581.3305 968.2896,-575.6909 966.7303,-582.515\"/>\n",
       "</g>\n",
       "<!-- 23 -->\n",
       "<g id=\"node24\" class=\"node\">\n",
       "<title>23</title>\n",
       "<polygon fill=\"#68b4eb\" stroke=\"#000000\" points=\"1140.7284,-506 942.1948,-506 942.1948,-442 1140.7284,-442 1140.7284,-506\"/>\n",
       "<text text-anchor=\"start\" x=\"950.3283\" y=\"-490.8\" font-family=\"Times,serif\" font-size=\"14.00\" fill=\"#000000\">account_status_Suspended ≤ 0.5</text>\n",
       "<text text-anchor=\"start\" x=\"1010.8742\" y=\"-476.8\" font-family=\"Times,serif\" font-size=\"14.00\" fill=\"#000000\">gini = 0.31</text>\n",
       "<text text-anchor=\"start\" x=\"1000.9621\" y=\"-462.8\" font-family=\"Times,serif\" font-size=\"14.00\" fill=\"#000000\">samples = 146</text>\n",
       "<text text-anchor=\"start\" x=\"993.193\" y=\"-448.8\" font-family=\"Times,serif\" font-size=\"14.00\" fill=\"#000000\">value = [43, 181]</text>\n",
       "</g>\n",
       "<!-- 15&#45;&gt;23 -->\n",
       "<g id=\"edge23\" class=\"edge\">\n",
       "<title>15&#45;&gt;23</title>\n",
       "<path fill=\"none\" stroke=\"#000000\" d=\"M790.3729,-507.5282C833.5215,-501.7665 886.2695,-494.723 932.2615,-488.5816\"/>\n",
       "<polygon fill=\"#000000\" stroke=\"#000000\" points=\"932.8212,-492.038 942.27,-487.2452 931.8947,-485.0996 932.8212,-492.038\"/>\n",
       "</g>\n",
       "<!-- 17 -->\n",
       "<g id=\"node18\" class=\"node\">\n",
       "<title>17</title>\n",
       "<polygon fill=\"#72b9ec\" stroke=\"#000000\" points=\"1466.4998,-737 1368.4234,-737 1368.4234,-673 1466.4998,-673 1466.4998,-737\"/>\n",
       "<text text-anchor=\"start\" x=\"1384.5226\" y=\"-721.8\" font-family=\"Times,serif\" font-size=\"14.00\" fill=\"#000000\">team ≤ 11.5</text>\n",
       "<text text-anchor=\"start\" x=\"1383.3742\" y=\"-707.8\" font-family=\"Times,serif\" font-size=\"14.00\" fill=\"#000000\">gini = 0.346</text>\n",
       "<text text-anchor=\"start\" x=\"1380.4621\" y=\"-693.8\" font-family=\"Times,serif\" font-size=\"14.00\" fill=\"#000000\">samples = 22</text>\n",
       "<text text-anchor=\"start\" x=\"1376.193\" y=\"-679.8\" font-family=\"Times,serif\" font-size=\"14.00\" fill=\"#000000\">value = [8, 28]</text>\n",
       "</g>\n",
       "<!-- 16&#45;&gt;17 -->\n",
       "<g id=\"edge17\" class=\"edge\">\n",
       "<title>16&#45;&gt;17</title>\n",
       "<path fill=\"none\" stroke=\"#000000\" d=\"M1105.6711,-614.6139C1176.5407,-635.1586 1289.6588,-667.9508 1358.3995,-687.8783\"/>\n",
       "<polygon fill=\"#000000\" stroke=\"#000000\" points=\"1357.6301,-691.2993 1368.2092,-690.7221 1359.5792,-684.5761 1357.6301,-691.2993\"/>\n",
       "</g>\n",
       "<!-- 20 -->\n",
       "<g id=\"node21\" class=\"node\">\n",
       "<title>20</title>\n",
       "<polygon fill=\"#f1bc96\" stroke=\"#000000\" points=\"1536.6152,-628 1298.308,-628 1298.308,-564 1536.6152,-564 1536.6152,-628\"/>\n",
       "<text text-anchor=\"start\" x=\"1306.1349\" y=\"-612.8\" font-family=\"Times,serif\" font-size=\"14.00\" fill=\"#000000\">licence_registration_Dayofyear ≤ 349.5</text>\n",
       "<text text-anchor=\"start\" x=\"1383.3742\" y=\"-598.8\" font-family=\"Times,serif\" font-size=\"14.00\" fill=\"#000000\">gini = 0.435</text>\n",
       "<text text-anchor=\"start\" x=\"1376.9621\" y=\"-584.8\" font-family=\"Times,serif\" font-size=\"14.00\" fill=\"#000000\">samples = 163</text>\n",
       "<text text-anchor=\"start\" x=\"1369.193\" y=\"-570.8\" font-family=\"Times,serif\" font-size=\"14.00\" fill=\"#000000\">value = [174, 82]</text>\n",
       "</g>\n",
       "<!-- 16&#45;&gt;20 -->\n",
       "<g id=\"edge20\" class=\"edge\">\n",
       "<title>16&#45;&gt;20</title>\n",
       "<path fill=\"none\" stroke=\"#000000\" d=\"M1105.6711,-596C1155.5411,-596 1226.3315,-596 1287.8577,-596\"/>\n",
       "<polygon fill=\"#000000\" stroke=\"#000000\" points=\"1288.0419,-599.5001 1298.0418,-596 1288.0418,-592.5001 1288.0419,-599.5001\"/>\n",
       "</g>\n",
       "<!-- 18 -->\n",
       "<g id=\"node19\" class=\"node\">\n",
       "<title>18</title>\n",
       "<polygon fill=\"#e58139\" stroke=\"#000000\" points=\"1776.9999,-798 1685.9233,-798 1685.9233,-748 1776.9999,-748 1776.9999,-798\"/>\n",
       "<text text-anchor=\"start\" x=\"1704.3742\" y=\"-782.8\" font-family=\"Times,serif\" font-size=\"14.00\" fill=\"#000000\">gini = 0.0</text>\n",
       "<text text-anchor=\"start\" x=\"1697.9621\" y=\"-768.8\" font-family=\"Times,serif\" font-size=\"14.00\" fill=\"#000000\">samples = 5</text>\n",
       "<text text-anchor=\"start\" x=\"1693.693\" y=\"-754.8\" font-family=\"Times,serif\" font-size=\"14.00\" fill=\"#000000\">value = [6, 0]</text>\n",
       "</g>\n",
       "<!-- 17&#45;&gt;18 -->\n",
       "<g id=\"edge18\" class=\"edge\">\n",
       "<title>17&#45;&gt;18</title>\n",
       "<path fill=\"none\" stroke=\"#000000\" d=\"M1466.5241,-715.625C1523.2664,-727.9131 1616.4666,-748.0966 1675.8502,-760.9568\"/>\n",
       "<polygon fill=\"#000000\" stroke=\"#000000\" points=\"1675.289,-764.4163 1685.8033,-763.1122 1676.7707,-757.5749 1675.289,-764.4163\"/>\n",
       "</g>\n",
       "<!-- 19 -->\n",
       "<g id=\"node20\" class=\"node\">\n",
       "<title>19</title>\n",
       "<polygon fill=\"#47a4e7\" stroke=\"#000000\" points=\"1780.4998,-730 1682.4234,-730 1682.4234,-680 1780.4998,-680 1780.4998,-730\"/>\n",
       "<text text-anchor=\"start\" x=\"1697.3742\" y=\"-714.8\" font-family=\"Times,serif\" font-size=\"14.00\" fill=\"#000000\">gini = 0.124</text>\n",
       "<text text-anchor=\"start\" x=\"1694.4621\" y=\"-700.8\" font-family=\"Times,serif\" font-size=\"14.00\" fill=\"#000000\">samples = 17</text>\n",
       "<text text-anchor=\"start\" x=\"1690.193\" y=\"-686.8\" font-family=\"Times,serif\" font-size=\"14.00\" fill=\"#000000\">value = [2, 28]</text>\n",
       "</g>\n",
       "<!-- 17&#45;&gt;19 -->\n",
       "<g id=\"edge19\" class=\"edge\">\n",
       "<title>17&#45;&gt;19</title>\n",
       "<path fill=\"none\" stroke=\"#000000\" d=\"M1466.5241,-705C1522.125,-705 1612.7319,-705 1672.2262,-705\"/>\n",
       "<polygon fill=\"#000000\" stroke=\"#000000\" points=\"1672.2265,-708.5001 1682.2265,-705 1672.2265,-701.5001 1672.2265,-708.5001\"/>\n",
       "</g>\n",
       "<!-- 21 -->\n",
       "<g id=\"node22\" class=\"node\">\n",
       "<title>21</title>\n",
       "<polygon fill=\"#f0b58a\" stroke=\"#000000\" points=\"1787.4997,-662 1675.4235,-662 1675.4235,-612 1787.4997,-612 1787.4997,-662\"/>\n",
       "<text text-anchor=\"start\" x=\"1697.3742\" y=\"-646.8\" font-family=\"Times,serif\" font-size=\"14.00\" fill=\"#000000\">gini = 0.413</text>\n",
       "<text text-anchor=\"start\" x=\"1690.9621\" y=\"-632.8\" font-family=\"Times,serif\" font-size=\"14.00\" fill=\"#000000\">samples = 155</text>\n",
       "<text text-anchor=\"start\" x=\"1683.193\" y=\"-618.8\" font-family=\"Times,serif\" font-size=\"14.00\" fill=\"#000000\">value = [173, 71]</text>\n",
       "</g>\n",
       "<!-- 20&#45;&gt;21 -->\n",
       "<g id=\"edge21\" class=\"edge\">\n",
       "<title>20&#45;&gt;21</title>\n",
       "<path fill=\"none\" stroke=\"#000000\" d=\"M1536.6193,-611.5588C1580.071,-617.2324 1627.6351,-623.443 1664.891,-628.3077\"/>\n",
       "<polygon fill=\"#000000\" stroke=\"#000000\" points=\"1664.7447,-631.8182 1675.1137,-629.6425 1665.6511,-624.8771 1664.7447,-631.8182\"/>\n",
       "</g>\n",
       "<!-- 22 -->\n",
       "<g id=\"node23\" class=\"node\">\n",
       "<title>22</title>\n",
       "<polygon fill=\"#4ba6e7\" stroke=\"#000000\" points=\"1780.486,-594 1682.4372,-594 1682.4372,-544 1780.486,-544 1780.486,-594\"/>\n",
       "<text text-anchor=\"start\" x=\"1697.3742\" y=\"-578.8\" font-family=\"Times,serif\" font-size=\"14.00\" fill=\"#000000\">gini = 0.153</text>\n",
       "<text text-anchor=\"start\" x=\"1697.9621\" y=\"-564.8\" font-family=\"Times,serif\" font-size=\"14.00\" fill=\"#000000\">samples = 8</text>\n",
       "<text text-anchor=\"start\" x=\"1690.4494\" y=\"-550.8\" font-family=\"Times,serif\" font-size=\"14.00\" fill=\"#000000\">value = [1, 11]</text>\n",
       "</g>\n",
       "<!-- 20&#45;&gt;22 -->\n",
       "<g id=\"edge22\" class=\"edge\">\n",
       "<title>20&#45;&gt;22</title>\n",
       "<path fill=\"none\" stroke=\"#000000\" d=\"M1536.6193,-585.754C1582.7669,-581.7858 1633.553,-577.4189 1671.703,-574.1385\"/>\n",
       "<polygon fill=\"#000000\" stroke=\"#000000\" points=\"1672.4504,-577.5872 1682.1138,-573.2433 1671.8507,-570.6129 1672.4504,-577.5872\"/>\n",
       "</g>\n",
       "<!-- 24 -->\n",
       "<g id=\"node25\" class=\"node\">\n",
       "<title>24</title>\n",
       "<polygon fill=\"#5baee9\" stroke=\"#000000\" points=\"1477.9499,-506 1356.9733,-506 1356.9733,-442 1477.9499,-442 1477.9499,-506\"/>\n",
       "<text text-anchor=\"start\" x=\"1365.2179\" y=\"-490.8\" font-family=\"Times,serif\" font-size=\"14.00\" fill=\"#000000\">cases_closed ≤ 0.5</text>\n",
       "<text text-anchor=\"start\" x=\"1383.3742\" y=\"-476.8\" font-family=\"Times,serif\" font-size=\"14.00\" fill=\"#000000\">gini = 0.251</text>\n",
       "<text text-anchor=\"start\" x=\"1376.9621\" y=\"-462.8\" font-family=\"Times,serif\" font-size=\"14.00\" fill=\"#000000\">samples = 136</text>\n",
       "<text text-anchor=\"start\" x=\"1369.193\" y=\"-448.8\" font-family=\"Times,serif\" font-size=\"14.00\" fill=\"#000000\">value = [31, 180]</text>\n",
       "</g>\n",
       "<!-- 23&#45;&gt;24 -->\n",
       "<g id=\"edge24\" class=\"edge\">\n",
       "<title>23&#45;&gt;24</title>\n",
       "<path fill=\"none\" stroke=\"#000000\" d=\"M1140.743,-474C1205.6021,-474 1288.7406,-474 1346.8863,-474\"/>\n",
       "<polygon fill=\"#000000\" stroke=\"#000000\" points=\"1347.0801,-477.5001 1357.08,-474 1347.08,-470.5001 1347.0801,-477.5001\"/>\n",
       "</g>\n",
       "<!-- 27 -->\n",
       "<g id=\"node28\" class=\"node\">\n",
       "<title>27</title>\n",
       "<polygon fill=\"#e78c49\" stroke=\"#000000\" points=\"1536.6023,-397 1298.3209,-397 1298.3209,-333 1536.6023,-333 1536.6023,-397\"/>\n",
       "<text text-anchor=\"start\" x=\"1306.3913\" y=\"-381.8\" font-family=\"Times,serif\" font-size=\"14.00\" fill=\"#000000\">licence_registration_Dayofyear ≤ 110.5</text>\n",
       "<text text-anchor=\"start\" x=\"1383.3742\" y=\"-367.8\" font-family=\"Times,serif\" font-size=\"14.00\" fill=\"#000000\">gini = 0.142</text>\n",
       "<text text-anchor=\"start\" x=\"1380.4621\" y=\"-353.8\" font-family=\"Times,serif\" font-size=\"14.00\" fill=\"#000000\">samples = 10</text>\n",
       "<text text-anchor=\"start\" x=\"1376.193\" y=\"-339.8\" font-family=\"Times,serif\" font-size=\"14.00\" fill=\"#000000\">value = [12, 1]</text>\n",
       "</g>\n",
       "<!-- 23&#45;&gt;27 -->\n",
       "<g id=\"edge27\" class=\"edge\">\n",
       "<title>23&#45;&gt;27</title>\n",
       "<path fill=\"none\" stroke=\"#000000\" d=\"M1140.743,-445.219C1188.7771,-431.2942 1246.837,-414.463 1297.3457,-399.8208\"/>\n",
       "<polygon fill=\"#000000\" stroke=\"#000000\" points=\"1298.3826,-403.1644 1307.0126,-397.0185 1296.4335,-396.4412 1298.3826,-403.1644\"/>\n",
       "</g>\n",
       "<!-- 25 -->\n",
       "<g id=\"node26\" class=\"node\">\n",
       "<title>25</title>\n",
       "<polygon fill=\"#52a9e8\" stroke=\"#000000\" points=\"1787.4997,-526 1675.4235,-526 1675.4235,-476 1787.4997,-476 1787.4997,-526\"/>\n",
       "<text text-anchor=\"start\" x=\"1697.3742\" y=\"-510.8\" font-family=\"Times,serif\" font-size=\"14.00\" fill=\"#000000\">gini = 0.198</text>\n",
       "<text text-anchor=\"start\" x=\"1690.9621\" y=\"-496.8\" font-family=\"Times,serif\" font-size=\"14.00\" fill=\"#000000\">samples = 126</text>\n",
       "<text text-anchor=\"start\" x=\"1683.193\" y=\"-482.8\" font-family=\"Times,serif\" font-size=\"14.00\" fill=\"#000000\">value = [22, 175]</text>\n",
       "</g>\n",
       "<!-- 24&#45;&gt;25 -->\n",
       "<g id=\"edge25\" class=\"edge\">\n",
       "<title>24&#45;&gt;25</title>\n",
       "<path fill=\"none\" stroke=\"#000000\" d=\"M1478.004,-479.2059C1531.6904,-483.8222 1609.9454,-490.5512 1665.2719,-495.3085\"/>\n",
       "<polygon fill=\"#000000\" stroke=\"#000000\" points=\"1665.0616,-498.8033 1675.3247,-496.1729 1665.6613,-491.829 1665.0616,-498.8033\"/>\n",
       "</g>\n",
       "<!-- 26 -->\n",
       "<g id=\"node27\" class=\"node\">\n",
       "<title>26</title>\n",
       "<polygon fill=\"#f3c7a7\" stroke=\"#000000\" points=\"1776.9999,-458 1685.9233,-458 1685.9233,-408 1776.9999,-408 1776.9999,-458\"/>\n",
       "<text text-anchor=\"start\" x=\"1697.3742\" y=\"-442.8\" font-family=\"Times,serif\" font-size=\"14.00\" fill=\"#000000\">gini = 0.459</text>\n",
       "<text text-anchor=\"start\" x=\"1694.4621\" y=\"-428.8\" font-family=\"Times,serif\" font-size=\"14.00\" fill=\"#000000\">samples = 10</text>\n",
       "<text text-anchor=\"start\" x=\"1693.693\" y=\"-414.8\" font-family=\"Times,serif\" font-size=\"14.00\" fill=\"#000000\">value = [9, 5]</text>\n",
       "</g>\n",
       "<!-- 24&#45;&gt;26 -->\n",
       "<g id=\"edge26\" class=\"edge\">\n",
       "<title>24&#45;&gt;26</title>\n",
       "<path fill=\"none\" stroke=\"#000000\" d=\"M1478.004,-466.0948C1535.2136,-458.6247 1620.3221,-447.5118 1675.8547,-440.2608\"/>\n",
       "<polygon fill=\"#000000\" stroke=\"#000000\" points=\"1676.4036,-443.7189 1685.8662,-438.9535 1675.4972,-436.7778 1676.4036,-443.7189\"/>\n",
       "</g>\n",
       "<!-- 28 -->\n",
       "<g id=\"node29\" class=\"node\">\n",
       "<title>28</title>\n",
       "<polygon fill=\"#399de5\" stroke=\"#000000\" points=\"1776.9999,-390 1685.9233,-390 1685.9233,-340 1776.9999,-340 1776.9999,-390\"/>\n",
       "<text text-anchor=\"start\" x=\"1704.3742\" y=\"-374.8\" font-family=\"Times,serif\" font-size=\"14.00\" fill=\"#000000\">gini = 0.0</text>\n",
       "<text text-anchor=\"start\" x=\"1697.9621\" y=\"-360.8\" font-family=\"Times,serif\" font-size=\"14.00\" fill=\"#000000\">samples = 1</text>\n",
       "<text text-anchor=\"start\" x=\"1693.693\" y=\"-346.8\" font-family=\"Times,serif\" font-size=\"14.00\" fill=\"#000000\">value = [0, 1]</text>\n",
       "</g>\n",
       "<!-- 27&#45;&gt;28 -->\n",
       "<g id=\"edge28\" class=\"edge\">\n",
       "<title>27&#45;&gt;28</title>\n",
       "<path fill=\"none\" stroke=\"#000000\" d=\"M1536.6193,-365C1584.1942,-365 1636.6989,-365 1675.2059,-365\"/>\n",
       "<polygon fill=\"#000000\" stroke=\"#000000\" points=\"1675.68,-368.5001 1685.6799,-365 1675.6799,-361.5001 1675.68,-368.5001\"/>\n",
       "</g>\n",
       "<!-- 29 -->\n",
       "<g id=\"node30\" class=\"node\">\n",
       "<title>29</title>\n",
       "<polygon fill=\"#e58139\" stroke=\"#000000\" points=\"1780.4998,-322 1682.4234,-322 1682.4234,-272 1780.4998,-272 1780.4998,-322\"/>\n",
       "<text text-anchor=\"start\" x=\"1704.3742\" y=\"-306.8\" font-family=\"Times,serif\" font-size=\"14.00\" fill=\"#000000\">gini = 0.0</text>\n",
       "<text text-anchor=\"start\" x=\"1697.9621\" y=\"-292.8\" font-family=\"Times,serif\" font-size=\"14.00\" fill=\"#000000\">samples = 9</text>\n",
       "<text text-anchor=\"start\" x=\"1690.193\" y=\"-278.8\" font-family=\"Times,serif\" font-size=\"14.00\" fill=\"#000000\">value = [12, 0]</text>\n",
       "</g>\n",
       "<!-- 27&#45;&gt;29 -->\n",
       "<g id=\"edge29\" class=\"edge\">\n",
       "<title>27&#45;&gt;29</title>\n",
       "<path fill=\"none\" stroke=\"#000000\" d=\"M1536.6193,-339.1952C1582.9642,-329.1587 1633.9872,-318.1091 1672.1914,-309.8356\"/>\n",
       "<polygon fill=\"#000000\" stroke=\"#000000\" points=\"1673.0812,-313.2241 1682.1138,-307.6868 1671.5995,-306.3827 1673.0812,-313.2241\"/>\n",
       "</g>\n",
       "<!-- 31 -->\n",
       "<g id=\"node32\" class=\"node\">\n",
       "<title>31</title>\n",
       "<polygon fill=\"#3c9fe5\" stroke=\"#000000\" points=\"1100.9996,-234 981.9236,-234 981.9236,-170 1100.9996,-170 1100.9996,-234\"/>\n",
       "<text text-anchor=\"start\" x=\"1010.5939\" y=\"-218.8\" font-family=\"Times,serif\" font-size=\"14.00\" fill=\"#000000\">plans ≤ 7.5</text>\n",
       "<text text-anchor=\"start\" x=\"1007.3742\" y=\"-204.8\" font-family=\"Times,serif\" font-size=\"14.00\" fill=\"#000000\">gini = 0.031</text>\n",
       "<text text-anchor=\"start\" x=\"997.4621\" y=\"-190.8\" font-family=\"Times,serif\" font-size=\"14.00\" fill=\"#000000\">samples = 1719</text>\n",
       "<text text-anchor=\"start\" x=\"989.693\" y=\"-176.8\" font-family=\"Times,serif\" font-size=\"14.00\" fill=\"#000000\">value = [43, 2669]</text>\n",
       "</g>\n",
       "<!-- 30&#45;&gt;31 -->\n",
       "<g id=\"edge31\" class=\"edge\">\n",
       "<title>30&#45;&gt;31</title>\n",
       "<path fill=\"none\" stroke=\"#000000\" d=\"M797.4404,-202C852.4851,-202 921.087,-202 971.522,-202\"/>\n",
       "<polygon fill=\"#000000\" stroke=\"#000000\" points=\"971.6768,-205.5001 981.6768,-202 971.6768,-198.5001 971.6768,-205.5001\"/>\n",
       "</g>\n",
       "<!-- 38 -->\n",
       "<g id=\"node39\" class=\"node\">\n",
       "<title>38</title>\n",
       "<polygon fill=\"#e58139\" stroke=\"#000000\" points=\"1090.4998,-152 992.4234,-152 992.4234,-102 1090.4998,-102 1090.4998,-152\"/>\n",
       "<text text-anchor=\"start\" x=\"1014.3742\" y=\"-136.8\" font-family=\"Times,serif\" font-size=\"14.00\" fill=\"#000000\">gini = 0.0</text>\n",
       "<text text-anchor=\"start\" x=\"1007.9621\" y=\"-122.8\" font-family=\"Times,serif\" font-size=\"14.00\" fill=\"#000000\">samples = 5</text>\n",
       "<text text-anchor=\"start\" x=\"1000.193\" y=\"-108.8\" font-family=\"Times,serif\" font-size=\"14.00\" fill=\"#000000\">value = [12, 0]</text>\n",
       "</g>\n",
       "<!-- 30&#45;&gt;38 -->\n",
       "<g id=\"edge38\" class=\"edge\">\n",
       "<title>30&#45;&gt;38</title>\n",
       "<path fill=\"none\" stroke=\"#000000\" d=\"M797.4404,-181.3074C856.4356,-168.1779 931.0039,-151.5826 982.0885,-140.2136\"/>\n",
       "<polygon fill=\"#000000\" stroke=\"#000000\" points=\"982.9799,-143.6009 991.9808,-138.0121 981.4592,-136.7681 982.9799,-143.6009\"/>\n",
       "</g>\n",
       "<!-- 32 -->\n",
       "<g id=\"node33\" class=\"node\">\n",
       "<title>32</title>\n",
       "<polygon fill=\"#e3f1fb\" stroke=\"#000000\" points=\"1469.9997,-234 1364.9235,-234 1364.9235,-170 1469.9997,-170 1469.9997,-234\"/>\n",
       "<text text-anchor=\"start\" x=\"1389.318\" y=\"-218.8\" font-family=\"Times,serif\" font-size=\"14.00\" fill=\"#000000\">plan ≤ 5.0</text>\n",
       "<text text-anchor=\"start\" x=\"1383.3742\" y=\"-204.8\" font-family=\"Times,serif\" font-size=\"14.00\" fill=\"#000000\">gini = 0.497</text>\n",
       "<text text-anchor=\"start\" x=\"1380.4621\" y=\"-190.8\" font-family=\"Times,serif\" font-size=\"14.00\" fill=\"#000000\">samples = 25</text>\n",
       "<text text-anchor=\"start\" x=\"1372.693\" y=\"-176.8\" font-family=\"Times,serif\" font-size=\"14.00\" fill=\"#000000\">value = [18, 21]</text>\n",
       "</g>\n",
       "<!-- 31&#45;&gt;32 -->\n",
       "<g id=\"edge32\" class=\"edge\">\n",
       "<title>31&#45;&gt;32</title>\n",
       "<path fill=\"none\" stroke=\"#000000\" d=\"M1101.0399,-202C1170.3158,-202 1284.1556,-202 1354.745,-202\"/>\n",
       "<polygon fill=\"#000000\" stroke=\"#000000\" points=\"1354.8356,-205.5001 1364.8356,-202 1354.8356,-198.5001 1354.8356,-205.5001\"/>\n",
       "</g>\n",
       "<!-- 35 -->\n",
       "<g id=\"node36\" class=\"node\">\n",
       "<title>35</title>\n",
       "<polygon fill=\"#3b9ee5\" stroke=\"#000000\" points=\"1506.7664,-125 1328.1568,-125 1328.1568,-61 1506.7664,-61 1506.7664,-125\"/>\n",
       "<text text-anchor=\"start\" x=\"1336.0593\" y=\"-109.8\" font-family=\"Times,serif\" font-size=\"14.00\" fill=\"#000000\">interactions_completed ≤ 2.5</text>\n",
       "<text text-anchor=\"start\" x=\"1383.3742\" y=\"-95.8\" font-family=\"Times,serif\" font-size=\"14.00\" fill=\"#000000\">gini = 0.019</text>\n",
       "<text text-anchor=\"start\" x=\"1373.4621\" y=\"-81.8\" font-family=\"Times,serif\" font-size=\"14.00\" fill=\"#000000\">samples = 1694</text>\n",
       "<text text-anchor=\"start\" x=\"1365.693\" y=\"-67.8\" font-family=\"Times,serif\" font-size=\"14.00\" fill=\"#000000\">value = [25, 2648]</text>\n",
       "</g>\n",
       "<!-- 31&#45;&gt;35 -->\n",
       "<g id=\"edge35\" class=\"edge\">\n",
       "<title>31&#45;&gt;35</title>\n",
       "<path fill=\"none\" stroke=\"#000000\" d=\"M1101.0399,-184.7286C1159.3826,-167.8155 1249.3328,-141.7395 1318.4368,-121.7067\"/>\n",
       "<polygon fill=\"#000000\" stroke=\"#000000\" points=\"1319.4138,-125.0676 1328.0438,-118.9216 1317.4647,-118.3444 1319.4138,-125.0676\"/>\n",
       "</g>\n",
       "<!-- 33 -->\n",
       "<g id=\"node34\" class=\"node\">\n",
       "<title>33</title>\n",
       "<polygon fill=\"#399de5\" stroke=\"#000000\" points=\"1780.4998,-254 1682.4234,-254 1682.4234,-204 1780.4998,-204 1780.4998,-254\"/>\n",
       "<text text-anchor=\"start\" x=\"1704.3742\" y=\"-238.8\" font-family=\"Times,serif\" font-size=\"14.00\" fill=\"#000000\">gini = 0.0</text>\n",
       "<text text-anchor=\"start\" x=\"1694.4621\" y=\"-224.8\" font-family=\"Times,serif\" font-size=\"14.00\" fill=\"#000000\">samples = 10</text>\n",
       "<text text-anchor=\"start\" x=\"1690.193\" y=\"-210.8\" font-family=\"Times,serif\" font-size=\"14.00\" fill=\"#000000\">value = [0, 14]</text>\n",
       "</g>\n",
       "<!-- 32&#45;&gt;33 -->\n",
       "<g id=\"edge33\" class=\"edge\">\n",
       "<title>32&#45;&gt;33</title>\n",
       "<path fill=\"none\" stroke=\"#000000\" d=\"M1470.0181,-206.5192C1525.8506,-211.3201 1613.9343,-218.8942 1672.1985,-223.9041\"/>\n",
       "<polygon fill=\"#000000\" stroke=\"#000000\" points=\"1672.0942,-227.408 1682.3573,-224.7777 1672.694,-220.4337 1672.0942,-227.408\"/>\n",
       "</g>\n",
       "<!-- 34 -->\n",
       "<g id=\"node35\" class=\"node\">\n",
       "<title>34</title>\n",
       "<polygon fill=\"#efb286\" stroke=\"#000000\" points=\"1780.4998,-186 1682.4234,-186 1682.4234,-136 1780.4998,-136 1780.4998,-186\"/>\n",
       "<text text-anchor=\"start\" x=\"1697.3742\" y=\"-170.8\" font-family=\"Times,serif\" font-size=\"14.00\" fill=\"#000000\">gini = 0.403</text>\n",
       "<text text-anchor=\"start\" x=\"1694.4621\" y=\"-156.8\" font-family=\"Times,serif\" font-size=\"14.00\" fill=\"#000000\">samples = 15</text>\n",
       "<text text-anchor=\"start\" x=\"1690.193\" y=\"-142.8\" font-family=\"Times,serif\" font-size=\"14.00\" fill=\"#000000\">value = [18, 7]</text>\n",
       "</g>\n",
       "<!-- 32&#45;&gt;34 -->\n",
       "<g id=\"edge34\" class=\"edge\">\n",
       "<title>32&#45;&gt;34</title>\n",
       "<path fill=\"none\" stroke=\"#000000\" d=\"M1470.0181,-195.1375C1525.8506,-187.8473 1613.9343,-176.3459 1672.1985,-168.7382\"/>\n",
       "<polygon fill=\"#000000\" stroke=\"#000000\" points=\"1672.8947,-172.1771 1682.3573,-167.4117 1671.9883,-165.236 1672.8947,-172.1771\"/>\n",
       "</g>\n",
       "<!-- 36 -->\n",
       "<g id=\"node37\" class=\"node\">\n",
       "<title>36</title>\n",
       "<polygon fill=\"#3a9ee5\" stroke=\"#000000\" points=\"1790.9996,-118 1671.9236,-118 1671.9236,-68 1790.9996,-68 1790.9996,-118\"/>\n",
       "<text text-anchor=\"start\" x=\"1697.3742\" y=\"-102.8\" font-family=\"Times,serif\" font-size=\"14.00\" fill=\"#000000\">gini = 0.012</text>\n",
       "<text text-anchor=\"start\" x=\"1687.4621\" y=\"-88.8\" font-family=\"Times,serif\" font-size=\"14.00\" fill=\"#000000\">samples = 1680</text>\n",
       "<text text-anchor=\"start\" x=\"1679.693\" y=\"-74.8\" font-family=\"Times,serif\" font-size=\"14.00\" fill=\"#000000\">value = [16, 2629]</text>\n",
       "</g>\n",
       "<!-- 35&#45;&gt;36 -->\n",
       "<g id=\"edge36\" class=\"edge\">\n",
       "<title>35&#45;&gt;36</title>\n",
       "<path fill=\"none\" stroke=\"#000000\" d=\"M1507.0212,-93C1556.0616,-93 1615.9409,-93 1661.5123,-93\"/>\n",
       "<polygon fill=\"#000000\" stroke=\"#000000\" points=\"1661.5957,-96.5001 1671.5957,-93 1661.5956,-89.5001 1661.5957,-96.5001\"/>\n",
       "</g>\n",
       "<!-- 37 -->\n",
       "<g id=\"node38\" class=\"node\">\n",
       "<title>37</title>\n",
       "<polygon fill=\"#97cbf1\" stroke=\"#000000\" points=\"1780.4998,-50 1682.4234,-50 1682.4234,0 1780.4998,0 1780.4998,-50\"/>\n",
       "<text text-anchor=\"start\" x=\"1697.3742\" y=\"-34.8\" font-family=\"Times,serif\" font-size=\"14.00\" fill=\"#000000\">gini = 0.436</text>\n",
       "<text text-anchor=\"start\" x=\"1694.4621\" y=\"-20.8\" font-family=\"Times,serif\" font-size=\"14.00\" fill=\"#000000\">samples = 14</text>\n",
       "<text text-anchor=\"start\" x=\"1690.193\" y=\"-6.8\" font-family=\"Times,serif\" font-size=\"14.00\" fill=\"#000000\">value = [9, 19]</text>\n",
       "</g>\n",
       "<!-- 35&#45;&gt;37 -->\n",
       "<g id=\"edge37\" class=\"edge\">\n",
       "<title>35&#45;&gt;37</title>\n",
       "<path fill=\"none\" stroke=\"#000000\" d=\"M1507.0212,-73.6049C1560.0488,-62.1212 1625.7494,-47.8931 1672.3306,-37.8054\"/>\n",
       "<polygon fill=\"#000000\" stroke=\"#000000\" points=\"1673.2303,-41.1918 1682.2629,-35.6545 1671.7487,-34.3504 1673.2303,-41.1918\"/>\n",
       "</g>\n",
       "</g>\n",
       "</svg>\n"
      ],
      "text/plain": [
       "<graphviz.files.Source at 0x1c3d361450>"
      ]
     },
     "metadata": {},
     "output_type": "display_data"
    }
   ],
   "source": [
    "draw_tree(m.estimators_[10], df_trn, precision=3)"
   ]
  },
  {
   "cell_type": "code",
   "execution_count": 265,
   "metadata": {},
   "outputs": [
    {
     "data": {
      "text/html": [
       "<div>\n",
       "<style scoped>\n",
       "    .dataframe tbody tr th:only-of-type {\n",
       "        vertical-align: middle;\n",
       "    }\n",
       "\n",
       "    .dataframe tbody tr th {\n",
       "        vertical-align: top;\n",
       "    }\n",
       "\n",
       "    .dataframe thead th {\n",
       "        text-align: right;\n",
       "    }\n",
       "</style>\n",
       "<table border=\"1\" class=\"dataframe\">\n",
       "  <thead>\n",
       "    <tr style=\"text-align: right;\">\n",
       "      <th></th>\n",
       "      <th>cols</th>\n",
       "      <th>imp</th>\n",
       "    </tr>\n",
       "  </thead>\n",
       "  <tbody>\n",
       "    <tr>\n",
       "      <td>8</td>\n",
       "      <td>last_login_days</td>\n",
       "      <td>0.506306</td>\n",
       "    </tr>\n",
       "    <tr>\n",
       "      <td>56</td>\n",
       "      <td>last_login_concern_na</td>\n",
       "      <td>0.231242</td>\n",
       "    </tr>\n",
       "    <tr>\n",
       "      <td>28</td>\n",
       "      <td>customer_account_status_Good</td>\n",
       "      <td>0.119200</td>\n",
       "    </tr>\n",
       "    <tr>\n",
       "      <td>9</td>\n",
       "      <td>last_login_concern</td>\n",
       "      <td>0.020844</td>\n",
       "    </tr>\n",
       "    <tr>\n",
       "      <td>17</td>\n",
       "      <td>annual_revenue</td>\n",
       "      <td>0.018123</td>\n",
       "    </tr>\n",
       "    <tr>\n",
       "      <td>61</td>\n",
       "      <td>interactions_no_onboarding_na</td>\n",
       "      <td>0.014658</td>\n",
       "    </tr>\n",
       "    <tr>\n",
       "      <td>58</td>\n",
       "      <td>interactions_total_na</td>\n",
       "      <td>0.011732</td>\n",
       "    </tr>\n",
       "    <tr>\n",
       "      <td>27</td>\n",
       "      <td>account_status_Suspended</td>\n",
       "      <td>0.010867</td>\n",
       "    </tr>\n",
       "    <tr>\n",
       "      <td>59</td>\n",
       "      <td>interactions_completed_na</td>\n",
       "      <td>0.009663</td>\n",
       "    </tr>\n",
       "    <tr>\n",
       "      <td>16</td>\n",
       "      <td>cases_age_hours</td>\n",
       "      <td>0.007614</td>\n",
       "    </tr>\n",
       "  </tbody>\n",
       "</table>\n",
       "</div>"
      ],
      "text/plain": [
       "                             cols       imp\n",
       "8                 last_login_days  0.506306\n",
       "56          last_login_concern_na  0.231242\n",
       "28   customer_account_status_Good  0.119200\n",
       "9              last_login_concern  0.020844\n",
       "17                 annual_revenue  0.018123\n",
       "61  interactions_no_onboarding_na  0.014658\n",
       "58          interactions_total_na  0.011732\n",
       "27       account_status_Suspended  0.010867\n",
       "59      interactions_completed_na  0.009663\n",
       "16                cases_age_hours  0.007614"
      ]
     },
     "execution_count": 265,
     "metadata": {},
     "output_type": "execute_result"
    }
   ],
   "source": [
    "fi = rf_feat_importance(m, df_trn); fi[:10]"
   ]
  },
  {
   "cell_type": "code",
   "execution_count": 266,
   "metadata": {},
   "outputs": [
    {
     "data": {
      "image/png": "[encoded data removed]",
      "text/plain": [
       "<Figure size 720x432 with 1 Axes>"
      ]
     },
     "metadata": {
      "needs_background": "light"
     },
     "output_type": "display_data"
    }
   ],
   "source": [
    "fi.plot('cols', 'imp', figsize=(10,6), legend=False);"
   ]
  },
  {
   "cell_type": "code",
   "execution_count": 267,
   "metadata": {},
   "outputs": [],
   "source": [
    "def plot_fi(fi): return fi.plot('cols', 'imp', 'barh', figsize=(12,7), legend=False)"
   ]
  },
  {
   "cell_type": "code",
   "execution_count": 268,
   "metadata": {},
   "outputs": [
    {
     "data": {
      "image/png": "[encoded data removed]",
      "text/plain": [
       "<Figure size 864x504 with 1 Axes>"
      ]
     },
     "metadata": {
      "needs_background": "light"
     },
     "output_type": "display_data"
    }
   ],
   "source": [
    "plot_fi(fi[:30]);"
   ]
  },
  {
   "cell_type": "code",
   "execution_count": 269,
   "metadata": {},
   "outputs": [
    {
     "data": {
      "text/plain": [
       "14"
      ]
     },
     "execution_count": 269,
     "metadata": {},
     "output_type": "execute_result"
    }
   ],
   "source": [
    "to_keep = fi[fi.imp>0.005].cols; len(to_keep)"
   ]
  },
  {
   "cell_type": "code",
   "execution_count": 270,
   "metadata": {},
   "outputs": [],
   "source": [
    "df_keep = df_trn[to_keep].copy()\n",
    "X_train, X_valid = split_vals(df_keep, n_trn)"
   ]
  },
  {
   "cell_type": "code",
   "execution_count": 271,
   "metadata": {},
   "outputs": [
    {
     "data": {
      "text/plain": [
       "0.9712377064390425"
      ]
     },
     "execution_count": 271,
     "metadata": {},
     "output_type": "execute_result"
    }
   ],
   "source": [
    "m = RandomForestClassifier(n_estimators=40, min_samples_leaf=3, max_features=0.5, n_jobs=-1, oob_score=True)\n",
    "m.fit(X_train, y_train);\n",
    "m.oob_score_"
   ]
  },
  {
   "cell_type": "code",
   "execution_count": 272,
   "metadata": {},
   "outputs": [
    {
     "data": {
      "image/png": "[encoded data removed]",
      "text/plain": [
       "<Figure size 864x504 with 1 Axes>"
      ]
     },
     "metadata": {
      "needs_background": "light"
     },
     "output_type": "display_data"
    }
   ],
   "source": [
    "fi = rf_feat_importance(m, df_keep)\n",
    "plot_fi(fi);"
   ]
  },
  {
   "cell_type": "code",
   "execution_count": 273,
   "metadata": {},
   "outputs": [],
   "source": [
    "from scipy.cluster import hierarchy as hc"
   ]
  },
  {
   "cell_type": "code",
   "execution_count": 274,
   "metadata": {},
   "outputs": [
    {
     "data": {
      "image/png": "[encoded data removed]",
      "text/plain": [
       "<Figure size 1152x720 with 1 Axes>"
      ]
     },
     "metadata": {
      "needs_background": "light"
     },
     "output_type": "display_data"
    }
   ],
   "source": [
    "\n",
    "corr = np.round(scipy.stats.spearmanr(df_keep).correlation, 4)\n",
    "corr_condensed = hc.distance.squareform(1-corr)\n",
    "z = hc.linkage(corr_condensed, method='average')\n",
    "fig = plt.figure(figsize=(16,10))\n",
    "dendrogram = hc.dendrogram(z, labels=df_keep.columns, orientation='left', leaf_font_size=16)\n",
    "plt.show()"
   ]
  },
  {
   "cell_type": "code",
   "execution_count": 223,
   "metadata": {},
   "outputs": [
    {
     "data": {
      "text/plain": [
       "Index(['account_status_Active', 'last_login_days', 'account_status_nan',\n",
       "       'last_login_concern_na', 'account_status_Cancelled',\n",
       "       'customer_account_status_nan', 'account_status_Suspended',\n",
       "       'account_status_Suspended', 'account_status_Suspended',\n",
       "       'account_status_Suspended', 'customer_account_status_Good',\n",
       "       'customer_account_status_Good', 'customer_account_status_Good',\n",
       "       'customer_account_status_Good'],\n",
       "      dtype='object')"
      ]
     },
     "execution_count": 223,
     "metadata": {},
     "output_type": "execute_result"
    }
   ],
   "source": [
    "df_keep.columns"
   ]
  },
  {
   "cell_type": "code",
   "execution_count": 303,
   "metadata": {},
   "outputs": [],
   "source": [
    "def get_oob(df):\n",
    "    m = RandomForestClassifier(n_estimators=300, min_samples_leaf=1, max_features=0.6, n_jobs=-1, oob_score=True)\n",
    "    x, _ = split_vals(df, n_trn)\n",
    "    m.fit(x, y_train)\n",
    "    return m.oob_score_"
   ]
  },
  {
   "cell_type": "code",
   "execution_count": 304,
   "metadata": {},
   "outputs": [
    {
     "data": {
      "text/plain": [
       "0.9641863054370013"
      ]
     },
     "execution_count": 304,
     "metadata": {},
     "output_type": "execute_result"
    }
   ],
   "source": [
    "get_oob(df_keep)"
   ]
  },
  {
   "cell_type": "code",
   "execution_count": 305,
   "metadata": {},
   "outputs": [
    {
     "name": "stdout",
     "output_type": "stream",
     "text": [
      "annual_revenue_na 0.9643718686212656 -0.002597884579699339\n",
      "interactions_no_response_na 0.9638151790684728 -0.0027834477639636646\n",
      "interactions_no_onboarding_na 0.9638151790684728 -0.002412321395435124\n",
      "interactions_total_na 0.96325848951568 -0.002412321395435124\n",
      "interactions_completed_training_na 0.964742994989794 -0.002597884579699339\n",
      "account_status_Suspended 0.9634440526999444 -0.0022267582111709094\n",
      "is_suspended 0.9627017999628874 -0.002597884579699339\n"
     ]
    }
   ],
   "source": [
    "correlated_fields = ['annual_revenue_na', 'interactions_no_response_na', 'interactions_no_onboarding_na', 'interactions_total_na', 'interactions_completed_training_na', 'account_status_Suspended', 'is_suspended']\n",
    "for c in (correlated_fields):\n",
    "    print(c, get_oob(df_keep.drop(c, axis=1)), get_oob(df_keep.drop(c, axis=1))-0.9660419372796437)"
   ]
  },
  {
   "cell_type": "code",
   "execution_count": 306,
   "metadata": {},
   "outputs": [
    {
     "data": {
      "text/plain": [
       "0.9582482835405456"
      ]
     },
     "execution_count": 306,
     "metadata": {},
     "output_type": "execute_result"
    }
   ],
   "source": [
    "get_oob(df_keep.drop(correlated_fields, axis=1))"
   ]
  },
  {
   "cell_type": "code",
   "execution_count": 307,
   "metadata": {},
   "outputs": [],
   "source": [
    "to_drop = ['is_suspended', 'interactions_no_onboarding_na', 'annual_revenue_na']\n",
    "df_keep.drop(to_drop, axis=1, inplace=True)\n",
    "X_train, X_valid = split_vals(df_keep, n_trn)"
   ]
  },
  {
   "cell_type": "code",
   "execution_count": 308,
   "metadata": {},
   "outputs": [
    {
     "data": {
      "text/plain": [
       "RandomForestClassifier(bootstrap=True, class_weight=None, criterion='gini',\n",
       "                       max_depth=None, max_features=0.5, max_leaf_nodes=None,\n",
       "                       min_impurity_decrease=0.0, min_impurity_split=None,\n",
       "                       min_samples_leaf=3, min_samples_split=2,\n",
       "                       min_weight_fraction_leaf=0.0, n_estimators=400,\n",
       "                       n_jobs=-1, oob_score=True, random_state=None, verbose=0,\n",
       "                       warm_start=False)"
      ]
     },
     "execution_count": 308,
     "metadata": {},
     "output_type": "execute_result"
    }
   ],
   "source": [
    "m = RandomForestClassifier(n_estimators=400, min_samples_leaf=3, max_features=0.5, n_jobs=-1, oob_score=True)\n",
    "m.fit(X_train, y_train)"
   ]
  },
  {
   "cell_type": "code",
   "execution_count": 309,
   "metadata": {},
   "outputs": [
    {
     "data": {
      "image/png": "[encoded data removed]",
      "text/plain": [
       "<Figure size 864x504 with 1 Axes>"
      ]
     },
     "metadata": {
      "needs_background": "light"
     },
     "output_type": "display_data"
    }
   ],
   "source": [
    "fi = rf_feat_importance(m, df_keep)\n",
    "plot_fi(fi);"
   ]
  },
  {
   "cell_type": "code",
   "execution_count": 310,
   "metadata": {},
   "outputs": [
    {
     "data": {
      "text/plain": [
       "(0.928, 0.7692307692307692)"
      ]
     },
     "execution_count": 310,
     "metadata": {},
     "output_type": "execute_result"
    }
   ],
   "source": [
    "validate_predictions = m.predict(X_valid)\n",
    "accuracy_score(y_valid, validate_predictions), f1_score(y_valid, validate_predictions)"
   ]
  },
  {
   "cell_type": "code",
   "execution_count": null,
   "metadata": {},
   "outputs": [],
   "source": []
  }
 ],
 "metadata": {
  "kernelspec": {
   "display_name": "Python 3",
   "language": "python",
   "name": "python3"
  },
  "language_info": {
   "codemirror_mode": {
    "name": "ipython",
    "version": 3
   },
   "file_extension": ".py",
   "mimetype": "text/x-python",
   "name": "python",
   "nbconvert_exporter": "python",
   "pygments_lexer": "ipython3",
   "version": "3.7.4"
  }
 },
 "nbformat": 4,
 "nbformat_minor": 2
}
