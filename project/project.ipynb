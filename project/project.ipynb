{
 "cells": [
  {
   "cell_type": "code",
   "execution_count": 348,
   "metadata": {},
   "outputs": [
    {
     "name": "stdout",
     "output_type": "stream",
     "text": [
      "The autoreload extension is already loaded. To reload it, use:\n",
      "  %reload_ext autoreload\n"
     ]
    }
   ],
   "source": [
    "# Imports\n",
    "\n",
    "%load_ext autoreload\n",
    "%autoreload 2\n",
    "\n",
    "%matplotlib inline\n",
    "\n",
    "from fastai.imports import *\n",
    "from fastai.structured import *\n",
    "from pandas_summary import DataFrameSummary\n",
    "from sklearn.ensemble import RandomForestRegressor, RandomForestClassifier\n",
    "from IPython.display import display\n",
    "from sklearn import metrics\n",
    "\n",
    "set_plot_sizes(12,14,16)"
   ]
  },
  {
   "cell_type": "code",
   "execution_count": 349,
   "metadata": {},
   "outputs": [],
   "source": [
    "# Load in data\n",
    "\n",
    "PATH = \"../../data/\"\n",
    "df_raw = pd.read_csv(f'{PATH}churn.csv', low_memory=False, \n",
    "                     parse_dates=[\"canceldate\", \"licence_registration_date\", \"golive_date\"])\n",
    "\n",
    "def display_all(df):\n",
    "    with pd.option_context(\"display.max_rows\", 1000, \"display.max_columns\", 1000): \n",
    "        display(df)\n",
    "\n",
    "# Convert annual_revenue from a string to a float\n",
    "\n",
    "df_raw['annual_revenue'] = pd.to_numeric(df_raw['annual_revenue'].str.replace(',', ''))\n",
    "df_raw['churn_concern'] = df_raw['churn_concern'].fillna(0).astype(int)"
   ]
  },
  {
   "cell_type": "code",
   "execution_count": 350,
   "metadata": {},
   "outputs": [
    {
     "data": {
      "text/plain": [
       "count    5889.000000\n",
       "mean        0.527933\n",
       "std         0.499262\n",
       "min         0.000000\n",
       "25%         0.000000\n",
       "50%         1.000000\n",
       "75%         1.000000\n",
       "max         1.000000\n",
       "Name: churn_concern, dtype: float64"
      ]
     },
     "execution_count": 350,
     "metadata": {},
     "output_type": "execute_result"
    }
   ],
   "source": [
    "df_raw.churn_concern.describe()"
   ]
  },
  {
   "cell_type": "code",
   "execution_count": 351,
   "metadata": {},
   "outputs": [
    {
     "name": "stdout",
     "output_type": "stream",
     "text": [
      "Data Types:\n",
      "username                                   object\n",
      "merchant                                   object\n",
      "canceldate                         datetime64[ns]\n",
      "licence_registration_date          datetime64[ns]\n",
      "days_active                                 int64\n",
      "account_status                             object\n",
      "is_suspended                                int64\n",
      "nps                                       float64\n",
      "licence_status                             object\n",
      "cancel_reason                              object\n",
      "cancel_details                             object\n",
      "team                                       object\n",
      "vertical                                   object\n",
      "plans                                      object\n",
      "plan                                       object\n",
      "last_login_days                           float64\n",
      "last_login_concern                        float64\n",
      "changing_platform                          object\n",
      "new_platform                               object\n",
      "salesperson                                object\n",
      "golive_date                        datetime64[ns]\n",
      "golive_days                                 int64\n",
      "url                                        object\n",
      "cases_total                               float64\n",
      "cases_open                                float64\n",
      "annual_revenue                            float64\n",
      "interactions_total                        float64\n",
      "interactions_completed                    float64\n",
      "interactions_no_response                  float64\n",
      "interactions_no_onboarding                float64\n",
      "interactions_completed_training           float64\n",
      "churn_concern_cases_total                 float64\n",
      "churn_concern_cases_open                  float64\n",
      "total_churn_concern_cases_age             float64\n",
      "churned                                     int64\n",
      "churn_concern                               int64\n",
      "dtype: object\n",
      "Rows and Columns:\n",
      "(5889, 36)\n",
      "Column Names:\n",
      "Index(['username', 'merchant', 'canceldate', 'licence_registration_date',\n",
      "       'days_active', 'account_status', 'is_suspended', 'nps',\n",
      "       'licence_status', 'cancel_reason', 'cancel_details', 'team', 'vertical',\n",
      "       'plans', 'plan', 'last_login_days', 'last_login_concern',\n",
      "       'changing_platform', 'new_platform', 'salesperson', 'golive_date',\n",
      "       'golive_days', 'url', 'cases_total', 'cases_open', 'annual_revenue',\n",
      "       'interactions_total', 'interactions_completed',\n",
      "       'interactions_no_response', 'interactions_no_onboarding',\n",
      "       'interactions_completed_training', 'churn_concern_cases_total',\n",
      "       'churn_concern_cases_open', 'total_churn_concern_cases_age', 'churned',\n",
      "       'churn_concern'],\n",
      "      dtype='object')\n",
      "Null Values:\n",
      "username                           0.000000\n",
      "merchant                           0.000679\n",
      "canceldate                         0.000000\n",
      "licence_registration_date          0.000000\n",
      "days_active                        0.000000\n",
      "account_status                     0.468840\n",
      "is_suspended                       0.000000\n",
      "nps                                0.908983\n",
      "licence_status                     0.000000\n",
      "cancel_reason                      0.471727\n",
      "cancel_details                     0.523179\n",
      "team                               0.000000\n",
      "vertical                           0.000000\n",
      "plans                              0.000849\n",
      "plan                               0.000849\n",
      "last_login_days                    0.470029\n",
      "last_login_concern                 0.468840\n",
      "changing_platform                  0.690779\n",
      "new_platform                       0.874682\n",
      "salesperson                        0.000000\n",
      "golive_date                        0.000000\n",
      "golive_days                        0.000000\n",
      "url                                0.000849\n",
      "cases_total                        0.939039\n",
      "cases_open                         0.939039\n",
      "annual_revenue                     0.482764\n",
      "interactions_total                 0.569027\n",
      "interactions_completed             0.569027\n",
      "interactions_no_response           0.569027\n",
      "interactions_no_onboarding         0.569027\n",
      "interactions_completed_training    0.569027\n",
      "churn_concern_cases_total          0.956020\n",
      "churn_concern_cases_open           0.956020\n",
      "total_churn_concern_cases_age      0.956020\n",
      "churned                            0.000000\n",
      "churn_concern                      0.000000\n",
      "dtype: float64\n"
     ]
    }
   ],
   "source": [
    "import pandas as pd\n",
    "\n",
    "def quick_analysis(df):\n",
    " print(\"Data Types:\")\n",
    " print(df.dtypes)\n",
    " print(\"Rows and Columns:\")\n",
    " print(df.shape)\n",
    " print(\"Column Names:\")\n",
    " print(df.columns)\n",
    " print(\"Null Values:\")\n",
    " print(df.apply(lambda x: sum(x.isnull()) / len(df)))\n",
    "    \n",
    "quick_analysis(df_raw)"
   ]
  },
  {
   "cell_type": "code",
   "execution_count": 352,
   "metadata": {},
   "outputs": [
    {
     "data": {
      "text/html": [
       "<div>\n",
       "<style scoped>\n",
       "    .dataframe tbody tr th:only-of-type {\n",
       "        vertical-align: middle;\n",
       "    }\n",
       "\n",
       "    .dataframe tbody tr th {\n",
       "        vertical-align: top;\n",
       "    }\n",
       "\n",
       "    .dataframe thead th {\n",
       "        text-align: right;\n",
       "    }\n",
       "</style>\n",
       "<table border=\"1\" class=\"dataframe\">\n",
       "  <thead>\n",
       "    <tr style=\"text-align: right;\">\n",
       "      <th></th>\n",
       "      <th>count</th>\n",
       "      <th>mean</th>\n",
       "      <th>std</th>\n",
       "      <th>min</th>\n",
       "      <th>25%</th>\n",
       "      <th>50%</th>\n",
       "      <th>75%</th>\n",
       "      <th>max</th>\n",
       "    </tr>\n",
       "  </thead>\n",
       "  <tbody>\n",
       "    <tr>\n",
       "      <td>days_active</td>\n",
       "      <td>5889.0</td>\n",
       "      <td>676.845135</td>\n",
       "      <td>5.637197e+02</td>\n",
       "      <td>0.0</td>\n",
       "      <td>193.00</td>\n",
       "      <td>522.000</td>\n",
       "      <td>1045.000</td>\n",
       "      <td>2259.00</td>\n",
       "    </tr>\n",
       "    <tr>\n",
       "      <td>is_suspended</td>\n",
       "      <td>5889.0</td>\n",
       "      <td>0.013585</td>\n",
       "      <td>1.157687e-01</td>\n",
       "      <td>0.0</td>\n",
       "      <td>0.00</td>\n",
       "      <td>0.000</td>\n",
       "      <td>0.000</td>\n",
       "      <td>1.00</td>\n",
       "    </tr>\n",
       "    <tr>\n",
       "      <td>nps</td>\n",
       "      <td>536.0</td>\n",
       "      <td>4.406716</td>\n",
       "      <td>3.533904e+00</td>\n",
       "      <td>0.0</td>\n",
       "      <td>1.00</td>\n",
       "      <td>5.000</td>\n",
       "      <td>8.000</td>\n",
       "      <td>10.00</td>\n",
       "    </tr>\n",
       "    <tr>\n",
       "      <td>last_login_days</td>\n",
       "      <td>3121.0</td>\n",
       "      <td>26.167254</td>\n",
       "      <td>5.967290e+01</td>\n",
       "      <td>0.0</td>\n",
       "      <td>0.00</td>\n",
       "      <td>0.000</td>\n",
       "      <td>13.000</td>\n",
       "      <td>417.00</td>\n",
       "    </tr>\n",
       "    <tr>\n",
       "      <td>last_login_concern</td>\n",
       "      <td>3128.0</td>\n",
       "      <td>0.287724</td>\n",
       "      <td>4.527741e-01</td>\n",
       "      <td>0.0</td>\n",
       "      <td>0.00</td>\n",
       "      <td>0.000</td>\n",
       "      <td>1.000</td>\n",
       "      <td>1.00</td>\n",
       "    </tr>\n",
       "    <tr>\n",
       "      <td>golive_days</td>\n",
       "      <td>5889.0</td>\n",
       "      <td>67.630328</td>\n",
       "      <td>1.429931e+02</td>\n",
       "      <td>-1.0</td>\n",
       "      <td>-1.00</td>\n",
       "      <td>4.000</td>\n",
       "      <td>74.000</td>\n",
       "      <td>1643.00</td>\n",
       "    </tr>\n",
       "    <tr>\n",
       "      <td>cases_total</td>\n",
       "      <td>359.0</td>\n",
       "      <td>11.359331</td>\n",
       "      <td>1.857648e+01</td>\n",
       "      <td>1.0</td>\n",
       "      <td>3.00</td>\n",
       "      <td>6.000</td>\n",
       "      <td>12.000</td>\n",
       "      <td>205.00</td>\n",
       "    </tr>\n",
       "    <tr>\n",
       "      <td>cases_open</td>\n",
       "      <td>359.0</td>\n",
       "      <td>0.008357</td>\n",
       "      <td>9.115844e-02</td>\n",
       "      <td>0.0</td>\n",
       "      <td>0.00</td>\n",
       "      <td>0.000</td>\n",
       "      <td>0.000</td>\n",
       "      <td>1.00</td>\n",
       "    </tr>\n",
       "    <tr>\n",
       "      <td>annual_revenue</td>\n",
       "      <td>3046.0</td>\n",
       "      <td>543382.605345</td>\n",
       "      <td>2.043959e+06</td>\n",
       "      <td>-24008.7</td>\n",
       "      <td>196.23</td>\n",
       "      <td>41429.995</td>\n",
       "      <td>354383.015</td>\n",
       "      <td>50758636.69</td>\n",
       "    </tr>\n",
       "    <tr>\n",
       "      <td>interactions_total</td>\n",
       "      <td>2538.0</td>\n",
       "      <td>1.928290</td>\n",
       "      <td>1.002745e+00</td>\n",
       "      <td>1.0</td>\n",
       "      <td>1.00</td>\n",
       "      <td>2.000</td>\n",
       "      <td>3.000</td>\n",
       "      <td>8.00</td>\n",
       "    </tr>\n",
       "    <tr>\n",
       "      <td>interactions_completed</td>\n",
       "      <td>2538.0</td>\n",
       "      <td>1.729314</td>\n",
       "      <td>9.996134e-01</td>\n",
       "      <td>0.0</td>\n",
       "      <td>1.00</td>\n",
       "      <td>2.000</td>\n",
       "      <td>2.000</td>\n",
       "      <td>8.00</td>\n",
       "    </tr>\n",
       "    <tr>\n",
       "      <td>interactions_no_response</td>\n",
       "      <td>2538.0</td>\n",
       "      <td>0.122143</td>\n",
       "      <td>3.439525e-01</td>\n",
       "      <td>0.0</td>\n",
       "      <td>0.00</td>\n",
       "      <td>0.000</td>\n",
       "      <td>0.000</td>\n",
       "      <td>2.00</td>\n",
       "    </tr>\n",
       "    <tr>\n",
       "      <td>interactions_no_onboarding</td>\n",
       "      <td>2538.0</td>\n",
       "      <td>0.076832</td>\n",
       "      <td>2.765416e-01</td>\n",
       "      <td>0.0</td>\n",
       "      <td>0.00</td>\n",
       "      <td>0.000</td>\n",
       "      <td>0.000</td>\n",
       "      <td>2.00</td>\n",
       "    </tr>\n",
       "    <tr>\n",
       "      <td>interactions_completed_training</td>\n",
       "      <td>2538.0</td>\n",
       "      <td>0.014184</td>\n",
       "      <td>1.182739e-01</td>\n",
       "      <td>0.0</td>\n",
       "      <td>0.00</td>\n",
       "      <td>0.000</td>\n",
       "      <td>0.000</td>\n",
       "      <td>1.00</td>\n",
       "    </tr>\n",
       "    <tr>\n",
       "      <td>churn_concern_cases_total</td>\n",
       "      <td>259.0</td>\n",
       "      <td>1.104247</td>\n",
       "      <td>3.946607e-01</td>\n",
       "      <td>1.0</td>\n",
       "      <td>1.00</td>\n",
       "      <td>1.000</td>\n",
       "      <td>1.000</td>\n",
       "      <td>4.00</td>\n",
       "    </tr>\n",
       "    <tr>\n",
       "      <td>churn_concern_cases_open</td>\n",
       "      <td>259.0</td>\n",
       "      <td>0.100386</td>\n",
       "      <td>3.010959e-01</td>\n",
       "      <td>0.0</td>\n",
       "      <td>0.00</td>\n",
       "      <td>0.000</td>\n",
       "      <td>0.000</td>\n",
       "      <td>1.00</td>\n",
       "    </tr>\n",
       "    <tr>\n",
       "      <td>total_churn_concern_cases_age</td>\n",
       "      <td>259.0</td>\n",
       "      <td>922.382239</td>\n",
       "      <td>1.265940e+03</td>\n",
       "      <td>0.0</td>\n",
       "      <td>69.50</td>\n",
       "      <td>455.000</td>\n",
       "      <td>1272.500</td>\n",
       "      <td>7150.00</td>\n",
       "    </tr>\n",
       "    <tr>\n",
       "      <td>churned</td>\n",
       "      <td>5889.0</td>\n",
       "      <td>0.527933</td>\n",
       "      <td>4.992615e-01</td>\n",
       "      <td>0.0</td>\n",
       "      <td>0.00</td>\n",
       "      <td>1.000</td>\n",
       "      <td>1.000</td>\n",
       "      <td>1.00</td>\n",
       "    </tr>\n",
       "    <tr>\n",
       "      <td>churn_concern</td>\n",
       "      <td>5889.0</td>\n",
       "      <td>0.527933</td>\n",
       "      <td>4.992615e-01</td>\n",
       "      <td>0.0</td>\n",
       "      <td>0.00</td>\n",
       "      <td>1.000</td>\n",
       "      <td>1.000</td>\n",
       "      <td>1.00</td>\n",
       "    </tr>\n",
       "  </tbody>\n",
       "</table>\n",
       "</div>"
      ],
      "text/plain": [
       "                                  count           mean           std      min  \\\n",
       "days_active                      5889.0     676.845135  5.637197e+02      0.0   \n",
       "is_suspended                     5889.0       0.013585  1.157687e-01      0.0   \n",
       "nps                               536.0       4.406716  3.533904e+00      0.0   \n",
       "last_login_days                  3121.0      26.167254  5.967290e+01      0.0   \n",
       "last_login_concern               3128.0       0.287724  4.527741e-01      0.0   \n",
       "golive_days                      5889.0      67.630328  1.429931e+02     -1.0   \n",
       "cases_total                       359.0      11.359331  1.857648e+01      1.0   \n",
       "cases_open                        359.0       0.008357  9.115844e-02      0.0   \n",
       "annual_revenue                   3046.0  543382.605345  2.043959e+06 -24008.7   \n",
       "interactions_total               2538.0       1.928290  1.002745e+00      1.0   \n",
       "interactions_completed           2538.0       1.729314  9.996134e-01      0.0   \n",
       "interactions_no_response         2538.0       0.122143  3.439525e-01      0.0   \n",
       "interactions_no_onboarding       2538.0       0.076832  2.765416e-01      0.0   \n",
       "interactions_completed_training  2538.0       0.014184  1.182739e-01      0.0   \n",
       "churn_concern_cases_total         259.0       1.104247  3.946607e-01      1.0   \n",
       "churn_concern_cases_open          259.0       0.100386  3.010959e-01      0.0   \n",
       "total_churn_concern_cases_age     259.0     922.382239  1.265940e+03      0.0   \n",
       "churned                          5889.0       0.527933  4.992615e-01      0.0   \n",
       "churn_concern                    5889.0       0.527933  4.992615e-01      0.0   \n",
       "\n",
       "                                    25%        50%         75%          max  \n",
       "days_active                      193.00    522.000    1045.000      2259.00  \n",
       "is_suspended                       0.00      0.000       0.000         1.00  \n",
       "nps                                1.00      5.000       8.000        10.00  \n",
       "last_login_days                    0.00      0.000      13.000       417.00  \n",
       "last_login_concern                 0.00      0.000       1.000         1.00  \n",
       "golive_days                       -1.00      4.000      74.000      1643.00  \n",
       "cases_total                        3.00      6.000      12.000       205.00  \n",
       "cases_open                         0.00      0.000       0.000         1.00  \n",
       "annual_revenue                   196.23  41429.995  354383.015  50758636.69  \n",
       "interactions_total                 1.00      2.000       3.000         8.00  \n",
       "interactions_completed             1.00      2.000       2.000         8.00  \n",
       "interactions_no_response           0.00      0.000       0.000         2.00  \n",
       "interactions_no_onboarding         0.00      0.000       0.000         2.00  \n",
       "interactions_completed_training    0.00      0.000       0.000         1.00  \n",
       "churn_concern_cases_total          1.00      1.000       1.000         4.00  \n",
       "churn_concern_cases_open           0.00      0.000       0.000         1.00  \n",
       "total_churn_concern_cases_age     69.50    455.000    1272.500      7150.00  \n",
       "churned                            0.00      1.000       1.000         1.00  \n",
       "churn_concern                      0.00      1.000       1.000         1.00  "
      ]
     },
     "execution_count": 352,
     "metadata": {},
     "output_type": "execute_result"
    }
   ],
   "source": [
    "df_raw.describe().T"
   ]
  },
  {
   "cell_type": "code",
   "execution_count": 353,
   "metadata": {},
   "outputs": [
    {
     "data": {
      "text/plain": [
       "array([[<matplotlib.axes._subplots.AxesSubplot object at 0x1c2ffbbac8>,\n",
       "        <matplotlib.axes._subplots.AxesSubplot object at 0x1c2dd1fcc0>,\n",
       "        <matplotlib.axes._subplots.AxesSubplot object at 0x1c3006de10>,\n",
       "        <matplotlib.axes._subplots.AxesSubplot object at 0x1c3158ef98>],\n",
       "       [<matplotlib.axes._subplots.AxesSubplot object at 0x1c31595588>,\n",
       "        <matplotlib.axes._subplots.AxesSubplot object at 0x1c313b8b38>,\n",
       "        <matplotlib.axes._subplots.AxesSubplot object at 0x1c3153e128>,\n",
       "        <matplotlib.axes._subplots.AxesSubplot object at 0x1c314ea710>],\n",
       "       [<matplotlib.axes._subplots.AxesSubplot object at 0x1c314ea748>,\n",
       "        <matplotlib.axes._subplots.AxesSubplot object at 0x1c314d3278>,\n",
       "        <matplotlib.axes._subplots.AxesSubplot object at 0x1c3147f828>,\n",
       "        <matplotlib.axes._subplots.AxesSubplot object at 0x1c31430dd8>],\n",
       "       [<matplotlib.axes._subplots.AxesSubplot object at 0x1c3136a3c8>,\n",
       "        <matplotlib.axes._subplots.AxesSubplot object at 0x1c30e5b978>,\n",
       "        <matplotlib.axes._subplots.AxesSubplot object at 0x1c30e8ef28>,\n",
       "        <matplotlib.axes._subplots.AxesSubplot object at 0x1c30e4b518>],\n",
       "       [<matplotlib.axes._subplots.AxesSubplot object at 0x1c313faac8>,\n",
       "        <matplotlib.axes._subplots.AxesSubplot object at 0x1c2ff3c0b8>,\n",
       "        <matplotlib.axes._subplots.AxesSubplot object at 0x1c2ff6c668>,\n",
       "        <matplotlib.axes._subplots.AxesSubplot object at 0x1c30815c18>]], dtype=object)"
      ]
     },
     "execution_count": 353,
     "metadata": {},
     "output_type": "execute_result"
    },
    {
     "data": {
      "image/png": "[encoded data removed]",
      "text/plain": [
       "<Figure size 1080x1080 with 20 Axes>"
      ]
     },
     "metadata": {
      "needs_background": "light"
     },
     "output_type": "display_data"
    }
   ],
   "source": [
    "import matplotlib.pyplot as plt\n",
    "df_raw[df_raw.dtypes[(df_raw.dtypes==\"float64\")|(df_raw.dtypes==\"int64\")]\n",
    "                        .index.values].hist(figsize=[15,15])"
   ]
  },
  {
   "cell_type": "code",
   "execution_count": 354,
   "metadata": {},
   "outputs": [
    {
     "data": {
      "text/plain": [
       "Index(['username', 'merchant', 'canceldate', 'licence_registration_date',\n",
       "       'days_active', 'is_suspended', 'nps', 'licence_status', 'cancel_reason',\n",
       "       'cancel_details', 'team', 'vertical', 'plans', 'plan',\n",
       "       'last_login_days', 'last_login_concern', 'changing_platform',\n",
       "       'new_platform', 'salesperson', 'golive_date', 'golive_days', 'url',\n",
       "       'cases_total', 'cases_open', 'annual_revenue', 'interactions_total',\n",
       "       'interactions_completed', 'interactions_no_response',\n",
       "       'interactions_no_onboarding', 'interactions_completed_training',\n",
       "       'churn_concern_cases_total', 'churn_concern_cases_open',\n",
       "       'total_churn_concern_cases_age', 'churned', 'churn_concern',\n",
       "       'account_status_Active', 'account_status_Cancelled',\n",
       "       'account_status_Draft', 'account_status_Hold',\n",
       "       'account_status_Suspended'],\n",
       "      dtype='object')"
      ]
     },
     "execution_count": 354,
     "metadata": {},
     "output_type": "execute_result"
    }
   ],
   "source": [
    "# A more standard way to one-hot encoding\n",
    "\n",
    "dummy_cols = ['account_status']\n",
    "df_raw = pd.get_dummies(df_raw, columns = dummy_cols)\n",
    "df_raw.columns"
   ]
  },
  {
   "cell_type": "code",
   "execution_count": 355,
   "metadata": {},
   "outputs": [
    {
     "data": {
      "text/plain": [
       "few_days     174\n",
       "month        143\n",
       "week         125\n",
       "fortnight    114\n",
       "day           80\n",
       "Name: last_login_categories, dtype: int64"
      ]
     },
     "execution_count": 355,
     "metadata": {},
     "output_type": "execute_result"
    }
   ],
   "source": [
    "# 'binning' - grouping continous data into 'bins'\n",
    "\n",
    "bins = [1, 3, 7, 14, 30, 60]\n",
    "group_names = ['day', 'few_days', 'week', 'fortnight', 'month']\n",
    "\n",
    "last_login_categories = pd.cut(df_raw['last_login_days'], bins, labels=group_names)\n",
    "df_raw['last_login_categories'] = pd.cut(df_raw['last_login_days'], bins, labels=group_names)\n",
    "last_login_categories\n",
    "pd.value_counts(df_raw['last_login_categories'])"
   ]
  },
  {
   "cell_type": "code",
   "execution_count": 356,
   "metadata": {},
   "outputs": [
    {
     "data": {
      "text/plain": [
       "Index(['username', 'merchant', 'canceldate', 'licence_registration_date',\n",
       "       'days_active', 'is_suspended', 'nps', 'licence_status', 'cancel_reason',\n",
       "       'cancel_details', 'team', 'vertical', 'plans', 'plan',\n",
       "       'last_login_days', 'last_login_concern', 'changing_platform',\n",
       "       'new_platform', 'salesperson', 'golive_date', 'golive_days', 'url',\n",
       "       'cases_total', 'cases_open', 'annual_revenue', 'interactions_total',\n",
       "       'interactions_completed', 'interactions_no_response',\n",
       "       'interactions_no_onboarding', 'interactions_completed_training',\n",
       "       'churn_concern_cases_total', 'churn_concern_cases_open',\n",
       "       'total_churn_concern_cases_age', 'churned', 'churn_concern',\n",
       "       'account_status_Active', 'account_status_Cancelled',\n",
       "       'account_status_Draft', 'account_status_Hold',\n",
       "       'account_status_Suspended', 'last_login_categories'],\n",
       "      dtype='object')"
      ]
     },
     "execution_count": 356,
     "metadata": {},
     "output_type": "execute_result"
    }
   ],
   "source": [
    "df_raw.columns"
   ]
  },
  {
   "cell_type": "code",
   "execution_count": 357,
   "metadata": {},
   "outputs": [],
   "source": [
    "# These steps can only be run once then you need to comment them out\n",
    "\n",
    "#add_datepart(df_raw, 'canceldate')\n",
    "add_datepart(df_raw, 'licence_registration_date')\n",
    "add_datepart(df_raw, 'golive_date')"
   ]
  },
  {
   "cell_type": "code",
   "execution_count": 358,
   "metadata": {},
   "outputs": [],
   "source": [
    "# Drop columns\n",
    "\n",
    "df_raw = df_raw.drop(columns=['account_status_Draft', 'account_status_Active', 'account_status_Cancelled', 'changing_platform', 'new_platform', 'licence_status', 'canceldate', 'cancel_details', 'cancel_reason', 'churned'])"
   ]
  },
  {
   "cell_type": "code",
   "execution_count": 359,
   "metadata": {},
   "outputs": [
    {
     "data": {
      "text/plain": [
       "(3109, 2780, 5889)"
      ]
     },
     "execution_count": 359,
     "metadata": {},
     "output_type": "execute_result"
    }
   ],
   "source": [
    "len(df_raw[df_raw.churn_concern==1]), len(df_raw[df_raw.churn_concern==0]), len(df_raw)"
   ]
  },
  {
   "cell_type": "code",
   "execution_count": 360,
   "metadata": {},
   "outputs": [],
   "source": [
    "# this code was an attempt to do over sampling\n",
    "\n",
    "#df_copy = df_raw.copy()\n",
    "#df_copy.append([df_raw[df_raw.churn_concern==1]]*100,ignore_index=True)\n",
    "#df_copy.append([df_raw[df_raw.churn_concern==0]]*100,ignore_index=True)\n",
    "#len(df_copy[df_copy.churn_concern==1]), len(df_copy[df_copy.churn_concern==0]), len(df_copy)"
   ]
  },
  {
   "cell_type": "code",
   "execution_count": 361,
   "metadata": {},
   "outputs": [],
   "source": [
    "# Set default values for NaN values\n",
    "\n",
    "df_raw.nps = df_raw.nps.fillna(np.nanmean(df_raw.nps))\n",
    "df_raw.last_login_days = df_raw.last_login_days.fillna(np.mean(df_raw.last_login_days))\n",
    "df_raw.churn_concern = df_raw.churn_concern.fillna(0)"
   ]
  },
  {
   "cell_type": "code",
   "execution_count": 362,
   "metadata": {},
   "outputs": [],
   "source": [
    "# Complete the transformation of all data into numbers using proc_df and create training dataframes\n",
    "train_cats(df_raw)\n",
    "df_trn, y_trn, nas = proc_df(df_raw, 'churn_concern', max_n_cat=7)"
   ]
  },
  {
   "cell_type": "code",
   "execution_count": 363,
   "metadata": {},
   "outputs": [],
   "source": [
    "def split_vals(a,n): return a[:n], a[n:]\n",
    "n_valid = 500\n",
    "n_trn = len(df_trn)-n_valid\n",
    "X_train, X_valid = split_vals(df_trn, n_trn)"
   ]
  },
  {
   "cell_type": "code",
   "execution_count": 388,
   "metadata": {},
   "outputs": [
    {
     "data": {
      "text/plain": [
       "(      username  merchant  days_active  is_suspended       nps  team  vertical  \\\n",
       " 5388      5304      5541          317             0  4.406716     9         7   \n",
       " \n",
       "       plans  plan  last_login_days  ...  interactions_completed_training_na  \\\n",
       " 5388     31    31              0.0  ...                               False   \n",
       " \n",
       "       churn_concern_cases_total_na  churn_concern_cases_open_na  \\\n",
       " 5388                          True                         True   \n",
       " \n",
       "       total_churn_concern_cases_age_na  last_login_categories_day  \\\n",
       " 5388                              True                          0   \n",
       " \n",
       "       last_login_categories_few_days  last_login_categories_week  \\\n",
       " 5388                               0                           0   \n",
       " \n",
       "       last_login_categories_fortnight  last_login_categories_month  \\\n",
       " 5388                                0                            0   \n",
       " \n",
       "       last_login_categories_nan  \n",
       " 5388                          1  \n",
       " \n",
       " [1 rows x 71 columns],\n",
       "       username  merchant  days_active  is_suspended       nps  team  vertical  \\\n",
       " 5888      5738      3680           16             0  4.406716     9        15   \n",
       " \n",
       "       plans  plan  last_login_days  ...  interactions_completed_training_na  \\\n",
       " 5888     31    31              0.0  ...                                True   \n",
       " \n",
       "       churn_concern_cases_total_na  churn_concern_cases_open_na  \\\n",
       " 5888                          True                         True   \n",
       " \n",
       "       total_churn_concern_cases_age_na  last_login_categories_day  \\\n",
       " 5888                              True                          0   \n",
       " \n",
       "       last_login_categories_few_days  last_login_categories_week  \\\n",
       " 5888                               0                           0   \n",
       " \n",
       "       last_login_categories_fortnight  last_login_categories_month  \\\n",
       " 5888                                0                            0   \n",
       " \n",
       "       last_login_categories_nan  \n",
       " 5888                          1  \n",
       " \n",
       " [1 rows x 71 columns])"
      ]
     },
     "execution_count": 388,
     "metadata": {},
     "output_type": "execute_result"
    }
   ],
   "source": [
    "X_train.tail(1), X_valid.tail(1)"
   ]
  },
  {
   "cell_type": "code",
   "execution_count": 364,
   "metadata": {},
   "outputs": [
    {
     "data": {
      "text/plain": [
       "(500, 5389)"
      ]
     },
     "execution_count": 364,
     "metadata": {},
     "output_type": "execute_result"
    }
   ],
   "source": [
    "n_valid, n_trn"
   ]
  },
  {
   "cell_type": "code",
   "execution_count": 383,
   "metadata": {},
   "outputs": [
    {
     "data": {
      "text/plain": [
       "(500, 71, 5389, 71)"
      ]
     },
     "execution_count": 383,
     "metadata": {},
     "output_type": "execute_result"
    }
   ],
   "source": [
    "len(X_valid), len(X_valid.columns), len(X_train), len(X_train.columns)"
   ]
  },
  {
   "cell_type": "code",
   "execution_count": 384,
   "metadata": {},
   "outputs": [
    {
     "data": {
      "text/plain": [
       "(500, 5389)"
      ]
     },
     "execution_count": 384,
     "metadata": {},
     "output_type": "execute_result"
    }
   ],
   "source": [
    "y_train, y_valid = split_vals(y_trn, n_trn)\n",
    "#raw_train, raw_valid = split_vals(df_raw, n_trn)\n",
    "len(y_valid), len(y_train)"
   ]
  },
  {
   "cell_type": "code",
   "execution_count": 385,
   "metadata": {},
   "outputs": [
    {
     "data": {
      "text/plain": [
       "RandomForestClassifier(bootstrap=True, class_weight=None, criterion='gini',\n",
       "                       max_depth=5, max_features=0.5, max_leaf_nodes=None,\n",
       "                       min_impurity_decrease=0.0, min_impurity_split=None,\n",
       "                       min_samples_leaf=1, min_samples_split=2,\n",
       "                       min_weight_fraction_leaf=0.0, n_estimators=400,\n",
       "                       n_jobs=-1, oob_score=True, random_state=None, verbose=0,\n",
       "                       warm_start=False)"
      ]
     },
     "execution_count": 385,
     "metadata": {},
     "output_type": "execute_result"
    }
   ],
   "source": [
    "m = RandomForestClassifier(n_estimators=400, min_samples_leaf=1, max_features=0.5, n_jobs=-1, oob_score=True, max_depth=5)\n",
    "m.fit(X_train, y_train)"
   ]
  },
  {
   "cell_type": "code",
   "execution_count": 386,
   "metadata": {},
   "outputs": [],
   "source": [
    "validate_predictions = m.predict(X_valid)"
   ]
  },
  {
   "cell_type": "code",
   "execution_count": 387,
   "metadata": {},
   "outputs": [
    {
     "data": {
      "text/plain": [
       "array([1, 0, 0, 0, 0, 1, 1, 0, 1, 1, 0, 0, 0, 1, 1, 0, 1, 0, 0, 0, 0, 1, 0, 0, 1, 0, 0, 0, 0, 0, 0, 0, 0, 0,\n",
       "       0, 0, 0, 0, 0, 0, 0, 1, 1, 0, 0, 1, 1, 0, 0, 0, 1, 0, 0, 0, 0, 0, 1, 0, 1, 0, 1, 0, 0, 0, 0, 0, 1, 0,\n",
       "       0, 0, 0, 0, 0, 1, 1, 0, 0, 0, 0, 0, 0, 0, 0, 1, 0, 1, 1, 0, 0, 0, 0, 0, 1, 0, 1, 0, 0, 0, 0, 1, 0, 0,\n",
       "       0, 0, 1, 1, 1, 1, 0, 0, 0, 1, 0, 0, 0, 1, 0, 1, 0, 1, 0, 0, 0, 0, 0, 0, 1, 0, 0, 1, 0, 1, 0, 0, 0, 1,\n",
       "       0, 1, 0, 1, 0, 0, 1, 0, 0, 1, 0, 0, 0, 0, 0, 0, 0, 1, 0, 0, 0, 1, 0, 0, 0, 0, 1, 0, 1, 0, 0, 1, 0, 0,\n",
       "       0, 0, 0, 0, 0, 0, 0, 0, 0, 0, 0, 0, 0, 0, 0, 1, 1, 0, 0, 0, 0, 0, 0, 1, 1, 0, 1, 0, 0, 1, 0, 1, 0, 0,\n",
       "       0, 0, 0, 0, 1, 0, 0, 0, 0, 0, 0, 0, 0, 0, 1, 0, 0, 0, 0, 0, 0, 0, 0, 0, 0, 0, 0, 0, 0, 0, 0, 0, 0, 0,\n",
       "       0, 0, 0, 0, 0, 0, 0, 0, 0, 1, 0, 0, 1, 1, 1, 0, 0, 1, 0, 0, 0, 0, 1, 0, 0, 1, 0, 0, 0, 0, 0, 1, 0, 0,\n",
       "       0, 0, 0, 0, 0, 0, 0, 0, 0, 0, 1, 1, 0, 0, 0, 0, 1, 0, 0, 0, 0, 0, 0, 0, 0, 0, 0, 0, 0, 0, 0, 0, 0, 0,\n",
       "       0, 0, 0, 0, 0, 0, 0, 0, 0, 0, 0, 0, 0, 0, 0, 0, 0, 0, 0, 0, 1, 0, 0, 0, 0, 0, 0, 0, 0, 0, 0, 0, 0, 0,\n",
       "       0, 0, 0, 0, 0, 0, 0, 0, 1, 0, 0, 0, 0, 0, 0, 0, 1, 0, 0, 0, 0, 1, 1, 0, 0, 0, 0, 0, 0, 0, 1, 0, 0, 0,\n",
       "       0, 0, 0, 0, 0, 0, 0, 0, 0, 0, 0, 0, 0, 0, 0, 0, 0, 0, 0, 0, 0, 0, 0, 1, 0, 0, 1, 0, 0, 0, 0, 0, 0, 0,\n",
       "       0, 0, 0, 0, 0, 0, 0, 0, 0, 0, 0, 0, 0, 0, 0, 0, 0, 0, 0, 0, 0, 1, 0, 0, 0, 0, 0, 0, 0, 0, 0, 1, 0, 0,\n",
       "       0, 0, 0, 0, 0, 0, 0, 0, 0, 0, 0, 0, 0, 0, 0, 0, 0, 0, 0, 0, 0, 0, 0, 0, 0, 0, 0, 0, 0, 0, 0, 0, 0, 0,\n",
       "       0, 0, 0, 0, 0, 0, 0, 0, 0, 0, 0, 0, 0, 0, 0, 0, 0, 0, 0, 0, 0, 0, 0, 0])"
      ]
     },
     "execution_count": 387,
     "metadata": {},
     "output_type": "execute_result"
    }
   ],
   "source": [
    "validate_predictions"
   ]
  },
  {
   "cell_type": "code",
   "execution_count": 289,
   "metadata": {},
   "outputs": [],
   "source": [
    "from sklearn.metrics import f1_score, accuracy_score"
   ]
  },
  {
   "cell_type": "code",
   "execution_count": 290,
   "metadata": {},
   "outputs": [
    {
     "data": {
      "text/plain": [
       "0.924"
      ]
     },
     "execution_count": 290,
     "metadata": {},
     "output_type": "execute_result"
    }
   ],
   "source": [
    "accuracy_score(y_valid, validate_predictions)"
   ]
  },
  {
   "cell_type": "code",
   "execution_count": 291,
   "metadata": {},
   "outputs": [
    {
     "data": {
      "text/plain": [
       "0.7790697674418605"
      ]
     },
     "execution_count": 291,
     "metadata": {},
     "output_type": "execute_result"
    }
   ],
   "source": [
    "f1_score(y_valid, validate_predictions)"
   ]
  },
  {
   "cell_type": "code",
   "execution_count": 292,
   "metadata": {},
   "outputs": [
    {
     "data": {
      "image/svg+xml": [
       "<?xml version=\"1.0\" encoding=\"UTF-8\" standalone=\"no\"?>\n",
       "<!DOCTYPE svg PUBLIC \"-//W3C//DTD SVG 1.1//EN\"\n",
       " \"http://www.w3.org/Graphics/SVG/1.1/DTD/svg11.dtd\">\n",
       "<!-- Generated by graphviz version 2.40.1 (20161225.0304)\n",
       " -->\n",
       "<!-- Title: Tree Pages: 1 -->\n",
       "<svg width=\"720pt\" height=\"433pt\"\n",
       " viewBox=\"0.00 0.00 720.00 433.31\" xmlns=\"http://www.w3.org/2000/svg\" xmlns:xlink=\"http://www.w3.org/1999/xlink\">\n",
       "<g id=\"graph0\" class=\"graph\" transform=\"scale(.4941 .4941) rotate(0) translate(4 873)\">\n",
       "<title>Tree</title>\n",
       "<polygon fill=\"#ffffff\" stroke=\"transparent\" points=\"-4,4 -4,-873 1453.2392,-873 1453.2392,4 -4,4\"/>\n",
       "<!-- 0 -->\n",
       "<g id=\"node1\" class=\"node\">\n",
       "<title>0</title>\n",
       "<polygon fill=\"#d6ebfa\" stroke=\"#000000\" points=\"162.7578,-353 5.7207,-353 5.7207,-289 162.7578,-289 162.7578,-353\"/>\n",
       "<text text-anchor=\"start\" x=\"13.7299\" y=\"-337.8\" font-family=\"Times,serif\" font-size=\"14.00\" fill=\"#000000\">annual_revenue_na ≤ 0.5</text>\n",
       "<text text-anchor=\"start\" x=\"50.1518\" y=\"-323.8\" font-family=\"Times,serif\" font-size=\"14.00\" fill=\"#000000\">gini = 0.493</text>\n",
       "<text text-anchor=\"start\" x=\"40.2397\" y=\"-309.8\" font-family=\"Times,serif\" font-size=\"14.00\" fill=\"#000000\">samples = 3371</text>\n",
       "<text text-anchor=\"start\" x=\"25.4707\" y=\"-295.8\" font-family=\"Times,serif\" font-size=\"14.00\" fill=\"#000000\">value = [2383, 3006]</text>\n",
       "</g>\n",
       "<!-- 1 -->\n",
       "<g id=\"node2\" class=\"node\">\n",
       "<title>1</title>\n",
       "<polygon fill=\"#e88f4e\" stroke=\"#000000\" points=\"367.4475,-393 213.0309,-393 213.0309,-329 367.4475,-329 367.4475,-393\"/>\n",
       "<text text-anchor=\"start\" x=\"220.8852\" y=\"-377.8\" font-family=\"Times,serif\" font-size=\"14.00\" fill=\"#000000\">last_login_concern ≤ 0.5</text>\n",
       "<text text-anchor=\"start\" x=\"256.1518\" y=\"-363.8\" font-family=\"Times,serif\" font-size=\"14.00\" fill=\"#000000\">gini = 0.176</text>\n",
       "<text text-anchor=\"start\" x=\"246.2397\" y=\"-349.8\" font-family=\"Times,serif\" font-size=\"14.00\" fill=\"#000000\">samples = 1617</text>\n",
       "<text text-anchor=\"start\" x=\"234.9707\" y=\"-335.8\" font-family=\"Times,serif\" font-size=\"14.00\" fill=\"#000000\">value = [2376, 257]</text>\n",
       "</g>\n",
       "<!-- 0&#45;&gt;1 -->\n",
       "<g id=\"edge1\" class=\"edge\">\n",
       "<title>0&#45;&gt;1</title>\n",
       "<path fill=\"none\" stroke=\"#000000\" d=\"M163.0007,-336.2935C176.0344,-338.8243 189.6171,-341.4617 202.8479,-344.0308\"/>\n",
       "<polygon fill=\"#000000\" stroke=\"#000000\" points=\"202.3983,-347.5088 212.8822,-345.9792 203.7327,-340.6372 202.3983,-347.5088\"/>\n",
       "<text text-anchor=\"middle\" x=\"192.159\" y=\"-355.7631\" font-family=\"Times,serif\" font-size=\"14.00\" fill=\"#000000\">True</text>\n",
       "</g>\n",
       "<!-- 26 -->\n",
       "<g id=\"node27\" class=\"node\">\n",
       "<title>26</title>\n",
       "<polygon fill=\"#3a9de5\" stroke=\"#000000\" points=\"346.2773,-244 234.2012,-244 234.2012,-180 346.2773,-180 346.2773,-244\"/>\n",
       "<text text-anchor=\"start\" x=\"248.1059\" y=\"-228.8\" font-family=\"Times,serif\" font-size=\"14.00\" fill=\"#000000\">merchant ≤ 0.5</text>\n",
       "<text text-anchor=\"start\" x=\"256.1518\" y=\"-214.8\" font-family=\"Times,serif\" font-size=\"14.00\" fill=\"#000000\">gini = 0.005</text>\n",
       "<text text-anchor=\"start\" x=\"246.2397\" y=\"-200.8\" font-family=\"Times,serif\" font-size=\"14.00\" fill=\"#000000\">samples = 1754</text>\n",
       "<text text-anchor=\"start\" x=\"241.9707\" y=\"-186.8\" font-family=\"Times,serif\" font-size=\"14.00\" fill=\"#000000\">value = [7, 2749]</text>\n",
       "</g>\n",
       "<!-- 0&#45;&gt;26 -->\n",
       "<g id=\"edge26\" class=\"edge\">\n",
       "<title>0&#45;&gt;26</title>\n",
       "<path fill=\"none\" stroke=\"#000000\" d=\"M144.9318,-288.8859C170.0928,-275.5726 199.3305,-260.1022 224.9548,-246.5437\"/>\n",
       "<polygon fill=\"#000000\" stroke=\"#000000\" points=\"226.6532,-249.6049 233.8552,-241.8343 223.3793,-243.4176 226.6532,-249.6049\"/>\n",
       "<text text-anchor=\"middle\" x=\"209.9624\" y=\"-230.2768\" font-family=\"Times,serif\" font-size=\"14.00\" fill=\"#000000\">False</text>\n",
       "</g>\n",
       "<!-- 2 -->\n",
       "<g id=\"node3\" class=\"node\">\n",
       "<title>2</title>\n",
       "<polygon fill=\"#e5823a\" stroke=\"#000000\" points=\"667.9512,-621 420.5272,-621 420.5272,-557 667.9512,-557 667.9512,-621\"/>\n",
       "<text text-anchor=\"start\" x=\"428.6333\" y=\"-605.8\" font-family=\"Times,serif\" font-size=\"14.00\" fill=\"#000000\">total_churn_concern_cases_age ≤ 3692.0</text>\n",
       "<text text-anchor=\"start\" x=\"513.6518\" y=\"-591.8\" font-family=\"Times,serif\" font-size=\"14.00\" fill=\"#000000\">gini = 0.01</text>\n",
       "<text text-anchor=\"start\" x=\"500.2397\" y=\"-577.8\" font-family=\"Times,serif\" font-size=\"14.00\" fill=\"#000000\">samples = 1224</text>\n",
       "<text text-anchor=\"start\" x=\"492.4707\" y=\"-563.8\" font-family=\"Times,serif\" font-size=\"14.00\" fill=\"#000000\">value = [2001, 10]</text>\n",
       "</g>\n",
       "<!-- 1&#45;&gt;2 -->\n",
       "<g id=\"edge2\" class=\"edge\">\n",
       "<title>1&#45;&gt;2</title>\n",
       "<path fill=\"none\" stroke=\"#000000\" d=\"M326.0925,-393.1833C372.0432,-434.4304 451.6405,-505.8799 500.928,-550.1222\"/>\n",
       "<polygon fill=\"#000000\" stroke=\"#000000\" points=\"498.7886,-552.9051 508.5683,-556.9805 503.4646,-547.6959 498.7886,-552.9051\"/>\n",
       "</g>\n",
       "<!-- 13 -->\n",
       "<g id=\"node14\" class=\"node\">\n",
       "<title>13</title>\n",
       "<polygon fill=\"#f6d4bb\" stroke=\"#000000\" points=\"615.8056,-393 472.6728,-393 472.6728,-329 615.8056,-329 615.8056,-393\"/>\n",
       "<text text-anchor=\"start\" x=\"480.706\" y=\"-377.8\" font-family=\"Times,serif\" font-size=\"14.00\" fill=\"#000000\">last_login_days ≤ 40.5</text>\n",
       "<text text-anchor=\"start\" x=\"510.1518\" y=\"-363.8\" font-family=\"Times,serif\" font-size=\"14.00\" fill=\"#000000\">gini = 0.479</text>\n",
       "<text text-anchor=\"start\" x=\"503.7397\" y=\"-349.8\" font-family=\"Times,serif\" font-size=\"14.00\" fill=\"#000000\">samples = 393</text>\n",
       "<text text-anchor=\"start\" x=\"492.4707\" y=\"-335.8\" font-family=\"Times,serif\" font-size=\"14.00\" fill=\"#000000\">value = [375, 247]</text>\n",
       "</g>\n",
       "<!-- 1&#45;&gt;13 -->\n",
       "<g id=\"edge13\" class=\"edge\">\n",
       "<title>1&#45;&gt;13</title>\n",
       "<path fill=\"none\" stroke=\"#000000\" d=\"M367.4821,-361C397.5109,-361 431.9481,-361 462.4018,-361\"/>\n",
       "<polygon fill=\"#000000\" stroke=\"#000000\" points=\"462.5648,-364.5001 472.5648,-361 462.5647,-357.5001 462.5648,-364.5001\"/>\n",
       "</g>\n",
       "<!-- 3 -->\n",
       "<g id=\"node4\" class=\"node\">\n",
       "<title>3</title>\n",
       "<polygon fill=\"#e5823a\" stroke=\"#000000\" points=\"901.5061,-733 772.9723,-733 772.9723,-669 901.5061,-669 901.5061,-733\"/>\n",
       "<text text-anchor=\"start\" x=\"781.1059\" y=\"-717.8\" font-family=\"Times,serif\" font-size=\"14.00\" fill=\"#000000\">days_active ≤ 330.5</text>\n",
       "<text text-anchor=\"start\" x=\"803.1518\" y=\"-703.8\" font-family=\"Times,serif\" font-size=\"14.00\" fill=\"#000000\">gini = 0.008</text>\n",
       "<text text-anchor=\"start\" x=\"793.2397\" y=\"-689.8\" font-family=\"Times,serif\" font-size=\"14.00\" fill=\"#000000\">samples = 1219</text>\n",
       "<text text-anchor=\"start\" x=\"788.9707\" y=\"-675.8\" font-family=\"Times,serif\" font-size=\"14.00\" fill=\"#000000\">value = [1997, 8]</text>\n",
       "</g>\n",
       "<!-- 2&#45;&gt;3 -->\n",
       "<g id=\"edge3\" class=\"edge\">\n",
       "<title>2&#45;&gt;3</title>\n",
       "<path fill=\"none\" stroke=\"#000000\" d=\"M628.2013,-621.0947C670.8734,-637.4063 722.2603,-657.049 763.4061,-672.7771\"/>\n",
       "<polygon fill=\"#000000\" stroke=\"#000000\" points=\"762.2353,-676.0765 772.8258,-676.3778 764.7347,-669.5379 762.2353,-676.0765\"/>\n",
       "</g>\n",
       "<!-- 10 -->\n",
       "<g id=\"node11\" class=\"node\">\n",
       "<title>10</title>\n",
       "<polygon fill=\"#f2c09c\" stroke=\"#000000\" points=\"950.2133,-621 724.2651,-621 724.2651,-557 950.2133,-557 950.2133,-621\"/>\n",
       "<text text-anchor=\"start\" x=\"732.5024\" y=\"-605.8\" font-family=\"Times,serif\" font-size=\"14.00\" fill=\"#000000\">interactions_no_onboarding_na ≤ 0.5</text>\n",
       "<text text-anchor=\"start\" x=\"803.1518\" y=\"-591.8\" font-family=\"Times,serif\" font-size=\"14.00\" fill=\"#000000\">gini = 0.444</text>\n",
       "<text text-anchor=\"start\" x=\"803.7397\" y=\"-577.8\" font-family=\"Times,serif\" font-size=\"14.00\" fill=\"#000000\">samples = 5</text>\n",
       "<text text-anchor=\"start\" x=\"799.4707\" y=\"-563.8\" font-family=\"Times,serif\" font-size=\"14.00\" fill=\"#000000\">value = [4, 2]</text>\n",
       "</g>\n",
       "<!-- 2&#45;&gt;10 -->\n",
       "<g id=\"edge10\" class=\"edge\">\n",
       "<title>2&#45;&gt;10</title>\n",
       "<path fill=\"none\" stroke=\"#000000\" d=\"M668.0729,-589C683.174,-589 698.6043,-589 713.7011,-589\"/>\n",
       "<polygon fill=\"#000000\" stroke=\"#000000\" points=\"714.0913,-592.5001 724.0912,-589 714.0912,-585.5001 714.0913,-592.5001\"/>\n",
       "</g>\n",
       "<!-- 4 -->\n",
       "<g id=\"node5\" class=\"node\">\n",
       "<title>4</title>\n",
       "<polygon fill=\"#e88e4e\" stroke=\"#000000\" points=\"1244.6543,-815 1041.8242,-815 1041.8242,-751 1244.6543,-751 1244.6543,-815\"/>\n",
       "<text text-anchor=\"start\" x=\"1049.7817\" y=\"-799.8\" font-family=\"Times,serif\" font-size=\"14.00\" fill=\"#000000\">licence_registration_Month ≤ 9.0</text>\n",
       "<text text-anchor=\"start\" x=\"1109.1518\" y=\"-785.8\" font-family=\"Times,serif\" font-size=\"14.00\" fill=\"#000000\">gini = 0.175</text>\n",
       "<text text-anchor=\"start\" x=\"1106.2397\" y=\"-771.8\" font-family=\"Times,serif\" font-size=\"14.00\" fill=\"#000000\">samples = 18</text>\n",
       "<text text-anchor=\"start\" x=\"1101.9707\" y=\"-757.8\" font-family=\"Times,serif\" font-size=\"14.00\" fill=\"#000000\">value = [28, 3]</text>\n",
       "</g>\n",
       "<!-- 3&#45;&gt;4 -->\n",
       "<g id=\"edge4\" class=\"edge\">\n",
       "<title>3&#45;&gt;4</title>\n",
       "<path fill=\"none\" stroke=\"#000000\" d=\"M901.3868,-718.1899C939.105,-728.2974 987.8483,-741.3593 1031.6829,-753.1058\"/>\n",
       "<polygon fill=\"#000000\" stroke=\"#000000\" points=\"1030.9723,-756.5388 1041.5375,-755.7466 1032.7842,-749.7774 1030.9723,-756.5388\"/>\n",
       "</g>\n",
       "<!-- 7 -->\n",
       "<g id=\"node8\" class=\"node\">\n",
       "<title>7</title>\n",
       "<polygon fill=\"#e5813a\" stroke=\"#000000\" points=\"1221.8056,-733 1064.6728,-733 1064.6728,-669 1221.8056,-669 1221.8056,-733\"/>\n",
       "<text text-anchor=\"start\" x=\"1072.706\" y=\"-717.8\" font-family=\"Times,serif\" font-size=\"14.00\" fill=\"#000000\">last_login_days ≤ 16.584</text>\n",
       "<text text-anchor=\"start\" x=\"1109.1518\" y=\"-703.8\" font-family=\"Times,serif\" font-size=\"14.00\" fill=\"#000000\">gini = 0.005</text>\n",
       "<text text-anchor=\"start\" x=\"1099.2397\" y=\"-689.8\" font-family=\"Times,serif\" font-size=\"14.00\" fill=\"#000000\">samples = 1201</text>\n",
       "<text text-anchor=\"start\" x=\"1094.9707\" y=\"-675.8\" font-family=\"Times,serif\" font-size=\"14.00\" fill=\"#000000\">value = [1969, 5]</text>\n",
       "</g>\n",
       "<!-- 3&#45;&gt;7 -->\n",
       "<g id=\"edge7\" class=\"edge\">\n",
       "<title>3&#45;&gt;7</title>\n",
       "<path fill=\"none\" stroke=\"#000000\" d=\"M901.3868,-701C945.7263,-701 1005.3013,-701 1054.2278,-701\"/>\n",
       "<polygon fill=\"#000000\" stroke=\"#000000\" points=\"1054.4972,-704.5001 1064.4972,-701 1054.4971,-697.5001 1054.4972,-704.5001\"/>\n",
       "</g>\n",
       "<!-- 5 -->\n",
       "<g id=\"node6\" class=\"node\">\n",
       "<title>5</title>\n",
       "<polygon fill=\"#399de5\" stroke=\"#000000\" points=\"1434.7775,-869 1343.7009,-869 1343.7009,-819 1434.7775,-819 1434.7775,-869\"/>\n",
       "<text text-anchor=\"start\" x=\"1362.1518\" y=\"-853.8\" font-family=\"Times,serif\" font-size=\"14.00\" fill=\"#000000\">gini = 0.0</text>\n",
       "<text text-anchor=\"start\" x=\"1355.7397\" y=\"-839.8\" font-family=\"Times,serif\" font-size=\"14.00\" fill=\"#000000\">samples = 2</text>\n",
       "<text text-anchor=\"start\" x=\"1351.4707\" y=\"-825.8\" font-family=\"Times,serif\" font-size=\"14.00\" fill=\"#000000\">value = [0, 3]</text>\n",
       "</g>\n",
       "<!-- 4&#45;&gt;5 -->\n",
       "<g id=\"edge5\" class=\"edge\">\n",
       "<title>4&#45;&gt;5</title>\n",
       "<path fill=\"none\" stroke=\"#000000\" d=\"M1244.7171,-808.1632C1275.2301,-815.7294 1307.5669,-823.7479 1333.8984,-830.2773\"/>\n",
       "<polygon fill=\"#000000\" stroke=\"#000000\" points=\"1333.1313,-833.693 1343.6798,-832.7027 1334.8161,-826.8988 1333.1313,-833.693\"/>\n",
       "</g>\n",
       "<!-- 6 -->\n",
       "<g id=\"node7\" class=\"node\">\n",
       "<title>6</title>\n",
       "<polygon fill=\"#e58139\" stroke=\"#000000\" points=\"1438.2774,-801 1340.201,-801 1340.201,-751 1438.2774,-751 1438.2774,-801\"/>\n",
       "<text text-anchor=\"start\" x=\"1362.1518\" y=\"-785.8\" font-family=\"Times,serif\" font-size=\"14.00\" fill=\"#000000\">gini = 0.0</text>\n",
       "<text text-anchor=\"start\" x=\"1352.2397\" y=\"-771.8\" font-family=\"Times,serif\" font-size=\"14.00\" fill=\"#000000\">samples = 16</text>\n",
       "<text text-anchor=\"start\" x=\"1347.9707\" y=\"-757.8\" font-family=\"Times,serif\" font-size=\"14.00\" fill=\"#000000\">value = [28, 0]</text>\n",
       "</g>\n",
       "<!-- 4&#45;&gt;6 -->\n",
       "<g id=\"edge6\" class=\"edge\">\n",
       "<title>4&#45;&gt;6</title>\n",
       "<path fill=\"none\" stroke=\"#000000\" d=\"M1244.7171,-780.1124C1273.6817,-779.2882 1304.2897,-778.4173 1329.8444,-777.6901\"/>\n",
       "<polygon fill=\"#000000\" stroke=\"#000000\" points=\"1330.2053,-781.1813 1340.1017,-777.3982 1330.0061,-774.1842 1330.2053,-781.1813\"/>\n",
       "</g>\n",
       "<!-- 8 -->\n",
       "<g id=\"node9\" class=\"node\">\n",
       "<title>8</title>\n",
       "<polygon fill=\"#e58139\" stroke=\"#000000\" points=\"1445.2773,-727 1333.2012,-727 1333.2012,-677 1445.2773,-677 1445.2773,-727\"/>\n",
       "<text text-anchor=\"start\" x=\"1362.1518\" y=\"-711.8\" font-family=\"Times,serif\" font-size=\"14.00\" fill=\"#000000\">gini = 0.0</text>\n",
       "<text text-anchor=\"start\" x=\"1345.496\" y=\"-697.8\" font-family=\"Times,serif\" font-size=\"14.00\" fill=\"#000000\">samples = 1169</text>\n",
       "<text text-anchor=\"start\" x=\"1340.9707\" y=\"-683.8\" font-family=\"Times,serif\" font-size=\"14.00\" fill=\"#000000\">value = [1928, 0]</text>\n",
       "</g>\n",
       "<!-- 7&#45;&gt;8 -->\n",
       "<g id=\"edge8\" class=\"edge\">\n",
       "<title>7&#45;&gt;8</title>\n",
       "<path fill=\"none\" stroke=\"#000000\" d=\"M1222.0902,-701.3205C1254.5396,-701.4524 1291.7156,-701.6036 1322.7556,-701.7297\"/>\n",
       "<polygon fill=\"#000000\" stroke=\"#000000\" points=\"1323.0172,-705.2307 1333.0313,-701.7715 1323.0457,-698.2308 1323.0172,-705.2307\"/>\n",
       "</g>\n",
       "<!-- 9 -->\n",
       "<g id=\"node10\" class=\"node\">\n",
       "<title>9</title>\n",
       "<polygon fill=\"#e89051\" stroke=\"#000000\" points=\"1438.2774,-659 1340.201,-659 1340.201,-609 1438.2774,-609 1438.2774,-659\"/>\n",
       "<text text-anchor=\"start\" x=\"1355.1518\" y=\"-643.8\" font-family=\"Times,serif\" font-size=\"14.00\" fill=\"#000000\">gini = 0.194</text>\n",
       "<text text-anchor=\"start\" x=\"1352.2397\" y=\"-629.8\" font-family=\"Times,serif\" font-size=\"14.00\" fill=\"#000000\">samples = 32</text>\n",
       "<text text-anchor=\"start\" x=\"1347.9707\" y=\"-615.8\" font-family=\"Times,serif\" font-size=\"14.00\" fill=\"#000000\">value = [41, 5]</text>\n",
       "</g>\n",
       "<!-- 7&#45;&gt;9 -->\n",
       "<g id=\"edge9\" class=\"edge\">\n",
       "<title>7&#45;&gt;9</title>\n",
       "<path fill=\"none\" stroke=\"#000000\" d=\"M1222.0902,-679.5243C1257.2416,-669.9506 1297.9396,-658.8662 1330.3757,-650.0319\"/>\n",
       "<polygon fill=\"#000000\" stroke=\"#000000\" points=\"1331.4328,-653.3716 1340.1616,-647.3667 1329.5933,-646.6176 1331.4328,-653.3716\"/>\n",
       "</g>\n",
       "<!-- 11 -->\n",
       "<g id=\"node12\" class=\"node\">\n",
       "<title>11</title>\n",
       "<polygon fill=\"#e58139\" stroke=\"#000000\" points=\"1188.7775,-651 1097.7009,-651 1097.7009,-601 1188.7775,-601 1188.7775,-651\"/>\n",
       "<text text-anchor=\"start\" x=\"1116.1518\" y=\"-635.8\" font-family=\"Times,serif\" font-size=\"14.00\" fill=\"#000000\">gini = 0.0</text>\n",
       "<text text-anchor=\"start\" x=\"1109.7397\" y=\"-621.8\" font-family=\"Times,serif\" font-size=\"14.00\" fill=\"#000000\">samples = 4</text>\n",
       "<text text-anchor=\"start\" x=\"1105.4707\" y=\"-607.8\" font-family=\"Times,serif\" font-size=\"14.00\" fill=\"#000000\">value = [4, 0]</text>\n",
       "</g>\n",
       "<!-- 10&#45;&gt;11 -->\n",
       "<g id=\"edge11\" class=\"edge\">\n",
       "<title>10&#45;&gt;11</title>\n",
       "<path fill=\"none\" stroke=\"#000000\" d=\"M950.3129,-602.6723C996.9987,-608.3173 1049.017,-614.6071 1087.2641,-619.2318\"/>\n",
       "<polygon fill=\"#000000\" stroke=\"#000000\" points=\"1087.3228,-622.7643 1097.6707,-620.4901 1088.1631,-615.8149 1087.3228,-622.7643\"/>\n",
       "</g>\n",
       "<!-- 12 -->\n",
       "<g id=\"node13\" class=\"node\">\n",
       "<title>12</title>\n",
       "<polygon fill=\"#399de5\" stroke=\"#000000\" points=\"1188.7775,-583 1097.7009,-583 1097.7009,-533 1188.7775,-533 1188.7775,-583\"/>\n",
       "<text text-anchor=\"start\" x=\"1116.1518\" y=\"-567.8\" font-family=\"Times,serif\" font-size=\"14.00\" fill=\"#000000\">gini = 0.0</text>\n",
       "<text text-anchor=\"start\" x=\"1109.7397\" y=\"-553.8\" font-family=\"Times,serif\" font-size=\"14.00\" fill=\"#000000\">samples = 1</text>\n",
       "<text text-anchor=\"start\" x=\"1105.4707\" y=\"-539.8\" font-family=\"Times,serif\" font-size=\"14.00\" fill=\"#000000\">value = [0, 2]</text>\n",
       "</g>\n",
       "<!-- 10&#45;&gt;12 -->\n",
       "<g id=\"edge12\" class=\"edge\">\n",
       "<title>10&#45;&gt;12</title>\n",
       "<path fill=\"none\" stroke=\"#000000\" d=\"M950.3129,-577.5448C996.9987,-572.8152 1049.017,-567.5454 1087.2641,-563.6707\"/>\n",
       "<polygon fill=\"#000000\" stroke=\"#000000\" points=\"1088.0744,-567.1066 1097.6707,-562.6164 1087.3688,-560.1422 1088.0744,-567.1066\"/>\n",
       "</g>\n",
       "<!-- 14 -->\n",
       "<g id=\"node15\" class=\"node\">\n",
       "<title>14</title>\n",
       "<polygon fill=\"#e99356\" stroke=\"#000000\" points=\"948.5686,-433 725.9099,-433 725.9099,-369 948.5686,-369 948.5686,-433\"/>\n",
       "<text text-anchor=\"start\" x=\"734.0747\" y=\"-417.8\" font-family=\"Times,serif\" font-size=\"14.00\" fill=\"#000000\">churn_concern_cases_open_na ≤ 0.5</text>\n",
       "<text text-anchor=\"start\" x=\"803.1518\" y=\"-403.8\" font-family=\"Times,serif\" font-size=\"14.00\" fill=\"#000000\">gini = 0.222</text>\n",
       "<text text-anchor=\"start\" x=\"796.7397\" y=\"-389.8\" font-family=\"Times,serif\" font-size=\"14.00\" fill=\"#000000\">samples = 145</text>\n",
       "<text text-anchor=\"start\" x=\"788.9707\" y=\"-375.8\" font-family=\"Times,serif\" font-size=\"14.00\" fill=\"#000000\">value = [199, 29]</text>\n",
       "</g>\n",
       "<!-- 13&#45;&gt;14 -->\n",
       "<g id=\"edge14\" class=\"edge\">\n",
       "<title>13&#45;&gt;14</title>\n",
       "<path fill=\"none\" stroke=\"#000000\" d=\"M615.9151,-370.7851C646.0606,-374.9005 681.9841,-379.8048 716.0287,-384.4525\"/>\n",
       "<polygon fill=\"#000000\" stroke=\"#000000\" points=\"715.6667,-387.9355 726.0482,-385.8203 716.6136,-380.9998 715.6667,-387.9355\"/>\n",
       "</g>\n",
       "<!-- 21 -->\n",
       "<g id=\"node22\" class=\"node\">\n",
       "<title>21</title>\n",
       "<polygon fill=\"#d9ecfa\" stroke=\"#000000\" points=\"898.585,-350 775.8934,-350 775.8934,-286 898.585,-286 898.585,-350\"/>\n",
       "<text text-anchor=\"start\" x=\"783.8164\" y=\"-334.8\" font-family=\"Times,serif\" font-size=\"14.00\" fill=\"#000000\">is_suspended ≤ 0.5</text>\n",
       "<text text-anchor=\"start\" x=\"803.1518\" y=\"-320.8\" font-family=\"Times,serif\" font-size=\"14.00\" fill=\"#000000\">gini = 0.494</text>\n",
       "<text text-anchor=\"start\" x=\"796.7397\" y=\"-306.8\" font-family=\"Times,serif\" font-size=\"14.00\" fill=\"#000000\">samples = 248</text>\n",
       "<text text-anchor=\"start\" x=\"785.4707\" y=\"-292.8\" font-family=\"Times,serif\" font-size=\"14.00\" fill=\"#000000\">value = [176, 218]</text>\n",
       "</g>\n",
       "<!-- 13&#45;&gt;21 -->\n",
       "<g id=\"edge21\" class=\"edge\">\n",
       "<title>13&#45;&gt;21</title>\n",
       "<path fill=\"none\" stroke=\"#000000\" d=\"M615.9151,-350.481C661.4344,-343.8007 720.1277,-335.187 765.6334,-328.5087\"/>\n",
       "<polygon fill=\"#000000\" stroke=\"#000000\" points=\"766.3348,-331.9433 775.7206,-327.0283 765.3183,-325.0175 766.3348,-331.9433\"/>\n",
       "</g>\n",
       "<!-- 15 -->\n",
       "<g id=\"node16\" class=\"node\">\n",
       "<title>15</title>\n",
       "<polygon fill=\"#6ab6ec\" stroke=\"#000000\" points=\"1254.8818,-515 1031.5966,-515 1031.5966,-451 1254.8818,-451 1254.8818,-515\"/>\n",
       "<text text-anchor=\"start\" x=\"1039.6679\" y=\"-499.8\" font-family=\"Times,serif\" font-size=\"14.00\" fill=\"#000000\">last_login_categories_fortnight ≤ 0.5</text>\n",
       "<text text-anchor=\"start\" x=\"1112.6518\" y=\"-485.8\" font-family=\"Times,serif\" font-size=\"14.00\" fill=\"#000000\">gini = 0.32</text>\n",
       "<text text-anchor=\"start\" x=\"1109.7397\" y=\"-471.8\" font-family=\"Times,serif\" font-size=\"14.00\" fill=\"#000000\">samples = 4</text>\n",
       "<text text-anchor=\"start\" x=\"1105.4707\" y=\"-457.8\" font-family=\"Times,serif\" font-size=\"14.00\" fill=\"#000000\">value = [1, 4]</text>\n",
       "</g>\n",
       "<!-- 14&#45;&gt;15 -->\n",
       "<g id=\"edge15\" class=\"edge\">\n",
       "<title>14&#45;&gt;15</title>\n",
       "<path fill=\"none\" stroke=\"#000000\" d=\"M948.5779,-430.8358C972.3081,-437.1949 997.4858,-443.9419 1021.58,-450.3985\"/>\n",
       "<polygon fill=\"#000000\" stroke=\"#000000\" points=\"1020.9055,-453.8412 1031.4707,-453.049 1022.7174,-447.0797 1020.9055,-453.8412\"/>\n",
       "</g>\n",
       "<!-- 18 -->\n",
       "<g id=\"node19\" class=\"node\">\n",
       "<title>18</title>\n",
       "<polygon fill=\"#e89152\" stroke=\"#000000\" points=\"1279.6338,-433 1006.8447,-433 1006.8447,-369 1279.6338,-369 1279.6338,-433\"/>\n",
       "<text text-anchor=\"start\" x=\"1014.7919\" y=\"-417.8\" font-family=\"Times,serif\" font-size=\"14.00\" fill=\"#000000\">licence_registration_Elapsed ≤ 1391342400.0</text>\n",
       "<text text-anchor=\"start\" x=\"1109.1518\" y=\"-403.8\" font-family=\"Times,serif\" font-size=\"14.00\" fill=\"#000000\">gini = 0.199</text>\n",
       "<text text-anchor=\"start\" x=\"1102.7397\" y=\"-389.8\" font-family=\"Times,serif\" font-size=\"14.00\" fill=\"#000000\">samples = 141</text>\n",
       "<text text-anchor=\"start\" x=\"1094.9707\" y=\"-375.8\" font-family=\"Times,serif\" font-size=\"14.00\" fill=\"#000000\">value = [198, 25]</text>\n",
       "</g>\n",
       "<!-- 14&#45;&gt;18 -->\n",
       "<g id=\"edge18\" class=\"edge\">\n",
       "<title>14&#45;&gt;18</title>\n",
       "<path fill=\"none\" stroke=\"#000000\" d=\"M948.5779,-401C964.2151,-401 980.4809,-401 996.651,-401\"/>\n",
       "<polygon fill=\"#000000\" stroke=\"#000000\" points=\"996.7004,-404.5001 1006.7004,-401 996.7003,-397.5001 996.7004,-404.5001\"/>\n",
       "</g>\n",
       "<!-- 16 -->\n",
       "<g id=\"node17\" class=\"node\">\n",
       "<title>16</title>\n",
       "<polygon fill=\"#399de5\" stroke=\"#000000\" points=\"1434.7775,-584 1343.7009,-584 1343.7009,-534 1434.7775,-534 1434.7775,-584\"/>\n",
       "<text text-anchor=\"start\" x=\"1362.1518\" y=\"-568.8\" font-family=\"Times,serif\" font-size=\"14.00\" fill=\"#000000\">gini = 0.0</text>\n",
       "<text text-anchor=\"start\" x=\"1355.7397\" y=\"-554.8\" font-family=\"Times,serif\" font-size=\"14.00\" fill=\"#000000\">samples = 3</text>\n",
       "<text text-anchor=\"start\" x=\"1351.4707\" y=\"-540.8\" font-family=\"Times,serif\" font-size=\"14.00\" fill=\"#000000\">value = [0, 4]</text>\n",
       "</g>\n",
       "<!-- 15&#45;&gt;16 -->\n",
       "<g id=\"edge16\" class=\"edge\">\n",
       "<title>15&#45;&gt;16</title>\n",
       "<path fill=\"none\" stroke=\"#000000\" d=\"M1250.55,-515.0538C1260.4076,-518.0559 1270.236,-521.0708 1279.6865,-524 1297.2233,-529.4357 1316.2964,-535.4821 1333.5394,-540.9992\"/>\n",
       "<polygon fill=\"#000000\" stroke=\"#000000\" points=\"1332.8638,-544.458 1343.455,-544.1778 1335.0007,-537.7922 1332.8638,-544.458\"/>\n",
       "</g>\n",
       "<!-- 17 -->\n",
       "<g id=\"node18\" class=\"node\">\n",
       "<title>17</title>\n",
       "<polygon fill=\"#e58139\" stroke=\"#000000\" points=\"1434.7775,-516 1343.7009,-516 1343.7009,-466 1434.7775,-466 1434.7775,-516\"/>\n",
       "<text text-anchor=\"start\" x=\"1362.1518\" y=\"-500.8\" font-family=\"Times,serif\" font-size=\"14.00\" fill=\"#000000\">gini = 0.0</text>\n",
       "<text text-anchor=\"start\" x=\"1355.7397\" y=\"-486.8\" font-family=\"Times,serif\" font-size=\"14.00\" fill=\"#000000\">samples = 1</text>\n",
       "<text text-anchor=\"start\" x=\"1351.4707\" y=\"-472.8\" font-family=\"Times,serif\" font-size=\"14.00\" fill=\"#000000\">value = [1, 0]</text>\n",
       "</g>\n",
       "<!-- 15&#45;&gt;17 -->\n",
       "<g id=\"edge17\" class=\"edge\">\n",
       "<title>15&#45;&gt;17</title>\n",
       "<path fill=\"none\" stroke=\"#000000\" d=\"M1255.082,-486.6372C1282.2802,-487.5217 1310.212,-488.43 1333.4991,-489.1873\"/>\n",
       "<polygon fill=\"#000000\" stroke=\"#000000\" points=\"1333.4062,-492.686 1343.5147,-489.513 1333.6338,-485.6897 1333.4062,-492.686\"/>\n",
       "</g>\n",
       "<!-- 19 -->\n",
       "<g id=\"node20\" class=\"node\">\n",
       "<title>19</title>\n",
       "<polygon fill=\"#9ccef2\" stroke=\"#000000\" points=\"1434.7775,-448 1343.7009,-448 1343.7009,-398 1434.7775,-398 1434.7775,-448\"/>\n",
       "<text text-anchor=\"start\" x=\"1355.1518\" y=\"-432.8\" font-family=\"Times,serif\" font-size=\"14.00\" fill=\"#000000\">gini = 0.444</text>\n",
       "<text text-anchor=\"start\" x=\"1355.7397\" y=\"-418.8\" font-family=\"Times,serif\" font-size=\"14.00\" fill=\"#000000\">samples = 5</text>\n",
       "<text text-anchor=\"start\" x=\"1351.4707\" y=\"-404.8\" font-family=\"Times,serif\" font-size=\"14.00\" fill=\"#000000\">value = [2, 4]</text>\n",
       "</g>\n",
       "<!-- 18&#45;&gt;19 -->\n",
       "<g id=\"edge19\" class=\"edge\">\n",
       "<title>18&#45;&gt;19</title>\n",
       "<path fill=\"none\" stroke=\"#000000\" d=\"M1279.9074,-413.2224C1298.6861,-414.9018 1317.0344,-416.5427 1333.1724,-417.9859\"/>\n",
       "<polygon fill=\"#000000\" stroke=\"#000000\" points=\"1333.1684,-421.4994 1343.4405,-418.9042 1333.792,-414.5272 1333.1684,-421.4994\"/>\n",
       "</g>\n",
       "<!-- 20 -->\n",
       "<g id=\"node21\" class=\"node\">\n",
       "<title>20</title>\n",
       "<polygon fill=\"#e88e4e\" stroke=\"#000000\" points=\"1445.2773,-380 1333.2012,-380 1333.2012,-330 1445.2773,-330 1445.2773,-380\"/>\n",
       "<text text-anchor=\"start\" x=\"1355.1518\" y=\"-364.8\" font-family=\"Times,serif\" font-size=\"14.00\" fill=\"#000000\">gini = 0.175</text>\n",
       "<text text-anchor=\"start\" x=\"1348.7397\" y=\"-350.8\" font-family=\"Times,serif\" font-size=\"14.00\" fill=\"#000000\">samples = 136</text>\n",
       "<text text-anchor=\"start\" x=\"1340.9707\" y=\"-336.8\" font-family=\"Times,serif\" font-size=\"14.00\" fill=\"#000000\">value = [196, 21]</text>\n",
       "</g>\n",
       "<!-- 18&#45;&gt;20 -->\n",
       "<g id=\"edge20\" class=\"edge\">\n",
       "<title>18&#45;&gt;20</title>\n",
       "<path fill=\"none\" stroke=\"#000000\" d=\"M1279.9074,-375.4442C1294.8008,-372.6592 1309.4234,-369.9249 1322.8874,-367.4072\"/>\n",
       "<polygon fill=\"#000000\" stroke=\"#000000\" points=\"1323.7566,-370.8055 1332.9428,-365.527 1322.4699,-363.9247 1323.7566,-370.8055\"/>\n",
       "</g>\n",
       "<!-- 22 -->\n",
       "<g id=\"node23\" class=\"node\">\n",
       "<title>22</title>\n",
       "<polygon fill=\"#a4d2f3\" stroke=\"#000000\" points=\"1279.6338,-347 1006.8447,-347 1006.8447,-283 1279.6338,-283 1279.6338,-347\"/>\n",
       "<text text-anchor=\"start\" x=\"1014.7919\" y=\"-331.8\" font-family=\"Times,serif\" font-size=\"14.00\" fill=\"#000000\">licence_registration_Elapsed ≤ 1460073600.0</text>\n",
       "<text text-anchor=\"start\" x=\"1109.1518\" y=\"-317.8\" font-family=\"Times,serif\" font-size=\"14.00\" fill=\"#000000\">gini = 0.456</text>\n",
       "<text text-anchor=\"start\" x=\"1102.7397\" y=\"-303.8\" font-family=\"Times,serif\" font-size=\"14.00\" fill=\"#000000\">samples = 216</text>\n",
       "<text text-anchor=\"start\" x=\"1091.727\" y=\"-289.8\" font-family=\"Times,serif\" font-size=\"14.00\" fill=\"#000000\">value = [118, 218]</text>\n",
       "</g>\n",
       "<!-- 21&#45;&gt;22 -->\n",
       "<g id=\"edge22\" class=\"edge\">\n",
       "<title>21&#45;&gt;22</title>\n",
       "<path fill=\"none\" stroke=\"#000000\" d=\"M898.7948,-317.3965C927.0693,-317.1193 961.9248,-316.7776 996.3658,-316.4399\"/>\n",
       "<polygon fill=\"#000000\" stroke=\"#000000\" points=\"996.581,-319.9381 1006.5462,-316.3401 996.5123,-312.9384 996.581,-319.9381\"/>\n",
       "</g>\n",
       "<!-- 25 -->\n",
       "<g id=\"node26\" class=\"node\">\n",
       "<title>25</title>\n",
       "<polygon fill=\"#e58139\" stroke=\"#000000\" points=\"1192.2774,-265 1094.201,-265 1094.201,-215 1192.2774,-215 1192.2774,-265\"/>\n",
       "<text text-anchor=\"start\" x=\"1116.1518\" y=\"-249.8\" font-family=\"Times,serif\" font-size=\"14.00\" fill=\"#000000\">gini = 0.0</text>\n",
       "<text text-anchor=\"start\" x=\"1106.2397\" y=\"-235.8\" font-family=\"Times,serif\" font-size=\"14.00\" fill=\"#000000\">samples = 32</text>\n",
       "<text text-anchor=\"start\" x=\"1101.9707\" y=\"-221.8\" font-family=\"Times,serif\" font-size=\"14.00\" fill=\"#000000\">value = [58, 0]</text>\n",
       "</g>\n",
       "<!-- 21&#45;&gt;25 -->\n",
       "<g id=\"edge25\" class=\"edge\">\n",
       "<title>21&#45;&gt;25</title>\n",
       "<path fill=\"none\" stroke=\"#000000\" d=\"M898.8134,-301.8678C930.9714,-293.4814 970.9823,-283.1077 1006.7919,-274 1032.0488,-267.5762 1059.9677,-260.5978 1083.9367,-254.6442\"/>\n",
       "<polygon fill=\"#000000\" stroke=\"#000000\" points=\"1085.0853,-257.9654 1093.948,-252.1601 1083.3994,-251.1715 1085.0853,-257.9654\"/>\n",
       "</g>\n",
       "<!-- 23 -->\n",
       "<g id=\"node24\" class=\"node\">\n",
       "<title>23</title>\n",
       "<polygon fill=\"#fbece2\" stroke=\"#000000\" points=\"1441.7773,-312 1336.7011,-312 1336.7011,-262 1441.7773,-262 1441.7773,-312\"/>\n",
       "<text text-anchor=\"start\" x=\"1355.1518\" y=\"-296.8\" font-family=\"Times,serif\" font-size=\"14.00\" fill=\"#000000\">gini = 0.497</text>\n",
       "<text text-anchor=\"start\" x=\"1352.2397\" y=\"-282.8\" font-family=\"Times,serif\" font-size=\"14.00\" fill=\"#000000\">samples = 57</text>\n",
       "<text text-anchor=\"start\" x=\"1344.4707\" y=\"-268.8\" font-family=\"Times,serif\" font-size=\"14.00\" fill=\"#000000\">value = [47, 40]</text>\n",
       "</g>\n",
       "<!-- 22&#45;&gt;23 -->\n",
       "<g id=\"edge23\" class=\"edge\">\n",
       "<title>22&#45;&gt;23</title>\n",
       "<path fill=\"none\" stroke=\"#000000\" d=\"M1279.9074,-299.4443C1296.1036,-297.6008 1311.9798,-295.7938 1326.3937,-294.1531\"/>\n",
       "<polygon fill=\"#000000\" stroke=\"#000000\" points=\"1327.0746,-297.5983 1336.6146,-292.9898 1326.2829,-290.6432 1327.0746,-297.5983\"/>\n",
       "</g>\n",
       "<!-- 24 -->\n",
       "<g id=\"node25\" class=\"node\">\n",
       "<title>24</title>\n",
       "<polygon fill=\"#88c4ef\" stroke=\"#000000\" points=\"1445.2773,-244 1333.2012,-244 1333.2012,-194 1445.2773,-194 1445.2773,-244\"/>\n",
       "<text text-anchor=\"start\" x=\"1355.1518\" y=\"-228.8\" font-family=\"Times,serif\" font-size=\"14.00\" fill=\"#000000\">gini = 0.408</text>\n",
       "<text text-anchor=\"start\" x=\"1348.7397\" y=\"-214.8\" font-family=\"Times,serif\" font-size=\"14.00\" fill=\"#000000\">samples = 159</text>\n",
       "<text text-anchor=\"start\" x=\"1340.9707\" y=\"-200.8\" font-family=\"Times,serif\" font-size=\"14.00\" fill=\"#000000\">value = [71, 178]</text>\n",
       "</g>\n",
       "<!-- 22&#45;&gt;24 -->\n",
       "<g id=\"edge24\" class=\"edge\">\n",
       "<title>22&#45;&gt;24</title>\n",
       "<path fill=\"none\" stroke=\"#000000\" d=\"M1255.4757,-282.9902C1263.7266,-280.1143 1271.8721,-277.1084 1279.6865,-274 1297.8732,-266.7657 1317.1318,-257.6309 1334.3449,-248.8947\"/>\n",
       "<polygon fill=\"#000000\" stroke=\"#000000\" points=\"1336.3842,-251.7818 1343.6776,-244.0969 1333.1837,-245.5563 1336.3842,-251.7818\"/>\n",
       "</g>\n",
       "<!-- 27 -->\n",
       "<g id=\"node28\" class=\"node\">\n",
       "<title>27</title>\n",
       "<polygon fill=\"#f2c09c\" stroke=\"#000000\" points=\"639.734,-244 448.7444,-244 448.7444,-180 639.734,-180 639.734,-244\"/>\n",
       "<text text-anchor=\"start\" x=\"456.9921\" y=\"-228.8\" font-family=\"Times,serif\" font-size=\"14.00\" fill=\"#000000\">golive_Elapsed ≤ 729388800.0</text>\n",
       "<text text-anchor=\"start\" x=\"510.1518\" y=\"-214.8\" font-family=\"Times,serif\" font-size=\"14.00\" fill=\"#000000\">gini = 0.444</text>\n",
       "<text text-anchor=\"start\" x=\"510.7397\" y=\"-200.8\" font-family=\"Times,serif\" font-size=\"14.00\" fill=\"#000000\">samples = 2</text>\n",
       "<text text-anchor=\"start\" x=\"506.4707\" y=\"-186.8\" font-family=\"Times,serif\" font-size=\"14.00\" fill=\"#000000\">value = [2, 1]</text>\n",
       "</g>\n",
       "<!-- 26&#45;&gt;27 -->\n",
       "<g id=\"edge27\" class=\"edge\">\n",
       "<title>26&#45;&gt;27</title>\n",
       "<path fill=\"none\" stroke=\"#000000\" d=\"M346.295,-212C373.4515,-212 406.9799,-212 438.6742,-212\"/>\n",
       "<polygon fill=\"#000000\" stroke=\"#000000\" points=\"438.8898,-215.5001 448.8897,-212 438.8897,-208.5001 438.8898,-215.5001\"/>\n",
       "</g>\n",
       "<!-- 30 -->\n",
       "<g id=\"node31\" class=\"node\">\n",
       "<title>30</title>\n",
       "<polygon fill=\"#399de5\" stroke=\"#000000\" points=\"645.927,-132 442.5515,-132 442.5515,-68 645.927,-68 645.927,-132\"/>\n",
       "<text text-anchor=\"start\" x=\"450.3955\" y=\"-116.8\" font-family=\"Times,serif\" font-size=\"14.00\" fill=\"#000000\">last_login_categories_week ≤ 0.5</text>\n",
       "<text text-anchor=\"start\" x=\"510.1518\" y=\"-102.8\" font-family=\"Times,serif\" font-size=\"14.00\" fill=\"#000000\">gini = 0.004</text>\n",
       "<text text-anchor=\"start\" x=\"500.2397\" y=\"-88.8\" font-family=\"Times,serif\" font-size=\"14.00\" fill=\"#000000\">samples = 1752</text>\n",
       "<text text-anchor=\"start\" x=\"495.9707\" y=\"-74.8\" font-family=\"Times,serif\" font-size=\"14.00\" fill=\"#000000\">value = [5, 2748]</text>\n",
       "</g>\n",
       "<!-- 26&#45;&gt;30 -->\n",
       "<g id=\"edge30\" class=\"edge\">\n",
       "<title>26&#45;&gt;30</title>\n",
       "<path fill=\"none\" stroke=\"#000000\" d=\"M346.295,-187.2825C380.2346,-172.317 424.1269,-152.9629 461.9528,-136.2838\"/>\n",
       "<polygon fill=\"#000000\" stroke=\"#000000\" points=\"463.6913,-139.3424 471.4291,-132.1053 460.867,-132.9374 463.6913,-139.3424\"/>\n",
       "</g>\n",
       "<!-- 28 -->\n",
       "<g id=\"node29\" class=\"node\">\n",
       "<title>28</title>\n",
       "<polygon fill=\"#e58139\" stroke=\"#000000\" points=\"882.7775,-268 791.7009,-268 791.7009,-218 882.7775,-218 882.7775,-268\"/>\n",
       "<text text-anchor=\"start\" x=\"810.1518\" y=\"-252.8\" font-family=\"Times,serif\" font-size=\"14.00\" fill=\"#000000\">gini = 0.0</text>\n",
       "<text text-anchor=\"start\" x=\"803.7397\" y=\"-238.8\" font-family=\"Times,serif\" font-size=\"14.00\" fill=\"#000000\">samples = 1</text>\n",
       "<text text-anchor=\"start\" x=\"799.4707\" y=\"-224.8\" font-family=\"Times,serif\" font-size=\"14.00\" fill=\"#000000\">value = [2, 0]</text>\n",
       "</g>\n",
       "<!-- 27&#45;&gt;28 -->\n",
       "<g id=\"edge28\" class=\"edge\">\n",
       "<title>27&#45;&gt;28</title>\n",
       "<path fill=\"none\" stroke=\"#000000\" d=\"M639.7729,-222.1077C686.6287,-227.0651 741.4305,-232.8632 781.3985,-237.0919\"/>\n",
       "<polygon fill=\"#000000\" stroke=\"#000000\" points=\"781.171,-240.5873 791.4837,-238.159 781.9075,-233.6262 781.171,-240.5873\"/>\n",
       "</g>\n",
       "<!-- 29 -->\n",
       "<g id=\"node30\" class=\"node\">\n",
       "<title>29</title>\n",
       "<polygon fill=\"#399de5\" stroke=\"#000000\" points=\"882.7775,-200 791.7009,-200 791.7009,-150 882.7775,-150 882.7775,-200\"/>\n",
       "<text text-anchor=\"start\" x=\"810.1518\" y=\"-184.8\" font-family=\"Times,serif\" font-size=\"14.00\" fill=\"#000000\">gini = 0.0</text>\n",
       "<text text-anchor=\"start\" x=\"803.7397\" y=\"-170.8\" font-family=\"Times,serif\" font-size=\"14.00\" fill=\"#000000\">samples = 1</text>\n",
       "<text text-anchor=\"start\" x=\"799.4707\" y=\"-156.8\" font-family=\"Times,serif\" font-size=\"14.00\" fill=\"#000000\">value = [0, 1]</text>\n",
       "</g>\n",
       "<!-- 27&#45;&gt;29 -->\n",
       "<g id=\"edge29\" class=\"edge\">\n",
       "<title>27&#45;&gt;29</title>\n",
       "<path fill=\"none\" stroke=\"#000000\" d=\"M639.7729,-199.936C686.6287,-194.0191 741.4305,-187.0987 781.3985,-182.0516\"/>\n",
       "<polygon fill=\"#000000\" stroke=\"#000000\" points=\"782.0011,-185.5034 791.4837,-180.778 781.124,-178.5585 782.0011,-185.5034\"/>\n",
       "</g>\n",
       "<!-- 31 -->\n",
       "<g id=\"node32\" class=\"node\">\n",
       "<title>31</title>\n",
       "<polygon fill=\"#399de5\" stroke=\"#000000\" points=\"893.2773,-132 781.2012,-132 781.2012,-68 893.2773,-68 893.2773,-132\"/>\n",
       "<text text-anchor=\"start\" x=\"790.437\" y=\"-116.8\" font-family=\"Times,serif\" font-size=\"14.00\" fill=\"#000000\">cases_total ≤ 3.5</text>\n",
       "<text text-anchor=\"start\" x=\"803.1518\" y=\"-102.8\" font-family=\"Times,serif\" font-size=\"14.00\" fill=\"#000000\">gini = 0.003</text>\n",
       "<text text-anchor=\"start\" x=\"793.2397\" y=\"-88.8\" font-family=\"Times,serif\" font-size=\"14.00\" fill=\"#000000\">samples = 1751</text>\n",
       "<text text-anchor=\"start\" x=\"788.9707\" y=\"-74.8\" font-family=\"Times,serif\" font-size=\"14.00\" fill=\"#000000\">value = [4, 2748]</text>\n",
       "</g>\n",
       "<!-- 30&#45;&gt;31 -->\n",
       "<g id=\"edge31\" class=\"edge\">\n",
       "<title>30&#45;&gt;31</title>\n",
       "<path fill=\"none\" stroke=\"#000000\" d=\"M646.3051,-100C687.6687,-100 734.2524,-100 771.0515,-100\"/>\n",
       "<polygon fill=\"#000000\" stroke=\"#000000\" points=\"771.1589,-103.5001 781.1588,-100 771.1588,-96.5001 771.1589,-103.5001\"/>\n",
       "</g>\n",
       "<!-- 36 -->\n",
       "<g id=\"node37\" class=\"node\">\n",
       "<title>36</title>\n",
       "<polygon fill=\"#e58139\" stroke=\"#000000\" points=\"882.7775,-50 791.7009,-50 791.7009,0 882.7775,0 882.7775,-50\"/>\n",
       "<text text-anchor=\"start\" x=\"810.1518\" y=\"-34.8\" font-family=\"Times,serif\" font-size=\"14.00\" fill=\"#000000\">gini = 0.0</text>\n",
       "<text text-anchor=\"start\" x=\"803.7397\" y=\"-20.8\" font-family=\"Times,serif\" font-size=\"14.00\" fill=\"#000000\">samples = 1</text>\n",
       "<text text-anchor=\"start\" x=\"799.4707\" y=\"-6.8\" font-family=\"Times,serif\" font-size=\"14.00\" fill=\"#000000\">value = [1, 0]</text>\n",
       "</g>\n",
       "<!-- 30&#45;&gt;36 -->\n",
       "<g id=\"edge36\" class=\"edge\">\n",
       "<title>30&#45;&gt;36</title>\n",
       "<path fill=\"none\" stroke=\"#000000\" d=\"M646.3051,-73.8739C691.7873,-62.2317 743.5808,-48.974 781.7379,-39.2068\"/>\n",
       "<polygon fill=\"#000000\" stroke=\"#000000\" points=\"782.8066,-42.5462 791.6263,-36.6756 781.0707,-35.7648 782.8066,-42.5462\"/>\n",
       "</g>\n",
       "<!-- 32 -->\n",
       "<g id=\"node33\" class=\"node\">\n",
       "<title>32</title>\n",
       "<polygon fill=\"#e58139\" stroke=\"#000000\" points=\"1188.7775,-154 1097.7009,-154 1097.7009,-104 1188.7775,-104 1188.7775,-154\"/>\n",
       "<text text-anchor=\"start\" x=\"1116.1518\" y=\"-138.8\" font-family=\"Times,serif\" font-size=\"14.00\" fill=\"#000000\">gini = 0.0</text>\n",
       "<text text-anchor=\"start\" x=\"1109.7397\" y=\"-124.8\" font-family=\"Times,serif\" font-size=\"14.00\" fill=\"#000000\">samples = 1</text>\n",
       "<text text-anchor=\"start\" x=\"1105.4707\" y=\"-110.8\" font-family=\"Times,serif\" font-size=\"14.00\" fill=\"#000000\">value = [1, 0]</text>\n",
       "</g>\n",
       "<!-- 31&#45;&gt;32 -->\n",
       "<g id=\"edge32\" class=\"edge\">\n",
       "<title>31&#45;&gt;32</title>\n",
       "<path fill=\"none\" stroke=\"#000000\" d=\"M893.3643,-105.319C948.4755,-110.542 1032.0741,-118.4647 1087.167,-123.686\"/>\n",
       "<polygon fill=\"#000000\" stroke=\"#000000\" points=\"1087.163,-127.2012 1097.4486,-124.6604 1087.8235,-120.2324 1087.163,-127.2012\"/>\n",
       "</g>\n",
       "<!-- 33 -->\n",
       "<g id=\"node34\" class=\"node\">\n",
       "<title>33</title>\n",
       "<polygon fill=\"#399de5\" stroke=\"#000000\" points=\"1199.2773,-86 1087.2012,-86 1087.2012,-22 1199.2773,-22 1199.2773,-86\"/>\n",
       "<text text-anchor=\"start\" x=\"1115.0957\" y=\"-70.8\" font-family=\"Times,serif\" font-size=\"14.00\" fill=\"#000000\">plan ≤ 7.0</text>\n",
       "<text text-anchor=\"start\" x=\"1109.1518\" y=\"-56.8\" font-family=\"Times,serif\" font-size=\"14.00\" fill=\"#000000\">gini = 0.002</text>\n",
       "<text text-anchor=\"start\" x=\"1099.2397\" y=\"-42.8\" font-family=\"Times,serif\" font-size=\"14.00\" fill=\"#000000\">samples = 1750</text>\n",
       "<text text-anchor=\"start\" x=\"1094.9707\" y=\"-28.8\" font-family=\"Times,serif\" font-size=\"14.00\" fill=\"#000000\">value = [3, 2748]</text>\n",
       "</g>\n",
       "<!-- 31&#45;&gt;33 -->\n",
       "<g id=\"edge33\" class=\"edge\">\n",
       "<title>31&#45;&gt;33</title>\n",
       "<path fill=\"none\" stroke=\"#000000\" d=\"M893.3643,-91.5629C945.1791,-83.7737 1022.1753,-72.1992 1076.9872,-63.9594\"/>\n",
       "<polygon fill=\"#000000\" stroke=\"#000000\" points=\"1077.584,-67.4091 1086.9526,-62.4614 1076.5434,-60.4869 1077.584,-67.4091\"/>\n",
       "</g>\n",
       "<!-- 34 -->\n",
       "<g id=\"node35\" class=\"node\">\n",
       "<title>34</title>\n",
       "<polygon fill=\"#41a1e6\" stroke=\"#000000\" points=\"1438.2774,-141 1340.201,-141 1340.201,-91 1438.2774,-91 1438.2774,-141\"/>\n",
       "<text text-anchor=\"start\" x=\"1355.1518\" y=\"-125.8\" font-family=\"Times,serif\" font-size=\"14.00\" fill=\"#000000\">gini = 0.071</text>\n",
       "<text text-anchor=\"start\" x=\"1352.2397\" y=\"-111.8\" font-family=\"Times,serif\" font-size=\"14.00\" fill=\"#000000\">samples = 16</text>\n",
       "<text text-anchor=\"start\" x=\"1347.9707\" y=\"-97.8\" font-family=\"Times,serif\" font-size=\"14.00\" fill=\"#000000\">value = [1, 26]</text>\n",
       "</g>\n",
       "<!-- 33&#45;&gt;34 -->\n",
       "<g id=\"edge34\" class=\"edge\">\n",
       "<title>33&#45;&gt;34</title>\n",
       "<path fill=\"none\" stroke=\"#000000\" d=\"M1199.3682,-68.1463C1238.4556,-77.9976 1290.4875,-91.1114 1330.1975,-101.1196\"/>\n",
       "<polygon fill=\"#000000\" stroke=\"#000000\" points=\"1329.4602,-104.5431 1340.0124,-103.5932 1331.171,-97.7554 1329.4602,-104.5431\"/>\n",
       "</g>\n",
       "<!-- 35 -->\n",
       "<g id=\"node36\" class=\"node\">\n",
       "<title>35</title>\n",
       "<polygon fill=\"#399de5\" stroke=\"#000000\" points=\"1445.2773,-73 1333.2012,-73 1333.2012,-23 1445.2773,-23 1445.2773,-73\"/>\n",
       "<text text-anchor=\"start\" x=\"1355.1518\" y=\"-57.8\" font-family=\"Times,serif\" font-size=\"14.00\" fill=\"#000000\">gini = 0.001</text>\n",
       "<text text-anchor=\"start\" x=\"1345.2397\" y=\"-43.8\" font-family=\"Times,serif\" font-size=\"14.00\" fill=\"#000000\">samples = 1734</text>\n",
       "<text text-anchor=\"start\" x=\"1340.9707\" y=\"-29.8\" font-family=\"Times,serif\" font-size=\"14.00\" fill=\"#000000\">value = [2, 2722]</text>\n",
       "</g>\n",
       "<!-- 33&#45;&gt;35 -->\n",
       "<g id=\"edge35\" class=\"edge\">\n",
       "<title>33&#45;&gt;35</title>\n",
       "<path fill=\"none\" stroke=\"#000000\" d=\"M1199.3682,-52.631C1236.077,-51.7357 1284.2029,-50.5619 1322.8169,-49.6201\"/>\n",
       "<polygon fill=\"#000000\" stroke=\"#000000\" points=\"1323.0143,-53.1164 1332.926,-49.3735 1322.8436,-46.1185 1323.0143,-53.1164\"/>\n",
       "</g>\n",
       "</g>\n",
       "</svg>\n"
      ],
      "text/plain": [
       "<graphviz.files.Source at 0x1c3025f5f8>"
      ]
     },
     "metadata": {},
     "output_type": "display_data"
    }
   ],
   "source": [
    "draw_tree(m.estimators_[10], df_trn, precision=3)"
   ]
  },
  {
   "cell_type": "code",
   "execution_count": 293,
   "metadata": {},
   "outputs": [
    {
     "data": {
      "text/html": [
       "<div>\n",
       "<style scoped>\n",
       "    .dataframe tbody tr th:only-of-type {\n",
       "        vertical-align: middle;\n",
       "    }\n",
       "\n",
       "    .dataframe tbody tr th {\n",
       "        vertical-align: top;\n",
       "    }\n",
       "\n",
       "    .dataframe thead th {\n",
       "        text-align: right;\n",
       "    }\n",
       "</style>\n",
       "<table border=\"1\" class=\"dataframe\">\n",
       "  <thead>\n",
       "    <tr style=\"text-align: right;\">\n",
       "      <th></th>\n",
       "      <th>cols</th>\n",
       "      <th>imp</th>\n",
       "    </tr>\n",
       "  </thead>\n",
       "  <tbody>\n",
       "    <tr>\n",
       "      <td>56</td>\n",
       "      <td>annual_revenue_na</td>\n",
       "      <td>0.464906</td>\n",
       "    </tr>\n",
       "    <tr>\n",
       "      <td>9</td>\n",
       "      <td>last_login_days</td>\n",
       "      <td>0.302785</td>\n",
       "    </tr>\n",
       "    <tr>\n",
       "      <td>53</td>\n",
       "      <td>last_login_concern_na</td>\n",
       "      <td>0.101526</td>\n",
       "    </tr>\n",
       "    <tr>\n",
       "      <td>16</td>\n",
       "      <td>annual_revenue</td>\n",
       "      <td>0.038533</td>\n",
       "    </tr>\n",
       "    <tr>\n",
       "      <td>10</td>\n",
       "      <td>last_login_concern</td>\n",
       "      <td>0.015706</td>\n",
       "    </tr>\n",
       "    <tr>\n",
       "      <td>58</td>\n",
       "      <td>interactions_completed_na</td>\n",
       "      <td>0.010404</td>\n",
       "    </tr>\n",
       "    <tr>\n",
       "      <td>60</td>\n",
       "      <td>interactions_no_onboarding_na</td>\n",
       "      <td>0.009631</td>\n",
       "    </tr>\n",
       "    <tr>\n",
       "      <td>57</td>\n",
       "      <td>interactions_total_na</td>\n",
       "      <td>0.009456</td>\n",
       "    </tr>\n",
       "    <tr>\n",
       "      <td>59</td>\n",
       "      <td>interactions_no_response_na</td>\n",
       "      <td>0.009296</td>\n",
       "    </tr>\n",
       "    <tr>\n",
       "      <td>61</td>\n",
       "      <td>interactions_completed_training_na</td>\n",
       "      <td>0.007317</td>\n",
       "    </tr>\n",
       "  </tbody>\n",
       "</table>\n",
       "</div>"
      ],
      "text/plain": [
       "                                  cols       imp\n",
       "56                   annual_revenue_na  0.464906\n",
       "9                      last_login_days  0.302785\n",
       "53               last_login_concern_na  0.101526\n",
       "16                      annual_revenue  0.038533\n",
       "10                  last_login_concern  0.015706\n",
       "58           interactions_completed_na  0.010404\n",
       "60       interactions_no_onboarding_na  0.009631\n",
       "57               interactions_total_na  0.009456\n",
       "59         interactions_no_response_na  0.009296\n",
       "61  interactions_completed_training_na  0.007317"
      ]
     },
     "execution_count": 293,
     "metadata": {},
     "output_type": "execute_result"
    }
   ],
   "source": [
    "fi = rf_feat_importance(m, df_trn); fi[:10]"
   ]
  },
  {
   "cell_type": "code",
   "execution_count": 294,
   "metadata": {},
   "outputs": [
    {
     "data": {
      "image/png": "[encoded data removed]",
      "text/plain": [
       "<Figure size 720x432 with 1 Axes>"
      ]
     },
     "metadata": {
      "needs_background": "light"
     },
     "output_type": "display_data"
    }
   ],
   "source": [
    "fi.plot('cols', 'imp', figsize=(10,6), legend=False);"
   ]
  },
  {
   "cell_type": "code",
   "execution_count": 295,
   "metadata": {},
   "outputs": [],
   "source": [
    "def plot_fi(fi): return fi.plot('cols', 'imp', 'barh', figsize=(12,7), legend=False)"
   ]
  },
  {
   "cell_type": "code",
   "execution_count": 296,
   "metadata": {},
   "outputs": [
    {
     "data": {
      "image/png": "[encoded data removed]",
      "text/plain": [
       "<Figure size 864x504 with 1 Axes>"
      ]
     },
     "metadata": {
      "needs_background": "light"
     },
     "output_type": "display_data"
    }
   ],
   "source": [
    "plot_fi(fi[:30]);"
   ]
  },
  {
   "cell_type": "code",
   "execution_count": 297,
   "metadata": {},
   "outputs": [
    {
     "data": {
      "text/plain": [
       "12"
      ]
     },
     "execution_count": 297,
     "metadata": {},
     "output_type": "execute_result"
    }
   ],
   "source": [
    "to_keep = fi[fi.imp>0.005].cols; len(to_keep)"
   ]
  },
  {
   "cell_type": "code",
   "execution_count": 298,
   "metadata": {},
   "outputs": [],
   "source": [
    "df_keep = df_trn[to_keep].copy()\n",
    "X_train, X_valid = split_vals(df_keep, n_trn)"
   ]
  },
  {
   "cell_type": "code",
   "execution_count": 299,
   "metadata": {},
   "outputs": [
    {
     "data": {
      "text/plain": [
       "0.965485247726851"
      ]
     },
     "execution_count": 299,
     "metadata": {},
     "output_type": "execute_result"
    }
   ],
   "source": [
    "m = RandomForestClassifier(n_estimators=40, min_samples_leaf=3, max_features=0.5, n_jobs=-1, oob_score=True)\n",
    "m.fit(X_train, y_train);\n",
    "m.oob_score_"
   ]
  },
  {
   "cell_type": "code",
   "execution_count": 300,
   "metadata": {},
   "outputs": [
    {
     "data": {
      "image/png": "[encoded data removed]",
      "text/plain": [
       "<Figure size 864x504 with 1 Axes>"
      ]
     },
     "metadata": {
      "needs_background": "light"
     },
     "output_type": "display_data"
    }
   ],
   "source": [
    "fi = rf_feat_importance(m, df_keep)\n",
    "plot_fi(fi);"
   ]
  },
  {
   "cell_type": "code",
   "execution_count": 301,
   "metadata": {},
   "outputs": [],
   "source": [
    "from scipy.cluster import hierarchy as hc"
   ]
  },
  {
   "cell_type": "code",
   "execution_count": 302,
   "metadata": {},
   "outputs": [
    {
     "data": {
      "image/png": "[encoded data removed]",
      "text/plain": [
       "<Figure size 1152x720 with 1 Axes>"
      ]
     },
     "metadata": {
      "needs_background": "light"
     },
     "output_type": "display_data"
    }
   ],
   "source": [
    "\n",
    "corr = np.round(scipy.stats.spearmanr(df_keep).correlation, 4)\n",
    "corr_condensed = hc.distance.squareform(1-corr)\n",
    "z = hc.linkage(corr_condensed, method='average')\n",
    "fig = plt.figure(figsize=(16,10))\n",
    "dendrogram = hc.dendrogram(z, labels=df_keep.columns, orientation='left', leaf_font_size=16)\n",
    "plt.show()"
   ]
  },
  {
   "cell_type": "code",
   "execution_count": 303,
   "metadata": {},
   "outputs": [],
   "source": [
    "def get_oob(df):\n",
    "    m = RandomForestClassifier(n_estimators=300, min_samples_leaf=1, max_features=0.6, n_jobs=-1, oob_score=True)\n",
    "    x, _ = split_vals(df, n_trn)\n",
    "    m.fit(x, y_train)\n",
    "    return m.oob_score_"
   ]
  },
  {
   "cell_type": "code",
   "execution_count": 304,
   "metadata": {},
   "outputs": [
    {
     "data": {
      "text/plain": [
       "0.9641863054370013"
      ]
     },
     "execution_count": 304,
     "metadata": {},
     "output_type": "execute_result"
    }
   ],
   "source": [
    "get_oob(df_keep)"
   ]
  },
  {
   "cell_type": "code",
   "execution_count": 305,
   "metadata": {},
   "outputs": [
    {
     "name": "stdout",
     "output_type": "stream",
     "text": [
      "annual_revenue_na 0.9643718686212656 -0.002597884579699339\n",
      "interactions_no_response_na 0.9638151790684728 -0.0027834477639636646\n",
      "interactions_no_onboarding_na 0.9638151790684728 -0.002412321395435124\n",
      "interactions_total_na 0.96325848951568 -0.002412321395435124\n",
      "interactions_completed_training_na 0.964742994989794 -0.002597884579699339\n",
      "account_status_Suspended 0.9634440526999444 -0.0022267582111709094\n",
      "is_suspended 0.9627017999628874 -0.002597884579699339\n"
     ]
    }
   ],
   "source": [
    "correlated_fields = ['annual_revenue_na', 'interactions_no_response_na', 'interactions_no_onboarding_na', 'interactions_total_na', 'interactions_completed_training_na', 'account_status_Suspended', 'is_suspended']\n",
    "for c in (correlated_fields):\n",
    "    print(c, get_oob(df_keep.drop(c, axis=1)), get_oob(df_keep.drop(c, axis=1))-0.9660419372796437)"
   ]
  },
  {
   "cell_type": "code",
   "execution_count": 306,
   "metadata": {},
   "outputs": [
    {
     "data": {
      "text/plain": [
       "0.9582482835405456"
      ]
     },
     "execution_count": 306,
     "metadata": {},
     "output_type": "execute_result"
    }
   ],
   "source": [
    "get_oob(df_keep.drop(correlated_fields, axis=1))"
   ]
  },
  {
   "cell_type": "code",
   "execution_count": 307,
   "metadata": {},
   "outputs": [],
   "source": [
    "to_drop = ['is_suspended', 'interactions_no_onboarding_na', 'annual_revenue_na']\n",
    "df_keep.drop(to_drop, axis=1, inplace=True)\n",
    "X_train, X_valid = split_vals(df_keep, n_trn)"
   ]
  },
  {
   "cell_type": "code",
   "execution_count": 308,
   "metadata": {},
   "outputs": [
    {
     "data": {
      "text/plain": [
       "RandomForestClassifier(bootstrap=True, class_weight=None, criterion='gini',\n",
       "                       max_depth=None, max_features=0.5, max_leaf_nodes=None,\n",
       "                       min_impurity_decrease=0.0, min_impurity_split=None,\n",
       "                       min_samples_leaf=3, min_samples_split=2,\n",
       "                       min_weight_fraction_leaf=0.0, n_estimators=400,\n",
       "                       n_jobs=-1, oob_score=True, random_state=None, verbose=0,\n",
       "                       warm_start=False)"
      ]
     },
     "execution_count": 308,
     "metadata": {},
     "output_type": "execute_result"
    }
   ],
   "source": [
    "m = RandomForestClassifier(n_estimators=400, min_samples_leaf=3, max_features=0.5, n_jobs=-1, oob_score=True)\n",
    "m.fit(X_train, y_train)"
   ]
  },
  {
   "cell_type": "code",
   "execution_count": 309,
   "metadata": {},
   "outputs": [
    {
     "data": {
      "image/png": "[encoded data removed]",
      "text/plain": [
       "<Figure size 864x504 with 1 Axes>"
      ]
     },
     "metadata": {
      "needs_background": "light"
     },
     "output_type": "display_data"
    }
   ],
   "source": [
    "fi = rf_feat_importance(m, df_keep)\n",
    "plot_fi(fi);"
   ]
  },
  {
   "cell_type": "code",
   "execution_count": 310,
   "metadata": {},
   "outputs": [
    {
     "data": {
      "text/plain": [
       "(0.928, 0.7692307692307692)"
      ]
     },
     "execution_count": 310,
     "metadata": {},
     "output_type": "execute_result"
    }
   ],
   "source": [
    "validate_predictions = m.predict(X_valid)\n",
    "accuracy_score(y_valid, validate_predictions), f1_score(y_valid, validate_predictions)"
   ]
  },
  {
   "cell_type": "code",
   "execution_count": null,
   "metadata": {},
   "outputs": [],
   "source": []
  }
 ],
 "metadata": {
  "kernelspec": {
   "display_name": "Python 3",
   "language": "python",
   "name": "python3"
  },
  "language_info": {
   "codemirror_mode": {
    "name": "ipython",
    "version": 3
   },
   "file_extension": ".py",
   "mimetype": "text/x-python",
   "name": "python",
   "nbconvert_exporter": "python",
   "pygments_lexer": "ipython3",
   "version": "3.6.9"
  }
 },
 "nbformat": 4,
 "nbformat_minor": 2
}
