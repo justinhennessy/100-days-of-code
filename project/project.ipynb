{
 "cells": [
  {
   "cell_type": "code",
   "execution_count": 1,
   "metadata": {},
   "outputs": [],
   "source": [
    "%reload_ext autoreload"
   ]
  },
  {
   "cell_type": "code",
   "execution_count": 145,
   "metadata": {},
   "outputs": [
    {
     "name": "stdout",
     "output_type": "stream",
     "text": [
      "The autoreload extension is already loaded. To reload it, use:\n",
      "  %reload_ext autoreload\n"
     ]
    }
   ],
   "source": [
    "# Imports\n",
    "\n",
    "%load_ext autoreload\n",
    "%autoreload 2\n",
    "\n",
    "%matplotlib inline\n",
    "from fastai.imports import *\n",
    "from fastai.structured import *\n",
    "from pandas_summary import DataFrameSummary\n",
    "from sklearn.ensemble import RandomForestRegressor, RandomForestClassifier\n",
    "from IPython.display import display\n",
    "from sklearn import metrics\n",
    "from sklearn.metrics import f1_score, accuracy_score, confusion_matrix, precision_score, recall_score, roc_curve,roc_auc_score\n",
    "from tabulate import tabulate\n",
    "import numpy as np\n",
    "from sklearn.model_selection import GridSearchCV\n",
    "import random \n",
    "\n",
    "set_plot_sizes(12,14,16)"
   ]
  },
  {
   "cell_type": "code",
   "execution_count": 146,
   "metadata": {},
   "outputs": [],
   "source": [
    "# Load in data\n",
    "\n",
    "PATH = \"../../data/\"\n",
    "df_raw = pd.read_csv(f'{PATH}churn.csv', low_memory=False, \n",
    "                     parse_dates=['canceldate', 'licence_registration_date', 'golive_date'])"
   ]
  },
  {
   "cell_type": "code",
   "execution_count": 147,
   "metadata": {},
   "outputs": [
    {
     "ename": "AttributeError",
     "evalue": "'DataFrame' object has no attribute 'sort'",
     "output_type": "error",
     "traceback": [
      "\u001b[0;31m---------------------------------------------------------------------------\u001b[0m",
      "\u001b[0;31mAttributeError\u001b[0m                            Traceback (most recent call last)",
      "\u001b[0;32m<ipython-input-147-a89f0220ba63>\u001b[0m in \u001b[0;36m<module>\u001b[0;34m\u001b[0m\n\u001b[0;32m----> 1\u001b[0;31m \u001b[0mdf_raw\u001b[0m \u001b[0;34m=\u001b[0m \u001b[0mdf_raw\u001b[0m\u001b[0;34m.\u001b[0m\u001b[0msort\u001b[0m\u001b[0;34m(\u001b[0m\u001b[0;34m\"licence_registration_date\"\u001b[0m\u001b[0;34m)\u001b[0m\u001b[0;34m\u001b[0m\u001b[0;34m\u001b[0m\u001b[0m\n\u001b[0m\u001b[1;32m      2\u001b[0m \u001b[0;34m\u001b[0m\u001b[0m\n\u001b[1;32m      3\u001b[0m \u001b[0mdf_raw\u001b[0m\u001b[0;34m.\u001b[0m\u001b[0mlicence_registration_date\u001b[0m\u001b[0;34m.\u001b[0m\u001b[0mhead\u001b[0m\u001b[0;34m(\u001b[0m\u001b[0;36m5\u001b[0m\u001b[0;34m)\u001b[0m\u001b[0;34m,\u001b[0m \u001b[0mdf_raw\u001b[0m\u001b[0;34m.\u001b[0m\u001b[0mlicence_registration_date\u001b[0m\u001b[0;34m.\u001b[0m\u001b[0mtail\u001b[0m\u001b[0;34m(\u001b[0m\u001b[0;36m5\u001b[0m\u001b[0;34m)\u001b[0m\u001b[0;34m\u001b[0m\u001b[0;34m\u001b[0m\u001b[0m\n",
      "\u001b[0;32m~/anaconda3/envs/fastai/lib/python3.6/site-packages/pandas/core/generic.py\u001b[0m in \u001b[0;36m__getattr__\u001b[0;34m(self, name)\u001b[0m\n\u001b[1;32m   5177\u001b[0m             \u001b[0;32mif\u001b[0m \u001b[0mself\u001b[0m\u001b[0;34m.\u001b[0m\u001b[0m_info_axis\u001b[0m\u001b[0;34m.\u001b[0m\u001b[0m_can_hold_identifiers_and_holds_name\u001b[0m\u001b[0;34m(\u001b[0m\u001b[0mname\u001b[0m\u001b[0;34m)\u001b[0m\u001b[0;34m:\u001b[0m\u001b[0;34m\u001b[0m\u001b[0;34m\u001b[0m\u001b[0m\n\u001b[1;32m   5178\u001b[0m                 \u001b[0;32mreturn\u001b[0m \u001b[0mself\u001b[0m\u001b[0;34m[\u001b[0m\u001b[0mname\u001b[0m\u001b[0;34m]\u001b[0m\u001b[0;34m\u001b[0m\u001b[0;34m\u001b[0m\u001b[0m\n\u001b[0;32m-> 5179\u001b[0;31m             \u001b[0;32mreturn\u001b[0m \u001b[0mobject\u001b[0m\u001b[0;34m.\u001b[0m\u001b[0m__getattribute__\u001b[0m\u001b[0;34m(\u001b[0m\u001b[0mself\u001b[0m\u001b[0;34m,\u001b[0m \u001b[0mname\u001b[0m\u001b[0;34m)\u001b[0m\u001b[0;34m\u001b[0m\u001b[0;34m\u001b[0m\u001b[0m\n\u001b[0m\u001b[1;32m   5180\u001b[0m \u001b[0;34m\u001b[0m\u001b[0m\n\u001b[1;32m   5181\u001b[0m     \u001b[0;32mdef\u001b[0m \u001b[0m__setattr__\u001b[0m\u001b[0;34m(\u001b[0m\u001b[0mself\u001b[0m\u001b[0;34m,\u001b[0m \u001b[0mname\u001b[0m\u001b[0;34m,\u001b[0m \u001b[0mvalue\u001b[0m\u001b[0;34m)\u001b[0m\u001b[0;34m:\u001b[0m\u001b[0;34m\u001b[0m\u001b[0;34m\u001b[0m\u001b[0m\n",
      "\u001b[0;31mAttributeError\u001b[0m: 'DataFrame' object has no attribute 'sort'"
     ]
    }
   ],
   "source": [
    "df_raw = df_raw.sort(\"licence_registration_date\")\n",
    "\n",
    "df_raw.licence_registration_date.head(5), df_raw.licence_registration_date.tail(5)"
   ]
  },
  {
   "cell_type": "code",
   "execution_count": 148,
   "metadata": {},
   "outputs": [],
   "source": [
    "# Convert annual_revenue from a string to a float\n",
    "\n",
    "df_raw['annual_revenue'] = pd.to_numeric(df_raw['annual_revenue'].str.replace(',', ''))"
   ]
  },
  {
   "cell_type": "code",
   "execution_count": 149,
   "metadata": {},
   "outputs": [
    {
     "data": {
      "text/plain": [
       "(3109, 2780)"
      ]
     },
     "execution_count": 149,
     "metadata": {},
     "output_type": "execute_result"
    }
   ],
   "source": [
    "len(df_raw[df_raw['churned'] == 1]), len(df_raw[df_raw['churned'] == 0])"
   ]
  },
  {
   "cell_type": "code",
   "execution_count": 150,
   "metadata": {},
   "outputs": [
    {
     "name": "stdout",
     "output_type": "stream",
     "text": [
      "Column                                     Mean    Median             Std    coefficient of variation\n",
      "-------------------------------  --------------  --------  --------------  --------------------------\n",
      "days_active                         679.202         525     564.891                          0.831698\n",
      "nps                                   4.40672         5       3.5339                         0.801936\n",
      "last_login_days                      26.1673          0      59.6729                         2.28044\n",
      "last_login_concern                    0.287724        0       0.452774                       1.57364\n",
      "golive_days                          67.6303          4     142.993                          2.11433\n",
      "cases_total                           9.12935         5      13.0971                         1.43462\n",
      "cases_open                            0.791624        0       1.37527                        1.73727\n",
      "cases_closed                          0.791624        0       1.37527                        1.73727\n",
      "cases_age_hours_total              2298.93         1204    3299.56                           1.43526\n",
      "cases_age_hours_average             318.486         249.2   299.416                          0.940122\n",
      "annual_revenue                   543383           41430       2.04396e+06                    3.76155\n",
      "interactions_total                    1.92829         2       1.00275                        0.520018\n",
      "interactions_completed                1.72931         2       0.999613                       0.57804\n",
      "interactions_no_response              0.122143        0       0.343953                       2.81597\n",
      "interactions_no_onboarding            0.0768322       0       0.276542                       3.5993\n",
      "interactions_completed_training       0.0141844       0       0.118274                       8.33831\n",
      "churn_concern_cases_total             1.10425         1       0.394661                       0.357403\n",
      "churn_concern_cases_open              0.100386        0       0.301096                       2.99938\n",
      "total_churn_concern_cases_age       922.382         455    1265.94                           1.37247\n",
      "churn_concern_cases_avg_hours       844.97          398    1180.63                           1.39724\n",
      "churned                               0.527933        1       0.499262                       0.94569\n"
     ]
    }
   ],
   "source": [
    "array = []\n",
    "for column_name in df_raw.select_dtypes(include=['float64', 'int64']).columns:\n",
    "    mean = df_raw[column_name].mean()\n",
    "    median = df_raw[column_name].median()\n",
    "    std = df_raw[column_name].std()\n",
    "    cv = df_raw[column_name].std()/df_raw[column_name].mean()\n",
    "    array.append([column_name, mean, median, std, cv])\n",
    "    \n",
    "    \n",
    "print(tabulate(array,headers=['Column', 'Mean', 'Median', 'Std', 'coefficient of variation']))"
   ]
  },
  {
   "cell_type": "code",
   "execution_count": 151,
   "metadata": {},
   "outputs": [
    {
     "data": {
      "text/html": [
       "<div>\n",
       "<style scoped>\n",
       "    .dataframe tbody tr th:only-of-type {\n",
       "        vertical-align: middle;\n",
       "    }\n",
       "\n",
       "    .dataframe tbody tr th {\n",
       "        vertical-align: top;\n",
       "    }\n",
       "\n",
       "    .dataframe thead th {\n",
       "        text-align: right;\n",
       "    }\n",
       "</style>\n",
       "<table border=\"1\" class=\"dataframe\">\n",
       "  <thead>\n",
       "    <tr style=\"text-align: right;\">\n",
       "      <th></th>\n",
       "      <th>days_active</th>\n",
       "      <th>nps</th>\n",
       "      <th>last_login_days</th>\n",
       "      <th>last_login_concern</th>\n",
       "      <th>golive_days</th>\n",
       "      <th>cases_total</th>\n",
       "      <th>cases_open</th>\n",
       "      <th>cases_closed</th>\n",
       "      <th>cases_age_hours_total</th>\n",
       "      <th>cases_age_hours_average</th>\n",
       "      <th>...</th>\n",
       "      <th>interactions_total</th>\n",
       "      <th>interactions_completed</th>\n",
       "      <th>interactions_no_response</th>\n",
       "      <th>interactions_no_onboarding</th>\n",
       "      <th>interactions_completed_training</th>\n",
       "      <th>churn_concern_cases_total</th>\n",
       "      <th>churn_concern_cases_open</th>\n",
       "      <th>total_churn_concern_cases_age</th>\n",
       "      <th>churn_concern_cases_avg_hours</th>\n",
       "      <th>churned</th>\n",
       "    </tr>\n",
       "  </thead>\n",
       "  <tbody>\n",
       "    <tr>\n",
       "      <td>days_active</td>\n",
       "      <td>1.000000</td>\n",
       "      <td>-0.097660</td>\n",
       "      <td>-0.097092</td>\n",
       "      <td>-0.154030</td>\n",
       "      <td>0.250110</td>\n",
       "      <td>0.019917</td>\n",
       "      <td>-0.007412</td>\n",
       "      <td>-0.007412</td>\n",
       "      <td>-0.006920</td>\n",
       "      <td>-0.187815</td>\n",
       "      <td>...</td>\n",
       "      <td>-0.182580</td>\n",
       "      <td>-0.190926</td>\n",
       "      <td>0.020916</td>\n",
       "      <td>0.002085</td>\n",
       "      <td>-0.075385</td>\n",
       "      <td>-0.034889</td>\n",
       "      <td>-0.073919</td>\n",
       "      <td>0.063009</td>\n",
       "      <td>0.069693</td>\n",
       "      <td>-0.469708</td>\n",
       "    </tr>\n",
       "    <tr>\n",
       "      <td>nps</td>\n",
       "      <td>-0.097660</td>\n",
       "      <td>1.000000</td>\n",
       "      <td>-0.151421</td>\n",
       "      <td>-0.191716</td>\n",
       "      <td>-0.062551</td>\n",
       "      <td>0.174626</td>\n",
       "      <td>0.102944</td>\n",
       "      <td>0.102944</td>\n",
       "      <td>0.118550</td>\n",
       "      <td>-0.470709</td>\n",
       "      <td>...</td>\n",
       "      <td>0.122942</td>\n",
       "      <td>0.105714</td>\n",
       "      <td>0.002061</td>\n",
       "      <td>0.073759</td>\n",
       "      <td>0.055864</td>\n",
       "      <td>0.109406</td>\n",
       "      <td>0.083616</td>\n",
       "      <td>-0.321984</td>\n",
       "      <td>-0.323805</td>\n",
       "      <td>-0.201244</td>\n",
       "    </tr>\n",
       "    <tr>\n",
       "      <td>last_login_days</td>\n",
       "      <td>-0.097092</td>\n",
       "      <td>-0.151421</td>\n",
       "      <td>1.000000</td>\n",
       "      <td>0.676053</td>\n",
       "      <td>-0.073398</td>\n",
       "      <td>-0.198238</td>\n",
       "      <td>-0.180099</td>\n",
       "      <td>-0.180099</td>\n",
       "      <td>-0.167753</td>\n",
       "      <td>-0.179730</td>\n",
       "      <td>...</td>\n",
       "      <td>-0.096203</td>\n",
       "      <td>-0.049532</td>\n",
       "      <td>-0.111274</td>\n",
       "      <td>-0.025746</td>\n",
       "      <td>-0.038372</td>\n",
       "      <td>-0.047004</td>\n",
       "      <td>-0.127803</td>\n",
       "      <td>0.052497</td>\n",
       "      <td>0.055025</td>\n",
       "      <td>0.564677</td>\n",
       "    </tr>\n",
       "    <tr>\n",
       "      <td>last_login_concern</td>\n",
       "      <td>-0.154030</td>\n",
       "      <td>-0.191716</td>\n",
       "      <td>0.676053</td>\n",
       "      <td>1.000000</td>\n",
       "      <td>-0.100424</td>\n",
       "      <td>-0.250115</td>\n",
       "      <td>-0.220199</td>\n",
       "      <td>-0.220199</td>\n",
       "      <td>-0.190751</td>\n",
       "      <td>-0.174232</td>\n",
       "      <td>...</td>\n",
       "      <td>-0.103648</td>\n",
       "      <td>-0.055069</td>\n",
       "      <td>-0.104774</td>\n",
       "      <td>-0.040722</td>\n",
       "      <td>-0.041371</td>\n",
       "      <td>-0.104973</td>\n",
       "      <td>-0.098859</td>\n",
       "      <td>-0.008436</td>\n",
       "      <td>0.012302</td>\n",
       "      <td>0.588280</td>\n",
       "    </tr>\n",
       "    <tr>\n",
       "      <td>golive_days</td>\n",
       "      <td>0.250110</td>\n",
       "      <td>-0.062551</td>\n",
       "      <td>-0.073398</td>\n",
       "      <td>-0.100424</td>\n",
       "      <td>1.000000</td>\n",
       "      <td>0.019919</td>\n",
       "      <td>-0.003477</td>\n",
       "      <td>-0.003477</td>\n",
       "      <td>0.022107</td>\n",
       "      <td>-0.126672</td>\n",
       "      <td>...</td>\n",
       "      <td>0.115173</td>\n",
       "      <td>0.113277</td>\n",
       "      <td>0.038879</td>\n",
       "      <td>-0.040200</td>\n",
       "      <td>0.049719</td>\n",
       "      <td>-0.056676</td>\n",
       "      <td>0.017122</td>\n",
       "      <td>0.007349</td>\n",
       "      <td>0.024253</td>\n",
       "      <td>-0.248002</td>\n",
       "    </tr>\n",
       "    <tr>\n",
       "      <td>cases_total</td>\n",
       "      <td>0.019917</td>\n",
       "      <td>0.174626</td>\n",
       "      <td>-0.198238</td>\n",
       "      <td>-0.250115</td>\n",
       "      <td>0.019919</td>\n",
       "      <td>1.000000</td>\n",
       "      <td>0.689718</td>\n",
       "      <td>0.689718</td>\n",
       "      <td>0.802406</td>\n",
       "      <td>-0.214587</td>\n",
       "      <td>...</td>\n",
       "      <td>0.147795</td>\n",
       "      <td>0.094665</td>\n",
       "      <td>0.088284</td>\n",
       "      <td>0.078877</td>\n",
       "      <td>0.018998</td>\n",
       "      <td>0.077561</td>\n",
       "      <td>-0.015063</td>\n",
       "      <td>-0.100516</td>\n",
       "      <td>-0.127570</td>\n",
       "      <td>-0.186389</td>\n",
       "    </tr>\n",
       "    <tr>\n",
       "      <td>cases_open</td>\n",
       "      <td>-0.007412</td>\n",
       "      <td>0.102944</td>\n",
       "      <td>-0.180099</td>\n",
       "      <td>-0.220199</td>\n",
       "      <td>-0.003477</td>\n",
       "      <td>0.689718</td>\n",
       "      <td>1.000000</td>\n",
       "      <td>1.000000</td>\n",
       "      <td>0.804620</td>\n",
       "      <td>0.376898</td>\n",
       "      <td>...</td>\n",
       "      <td>0.142542</td>\n",
       "      <td>0.080417</td>\n",
       "      <td>0.106711</td>\n",
       "      <td>0.087675</td>\n",
       "      <td>0.013030</td>\n",
       "      <td>0.097718</td>\n",
       "      <td>0.230079</td>\n",
       "      <td>-0.128902</td>\n",
       "      <td>-0.158823</td>\n",
       "      <td>-0.218778</td>\n",
       "    </tr>\n",
       "    <tr>\n",
       "      <td>cases_closed</td>\n",
       "      <td>-0.007412</td>\n",
       "      <td>0.102944</td>\n",
       "      <td>-0.180099</td>\n",
       "      <td>-0.220199</td>\n",
       "      <td>-0.003477</td>\n",
       "      <td>0.689718</td>\n",
       "      <td>1.000000</td>\n",
       "      <td>1.000000</td>\n",
       "      <td>0.804620</td>\n",
       "      <td>0.376898</td>\n",
       "      <td>...</td>\n",
       "      <td>0.142542</td>\n",
       "      <td>0.080417</td>\n",
       "      <td>0.106711</td>\n",
       "      <td>0.087675</td>\n",
       "      <td>0.013030</td>\n",
       "      <td>0.097718</td>\n",
       "      <td>0.230079</td>\n",
       "      <td>-0.128902</td>\n",
       "      <td>-0.158823</td>\n",
       "      <td>-0.218778</td>\n",
       "    </tr>\n",
       "    <tr>\n",
       "      <td>cases_age_hours_total</td>\n",
       "      <td>-0.006920</td>\n",
       "      <td>0.118550</td>\n",
       "      <td>-0.167753</td>\n",
       "      <td>-0.190751</td>\n",
       "      <td>0.022107</td>\n",
       "      <td>0.802406</td>\n",
       "      <td>0.804620</td>\n",
       "      <td>0.804620</td>\n",
       "      <td>1.000000</td>\n",
       "      <td>0.526187</td>\n",
       "      <td>...</td>\n",
       "      <td>0.156631</td>\n",
       "      <td>0.106632</td>\n",
       "      <td>0.067252</td>\n",
       "      <td>0.094875</td>\n",
       "      <td>0.002382</td>\n",
       "      <td>0.051849</td>\n",
       "      <td>0.057316</td>\n",
       "      <td>-0.088305</td>\n",
       "      <td>-0.118000</td>\n",
       "      <td>-0.152284</td>\n",
       "    </tr>\n",
       "    <tr>\n",
       "      <td>cases_age_hours_average</td>\n",
       "      <td>-0.187815</td>\n",
       "      <td>-0.470709</td>\n",
       "      <td>-0.179730</td>\n",
       "      <td>-0.174232</td>\n",
       "      <td>-0.126672</td>\n",
       "      <td>-0.214587</td>\n",
       "      <td>0.376898</td>\n",
       "      <td>0.376898</td>\n",
       "      <td>0.526187</td>\n",
       "      <td>1.000000</td>\n",
       "      <td>...</td>\n",
       "      <td>0.095942</td>\n",
       "      <td>-0.011143</td>\n",
       "      <td>-0.057028</td>\n",
       "      <td>0.470256</td>\n",
       "      <td>NaN</td>\n",
       "      <td>NaN</td>\n",
       "      <td>NaN</td>\n",
       "      <td>0.905453</td>\n",
       "      <td>0.905453</td>\n",
       "      <td>-0.040428</td>\n",
       "    </tr>\n",
       "    <tr>\n",
       "      <td>annual_revenue</td>\n",
       "      <td>0.194720</td>\n",
       "      <td>0.086071</td>\n",
       "      <td>-0.097474</td>\n",
       "      <td>-0.140815</td>\n",
       "      <td>0.015969</td>\n",
       "      <td>0.270863</td>\n",
       "      <td>0.224670</td>\n",
       "      <td>0.224670</td>\n",
       "      <td>0.244252</td>\n",
       "      <td>0.038283</td>\n",
       "      <td>...</td>\n",
       "      <td>0.062329</td>\n",
       "      <td>0.033473</td>\n",
       "      <td>0.063774</td>\n",
       "      <td>0.022014</td>\n",
       "      <td>-0.002776</td>\n",
       "      <td>0.111464</td>\n",
       "      <td>-0.086196</td>\n",
       "      <td>0.067697</td>\n",
       "      <td>0.046159</td>\n",
       "      <td>-0.067629</td>\n",
       "    </tr>\n",
       "    <tr>\n",
       "      <td>interactions_total</td>\n",
       "      <td>-0.182580</td>\n",
       "      <td>0.122942</td>\n",
       "      <td>-0.096203</td>\n",
       "      <td>-0.103648</td>\n",
       "      <td>0.115173</td>\n",
       "      <td>0.147795</td>\n",
       "      <td>0.142542</td>\n",
       "      <td>0.142542</td>\n",
       "      <td>0.156631</td>\n",
       "      <td>0.095942</td>\n",
       "      <td>...</td>\n",
       "      <td>1.000000</td>\n",
       "      <td>0.904739</td>\n",
       "      <td>0.211691</td>\n",
       "      <td>0.092370</td>\n",
       "      <td>0.068404</td>\n",
       "      <td>-0.006472</td>\n",
       "      <td>-0.000244</td>\n",
       "      <td>-0.045412</td>\n",
       "      <td>-0.050976</td>\n",
       "      <td>-0.192835</td>\n",
       "    </tr>\n",
       "    <tr>\n",
       "      <td>interactions_completed</td>\n",
       "      <td>-0.190926</td>\n",
       "      <td>0.105714</td>\n",
       "      <td>-0.049532</td>\n",
       "      <td>-0.055069</td>\n",
       "      <td>0.113277</td>\n",
       "      <td>0.094665</td>\n",
       "      <td>0.080417</td>\n",
       "      <td>0.080417</td>\n",
       "      <td>0.106632</td>\n",
       "      <td>-0.011143</td>\n",
       "      <td>...</td>\n",
       "      <td>0.904739</td>\n",
       "      <td>1.000000</td>\n",
       "      <td>-0.126208</td>\n",
       "      <td>-0.177119</td>\n",
       "      <td>0.069162</td>\n",
       "      <td>0.029512</td>\n",
       "      <td>0.008190</td>\n",
       "      <td>-0.020935</td>\n",
       "      <td>-0.033081</td>\n",
       "      <td>-0.119212</td>\n",
       "    </tr>\n",
       "    <tr>\n",
       "      <td>interactions_no_response</td>\n",
       "      <td>0.020916</td>\n",
       "      <td>0.002061</td>\n",
       "      <td>-0.111274</td>\n",
       "      <td>-0.104774</td>\n",
       "      <td>0.038879</td>\n",
       "      <td>0.088284</td>\n",
       "      <td>0.106711</td>\n",
       "      <td>0.106711</td>\n",
       "      <td>0.067252</td>\n",
       "      <td>-0.057028</td>\n",
       "      <td>...</td>\n",
       "      <td>0.211691</td>\n",
       "      <td>-0.126208</td>\n",
       "      <td>1.000000</td>\n",
       "      <td>-0.019966</td>\n",
       "      <td>-0.013538</td>\n",
       "      <td>-0.053592</td>\n",
       "      <td>-0.044360</td>\n",
       "      <td>0.033376</td>\n",
       "      <td>0.044848</td>\n",
       "      <td>-0.152243</td>\n",
       "    </tr>\n",
       "    <tr>\n",
       "      <td>interactions_no_onboarding</td>\n",
       "      <td>0.002085</td>\n",
       "      <td>0.073759</td>\n",
       "      <td>-0.025746</td>\n",
       "      <td>-0.040722</td>\n",
       "      <td>-0.040200</td>\n",
       "      <td>0.078877</td>\n",
       "      <td>0.087675</td>\n",
       "      <td>0.087675</td>\n",
       "      <td>0.094875</td>\n",
       "      <td>0.470256</td>\n",
       "      <td>...</td>\n",
       "      <td>0.092370</td>\n",
       "      <td>-0.177119</td>\n",
       "      <td>-0.019966</td>\n",
       "      <td>1.000000</td>\n",
       "      <td>0.014872</td>\n",
       "      <td>-0.066335</td>\n",
       "      <td>0.032037</td>\n",
       "      <td>-0.155300</td>\n",
       "      <td>-0.146657</td>\n",
       "      <td>-0.078954</td>\n",
       "    </tr>\n",
       "    <tr>\n",
       "      <td>interactions_completed_training</td>\n",
       "      <td>-0.075385</td>\n",
       "      <td>0.055864</td>\n",
       "      <td>-0.038372</td>\n",
       "      <td>-0.041371</td>\n",
       "      <td>0.049719</td>\n",
       "      <td>0.018998</td>\n",
       "      <td>0.013030</td>\n",
       "      <td>0.013030</td>\n",
       "      <td>0.002382</td>\n",
       "      <td>NaN</td>\n",
       "      <td>...</td>\n",
       "      <td>0.068404</td>\n",
       "      <td>0.069162</td>\n",
       "      <td>-0.013538</td>\n",
       "      <td>0.014872</td>\n",
       "      <td>1.000000</td>\n",
       "      <td>-0.026355</td>\n",
       "      <td>-0.038997</td>\n",
       "      <td>-0.063085</td>\n",
       "      <td>-0.059696</td>\n",
       "      <td>-0.039138</td>\n",
       "    </tr>\n",
       "    <tr>\n",
       "      <td>churn_concern_cases_total</td>\n",
       "      <td>-0.034889</td>\n",
       "      <td>0.109406</td>\n",
       "      <td>-0.047004</td>\n",
       "      <td>-0.104973</td>\n",
       "      <td>-0.056676</td>\n",
       "      <td>0.077561</td>\n",
       "      <td>0.097718</td>\n",
       "      <td>0.097718</td>\n",
       "      <td>0.051849</td>\n",
       "      <td>NaN</td>\n",
       "      <td>...</td>\n",
       "      <td>-0.006472</td>\n",
       "      <td>0.029512</td>\n",
       "      <td>-0.053592</td>\n",
       "      <td>-0.066335</td>\n",
       "      <td>-0.026355</td>\n",
       "      <td>1.000000</td>\n",
       "      <td>-0.055790</td>\n",
       "      <td>0.185403</td>\n",
       "      <td>-0.022995</td>\n",
       "      <td>-0.078652</td>\n",
       "    </tr>\n",
       "    <tr>\n",
       "      <td>churn_concern_cases_open</td>\n",
       "      <td>-0.073919</td>\n",
       "      <td>0.083616</td>\n",
       "      <td>-0.127803</td>\n",
       "      <td>-0.098859</td>\n",
       "      <td>0.017122</td>\n",
       "      <td>-0.015063</td>\n",
       "      <td>0.230079</td>\n",
       "      <td>0.230079</td>\n",
       "      <td>0.057316</td>\n",
       "      <td>NaN</td>\n",
       "      <td>...</td>\n",
       "      <td>-0.000244</td>\n",
       "      <td>0.008190</td>\n",
       "      <td>-0.044360</td>\n",
       "      <td>0.032037</td>\n",
       "      <td>-0.038997</td>\n",
       "      <td>-0.055790</td>\n",
       "      <td>1.000000</td>\n",
       "      <td>-0.077861</td>\n",
       "      <td>-0.064665</td>\n",
       "      <td>-0.209273</td>\n",
       "    </tr>\n",
       "    <tr>\n",
       "      <td>total_churn_concern_cases_age</td>\n",
       "      <td>0.063009</td>\n",
       "      <td>-0.321984</td>\n",
       "      <td>0.052497</td>\n",
       "      <td>-0.008436</td>\n",
       "      <td>0.007349</td>\n",
       "      <td>-0.100516</td>\n",
       "      <td>-0.128902</td>\n",
       "      <td>-0.128902</td>\n",
       "      <td>-0.088305</td>\n",
       "      <td>0.905453</td>\n",
       "      <td>...</td>\n",
       "      <td>-0.045412</td>\n",
       "      <td>-0.020935</td>\n",
       "      <td>0.033376</td>\n",
       "      <td>-0.155300</td>\n",
       "      <td>-0.063085</td>\n",
       "      <td>0.185403</td>\n",
       "      <td>-0.077861</td>\n",
       "      <td>1.000000</td>\n",
       "      <td>0.960708</td>\n",
       "      <td>0.035177</td>\n",
       "    </tr>\n",
       "    <tr>\n",
       "      <td>churn_concern_cases_avg_hours</td>\n",
       "      <td>0.069693</td>\n",
       "      <td>-0.323805</td>\n",
       "      <td>0.055025</td>\n",
       "      <td>0.012302</td>\n",
       "      <td>0.024253</td>\n",
       "      <td>-0.127570</td>\n",
       "      <td>-0.158823</td>\n",
       "      <td>-0.158823</td>\n",
       "      <td>-0.118000</td>\n",
       "      <td>0.905453</td>\n",
       "      <td>...</td>\n",
       "      <td>-0.050976</td>\n",
       "      <td>-0.033081</td>\n",
       "      <td>0.044848</td>\n",
       "      <td>-0.146657</td>\n",
       "      <td>-0.059696</td>\n",
       "      <td>-0.022995</td>\n",
       "      <td>-0.064665</td>\n",
       "      <td>0.960708</td>\n",
       "      <td>1.000000</td>\n",
       "      <td>0.063645</td>\n",
       "    </tr>\n",
       "    <tr>\n",
       "      <td>churned</td>\n",
       "      <td>-0.469708</td>\n",
       "      <td>-0.201244</td>\n",
       "      <td>0.564677</td>\n",
       "      <td>0.588280</td>\n",
       "      <td>-0.248002</td>\n",
       "      <td>-0.186389</td>\n",
       "      <td>-0.218778</td>\n",
       "      <td>-0.218778</td>\n",
       "      <td>-0.152284</td>\n",
       "      <td>-0.040428</td>\n",
       "      <td>...</td>\n",
       "      <td>-0.192835</td>\n",
       "      <td>-0.119212</td>\n",
       "      <td>-0.152243</td>\n",
       "      <td>-0.078954</td>\n",
       "      <td>-0.039138</td>\n",
       "      <td>-0.078652</td>\n",
       "      <td>-0.209273</td>\n",
       "      <td>0.035177</td>\n",
       "      <td>0.063645</td>\n",
       "      <td>1.000000</td>\n",
       "    </tr>\n",
       "  </tbody>\n",
       "</table>\n",
       "<p>21 rows × 21 columns</p>\n",
       "</div>"
      ],
      "text/plain": [
       "                                 days_active       nps  last_login_days  \\\n",
       "days_active                         1.000000 -0.097660        -0.097092   \n",
       "nps                                -0.097660  1.000000        -0.151421   \n",
       "last_login_days                    -0.097092 -0.151421         1.000000   \n",
       "last_login_concern                 -0.154030 -0.191716         0.676053   \n",
       "golive_days                         0.250110 -0.062551        -0.073398   \n",
       "cases_total                         0.019917  0.174626        -0.198238   \n",
       "cases_open                         -0.007412  0.102944        -0.180099   \n",
       "cases_closed                       -0.007412  0.102944        -0.180099   \n",
       "cases_age_hours_total              -0.006920  0.118550        -0.167753   \n",
       "cases_age_hours_average            -0.187815 -0.470709        -0.179730   \n",
       "annual_revenue                      0.194720  0.086071        -0.097474   \n",
       "interactions_total                 -0.182580  0.122942        -0.096203   \n",
       "interactions_completed             -0.190926  0.105714        -0.049532   \n",
       "interactions_no_response            0.020916  0.002061        -0.111274   \n",
       "interactions_no_onboarding          0.002085  0.073759        -0.025746   \n",
       "interactions_completed_training    -0.075385  0.055864        -0.038372   \n",
       "churn_concern_cases_total          -0.034889  0.109406        -0.047004   \n",
       "churn_concern_cases_open           -0.073919  0.083616        -0.127803   \n",
       "total_churn_concern_cases_age       0.063009 -0.321984         0.052497   \n",
       "churn_concern_cases_avg_hours       0.069693 -0.323805         0.055025   \n",
       "churned                            -0.469708 -0.201244         0.564677   \n",
       "\n",
       "                                 last_login_concern  golive_days  cases_total  \\\n",
       "days_active                               -0.154030     0.250110     0.019917   \n",
       "nps                                       -0.191716    -0.062551     0.174626   \n",
       "last_login_days                            0.676053    -0.073398    -0.198238   \n",
       "last_login_concern                         1.000000    -0.100424    -0.250115   \n",
       "golive_days                               -0.100424     1.000000     0.019919   \n",
       "cases_total                               -0.250115     0.019919     1.000000   \n",
       "cases_open                                -0.220199    -0.003477     0.689718   \n",
       "cases_closed                              -0.220199    -0.003477     0.689718   \n",
       "cases_age_hours_total                     -0.190751     0.022107     0.802406   \n",
       "cases_age_hours_average                   -0.174232    -0.126672    -0.214587   \n",
       "annual_revenue                            -0.140815     0.015969     0.270863   \n",
       "interactions_total                        -0.103648     0.115173     0.147795   \n",
       "interactions_completed                    -0.055069     0.113277     0.094665   \n",
       "interactions_no_response                  -0.104774     0.038879     0.088284   \n",
       "interactions_no_onboarding                -0.040722    -0.040200     0.078877   \n",
       "interactions_completed_training           -0.041371     0.049719     0.018998   \n",
       "churn_concern_cases_total                 -0.104973    -0.056676     0.077561   \n",
       "churn_concern_cases_open                  -0.098859     0.017122    -0.015063   \n",
       "total_churn_concern_cases_age             -0.008436     0.007349    -0.100516   \n",
       "churn_concern_cases_avg_hours              0.012302     0.024253    -0.127570   \n",
       "churned                                    0.588280    -0.248002    -0.186389   \n",
       "\n",
       "                                 cases_open  cases_closed  \\\n",
       "days_active                       -0.007412     -0.007412   \n",
       "nps                                0.102944      0.102944   \n",
       "last_login_days                   -0.180099     -0.180099   \n",
       "last_login_concern                -0.220199     -0.220199   \n",
       "golive_days                       -0.003477     -0.003477   \n",
       "cases_total                        0.689718      0.689718   \n",
       "cases_open                         1.000000      1.000000   \n",
       "cases_closed                       1.000000      1.000000   \n",
       "cases_age_hours_total              0.804620      0.804620   \n",
       "cases_age_hours_average            0.376898      0.376898   \n",
       "annual_revenue                     0.224670      0.224670   \n",
       "interactions_total                 0.142542      0.142542   \n",
       "interactions_completed             0.080417      0.080417   \n",
       "interactions_no_response           0.106711      0.106711   \n",
       "interactions_no_onboarding         0.087675      0.087675   \n",
       "interactions_completed_training    0.013030      0.013030   \n",
       "churn_concern_cases_total          0.097718      0.097718   \n",
       "churn_concern_cases_open           0.230079      0.230079   \n",
       "total_churn_concern_cases_age     -0.128902     -0.128902   \n",
       "churn_concern_cases_avg_hours     -0.158823     -0.158823   \n",
       "churned                           -0.218778     -0.218778   \n",
       "\n",
       "                                 cases_age_hours_total  \\\n",
       "days_active                                  -0.006920   \n",
       "nps                                           0.118550   \n",
       "last_login_days                              -0.167753   \n",
       "last_login_concern                           -0.190751   \n",
       "golive_days                                   0.022107   \n",
       "cases_total                                   0.802406   \n",
       "cases_open                                    0.804620   \n",
       "cases_closed                                  0.804620   \n",
       "cases_age_hours_total                         1.000000   \n",
       "cases_age_hours_average                       0.526187   \n",
       "annual_revenue                                0.244252   \n",
       "interactions_total                            0.156631   \n",
       "interactions_completed                        0.106632   \n",
       "interactions_no_response                      0.067252   \n",
       "interactions_no_onboarding                    0.094875   \n",
       "interactions_completed_training               0.002382   \n",
       "churn_concern_cases_total                     0.051849   \n",
       "churn_concern_cases_open                      0.057316   \n",
       "total_churn_concern_cases_age                -0.088305   \n",
       "churn_concern_cases_avg_hours                -0.118000   \n",
       "churned                                      -0.152284   \n",
       "\n",
       "                                 cases_age_hours_average  ...  \\\n",
       "days_active                                    -0.187815  ...   \n",
       "nps                                            -0.470709  ...   \n",
       "last_login_days                                -0.179730  ...   \n",
       "last_login_concern                             -0.174232  ...   \n",
       "golive_days                                    -0.126672  ...   \n",
       "cases_total                                    -0.214587  ...   \n",
       "cases_open                                      0.376898  ...   \n",
       "cases_closed                                    0.376898  ...   \n",
       "cases_age_hours_total                           0.526187  ...   \n",
       "cases_age_hours_average                         1.000000  ...   \n",
       "annual_revenue                                  0.038283  ...   \n",
       "interactions_total                              0.095942  ...   \n",
       "interactions_completed                         -0.011143  ...   \n",
       "interactions_no_response                       -0.057028  ...   \n",
       "interactions_no_onboarding                      0.470256  ...   \n",
       "interactions_completed_training                      NaN  ...   \n",
       "churn_concern_cases_total                            NaN  ...   \n",
       "churn_concern_cases_open                             NaN  ...   \n",
       "total_churn_concern_cases_age                   0.905453  ...   \n",
       "churn_concern_cases_avg_hours                   0.905453  ...   \n",
       "churned                                        -0.040428  ...   \n",
       "\n",
       "                                 interactions_total  interactions_completed  \\\n",
       "days_active                               -0.182580               -0.190926   \n",
       "nps                                        0.122942                0.105714   \n",
       "last_login_days                           -0.096203               -0.049532   \n",
       "last_login_concern                        -0.103648               -0.055069   \n",
       "golive_days                                0.115173                0.113277   \n",
       "cases_total                                0.147795                0.094665   \n",
       "cases_open                                 0.142542                0.080417   \n",
       "cases_closed                               0.142542                0.080417   \n",
       "cases_age_hours_total                      0.156631                0.106632   \n",
       "cases_age_hours_average                    0.095942               -0.011143   \n",
       "annual_revenue                             0.062329                0.033473   \n",
       "interactions_total                         1.000000                0.904739   \n",
       "interactions_completed                     0.904739                1.000000   \n",
       "interactions_no_response                   0.211691               -0.126208   \n",
       "interactions_no_onboarding                 0.092370               -0.177119   \n",
       "interactions_completed_training            0.068404                0.069162   \n",
       "churn_concern_cases_total                 -0.006472                0.029512   \n",
       "churn_concern_cases_open                  -0.000244                0.008190   \n",
       "total_churn_concern_cases_age             -0.045412               -0.020935   \n",
       "churn_concern_cases_avg_hours             -0.050976               -0.033081   \n",
       "churned                                   -0.192835               -0.119212   \n",
       "\n",
       "                                 interactions_no_response  \\\n",
       "days_active                                      0.020916   \n",
       "nps                                              0.002061   \n",
       "last_login_days                                 -0.111274   \n",
       "last_login_concern                              -0.104774   \n",
       "golive_days                                      0.038879   \n",
       "cases_total                                      0.088284   \n",
       "cases_open                                       0.106711   \n",
       "cases_closed                                     0.106711   \n",
       "cases_age_hours_total                            0.067252   \n",
       "cases_age_hours_average                         -0.057028   \n",
       "annual_revenue                                   0.063774   \n",
       "interactions_total                               0.211691   \n",
       "interactions_completed                          -0.126208   \n",
       "interactions_no_response                         1.000000   \n",
       "interactions_no_onboarding                      -0.019966   \n",
       "interactions_completed_training                 -0.013538   \n",
       "churn_concern_cases_total                       -0.053592   \n",
       "churn_concern_cases_open                        -0.044360   \n",
       "total_churn_concern_cases_age                    0.033376   \n",
       "churn_concern_cases_avg_hours                    0.044848   \n",
       "churned                                         -0.152243   \n",
       "\n",
       "                                 interactions_no_onboarding  \\\n",
       "days_active                                        0.002085   \n",
       "nps                                                0.073759   \n",
       "last_login_days                                   -0.025746   \n",
       "last_login_concern                                -0.040722   \n",
       "golive_days                                       -0.040200   \n",
       "cases_total                                        0.078877   \n",
       "cases_open                                         0.087675   \n",
       "cases_closed                                       0.087675   \n",
       "cases_age_hours_total                              0.094875   \n",
       "cases_age_hours_average                            0.470256   \n",
       "annual_revenue                                     0.022014   \n",
       "interactions_total                                 0.092370   \n",
       "interactions_completed                            -0.177119   \n",
       "interactions_no_response                          -0.019966   \n",
       "interactions_no_onboarding                         1.000000   \n",
       "interactions_completed_training                    0.014872   \n",
       "churn_concern_cases_total                         -0.066335   \n",
       "churn_concern_cases_open                           0.032037   \n",
       "total_churn_concern_cases_age                     -0.155300   \n",
       "churn_concern_cases_avg_hours                     -0.146657   \n",
       "churned                                           -0.078954   \n",
       "\n",
       "                                 interactions_completed_training  \\\n",
       "days_active                                            -0.075385   \n",
       "nps                                                     0.055864   \n",
       "last_login_days                                        -0.038372   \n",
       "last_login_concern                                     -0.041371   \n",
       "golive_days                                             0.049719   \n",
       "cases_total                                             0.018998   \n",
       "cases_open                                              0.013030   \n",
       "cases_closed                                            0.013030   \n",
       "cases_age_hours_total                                   0.002382   \n",
       "cases_age_hours_average                                      NaN   \n",
       "annual_revenue                                         -0.002776   \n",
       "interactions_total                                      0.068404   \n",
       "interactions_completed                                  0.069162   \n",
       "interactions_no_response                               -0.013538   \n",
       "interactions_no_onboarding                              0.014872   \n",
       "interactions_completed_training                         1.000000   \n",
       "churn_concern_cases_total                              -0.026355   \n",
       "churn_concern_cases_open                               -0.038997   \n",
       "total_churn_concern_cases_age                          -0.063085   \n",
       "churn_concern_cases_avg_hours                          -0.059696   \n",
       "churned                                                -0.039138   \n",
       "\n",
       "                                 churn_concern_cases_total  \\\n",
       "days_active                                      -0.034889   \n",
       "nps                                               0.109406   \n",
       "last_login_days                                  -0.047004   \n",
       "last_login_concern                               -0.104973   \n",
       "golive_days                                      -0.056676   \n",
       "cases_total                                       0.077561   \n",
       "cases_open                                        0.097718   \n",
       "cases_closed                                      0.097718   \n",
       "cases_age_hours_total                             0.051849   \n",
       "cases_age_hours_average                                NaN   \n",
       "annual_revenue                                    0.111464   \n",
       "interactions_total                               -0.006472   \n",
       "interactions_completed                            0.029512   \n",
       "interactions_no_response                         -0.053592   \n",
       "interactions_no_onboarding                       -0.066335   \n",
       "interactions_completed_training                  -0.026355   \n",
       "churn_concern_cases_total                         1.000000   \n",
       "churn_concern_cases_open                         -0.055790   \n",
       "total_churn_concern_cases_age                     0.185403   \n",
       "churn_concern_cases_avg_hours                    -0.022995   \n",
       "churned                                          -0.078652   \n",
       "\n",
       "                                 churn_concern_cases_open  \\\n",
       "days_active                                     -0.073919   \n",
       "nps                                              0.083616   \n",
       "last_login_days                                 -0.127803   \n",
       "last_login_concern                              -0.098859   \n",
       "golive_days                                      0.017122   \n",
       "cases_total                                     -0.015063   \n",
       "cases_open                                       0.230079   \n",
       "cases_closed                                     0.230079   \n",
       "cases_age_hours_total                            0.057316   \n",
       "cases_age_hours_average                               NaN   \n",
       "annual_revenue                                  -0.086196   \n",
       "interactions_total                              -0.000244   \n",
       "interactions_completed                           0.008190   \n",
       "interactions_no_response                        -0.044360   \n",
       "interactions_no_onboarding                       0.032037   \n",
       "interactions_completed_training                 -0.038997   \n",
       "churn_concern_cases_total                       -0.055790   \n",
       "churn_concern_cases_open                         1.000000   \n",
       "total_churn_concern_cases_age                   -0.077861   \n",
       "churn_concern_cases_avg_hours                   -0.064665   \n",
       "churned                                         -0.209273   \n",
       "\n",
       "                                 total_churn_concern_cases_age  \\\n",
       "days_active                                           0.063009   \n",
       "nps                                                  -0.321984   \n",
       "last_login_days                                       0.052497   \n",
       "last_login_concern                                   -0.008436   \n",
       "golive_days                                           0.007349   \n",
       "cases_total                                          -0.100516   \n",
       "cases_open                                           -0.128902   \n",
       "cases_closed                                         -0.128902   \n",
       "cases_age_hours_total                                -0.088305   \n",
       "cases_age_hours_average                               0.905453   \n",
       "annual_revenue                                        0.067697   \n",
       "interactions_total                                   -0.045412   \n",
       "interactions_completed                               -0.020935   \n",
       "interactions_no_response                              0.033376   \n",
       "interactions_no_onboarding                           -0.155300   \n",
       "interactions_completed_training                      -0.063085   \n",
       "churn_concern_cases_total                             0.185403   \n",
       "churn_concern_cases_open                             -0.077861   \n",
       "total_churn_concern_cases_age                         1.000000   \n",
       "churn_concern_cases_avg_hours                         0.960708   \n",
       "churned                                               0.035177   \n",
       "\n",
       "                                 churn_concern_cases_avg_hours   churned  \n",
       "days_active                                           0.069693 -0.469708  \n",
       "nps                                                  -0.323805 -0.201244  \n",
       "last_login_days                                       0.055025  0.564677  \n",
       "last_login_concern                                    0.012302  0.588280  \n",
       "golive_days                                           0.024253 -0.248002  \n",
       "cases_total                                          -0.127570 -0.186389  \n",
       "cases_open                                           -0.158823 -0.218778  \n",
       "cases_closed                                         -0.158823 -0.218778  \n",
       "cases_age_hours_total                                -0.118000 -0.152284  \n",
       "cases_age_hours_average                               0.905453 -0.040428  \n",
       "annual_revenue                                        0.046159 -0.067629  \n",
       "interactions_total                                   -0.050976 -0.192835  \n",
       "interactions_completed                               -0.033081 -0.119212  \n",
       "interactions_no_response                              0.044848 -0.152243  \n",
       "interactions_no_onboarding                           -0.146657 -0.078954  \n",
       "interactions_completed_training                      -0.059696 -0.039138  \n",
       "churn_concern_cases_total                            -0.022995 -0.078652  \n",
       "churn_concern_cases_open                             -0.064665 -0.209273  \n",
       "total_churn_concern_cases_age                         0.960708  0.035177  \n",
       "churn_concern_cases_avg_hours                         1.000000  0.063645  \n",
       "churned                                               0.063645  1.000000  \n",
       "\n",
       "[21 rows x 21 columns]"
      ]
     },
     "execution_count": 151,
     "metadata": {},
     "output_type": "execute_result"
    }
   ],
   "source": [
    "df_raw.corr()"
   ]
  },
  {
   "cell_type": "code",
   "execution_count": 152,
   "metadata": {},
   "outputs": [],
   "source": [
    "# Convert fields to INT and setting any NaNs to the mean of that type\n",
    "case_types = ['cases_total','cases_open','cases_closed','cases_age_hours_total','cases_age_hours_average', 'last_login_days']\n",
    "\n",
    "for case_type in case_types:\n",
    "    default_value = df_raw[case_type].fillna(df_raw[case_type].median())\n",
    "    df_raw[case_type] = df_raw[case_type].fillna(default_value).astype(int)"
   ]
  },
  {
   "cell_type": "code",
   "execution_count": 153,
   "metadata": {},
   "outputs": [],
   "source": [
    "plan_list = df_raw.plan[~pd.isnull(df_raw.plan)].unique()\n",
    "\n",
    "for plan in plan_list:\n",
    "    plan_revenue_mean = round(df_raw.annual_revenue[df_raw.plan == plan].mean(), 2)\n",
    "    \n",
    "    if pd.isnull(plan_revenue_mean):\n",
    "        revenue = 0\n",
    "    else:\n",
    "        revenue = plan_revenue_mean\n",
    "    df_raw.loc[df_raw.plan==plan, 'annual_revenue'] = df_raw.loc[df_raw.plan==plan, 'annual_revenue'].fillna(revenue)"
   ]
  },
  {
   "cell_type": "code",
   "execution_count": 154,
   "metadata": {},
   "outputs": [
    {
     "data": {
      "text/plain": [
       "few_days     174\n",
       "month        143\n",
       "week         125\n",
       "fortnight    114\n",
       "day           80\n",
       "Name: last_login_categories, dtype: int64"
      ]
     },
     "execution_count": 154,
     "metadata": {},
     "output_type": "execute_result"
    }
   ],
   "source": [
    "# 'binning' - grouping continous data into 'bins'\n",
    "\n",
    "bins = [1, 3, 7, 14, 30, 60]\n",
    "group_names = ['day', 'few_days', 'week', 'fortnight', 'month']\n",
    "\n",
    "# need to get the mean of the plan size for last_login_days and set each row to that\n",
    "#df_raw.last_login_days = df_raw.last_login_days.fillna(np.mean(df_raw.last_login_days))\n",
    "\n",
    "last_login_categories = pd.cut(df_raw['last_login_days'], bins, labels=group_names)\n",
    "df_raw['last_login_categories'] = pd.cut(df_raw['last_login_days'], bins, labels=group_names)\n",
    "pd.value_counts(df_raw['last_login_categories'])"
   ]
  },
  {
   "cell_type": "code",
   "execution_count": 155,
   "metadata": {
    "scrolled": true
   },
   "outputs": [
    {
     "name": "stdout",
     "output_type": "stream",
     "text": [
      "customer_account_status\n",
      "last_login_categories\n",
      "plan\n"
     ]
    }
   ],
   "source": [
    "# A more standard way to one-hot encoding\n",
    "\n",
    "dummy_columns = ['customer_account_status', 'last_login_categories', 'plan']\n",
    "\n",
    "for dummy_column in dummy_columns:\n",
    "    print(dummy_column)\n",
    "    dummy = pd.get_dummies(df_raw[dummy_column], prefix=dummy_column)\n",
    "    df_raw = pd.concat([df_raw,dummy], axis=1)\n",
    "    df_raw = df_raw.drop(columns=dummy_column)"
   ]
  },
  {
   "cell_type": "code",
   "execution_count": 156,
   "metadata": {},
   "outputs": [],
   "source": [
    "# These steps can only be run once then you need to comment them out\n",
    "\n",
    "#add_datepart(df_raw, 'canceldate')\n",
    "add_datepart(df_raw, 'licence_registration_date')\n",
    "add_datepart(df_raw, 'golive_date')"
   ]
  },
  {
   "cell_type": "code",
   "execution_count": 157,
   "metadata": {},
   "outputs": [
    {
     "data": {
      "text/plain": [
       "<pandas._config.config.option_context at 0x1c2c6805f8>"
      ]
     },
     "execution_count": 157,
     "metadata": {},
     "output_type": "execute_result"
    }
   ],
   "source": [
    "pd.option_context(\"display.max_rows\", 1000, \"display.max_columns\", 1000)"
   ]
  },
  {
   "cell_type": "code",
   "execution_count": 158,
   "metadata": {},
   "outputs": [],
   "source": [
    "# Drop columns\n",
    "\n",
    "df_raw = df_raw.drop(columns=['customer_account_status_Good', 'last_login_concern',\n",
    "                              'last_login_days', 'account_status', 'changing_platform', \n",
    "                              'new_platform', 'licence_status', 'canceldate', \n",
    "                              'cancel_details', 'cancel_reason'])\n",
    "\n"
   ]
  },
  {
   "cell_type": "code",
   "execution_count": 159,
   "metadata": {},
   "outputs": [],
   "source": [
    "# Set default values for NaN values\n",
    "\n",
    "df_raw.nps = df_raw.nps.fillna(np.nanmean(df_raw.nps))\n",
    "\n",
    "# Set NaN to zero\n",
    "\n",
    "features = ['churned', 'interactions_total', 'interactions_completed', 'interactions_no_response', 'interactions_no_onboarding', 'interactions_completed_training']\n",
    "\n",
    "for feature in features:\n",
    "    df_raw[feature] = df_raw[feature].fillna(0)\n"
   ]
  },
  {
   "cell_type": "code",
   "execution_count": 160,
   "metadata": {},
   "outputs": [],
   "source": [
    "# Complete the transformation of all data into numbers using proc_df and create training dataframes\n",
    "train_cats(df_raw)\n",
    "df_trn, y_trn, nas = proc_df(df_raw, 'churned')"
   ]
  },
  {
   "cell_type": "code",
   "execution_count": 161,
   "metadata": {},
   "outputs": [],
   "source": [
    "def split_vals(a,n): return a[:n], a[n:]\n",
    "n_valid = 500\n",
    "n_trn = len(df_trn)-n_valid\n",
    "X_train, X_valid = split_vals(df_trn, n_trn)"
   ]
  },
  {
   "cell_type": "code",
   "execution_count": 162,
   "metadata": {},
   "outputs": [
    {
     "data": {
      "text/plain": [
       "(500, 103, 5389, 103)"
      ]
     },
     "execution_count": 162,
     "metadata": {},
     "output_type": "execute_result"
    }
   ],
   "source": [
    "len(X_valid), len(X_valid.columns), len(X_train), len(X_train.columns)"
   ]
  },
  {
   "cell_type": "code",
   "execution_count": 163,
   "metadata": {},
   "outputs": [
    {
     "data": {
      "text/plain": [
       "(500, 5389)"
      ]
     },
     "execution_count": 163,
     "metadata": {},
     "output_type": "execute_result"
    }
   ],
   "source": [
    "y_train, y_valid = split_vals(y_trn, n_trn)\n",
    "#raw_train, raw_valid = split_vals(df_raw, n_trn)\n",
    "len(y_valid), len(y_train)"
   ]
  },
  {
   "cell_type": "code",
   "execution_count": 166,
   "metadata": {},
   "outputs": [],
   "source": [
    "tune = False"
   ]
  },
  {
   "cell_type": "code",
   "execution_count": 167,
   "metadata": {},
   "outputs": [],
   "source": [
    "if tune:\n",
    "    # Create the hyperparameter grid\n",
    "    param_grid = {#'max_features': ['auto', 'sqrt', 'log2'],\n",
    "                  'min_samples_leaf': np.arange(1,3),\n",
    "                  'n_estimators': np.arange(1,10),\n",
    "                  'class_weight':[{0: w} for w in [1, 2, 3, 5, 10, 20]],\n",
    "                  #'bootstrap': [True, False],\n",
    "                  'criterion': ['gini', 'entropy'],\n",
    "                  'max_depth': [None, 1, 2, 3]\n",
    "                 }\n",
    "\n",
    "    # Call GridSearchCV\n",
    "    grid_search = GridSearchCV(RandomForestClassifier(), param_grid)\n",
    "\n",
    "    # Fit the model\n",
    "    grid_search.fit(X_valid, y_valid)\n",
    "\n",
    "    print(grid_search.best_params_, grid_search.best_score_)"
   ]
  },
  {
   "cell_type": "code",
   "execution_count": 168,
   "metadata": {},
   "outputs": [
    {
     "data": {
      "text/plain": [
       "RandomForestClassifier(bootstrap=False, class_weight={0: 2, 1: 1},\n",
       "                       criterion='gini', max_depth=3, max_features='sqrt',\n",
       "                       max_leaf_nodes=None, min_impurity_decrease=0.0,\n",
       "                       min_impurity_split=None, min_samples_leaf=1,\n",
       "                       min_samples_split=2, min_weight_fraction_leaf=0.0,\n",
       "                       n_estimators=200, n_jobs=-1, oob_score=False,\n",
       "                       random_state=None, verbose=0, warm_start=False)"
      ]
     },
     "execution_count": 168,
     "metadata": {},
     "output_type": "execute_result"
    }
   ],
   "source": [
    "m = RandomForestClassifier(\n",
    "    n_estimators=200,\n",
    "    min_samples_leaf=1, \n",
    "    max_features='sqrt',\n",
    "    n_jobs=-1, \n",
    "    #oob_score=True,\n",
    "    max_depth=3,\n",
    "    bootstrap=False,\n",
    "    criterion='gini',\n",
    "    class_weight={0: 2, 1: 1})\n",
    "\n",
    "m.fit(X_train, y_train)"
   ]
  },
  {
   "cell_type": "code",
   "execution_count": 169,
   "metadata": {},
   "outputs": [
    {
     "data": {
      "text/plain": [
       "(0.822, 0.5572139303482586)"
      ]
     },
     "execution_count": 169,
     "metadata": {},
     "output_type": "execute_result"
    }
   ],
   "source": [
    "validate_predictions = m.predict(X_valid)\n",
    "accuracy_score(y_valid, validate_predictions), f1_score(y_valid, validate_predictions)"
   ]
  },
  {
   "cell_type": "code",
   "execution_count": 170,
   "metadata": {},
   "outputs": [
    {
     "name": "stdout",
     "output_type": "stream",
     "text": [
      "[[355  64]\n",
      " [ 25  56]]\n",
      "true positives, false positives, false negatives, true negatives\n"
     ]
    }
   ],
   "source": [
    "cm = confusion_matrix(y_valid, validate_predictions)\n",
    "print(cm)\n",
    "print('true positives, false positives, false negatives, true negatives')"
   ]
  },
  {
   "cell_type": "code",
   "execution_count": 171,
   "metadata": {},
   "outputs": [
    {
     "data": {
      "text/plain": [
       "(0.4666666666666667, 0.691358024691358, 0.5572139303482586)"
      ]
     },
     "execution_count": 171,
     "metadata": {},
     "output_type": "execute_result"
    }
   ],
   "source": [
    "precision_score(y_valid,validate_predictions), recall_score(y_valid,validate_predictions), f1_score(y_valid,validate_predictions)"
   ]
  },
  {
   "cell_type": "code",
   "execution_count": 172,
   "metadata": {},
   "outputs": [
    {
     "data": {
      "image/png": "[encoded data removed]",
      "text/plain": [
       "<Figure size 432x288 with 1 Axes>"
      ]
     },
     "metadata": {
      "needs_background": "light"
     },
     "output_type": "display_data"
    }
   ],
   "source": [
    "# Generate the probabilities\n",
    "y_pred_prob = m.predict_proba(X_valid)[:, 1]\n",
    "\n",
    "# Calculate the roc metrics\n",
    "fpr, tpr, thresholds = roc_curve(y_valid, y_pred_prob)\n",
    "\n",
    "# Plot the ROC curve\n",
    "plt.plot(fpr,tpr)\n",
    "\n",
    "# Add labels and diagonal line\n",
    "plt.xlabel(\"False Positive Rate\")\n",
    "plt.ylabel(\"True Positive Rate\")\n",
    "plt.plot([0, 1], [0, 1], \"k--\")\n",
    "plt.show()"
   ]
  },
  {
   "cell_type": "code",
   "execution_count": 173,
   "metadata": {},
   "outputs": [
    {
     "name": "stdout",
     "output_type": "stream",
     "text": [
      "0.8292524823948849\n"
     ]
    }
   ],
   "source": [
    "# Print the AUC\n",
    "auc = roc_auc_score(y_valid, y_pred_prob)\n",
    "print(auc)"
   ]
  },
  {
   "cell_type": "code",
   "execution_count": 175,
   "metadata": {},
   "outputs": [
    {
     "data": {
      "image/svg+xml": [
       "<?xml version=\"1.0\" encoding=\"UTF-8\" standalone=\"no\"?>\n",
       "<!DOCTYPE svg PUBLIC \"-//W3C//DTD SVG 1.1//EN\"\n",
       " \"http://www.w3.org/Graphics/SVG/1.1/DTD/svg11.dtd\">\n",
       "<!-- Generated by graphviz version 2.40.1 (20161225.0304)\n",
       " -->\n",
       "<!-- Title: Tree Pages: 1 -->\n",
       "<svg width=\"720pt\" height=\"435pt\"\n",
       " viewBox=\"0.00 0.00 720.00 434.85\" xmlns=\"http://www.w3.org/2000/svg\" xmlns:xlink=\"http://www.w3.org/1999/xlink\">\n",
       "<g id=\"graph0\" class=\"graph\" transform=\"scale(.9252 .9252) rotate(0) translate(4 466)\">\n",
       "<title>Tree</title>\n",
       "<polygon fill=\"#ffffff\" stroke=\"transparent\" points=\"-4,4 -4,-466 774.1992,-466 774.1992,4 -4,4\"/>\n",
       "<!-- 0 -->\n",
       "<g id=\"node1\" class=\"node\">\n",
       "<title>0</title>\n",
       "<polygon fill=\"#f6d2b8\" stroke=\"#000000\" points=\"194.8418,-219.0932 -.4434,-219.0932 -.4434,-155.0932 194.8418,-155.0932 194.8418,-219.0932\"/>\n",
       "<text text-anchor=\"start\" x=\"7.6279\" y=\"-203.8932\" font-family=\"Times,serif\" font-size=\"14.00\" fill=\"#000000\">cases_age_hours_total ≤ 1205.5</text>\n",
       "<text text-anchor=\"start\" x=\"63.1118\" y=\"-189.8932\" font-family=\"Times,serif\" font-size=\"14.00\" fill=\"#000000\">gini = 0.476</text>\n",
       "<text text-anchor=\"start\" x=\"53.1997\" y=\"-175.8932\" font-family=\"Times,serif\" font-size=\"14.00\" fill=\"#000000\">samples = 5389</text>\n",
       "<text text-anchor=\"start\" x=\"38.4307\" y=\"-161.8932\" font-family=\"Times,serif\" font-size=\"14.00\" fill=\"#000000\">value = [4722, 3028]</text>\n",
       "</g>\n",
       "<!-- 1 -->\n",
       "<g id=\"node2\" class=\"node\">\n",
       "<title>1</title>\n",
       "<polygon fill=\"#e7f3fc\" stroke=\"#000000\" points=\"377.0767,-267.0932 231.3218,-267.0932 231.3218,-203.0932 377.0767,-203.0932 377.0767,-267.0932\"/>\n",
       "<text text-anchor=\"start\" x=\"239.5107\" y=\"-251.8932\" font-family=\"Times,serif\" font-size=\"14.00\" fill=\"#000000\">interactions_total ≤ 0.5</text>\n",
       "<text text-anchor=\"start\" x=\"270.1118\" y=\"-237.8932\" font-family=\"Times,serif\" font-size=\"14.00\" fill=\"#000000\">gini = 0.498</text>\n",
       "<text text-anchor=\"start\" x=\"260.1997\" y=\"-223.8932\" font-family=\"Times,serif\" font-size=\"14.00\" fill=\"#000000\">samples = 4220</text>\n",
       "<text text-anchor=\"start\" x=\"245.4307\" y=\"-209.8932\" font-family=\"Times,serif\" font-size=\"14.00\" fill=\"#000000\">value = [2572, 2934]</text>\n",
       "</g>\n",
       "<!-- 0&#45;&gt;1 -->\n",
       "<g id=\"edge1\" class=\"edge\">\n",
       "<title>0&#45;&gt;1</title>\n",
       "<path fill=\"none\" stroke=\"#000000\" d=\"M194.9406,-209.7579C203.8393,-211.8213 212.7949,-213.898 221.5433,-215.9266\"/>\n",
       "<polygon fill=\"#000000\" stroke=\"#000000\" points=\"220.7861,-219.3438 231.3183,-218.1933 222.3674,-212.5248 220.7861,-219.3438\"/>\n",
       "<text text-anchor=\"middle\" x=\"210.1043\" y=\"-227.2208\" font-family=\"Times,serif\" font-size=\"14.00\" fill=\"#000000\">True</text>\n",
       "</g>\n",
       "<!-- 8 -->\n",
       "<g id=\"node9\" class=\"node\">\n",
       "<title>8</title>\n",
       "<polygon fill=\"#e68742\" stroke=\"#000000\" points=\"365.5245,-148.0932 242.8739,-148.0932 242.8739,-84.0932 365.5245,-84.0932 365.5245,-148.0932\"/>\n",
       "<text text-anchor=\"start\" x=\"250.7866\" y=\"-132.8932\" font-family=\"Times,serif\" font-size=\"14.00\" fill=\"#000000\">username ≤ 5561.5</text>\n",
       "<text text-anchor=\"start\" x=\"273.6118\" y=\"-118.8932\" font-family=\"Times,serif\" font-size=\"14.00\" fill=\"#000000\">gini = 0.08</text>\n",
       "<text text-anchor=\"start\" x=\"260.4561\" y=\"-104.8932\" font-family=\"Times,serif\" font-size=\"14.00\" fill=\"#000000\">samples = 1169</text>\n",
       "<text text-anchor=\"start\" x=\"252.4307\" y=\"-90.8932\" font-family=\"Times,serif\" font-size=\"14.00\" fill=\"#000000\">value = [2150, 94]</text>\n",
       "</g>\n",
       "<!-- 0&#45;&gt;8 -->\n",
       "<g id=\"edge8\" class=\"edge\">\n",
       "<title>0&#45;&gt;8</title>\n",
       "<path fill=\"none\" stroke=\"#000000\" d=\"M190.7067,-155.0206C204.9323,-150.1413 219.4121,-145.1748 233.0575,-140.4945\"/>\n",
       "<polygon fill=\"#000000\" stroke=\"#000000\" points=\"234.507,-143.6975 242.8304,-137.1424 232.2358,-137.0762 234.507,-143.6975\"/>\n",
       "<text text-anchor=\"middle\" x=\"220.3737\" y=\"-121.9563\" font-family=\"Times,serif\" font-size=\"14.00\" fill=\"#000000\">False</text>\n",
       "</g>\n",
       "<!-- 2 -->\n",
       "<g id=\"node3\" class=\"node\">\n",
       "<title>2</title>\n",
       "<polygon fill=\"#78bced\" stroke=\"#000000\" points=\"607.8418,-386.0932 412.5566,-386.0932 412.5566,-322.0932 607.8418,-322.0932 607.8418,-386.0932\"/>\n",
       "<text text-anchor=\"start\" x=\"420.6279\" y=\"-370.8932\" font-family=\"Times,serif\" font-size=\"14.00\" fill=\"#000000\">cases_age_hours_total ≤ 1200.0</text>\n",
       "<text text-anchor=\"start\" x=\"476.1118\" y=\"-356.8932\" font-family=\"Times,serif\" font-size=\"14.00\" fill=\"#000000\">gini = 0.366</text>\n",
       "<text text-anchor=\"start\" x=\"466.1997\" y=\"-342.8932\" font-family=\"Times,serif\" font-size=\"14.00\" fill=\"#000000\">samples = 2965</text>\n",
       "<text text-anchor=\"start\" x=\"454.9307\" y=\"-328.8932\" font-family=\"Times,serif\" font-size=\"14.00\" fill=\"#000000\">value = [814, 2558]</text>\n",
       "</g>\n",
       "<!-- 1&#45;&gt;2 -->\n",
       "<g id=\"edge2\" class=\"edge\">\n",
       "<title>1&#45;&gt;2</title>\n",
       "<path fill=\"none\" stroke=\"#000000\" d=\"M359.6744,-267.1396C386.2345,-282.4825 418.1945,-300.9449 445.8202,-316.9034\"/>\n",
       "<polygon fill=\"#000000\" stroke=\"#000000\" points=\"444.2151,-320.0182 454.6249,-321.9896 447.7166,-313.9568 444.2151,-320.0182\"/>\n",
       "</g>\n",
       "<!-- 5 -->\n",
       "<g id=\"node6\" class=\"node\">\n",
       "<title>5</title>\n",
       "<polygon fill=\"#eb9c63\" stroke=\"#000000\" points=\"592.2656,-267.0932 428.1328,-267.0932 428.1328,-203.0932 592.2656,-203.0932 592.2656,-267.0932\"/>\n",
       "<text text-anchor=\"start\" x=\"436.166\" y=\"-251.8932\" font-family=\"Times,serif\" font-size=\"14.00\" fill=\"#000000\">plan_PLAN&#45;S&#45;17Q2 ≤ 0.5</text>\n",
       "<text text-anchor=\"start\" x=\"479.6118\" y=\"-237.8932\" font-family=\"Times,serif\" font-size=\"14.00\" fill=\"#000000\">gini = 0.29</text>\n",
       "<text text-anchor=\"start\" x=\"466.1997\" y=\"-223.8932\" font-family=\"Times,serif\" font-size=\"14.00\" fill=\"#000000\">samples = 1255</text>\n",
       "<text text-anchor=\"start\" x=\"454.9307\" y=\"-209.8932\" font-family=\"Times,serif\" font-size=\"14.00\" fill=\"#000000\">value = [1758, 376]</text>\n",
       "</g>\n",
       "<!-- 1&#45;&gt;5 -->\n",
       "<g id=\"edge5\" class=\"edge\">\n",
       "<title>1&#45;&gt;5</title>\n",
       "<path fill=\"none\" stroke=\"#000000\" d=\"M377.117,-235.0932C390.2139,-235.0932 404.0221,-235.0932 417.5875,-235.0932\"/>\n",
       "<polygon fill=\"#000000\" stroke=\"#000000\" points=\"417.898,-238.5933 427.8979,-235.0932 417.8979,-231.5933 417.898,-238.5933\"/>\n",
       "</g>\n",
       "<!-- 3 -->\n",
       "<g id=\"node4\" class=\"node\">\n",
       "<title>3</title>\n",
       "<polygon fill=\"#eca36f\" stroke=\"#000000\" points=\"766.7372,-458.0932 647.6612,-458.0932 647.6612,-408.0932 766.7372,-408.0932 766.7372,-458.0932\"/>\n",
       "<text text-anchor=\"start\" x=\"673.1118\" y=\"-442.8932\" font-family=\"Times,serif\" font-size=\"14.00\" fill=\"#000000\">gini = 0.335</text>\n",
       "<text text-anchor=\"start\" x=\"666.6997\" y=\"-428.8932\" font-family=\"Times,serif\" font-size=\"14.00\" fill=\"#000000\">samples = 433</text>\n",
       "<text text-anchor=\"start\" x=\"655.4307\" y=\"-414.8932\" font-family=\"Times,serif\" font-size=\"14.00\" fill=\"#000000\">value = [562, 152]</text>\n",
       "</g>\n",
       "<!-- 2&#45;&gt;3 -->\n",
       "<g id=\"edge3\" class=\"edge\">\n",
       "<title>2&#45;&gt;3</title>\n",
       "<path fill=\"none\" stroke=\"#000000\" d=\"M590.0427,-386.1116C605.9411,-392.4871 622.5126,-399.1326 638.0176,-405.3503\"/>\n",
       "<polygon fill=\"#000000\" stroke=\"#000000\" points=\"636.9341,-408.6867 647.5184,-409.1603 639.5396,-402.1897 636.9341,-408.6867\"/>\n",
       "</g>\n",
       "<!-- 4 -->\n",
       "<g id=\"node5\" class=\"node\">\n",
       "<title>4</title>\n",
       "<polygon fill=\"#4ea7e8\" stroke=\"#000000\" points=\"770.2372,-379.0932 644.1613,-379.0932 644.1613,-329.0932 770.2372,-329.0932 770.2372,-379.0932\"/>\n",
       "<text text-anchor=\"start\" x=\"673.1118\" y=\"-363.8932\" font-family=\"Times,serif\" font-size=\"14.00\" fill=\"#000000\">gini = 0.172</text>\n",
       "<text text-anchor=\"start\" x=\"663.1997\" y=\"-349.8932\" font-family=\"Times,serif\" font-size=\"14.00\" fill=\"#000000\">samples = 2532</text>\n",
       "<text text-anchor=\"start\" x=\"651.9307\" y=\"-335.8932\" font-family=\"Times,serif\" font-size=\"14.00\" fill=\"#000000\">value = [252, 2406]</text>\n",
       "</g>\n",
       "<!-- 2&#45;&gt;4 -->\n",
       "<g id=\"edge4\" class=\"edge\">\n",
       "<title>2&#45;&gt;4</title>\n",
       "<path fill=\"none\" stroke=\"#000000\" d=\"M607.8335,-354.0932C616.5691,-354.0932 625.3138,-354.0932 633.7927,-354.0932\"/>\n",
       "<polygon fill=\"#000000\" stroke=\"#000000\" points=\"633.9849,-357.5933 643.9849,-354.0932 633.9848,-350.5933 633.9849,-357.5933\"/>\n",
       "</g>\n",
       "<!-- 6 -->\n",
       "<g id=\"node7\" class=\"node\">\n",
       "<title>6</title>\n",
       "<polygon fill=\"#e99456\" stroke=\"#000000\" points=\"770.2372,-300.0932 644.1613,-300.0932 644.1613,-250.0932 770.2372,-250.0932 770.2372,-300.0932\"/>\n",
       "<text text-anchor=\"start\" x=\"673.1118\" y=\"-284.8932\" font-family=\"Times,serif\" font-size=\"14.00\" fill=\"#000000\">gini = 0.225</text>\n",
       "<text text-anchor=\"start\" x=\"663.4561\" y=\"-270.8932\" font-family=\"Times,serif\" font-size=\"14.00\" fill=\"#000000\">samples = 1130</text>\n",
       "<text text-anchor=\"start\" x=\"651.9307\" y=\"-256.8932\" font-family=\"Times,serif\" font-size=\"14.00\" fill=\"#000000\">value = [1742, 259]</text>\n",
       "</g>\n",
       "<!-- 5&#45;&gt;6 -->\n",
       "<g id=\"edge6\" class=\"edge\">\n",
       "<title>5&#45;&gt;6</title>\n",
       "<path fill=\"none\" stroke=\"#000000\" d=\"M592.3184,-251.7672C606.2511,-254.5961 620.6336,-257.5164 634.3085,-260.293\"/>\n",
       "<polygon fill=\"#000000\" stroke=\"#000000\" points=\"633.6278,-263.7262 644.1243,-262.2861 635.0207,-256.8662 633.6278,-263.7262\"/>\n",
       "</g>\n",
       "<!-- 7 -->\n",
       "<g id=\"node8\" class=\"node\">\n",
       "<title>7</title>\n",
       "<polygon fill=\"#54aae9\" stroke=\"#000000\" points=\"763.2236,-220.0932 651.1748,-220.0932 651.1748,-170.0932 763.2236,-170.0932 763.2236,-220.0932\"/>\n",
       "<text text-anchor=\"start\" x=\"673.1118\" y=\"-204.8932\" font-family=\"Times,serif\" font-size=\"14.00\" fill=\"#000000\">gini = 0.212</text>\n",
       "<text text-anchor=\"start\" x=\"666.6997\" y=\"-190.8932\" font-family=\"Times,serif\" font-size=\"14.00\" fill=\"#000000\">samples = 125</text>\n",
       "<text text-anchor=\"start\" x=\"659.187\" y=\"-176.8932\" font-family=\"Times,serif\" font-size=\"14.00\" fill=\"#000000\">value = [16, 117]</text>\n",
       "</g>\n",
       "<!-- 5&#45;&gt;7 -->\n",
       "<g id=\"edge7\" class=\"edge\">\n",
       "<title>5&#45;&gt;7</title>\n",
       "<path fill=\"none\" stroke=\"#000000\" d=\"M592.3184,-218.4192C608.5135,-215.1309 625.3165,-211.7191 640.9093,-208.5531\"/>\n",
       "<polygon fill=\"#000000\" stroke=\"#000000\" points=\"641.8592,-211.9317 650.9627,-206.5118 640.4662,-205.0717 641.8592,-211.9317\"/>\n",
       "</g>\n",
       "<!-- 9 -->\n",
       "<g id=\"node10\" class=\"node\">\n",
       "<title>9</title>\n",
       "<polygon fill=\"#e68642\" stroke=\"#000000\" points=\"594.428,-148.0932 425.9705,-148.0932 425.9705,-84.0932 594.428,-84.0932 594.428,-148.0932\"/>\n",
       "<text text-anchor=\"start\" x=\"433.835\" y=\"-132.8932\" font-family=\"Times,serif\" font-size=\"14.00\" fill=\"#000000\">plan_PLAN&#45;M&#45;17Q2 ≤ 0.5</text>\n",
       "<text text-anchor=\"start\" x=\"476.1118\" y=\"-118.8932\" font-family=\"Times,serif\" font-size=\"14.00\" fill=\"#000000\">gini = 0.079</text>\n",
       "<text text-anchor=\"start\" x=\"466.4561\" y=\"-104.8932\" font-family=\"Times,serif\" font-size=\"14.00\" fill=\"#000000\">samples = 1168</text>\n",
       "<text text-anchor=\"start\" x=\"458.4307\" y=\"-90.8932\" font-family=\"Times,serif\" font-size=\"14.00\" fill=\"#000000\">value = [2150, 93]</text>\n",
       "</g>\n",
       "<!-- 8&#45;&gt;9 -->\n",
       "<g id=\"edge9\" class=\"edge\">\n",
       "<title>8&#45;&gt;9</title>\n",
       "<path fill=\"none\" stroke=\"#000000\" d=\"M365.727,-116.0932C381.3376,-116.0932 398.474,-116.0932 415.319,-116.0932\"/>\n",
       "<polygon fill=\"#000000\" stroke=\"#000000\" points=\"415.7535,-119.5933 425.7535,-116.0932 415.7534,-112.5933 415.7535,-119.5933\"/>\n",
       "</g>\n",
       "<!-- 12 -->\n",
       "<g id=\"node13\" class=\"node\">\n",
       "<title>12</title>\n",
       "<polygon fill=\"#399de5\" stroke=\"#000000\" points=\"555.7375,-54.0932 464.6609,-54.0932 464.6609,-4.0932 555.7375,-4.0932 555.7375,-54.0932\"/>\n",
       "<text text-anchor=\"start\" x=\"483.1118\" y=\"-38.8932\" font-family=\"Times,serif\" font-size=\"14.00\" fill=\"#000000\">gini = 0.0</text>\n",
       "<text text-anchor=\"start\" x=\"476.6997\" y=\"-24.8932\" font-family=\"Times,serif\" font-size=\"14.00\" fill=\"#000000\">samples = 1</text>\n",
       "<text text-anchor=\"start\" x=\"472.4307\" y=\"-10.8932\" font-family=\"Times,serif\" font-size=\"14.00\" fill=\"#000000\">value = [0, 1]</text>\n",
       "</g>\n",
       "<!-- 8&#45;&gt;12 -->\n",
       "<g id=\"edge12\" class=\"edge\">\n",
       "<title>8&#45;&gt;12</title>\n",
       "<path fill=\"none\" stroke=\"#000000\" d=\"M365.727,-90.1082C394.0431,-78.1494 427.3795,-64.0705 454.8905,-52.4517\"/>\n",
       "<polygon fill=\"#000000\" stroke=\"#000000\" points=\"456.5103,-55.567 464.3607,-48.4522 453.7869,-49.1185 456.5103,-55.567\"/>\n",
       "</g>\n",
       "<!-- 10 -->\n",
       "<g id=\"node11\" class=\"node\">\n",
       "<title>10</title>\n",
       "<polygon fill=\"#e68641\" stroke=\"#000000\" points=\"766.7372,-141.0932 647.6612,-141.0932 647.6612,-91.0932 766.7372,-91.0932 766.7372,-141.0932\"/>\n",
       "<text text-anchor=\"start\" x=\"673.1118\" y=\"-125.8932\" font-family=\"Times,serif\" font-size=\"14.00\" fill=\"#000000\">gini = 0.076</text>\n",
       "<text text-anchor=\"start\" x=\"663.4561\" y=\"-111.8932\" font-family=\"Times,serif\" font-size=\"14.00\" fill=\"#000000\">samples = 1162</text>\n",
       "<text text-anchor=\"start\" x=\"655.4307\" y=\"-97.8932\" font-family=\"Times,serif\" font-size=\"14.00\" fill=\"#000000\">value = [2148, 88]</text>\n",
       "</g>\n",
       "<!-- 9&#45;&gt;10 -->\n",
       "<g id=\"edge10\" class=\"edge\">\n",
       "<title>9&#45;&gt;10</title>\n",
       "<path fill=\"none\" stroke=\"#000000\" d=\"M594.6023,-116.0932C608.8327,-116.0932 623.464,-116.0932 637.2748,-116.0932\"/>\n",
       "<polygon fill=\"#000000\" stroke=\"#000000\" points=\"637.6559,-119.5933 647.6558,-116.0932 637.6558,-112.5933 637.6559,-119.5933\"/>\n",
       "</g>\n",
       "<!-- 11 -->\n",
       "<g id=\"node12\" class=\"node\">\n",
       "<title>11</title>\n",
       "<polygon fill=\"#88c4ef\" stroke=\"#000000\" points=\"752.7375,-62.0932 661.6609,-62.0932 661.6609,-12.0932 752.7375,-12.0932 752.7375,-62.0932\"/>\n",
       "<text text-anchor=\"start\" x=\"673.1118\" y=\"-46.8932\" font-family=\"Times,serif\" font-size=\"14.00\" fill=\"#000000\">gini = 0.408</text>\n",
       "<text text-anchor=\"start\" x=\"673.6997\" y=\"-32.8932\" font-family=\"Times,serif\" font-size=\"14.00\" fill=\"#000000\">samples = 6</text>\n",
       "<text text-anchor=\"start\" x=\"669.4307\" y=\"-18.8932\" font-family=\"Times,serif\" font-size=\"14.00\" fill=\"#000000\">value = [2, 5]</text>\n",
       "</g>\n",
       "<!-- 9&#45;&gt;11 -->\n",
       "<g id=\"edge11\" class=\"edge\">\n",
       "<title>9&#45;&gt;11</title>\n",
       "<path fill=\"none\" stroke=\"#000000\" d=\"M590.0427,-84.0748C610.8456,-75.7325 632.8009,-66.9281 652.0116,-59.2243\"/>\n",
       "<polygon fill=\"#000000\" stroke=\"#000000\" points=\"653.5159,-62.392 661.4947,-55.4214 650.9105,-55.8949 653.5159,-62.392\"/>\n",
       "</g>\n",
       "</g>\n",
       "</svg>\n"
      ],
      "text/plain": [
       "<graphviz.files.Source at 0x1c2b9b2390>"
      ]
     },
     "metadata": {},
     "output_type": "display_data"
    }
   ],
   "source": [
    "draw_tree(m.estimators_[0], df_trn, precision=3)"
   ]
  },
  {
   "cell_type": "code",
   "execution_count": 176,
   "metadata": {},
   "outputs": [
    {
     "data": {
      "text/html": [
       "<div>\n",
       "<style scoped>\n",
       "    .dataframe tbody tr th:only-of-type {\n",
       "        vertical-align: middle;\n",
       "    }\n",
       "\n",
       "    .dataframe tbody tr th {\n",
       "        vertical-align: top;\n",
       "    }\n",
       "\n",
       "    .dataframe thead th {\n",
       "        text-align: right;\n",
       "    }\n",
       "</style>\n",
       "<table border=\"1\" class=\"dataframe\">\n",
       "  <thead>\n",
       "    <tr style=\"text-align: right;\">\n",
       "      <th></th>\n",
       "      <th>cols</th>\n",
       "      <th>imp</th>\n",
       "    </tr>\n",
       "  </thead>\n",
       "  <tbody>\n",
       "    <tr>\n",
       "      <td>2</td>\n",
       "      <td>days_active</td>\n",
       "      <td>0.163077</td>\n",
       "    </tr>\n",
       "    <tr>\n",
       "      <td>15</td>\n",
       "      <td>interactions_total</td>\n",
       "      <td>0.102380</td>\n",
       "    </tr>\n",
       "    <tr>\n",
       "      <td>16</td>\n",
       "      <td>interactions_completed</td>\n",
       "      <td>0.098796</td>\n",
       "    </tr>\n",
       "    <tr>\n",
       "      <td>9</td>\n",
       "      <td>cases_total</td>\n",
       "      <td>0.076366</td>\n",
       "    </tr>\n",
       "    <tr>\n",
       "      <td>10</td>\n",
       "      <td>cases_open</td>\n",
       "      <td>0.071979</td>\n",
       "    </tr>\n",
       "    <tr>\n",
       "      <td>12</td>\n",
       "      <td>cases_age_hours_total</td>\n",
       "      <td>0.066073</td>\n",
       "    </tr>\n",
       "    <tr>\n",
       "      <td>11</td>\n",
       "      <td>cases_closed</td>\n",
       "      <td>0.064221</td>\n",
       "    </tr>\n",
       "    <tr>\n",
       "      <td>60</td>\n",
       "      <td>plan_PLAN-S-19Q1</td>\n",
       "      <td>0.061599</td>\n",
       "    </tr>\n",
       "    <tr>\n",
       "      <td>14</td>\n",
       "      <td>annual_revenue</td>\n",
       "      <td>0.044642</td>\n",
       "    </tr>\n",
       "    <tr>\n",
       "      <td>8</td>\n",
       "      <td>url</td>\n",
       "      <td>0.037418</td>\n",
       "    </tr>\n",
       "  </tbody>\n",
       "</table>\n",
       "</div>"
      ],
      "text/plain": [
       "                      cols       imp\n",
       "2              days_active  0.163077\n",
       "15      interactions_total  0.102380\n",
       "16  interactions_completed  0.098796\n",
       "9              cases_total  0.076366\n",
       "10              cases_open  0.071979\n",
       "12   cases_age_hours_total  0.066073\n",
       "11            cases_closed  0.064221\n",
       "60        plan_PLAN-S-19Q1  0.061599\n",
       "14          annual_revenue  0.044642\n",
       "8                      url  0.037418"
      ]
     },
     "execution_count": 176,
     "metadata": {},
     "output_type": "execute_result"
    }
   ],
   "source": [
    "fi = rf_feat_importance(m, df_trn); fi[:10]"
   ]
  },
  {
   "cell_type": "code",
   "execution_count": 177,
   "metadata": {},
   "outputs": [
    {
     "data": {
      "image/png": "[encoded data removed]",
      "text/plain": [
       "<Figure size 720x432 with 1 Axes>"
      ]
     },
     "metadata": {
      "needs_background": "light"
     },
     "output_type": "display_data"
    }
   ],
   "source": [
    "fi.plot('cols', 'imp', figsize=(10,6), legend=False);"
   ]
  },
  {
   "cell_type": "code",
   "execution_count": 178,
   "metadata": {},
   "outputs": [],
   "source": [
    "def plot_fi(fi): return fi.plot('cols', 'imp', 'barh', figsize=(12,7), legend=False)"
   ]
  },
  {
   "cell_type": "code",
   "execution_count": 179,
   "metadata": {},
   "outputs": [
    {
     "data": {
      "image/png": "[encoded data removed]",
      "text/plain": [
       "<Figure size 864x504 with 1 Axes>"
      ]
     },
     "metadata": {
      "needs_background": "light"
     },
     "output_type": "display_data"
    }
   ],
   "source": [
    "plot_fi(fi[:30]);"
   ]
  },
  {
   "cell_type": "code",
   "execution_count": 180,
   "metadata": {},
   "outputs": [
    {
     "data": {
      "text/plain": [
       "24"
      ]
     },
     "execution_count": 180,
     "metadata": {},
     "output_type": "execute_result"
    }
   ],
   "source": [
    "to_keep = fi[fi.imp>0.005].cols; len(to_keep)"
   ]
  },
  {
   "cell_type": "code",
   "execution_count": 181,
   "metadata": {},
   "outputs": [],
   "source": [
    "df_keep = df_trn[to_keep].copy()\n",
    "X_train, X_valid = split_vals(df_keep, n_trn)"
   ]
  },
  {
   "cell_type": "code",
   "execution_count": 182,
   "metadata": {},
   "outputs": [
    {
     "data": {
      "text/plain": [
       "0.9404342178511783"
      ]
     },
     "execution_count": 182,
     "metadata": {},
     "output_type": "execute_result"
    }
   ],
   "source": [
    "m = RandomForestClassifier(n_estimators=40, min_samples_leaf=3, max_features=0.5, n_jobs=-1, oob_score=True)\n",
    "m.fit(X_train, y_train);\n",
    "m.oob_score_"
   ]
  },
  {
   "cell_type": "code",
   "execution_count": 183,
   "metadata": {},
   "outputs": [
    {
     "data": {
      "image/png": "[encoded data removed]",
      "text/plain": [
       "<Figure size 864x504 with 1 Axes>"
      ]
     },
     "metadata": {
      "needs_background": "light"
     },
     "output_type": "display_data"
    }
   ],
   "source": [
    "fi = rf_feat_importance(m, df_keep)\n",
    "plot_fi(fi);"
   ]
  },
  {
   "cell_type": "code",
   "execution_count": 184,
   "metadata": {},
   "outputs": [],
   "source": [
    "from scipy.cluster import hierarchy as hc"
   ]
  },
  {
   "cell_type": "code",
   "execution_count": 185,
   "metadata": {},
   "outputs": [
    {
     "data": {
      "image/png": "[encoded data removed]",
      "text/plain": [
       "<Figure size 1152x720 with 1 Axes>"
      ]
     },
     "metadata": {
      "needs_background": "light"
     },
     "output_type": "display_data"
    }
   ],
   "source": [
    "corr = np.round(scipy.stats.spearmanr(df_keep).correlation, 4)\n",
    "corr_condensed = hc.distance.squareform(1-corr)\n",
    "z = hc.linkage(corr_condensed, method='average')\n",
    "fig = plt.figure(figsize=(16,10))\n",
    "dendrogram = hc.dendrogram(z, labels=df_keep.columns, orientation='left', leaf_font_size=16)\n",
    "plt.show()"
   ]
  },
  {
   "cell_type": "code",
   "execution_count": 186,
   "metadata": {},
   "outputs": [
    {
     "data": {
      "text/plain": [
       "Index(['days_active', 'interactions_total', 'interactions_completed',\n",
       "       'cases_total', 'cases_open', 'cases_age_hours_total', 'cases_closed',\n",
       "       'plan_PLAN-S-19Q1', 'annual_revenue', 'url', 'plan_STANDARD',\n",
       "       'golive_days', 'plan_PLAN-L-19Q1', 'golive_Is_year_start',\n",
       "       'golive_Dayofyear', 'golive_Week', 'plan_PLAN-S-17Q2', 'plan_PLAN-S',\n",
       "       'golive_Elapsed', 'golive_Is_quarter_start', 'plan_PLAN-M-19Q1',\n",
       "       'golive_Year', 'golive_Day', 'plan_PREMIUM'],\n",
       "      dtype='object')"
      ]
     },
     "execution_count": 186,
     "metadata": {},
     "output_type": "execute_result"
    }
   ],
   "source": [
    "df_keep.columns"
   ]
  },
  {
   "cell_type": "code",
   "execution_count": 187,
   "metadata": {},
   "outputs": [],
   "source": [
    "def get_oob(df):\n",
    "    m = RandomForestClassifier(n_estimators=300, min_samples_leaf=1, max_features=0.6, n_jobs=-1, oob_score=True)\n",
    "    x, _ = split_vals(df, n_trn)\n",
    "    m.fit(x, y_train)\n",
    "    return m.oob_score_"
   ]
  },
  {
   "cell_type": "code",
   "execution_count": 188,
   "metadata": {},
   "outputs": [
    {
     "data": {
      "text/plain": [
       "0.9437743551679347"
      ]
     },
     "execution_count": 188,
     "metadata": {},
     "output_type": "execute_result"
    }
   ],
   "source": [
    "get_oob(df_keep)"
   ]
  },
  {
   "cell_type": "code",
   "execution_count": 189,
   "metadata": {},
   "outputs": [
    {
     "name": "stdout",
     "output_type": "stream",
     "text": [
      "days_active 0.943217665615142 -0.022267582111708983\n",
      "interactions_total 0.9426609760623492 -0.02356652440155871\n",
      "interactions_completed 0.943217665615142 -0.02171089255891634\n",
      "cases_total 0.9400630914826499 -0.025978845796993832\n",
      "cases_open 0.9452588606420487 -0.02245314529597331\n",
      "cases_age_hours_total 0.9385785860085359 -0.026535535349786588\n",
      "cases_closed 0.9450732974577843 -0.021896455743180554\n",
      "plan_PLAN-S-19Q1 0.9356095750603081 -0.02894785674522171\n",
      "annual_revenue 0.941733160141028 -0.026535535349786588\n",
      "url 0.9413620337724995 -0.021896455743180554\n",
      "plan_STANDARD 0.9445166079049917 -0.022267582111708983\n",
      "golive_days 0.9435887919836704 -0.023380961217294494\n",
      "plan_PLAN-L-19Q1 0.9408053442197069 -0.024865466691408433\n",
      "golive_Is_year_start 0.9441454815364632 -0.022267582111708983\n",
      "golive_Dayofyear 0.9460011133791056 -0.020411950269066614\n",
      "golive_Week 0.943959918352199 -0.02096863982185937\n",
      "plan_PLAN-S-17Q2 0.943217665615142 -0.024308777138615678\n",
      "plan_PLAN-S 0.9435887919836704 -0.02319539803303028\n",
      "golive_Elapsed 0.9437743551679347 -0.021154203006123584\n",
      "golive_Is_quarter_start 0.9428465392466134 -0.02319539803303028\n",
      "plan_PLAN-M-19Q1 0.9419187233252923 -0.02467990350714422\n",
      "golive_Year 0.9430321024308778 -0.023009834848765953\n",
      "golive_Day 0.9447021710892559 -0.022638708480237524\n",
      "plan_PREMIUM 0.943959918352199 -0.021525329374652014\n"
     ]
    }
   ],
   "source": [
    "for c in (df_keep):\n",
    "    print(c, get_oob(df_keep.drop(c, axis=1)), get_oob(df_keep.drop(c, axis=1))-0.9660419372796437)"
   ]
  },
  {
   "cell_type": "code",
   "execution_count": 190,
   "metadata": {},
   "outputs": [
    {
     "data": {
      "text/plain": [
       "0.9419187233252923"
      ]
     },
     "execution_count": 190,
     "metadata": {},
     "output_type": "execute_result"
    }
   ],
   "source": [
    "get_oob(df_keep.drop(correlated_fields, axis=1))"
   ]
  },
  {
   "cell_type": "code",
   "execution_count": 192,
   "metadata": {},
   "outputs": [],
   "source": [
    "to_drop = ['cases_closed', 'golive_Year', 'golive_Is_year_start', 'golive_Dayofyear']\n",
    "df_keep.drop(to_drop, axis=1, inplace=True)\n",
    "X_train, X_valid = split_vals(df_keep, n_trn)"
   ]
  },
  {
   "cell_type": "code",
   "execution_count": 193,
   "metadata": {},
   "outputs": [
    {
     "data": {
      "text/plain": [
       "RandomForestClassifier(bootstrap=False, class_weight={0: 2, 1: 1},\n",
       "                       criterion='gini', max_depth=3, max_features='sqrt',\n",
       "                       max_leaf_nodes=None, min_impurity_decrease=0.0,\n",
       "                       min_impurity_split=None, min_samples_leaf=1,\n",
       "                       min_samples_split=2, min_weight_fraction_leaf=0.0,\n",
       "                       n_estimators=200, n_jobs=-1, oob_score=False,\n",
       "                       random_state=None, verbose=0, warm_start=False)"
      ]
     },
     "execution_count": 193,
     "metadata": {},
     "output_type": "execute_result"
    }
   ],
   "source": [
    "#m = RandomForestClassifier(n_estimators=400, min_samples_leaf=3, max_features=0.5, n_jobs=-1, oob_score=True)\n",
    "m = RandomForestClassifier(\n",
    "    n_estimators=200,\n",
    "    min_samples_leaf=1, \n",
    "    max_features='sqrt',\n",
    "    n_jobs=-1, \n",
    "    #oob_score=True,\n",
    "    max_depth=3,\n",
    "    bootstrap=False,\n",
    "    criterion='gini',\n",
    "    class_weight={0: 2, 1: 1})\n",
    "\n",
    "m.fit(X_train, y_train)"
   ]
  },
  {
   "cell_type": "code",
   "execution_count": 194,
   "metadata": {},
   "outputs": [
    {
     "data": {
      "image/png": "[encoded data removed]",
      "text/plain": [
       "<Figure size 864x504 with 1 Axes>"
      ]
     },
     "metadata": {
      "needs_background": "light"
     },
     "output_type": "display_data"
    }
   ],
   "source": [
    "fi = rf_feat_importance(m, df_keep)\n",
    "plot_fi(fi);"
   ]
  },
  {
   "cell_type": "code",
   "execution_count": null,
   "metadata": {},
   "outputs": [],
   "source": []
  }
 ],
 "metadata": {
  "kernelspec": {
   "display_name": "Python 3",
   "language": "python",
   "name": "python3"
  },
  "language_info": {
   "codemirror_mode": {
    "name": "ipython",
    "version": 3
   },
   "file_extension": ".py",
   "mimetype": "text/x-python",
   "name": "python",
   "nbconvert_exporter": "python",
   "pygments_lexer": "ipython3",
   "version": "3.6.9"
  }
 },
 "nbformat": 4,
 "nbformat_minor": 2
}
