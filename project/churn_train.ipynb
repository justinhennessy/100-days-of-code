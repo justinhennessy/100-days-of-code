{
 "cells": [
  {
   "cell_type": "code",
   "execution_count": 1,
   "metadata": {},
   "outputs": [],
   "source": [
    "%reload_ext autoreload"
   ]
  },
  {
   "cell_type": "code",
   "execution_count": 25,
   "metadata": {},
   "outputs": [],
   "source": [
    "# Packages needed\n",
    "\n",
    "#!pip install \"tabulate\" \"pandas_summary\" \"imblearn\" \"joblib\"\n",
    "#!pip install fastai==0.7.0\n",
    "#!pip install eli5\n",
    "#!pip install ggplot\n",
    "#!pip install pdp\n",
    "#!pip install wandb\n",
    "#!pip install wandb --upgrade"
   ]
  },
  {
   "cell_type": "code",
   "execution_count": 26,
   "metadata": {},
   "outputs": [
    {
     "name": "stdout",
     "output_type": "stream",
     "text": [
      "The autoreload extension is already loaded. To reload it, use:\n",
      "  %reload_ext autoreload\n"
     ]
    }
   ],
   "source": [
    "# Imports\n",
    "\n",
    "%load_ext autoreload\n",
    "%autoreload 2\n",
    "\n",
    "%matplotlib inline\n",
    "import sys\n",
    "from pandas import Timestamp\n",
    "import pandas as pd\n",
    "from fastai.imports import *\n",
    "from fastai.structured import *\n",
    "from imblearn.over_sampling import SMOTE\n",
    "from sklearn.ensemble import RandomForestClassifier\n",
    "from sklearn.externals import joblib\n",
    "from sklearn.model_selection import GridSearchCV\n",
    "from scipy.stats import trim_mean\n",
    "\n",
    "from sklearn.metrics import f1_score,\\\n",
    "    accuracy_score, confusion_matrix,\\\n",
    "    precision_score, recall_score,\\\n",
    "    roc_curve, roc_auc_score,\\\n",
    "    cohen_kappa_score, mean_absolute_error,\\\n",
    "    precision_recall_curve, auc,\\\n",
    "    average_precision_score\n",
    "\n",
    "import wandb\n",
    "\n",
    "#import numpy as np\n",
    "#import random\n",
    "#from matplotlib import pyplot\n",
    "#from pandas_summary import DataFrameSummary\n",
    "#from IPython.display import display\n",
    "#from tabulate import tabulate\n",
    "#from sklearn.model_selection import GridSearchCV\n",
    "#from scipy.stats.mstats import mode, gmean, hmean\n",
    "#from sklearn import metrics\n",
    "\n",
    "#set_plot_sizes(12,14,16)"
   ]
  },
  {
   "cell_type": "code",
   "execution_count": 27,
   "metadata": {},
   "outputs": [],
   "source": [
    "sys.path.append('../lib')\n",
    "import utils\n",
    "import preprocessing"
   ]
  },
  {
   "cell_type": "code",
   "execution_count": 28,
   "metadata": {},
   "outputs": [],
   "source": [
    "# Load in data\n",
    "\n",
    "PATH = \"../data/\"\n",
    "df_raw = pd.read_csv(f'{PATH}churn.csv', low_memory=False, \n",
    "                     parse_dates=['canceldate', 'licence_registration_date', 'golive_date'])\n",
    "\n",
    "drop_columns = ['url', 'golive_date']\n",
    "\n",
    "df_raw = df_raw.drop(columns=drop_columns)"
   ]
  },
  {
   "cell_type": "code",
   "execution_count": 29,
   "metadata": {},
   "outputs": [
    {
     "name": "stdout",
     "output_type": "stream",
     "text": [
      "6497 (6497, 33)\n",
      "Sorting dataframe by licence_registration_date ...\n",
      "Defaulting 'last_login_days' for missing values to the plans mean or platform medeian ...\n",
      "  Platform 'last_login_days' median: 12.0\n",
      "  Platform 'last_login_days' mean: 17.269198312236288\n",
      "  List records that still have NaN in them for feature 'last_login_days' ...\n",
      "  0\n",
      "Defaulting 'last_month_total' for missing values to the plans mean or platform medeian ...\n",
      "  Platform 'last_month_total' median: 0.0\n",
      "  Platform 'last_month_total' mean: 1.5262305699481866\n"
     ]
    },
    {
     "name": "stderr",
     "output_type": "stream",
     "text": [
      "../lib/preprocessing.py:128: SettingWithCopyWarning: \n",
      "A value is trying to be set on a copy of a slice from a DataFrame\n",
      "\n",
      "See the caveats in the documentation: http://pandas.pydata.org/pandas-docs/stable/user_guide/indexing.html#returning-a-view-versus-a-copy\n",
      "  df['plan'][i] = \"no_plan\"\n",
      "../lib/preprocessing.py:129: SettingWithCopyWarning: \n",
      "A value is trying to be set on a copy of a slice from a DataFrame\n",
      "\n",
      "See the caveats in the documentation: http://pandas.pydata.org/pandas-docs/stable/user_guide/indexing.html#returning-a-view-versus-a-copy\n",
      "  df['plan_not_set'][i] = 1\n"
     ]
    },
    {
     "name": "stdout",
     "output_type": "stream",
     "text": [
      "  List records that still have NaN in them for feature 'last_month_total' ...\n",
      "  0\n",
      "Defaulting 'mtd_total' for missing values to the plans mean or platform medeian ...\n",
      "  Platform 'mtd_total' median: 0.0\n",
      "  Platform 'mtd_total' mean: 0.234779792746114\n",
      "  List records that still have NaN in them for feature 'mtd_total' ...\n",
      "  0\n",
      "Defaulting 'last_month_open' for missing values to the plans mean or platform medeian ...\n",
      "  Platform 'last_month_open' median: 0.0\n",
      "  Platform 'last_month_open' mean: 0.21275906735751296\n",
      "  List records that still have NaN in them for feature 'last_month_open' ...\n",
      "  0\n",
      "Defaulting 'mtd_open' for missing values to the plans mean or platform medeian ...\n",
      "  Platform 'mtd_open' median: 0.0\n",
      "  Platform 'mtd_open' mean: 0.10006476683937823\n",
      "  List records that still have NaN in them for feature 'mtd_open' ...\n",
      "  0\n",
      "Defaulting 'last_month_closed' for missing values to the plans mean or platform medeian ...\n",
      "  Platform 'last_month_closed' median: 0.0\n",
      "  Platform 'last_month_closed' mean: 0.21275906735751296\n",
      "  List records that still have NaN in them for feature 'last_month_closed' ...\n",
      "  0\n",
      "Defaulting 'mtd_closed' for missing values to the plans mean or platform medeian ...\n",
      "  Platform 'mtd_closed' median: 0.0\n",
      "  Platform 'mtd_closed' mean: 0.10006476683937823\n",
      "  List records that still have NaN in them for feature 'mtd_closed' ...\n",
      "  0\n",
      "Defaulting 'last_month_age_hours' for missing values to the plans mean or platform medeian ...\n",
      "  Platform 'last_month_age_hours' median: 0.0\n",
      "  Platform 'last_month_age_hours' mean: 59.27097709951136\n",
      "  List records that still have NaN in them for feature 'last_month_age_hours' ...\n",
      "  0\n",
      "Defaulting 'mtd_age_hours' for missing values to the plans mean or platform medeian ...\n",
      "  Platform 'mtd_age_hours' median: 0.0\n",
      "  Platform 'mtd_age_hours' mean: 4.360134211274384\n",
      "  List records that still have NaN in them for feature 'mtd_age_hours' ...\n",
      "  0\n",
      "Defaulting 'month_total_avg' for missing values to the plans mean or platform medeian ...\n",
      "  Platform 'month_total_avg' median: 0.0\n",
      "  Platform 'month_total_avg' mean: 0.8805051813471503\n",
      "  List records that still have NaN in them for feature 'month_total_avg' ...\n",
      "  0\n",
      "Defaulting 'open_month_avg' for missing values to the plans mean or platform medeian ...\n",
      "  Platform 'open_month_avg' median: 0.0\n",
      "  Platform 'open_month_avg' mean: 0.1564119170984456\n",
      "  List records that still have NaN in them for feature 'open_month_avg' ...\n",
      "  0\n",
      "Defaulting 'closed_month_avg' for missing values to the plans mean or platform medeian ...\n",
      "  Platform 'closed_month_avg' median: 0.0\n",
      "  Platform 'closed_month_avg' mean: 0.1564119170984456\n",
      "  List records that still have NaN in them for feature 'closed_month_avg' ...\n",
      "  0\n",
      "Defaulting 'age_hours_month_avg' for missing values to the plans mean or platform medeian ...\n",
      "  Platform 'age_hours_month_avg' median: 0.0\n",
      "  Platform 'age_hours_month_avg' mean: 31.81555565549779\n",
      "  List records that still have NaN in them for feature 'age_hours_month_avg' ...\n",
      "  0\n",
      "Binning last_login_days\n",
      "fortnight    4169\n",
      "month+        798\n",
      "month         774\n",
      "day           166\n",
      "week            0\n",
      "few_days        0\n",
      "Name: last_login_categories, dtype: int64\n",
      "Binning NPS data\n",
      "Fixing days_active abnormal values ...\n"
     ]
    },
    {
     "name": "stderr",
     "output_type": "stream",
     "text": [
      "../lib/preprocessing.py:42: SettingWithCopyWarning: \n",
      "A value is trying to be set on a copy of a slice from a DataFrame\n",
      "\n",
      "See the caveats in the documentation: http://pandas.pydata.org/pandas-docs/stable/user_guide/indexing.html#returning-a-view-versus-a-copy\n",
      "  df[feature][i] = random_replace_value(df, feature)\n"
     ]
    },
    {
     "name": "stdout",
     "output_type": "stream",
     "text": [
      "Bin days_active ...\n",
      "One-hot encoding customer_account_status\n",
      "One-hot encoding plan\n",
      "One-hot encoding nps\n",
      "One-hot encoding last_login_categories\n",
      "One-hot encoding days_active\n",
      "Preprocessing dates ...\n",
      "Dropping feature account_status ...\n",
      "Dropping feature customer_account_status_Good ...\n",
      "Dropping feature canceldate ...\n",
      "Dropping feature total_churn_concern_cases_age ...\n",
      "Dropping features with 'interactions' in their name ...\n",
      "Dropping features with 'churn_concern' in their name ...\n",
      "Convert categorical features into numbers ...\n",
      "List any features that still have NaN values ...\n",
      "Feature has NaN values: golive_days, 2710\n",
      "Feature has NaN values: licence_registration_Year, 117\n",
      "Feature has NaN values: licence_registration_Month, 117\n",
      "Feature has NaN values: licence_registration_Week, 117\n",
      "Feature has NaN values: licence_registration_Day, 117\n",
      "Feature has NaN values: licence_registration_Dayofweek, 117\n",
      "Feature has NaN values: licence_registration_Dayofyear, 117\n",
      "5907 (5907, 100)\n"
     ]
    }
   ],
   "source": [
    "print(len(df_raw), df_raw.shape)\n",
    "\n",
    "df_processed = preprocessing.prepare_data(df_raw.loc[(df_raw.licence_status != \"STAGING\") & (df_raw.licence_status != \"PARTNER\") & (df_raw.plan != \"CUSTOM\") & (df_raw.plan != \"TRIAL\")])\n",
    "df_processed = df_processed.drop(columns=['licence_status'])\n",
    "\n",
    "print(len(df_processed), df_processed.shape)"
   ]
  },
  {
   "cell_type": "code",
   "execution_count": 30,
   "metadata": {},
   "outputs": [
    {
     "name": "stdout",
     "output_type": "stream",
     "text": [
      "<class 'pandas.core.frame.DataFrame'>\n",
      "Int64Index: 5907 entries, 513 to 6491\n",
      "Data columns (total 100 columns):\n",
      "username                                 5907 non-null category\n",
      "last_login_days                          5907 non-null float64\n",
      "golive_days                              3197 non-null float64\n",
      "last_month_total                         5907 non-null float64\n",
      "mtd_total                                5907 non-null float64\n",
      "last_month_open                          5907 non-null float64\n",
      "mtd_open                                 5907 non-null float64\n",
      "last_month_closed                        5907 non-null float64\n",
      "mtd_closed                               5907 non-null float64\n",
      "last_month_age_hours                     5907 non-null float64\n",
      "mtd_age_hours                            5907 non-null float64\n",
      "month_total_avg                          5907 non-null float64\n",
      "open_month_avg                           5907 non-null float64\n",
      "closed_month_avg                         5907 non-null float64\n",
      "age_hours_month_avg                      5907 non-null float64\n",
      "churned                                  5907 non-null int64\n",
      "plan_not_set                             5907 non-null int64\n",
      "days_active_modified                     5907 non-null int64\n",
      "customer_account_status_PoorStanding     5907 non-null uint8\n",
      "plan_BASIC                               5907 non-null uint8\n",
      "plan_BRONZE                              5907 non-null uint8\n",
      "plan_BUSINESS                            5907 non-null uint8\n",
      "plan_BUSINESS +                          5907 non-null uint8\n",
      "plan_CUSTOM XL                           5907 non-null uint8\n",
      "plan_ENTERPRISE                          5907 non-null uint8\n",
      "plan_GOLD                                5907 non-null uint8\n",
      "plan_GROW                                5907 non-null uint8\n",
      "plan_L&S - PREMIUM                       5907 non-null uint8\n",
      "plan_L&S - STANDARD                      5907 non-null uint8\n",
      "plan_L&S - ULTIMATE                      5907 non-null uint8\n",
      "plan_LIST N SEND SILVER                  5907 non-null uint8\n",
      "plan_LISTNSEND                           5907 non-null uint8\n",
      "plan_NETO XL                             5907 non-null uint8\n",
      "plan_NETO XXL                            5907 non-null uint8\n",
      "plan_PLAN-360-17Q2                       5907 non-null uint8\n",
      "plan_PLAN-360-19Q1                       5907 non-null uint8\n",
      "plan_PLAN-360-TRANSITION                 5907 non-null uint8\n",
      "plan_PLAN-360-US                         5907 non-null uint8\n",
      "plan_PLAN-L                              5907 non-null uint8\n",
      "plan_PLAN-L-17Q2                         5907 non-null uint8\n",
      "plan_PLAN-L-19Q1                         5907 non-null uint8\n",
      "plan_PLAN-L-US                           5907 non-null uint8\n",
      "plan_PLAN-M                              5907 non-null uint8\n",
      "plan_PLAN-M-17Q2                         5907 non-null uint8\n",
      "plan_PLAN-M-19Q1                         5907 non-null uint8\n",
      "plan_PLAN-M-US                           5907 non-null uint8\n",
      "plan_PLAN-S                              5907 non-null uint8\n",
      "plan_PLAN-S-17Q2                         5907 non-null uint8\n",
      "plan_PLAN-S-19Q1                         5907 non-null uint8\n",
      "plan_PLAN-S-US                           5907 non-null uint8\n",
      "plan_PLAN-XL-19Q1                        5907 non-null uint8\n",
      "plan_PLAN-XS                             5907 non-null uint8\n",
      "plan_PLAN-XS-17Q2                        5907 non-null uint8\n",
      "plan_PREMIER                             5907 non-null uint8\n",
      "plan_PREMIUM                             5907 non-null uint8\n",
      "plan_SILVER                              5907 non-null uint8\n",
      "plan_STANDARD                            5907 non-null uint8\n",
      "plan_START                               5907 non-null uint8\n",
      "plan_START - LEGACY                      5907 non-null uint8\n",
      "plan_TELSTRA - ONLINE STORE M            5907 non-null uint8\n",
      "plan_TELSTRA - ONLINE STORE S            5907 non-null uint8\n",
      "plan_TELSTRA - POS S                     5907 non-null uint8\n",
      "plan_TELSTRA - PREMIUM                   5907 non-null uint8\n",
      "plan_TELSTRA - STANDARD                  5907 non-null uint8\n",
      "plan_ULTIMATE                            5907 non-null uint8\n",
      "plan_ULTIMATE PLUS                       5907 non-null uint8\n",
      "plan_no_plan                             5907 non-null uint8\n",
      "nps_no_data                              5907 non-null uint8\n",
      "nps_detractor                            5907 non-null uint8\n",
      "nps_passive                              5907 non-null uint8\n",
      "nps_promoter                             5907 non-null uint8\n",
      "last_login_categories_day                5907 non-null uint8\n",
      "last_login_categories_few_days           5907 non-null uint8\n",
      "last_login_categories_week               5907 non-null uint8\n",
      "last_login_categories_fortnight          5907 non-null uint8\n",
      "last_login_categories_month              5907 non-null uint8\n",
      "last_login_categories_month+             5907 non-null uint8\n",
      "days_active_no_data                      5907 non-null uint8\n",
      "days_active_day                          5907 non-null uint8\n",
      "days_active_week                         5907 non-null uint8\n",
      "days_active_fortnight                    5907 non-null uint8\n",
      "days_active_month                        5907 non-null uint8\n",
      "days_active_3months                      5907 non-null uint8\n",
      "days_active_6months                      5907 non-null uint8\n",
      "days_active_1year                        5907 non-null uint8\n",
      "days_active_2years                       5907 non-null uint8\n",
      "days_active_2years+                      5907 non-null uint8\n",
      "licence_registration_Year                5790 non-null float64\n",
      "licence_registration_Month               5790 non-null float64\n",
      "licence_registration_Week                5790 non-null float64\n",
      "licence_registration_Day                 5790 non-null float64\n",
      "licence_registration_Dayofweek           5790 non-null float64\n",
      "licence_registration_Dayofyear           5790 non-null float64\n",
      "licence_registration_Is_month_end        5907 non-null bool\n",
      "licence_registration_Is_month_start      5907 non-null bool\n",
      "licence_registration_Is_quarter_end      5907 non-null bool\n",
      "licence_registration_Is_quarter_start    5907 non-null bool\n",
      "licence_registration_Is_year_end         5907 non-null bool\n",
      "licence_registration_Is_year_start       5907 non-null bool\n",
      "licence_registration_Elapsed             5907 non-null int64\n",
      "dtypes: bool(6), category(1), float64(20), int64(4), uint8(69)\n",
      "memory usage: 1.9 MB\n"
     ]
    }
   ],
   "source": [
    "df_processed.info()"
   ]
  },
  {
   "cell_type": "code",
   "execution_count": 31,
   "metadata": {},
   "outputs": [
    {
     "name": "stdout",
     "output_type": "stream",
     "text": [
      "5907\n",
      "(5907, 106)\n",
      "{'golive_days': 65.0, 'licence_registration_Year': 2016.0, 'licence_registration_Month': 7.0, 'licence_registration_Week': 28.0, 'licence_registration_Day': 18.0, 'licence_registration_Dayofweek': 2.0, 'licence_registration_Dayofyear': 194.0}\n"
     ]
    }
   ],
   "source": [
    "df_trn, y_trn, nas = proc_df(df_processed, 'churned')\n",
    "print(len(df_trn))\n",
    "print(df_trn.shape)\n",
    "print(nas)\n",
    "\n",
    "# take the output of nas, save it in training and use the same values in inference code"
   ]
  },
  {
   "cell_type": "code",
   "execution_count": 32,
   "metadata": {},
   "outputs": [],
   "source": [
    "def split_vals(a,n): return a[:n], a[n:]\n",
    "\n",
    "n_valid = 1000\n",
    "n_trn = len(df_trn)-n_valid\n",
    "X_train, X_valid = split_vals(df_trn, n_trn)\n",
    "y_train, y_valid = split_vals(y_trn, n_trn)\n",
    "\n",
    "# save the validation data and use in inference notebook"
   ]
  },
  {
   "cell_type": "code",
   "execution_count": 33,
   "metadata": {},
   "outputs": [
    {
     "data": {
      "text/plain": [
       "((4907, 106), (4907,), (1000, 106), (1000,))"
      ]
     },
     "execution_count": 33,
     "metadata": {},
     "output_type": "execute_result"
    }
   ],
   "source": [
    "X_train.shape, y_train.shape, X_valid.shape, y_valid.shape"
   ]
  },
  {
   "cell_type": "code",
   "execution_count": 34,
   "metadata": {},
   "outputs": [],
   "source": [
    "# Fix the dataset imbalance\n",
    "\n",
    "#sm = SMOTE(random_state=12, ratio = 1.0)\n",
    "#X_train_res, y_train_res = sm.fit_sample(X_train, y_train)"
   ]
  },
  {
   "cell_type": "code",
   "execution_count": 35,
   "metadata": {},
   "outputs": [],
   "source": [
    "#X_train_res.shape, y_train_res.shape"
   ]
  },
  {
   "cell_type": "code",
   "execution_count": 36,
   "metadata": {},
   "outputs": [
    {
     "data": {
      "text/plain": [
       "((4907, 106), (4907,))"
      ]
     },
     "execution_count": 36,
     "metadata": {},
     "output_type": "execute_result"
    }
   ],
   "source": [
    "X_train.shape, y_train.shape"
   ]
  },
  {
   "cell_type": "code",
   "execution_count": null,
   "metadata": {},
   "outputs": [],
   "source": [
    "!wandb login dda97ba4df7f598b91affe3c806891df2e043ed7"
   ]
  },
  {
   "cell_type": "code",
   "execution_count": 38,
   "metadata": {},
   "outputs": [
    {
     "name": "stdout",
     "output_type": "stream",
     "text": [
      "Original array:\n",
      "[0 1 0 ... 0 0 0]\n",
      "Frequency of unique values of the said array:\n",
      "[[   0    1]\n",
      " [1823 3084]]\n"
     ]
    }
   ],
   "source": [
    "print(\"Original array:\")\n",
    "print(y_train)\n",
    "unique_elements, counts_elements = np.unique(y_train, return_counts=True)\n",
    "print(\"Frequency of unique values of the said array:\")\n",
    "print(np.asarray((unique_elements, counts_elements)))"
   ]
  },
  {
   "cell_type": "code",
   "execution_count": 39,
   "metadata": {},
   "outputs": [
    {
     "name": "stdout",
     "output_type": "stream",
     "text": [
      "Frequency of unique values of the said array:\n",
      "[[  0   1]\n",
      " [561 439]]\n"
     ]
    }
   ],
   "source": [
    "#print(\"Original array:\")\n",
    "#print(y_valid)\n",
    "unique_elements, counts_elements = np.unique(y_valid, return_counts=True)\n",
    "print(\"Frequency of unique values of the said array:\")\n",
    "print(np.asarray((unique_elements, counts_elements)))"
   ]
  },
  {
   "cell_type": "code",
   "execution_count": 44,
   "metadata": {},
   "outputs": [
    {
     "name": "stdout",
     "output_type": "stream",
     "text": [
      "customer_churn-1573417472\n"
     ]
    },
    {
     "ename": "TypeError",
     "evalue": "super(type, obj): obj must be an instance or subtype of type",
     "output_type": "error",
     "traceback": [
      "\u001b[0;31m---------------------------------------------------------------------------\u001b[0m",
      "\u001b[0;31mTypeError\u001b[0m                                 Traceback (most recent call last)",
      "\u001b[0;32m<ipython-input-44-27c07013ea0c>\u001b[0m in \u001b[0;36m<module>\u001b[0;34m\u001b[0m\n\u001b[1;32m      5\u001b[0m \u001b[0mprint\u001b[0m\u001b[0;34m(\u001b[0m\u001b[0mrun_name\u001b[0m\u001b[0;34m)\u001b[0m\u001b[0;34m\u001b[0m\u001b[0;34m\u001b[0m\u001b[0m\n\u001b[1;32m      6\u001b[0m \u001b[0;34m\u001b[0m\u001b[0m\n\u001b[0;32m----> 7\u001b[0;31m \u001b[0mtest\u001b[0m \u001b[0;34m=\u001b[0m \u001b[0mwandb\u001b[0m\u001b[0;34m.\u001b[0m\u001b[0minit\u001b[0m\u001b[0;34m(\u001b[0m\u001b[0;34m)\u001b[0m\u001b[0;34m\u001b[0m\u001b[0;34m\u001b[0m\u001b[0m\n\u001b[0m",
      "\u001b[0;32m~/anaconda3/envs/fastai/lib/python3.6/site-packages/wandb/__init__.py\u001b[0m in \u001b[0;36minit\u001b[0;34m(job_type, dir, config, project, entity, reinit, tags, group, allow_val_change, resume, force, tensorboard, sync_tensorboard, monitor_gym, name, notes, id, magic, anonymous)\u001b[0m\n\u001b[1;32m   1021\u001b[0m     \u001b[0mset_global_config\u001b[0m\u001b[0;34m(\u001b[0m\u001b[0mrun\u001b[0m\u001b[0;34m)\u001b[0m\u001b[0;34m\u001b[0m\u001b[0;34m\u001b[0m\u001b[0m\n\u001b[1;32m   1022\u001b[0m     \u001b[0;32mglobal\u001b[0m \u001b[0msummary\u001b[0m\u001b[0;34m\u001b[0m\u001b[0;34m\u001b[0m\u001b[0m\n\u001b[0;32m-> 1023\u001b[0;31m     \u001b[0msummary\u001b[0m \u001b[0;34m=\u001b[0m \u001b[0mrun\u001b[0m\u001b[0;34m.\u001b[0m\u001b[0msummary\u001b[0m\u001b[0;34m\u001b[0m\u001b[0;34m\u001b[0m\u001b[0m\n\u001b[0m\u001b[1;32m   1024\u001b[0m \u001b[0;34m\u001b[0m\u001b[0m\n\u001b[1;32m   1025\u001b[0m     \u001b[0;31m# set this immediately after setting the run and the config. if there is an\u001b[0m\u001b[0;34m\u001b[0m\u001b[0;34m\u001b[0m\u001b[0;34m\u001b[0m\u001b[0m\n",
      "\u001b[0;32m~/anaconda3/envs/fastai/lib/python3.6/site-packages/wandb/wandb_run.py\u001b[0m in \u001b[0;36msummary\u001b[0;34m(self)\u001b[0m\n\u001b[1;32m    627\u001b[0m     \u001b[0;32mdef\u001b[0m \u001b[0msummary\u001b[0m\u001b[0;34m(\u001b[0m\u001b[0mself\u001b[0m\u001b[0;34m)\u001b[0m\u001b[0;34m:\u001b[0m\u001b[0;34m\u001b[0m\u001b[0;34m\u001b[0m\u001b[0m\n\u001b[1;32m    628\u001b[0m         \u001b[0;32mif\u001b[0m \u001b[0mself\u001b[0m\u001b[0;34m.\u001b[0m\u001b[0m_summary\u001b[0m \u001b[0;32mis\u001b[0m \u001b[0;32mNone\u001b[0m\u001b[0;34m:\u001b[0m\u001b[0;34m\u001b[0m\u001b[0;34m\u001b[0m\u001b[0m\n\u001b[0;32m--> 629\u001b[0;31m             \u001b[0mself\u001b[0m\u001b[0;34m.\u001b[0m\u001b[0m_summary\u001b[0m \u001b[0;34m=\u001b[0m \u001b[0msummary\u001b[0m\u001b[0;34m.\u001b[0m\u001b[0mFileSummary\u001b[0m\u001b[0;34m(\u001b[0m\u001b[0mself\u001b[0m\u001b[0;34m)\u001b[0m\u001b[0;34m\u001b[0m\u001b[0;34m\u001b[0m\u001b[0m\n\u001b[0m\u001b[1;32m    630\u001b[0m         \u001b[0;32mreturn\u001b[0m \u001b[0mself\u001b[0m\u001b[0;34m.\u001b[0m\u001b[0m_summary\u001b[0m\u001b[0;34m\u001b[0m\u001b[0;34m\u001b[0m\u001b[0m\n\u001b[1;32m    631\u001b[0m \u001b[0;34m\u001b[0m\u001b[0m\n",
      "\u001b[0;32m~/anaconda3/envs/fastai/lib/python3.6/site-packages/wandb/util.py\u001b[0m in \u001b[0;36m__getattr__\u001b[0;34m(self, key)\u001b[0m\n\u001b[1;32m    182\u001b[0m     \u001b[0;32mdef\u001b[0m \u001b[0m__getattr__\u001b[0m\u001b[0;34m(\u001b[0m\u001b[0mself\u001b[0m\u001b[0;34m,\u001b[0m \u001b[0mkey\u001b[0m\u001b[0;34m)\u001b[0m\u001b[0;34m:\u001b[0m\u001b[0;34m\u001b[0m\u001b[0;34m\u001b[0m\u001b[0m\n\u001b[1;32m    183\u001b[0m         \u001b[0;32mif\u001b[0m \u001b[0;32mnot\u001b[0m \u001b[0mkey\u001b[0m\u001b[0;34m.\u001b[0m\u001b[0mstartswith\u001b[0m\u001b[0;34m(\u001b[0m\u001b[0;34m\"_\"\u001b[0m\u001b[0;34m)\u001b[0m\u001b[0;34m:\u001b[0m\u001b[0;34m\u001b[0m\u001b[0;34m\u001b[0m\u001b[0m\n\u001b[0;32m--> 184\u001b[0;31m             raise wandb.Error(\n\u001b[0m\u001b[1;32m    185\u001b[0m                 'You must call wandb.init() before {}.{}'.format(self._name, key))\n\u001b[1;32m    186\u001b[0m         \u001b[0;32melse\u001b[0m\u001b[0;34m:\u001b[0m\u001b[0;34m\u001b[0m\u001b[0;34m\u001b[0m\u001b[0m\n",
      "\u001b[0;32m~/anaconda3/envs/fastai/lib/python3.6/site-packages/wandb/core.py\u001b[0m in \u001b[0;36m__init__\u001b[0;34m(self, message)\u001b[0m\n\u001b[1;32m     49\u001b[0m \u001b[0;34m\u001b[0m\u001b[0m\n\u001b[1;32m     50\u001b[0m     \u001b[0;32mdef\u001b[0m \u001b[0m__init__\u001b[0m\u001b[0;34m(\u001b[0m\u001b[0mself\u001b[0m\u001b[0;34m,\u001b[0m \u001b[0mmessage\u001b[0m\u001b[0;34m)\u001b[0m\u001b[0;34m:\u001b[0m\u001b[0;34m\u001b[0m\u001b[0;34m\u001b[0m\u001b[0m\n\u001b[0;32m---> 51\u001b[0;31m         \u001b[0msuper\u001b[0m\u001b[0;34m(\u001b[0m\u001b[0mError\u001b[0m\u001b[0;34m,\u001b[0m \u001b[0mself\u001b[0m\u001b[0;34m)\u001b[0m\u001b[0;34m.\u001b[0m\u001b[0m__init__\u001b[0m\u001b[0;34m(\u001b[0m\u001b[0mmessage\u001b[0m\u001b[0;34m)\u001b[0m\u001b[0;34m\u001b[0m\u001b[0;34m\u001b[0m\u001b[0m\n\u001b[0m\u001b[1;32m     52\u001b[0m         \u001b[0mself\u001b[0m\u001b[0;34m.\u001b[0m\u001b[0mmessage\u001b[0m \u001b[0;34m=\u001b[0m \u001b[0mmessage\u001b[0m\u001b[0;34m\u001b[0m\u001b[0;34m\u001b[0m\u001b[0m\n\u001b[1;32m     53\u001b[0m \u001b[0;34m\u001b[0m\u001b[0m\n",
      "\u001b[0;31mTypeError\u001b[0m: super(type, obj): obj must be an instance or subtype of type"
     ]
    }
   ],
   "source": [
    "import time\n",
    "seconds = time.time()\n",
    "\n",
    "run_name = f\"customer_churn-{int(seconds)}\"\n",
    "print(run_name)\n",
    "\n",
    "test = wandb.init()"
   ]
  },
  {
   "cell_type": "code",
   "execution_count": 40,
   "metadata": {},
   "outputs": [
    {
     "name": "stdout",
     "output_type": "stream",
     "text": [
      "customer_churn-1573417120\n"
     ]
    },
    {
     "ename": "TypeError",
     "evalue": "super(type, obj): obj must be an instance or subtype of type",
     "output_type": "error",
     "traceback": [
      "\u001b[0;31m---------------------------------------------------------------------------\u001b[0m",
      "\u001b[0;31mTypeError\u001b[0m                                 Traceback (most recent call last)",
      "\u001b[0;32m<ipython-input-40-7bbc51df9c5f>\u001b[0m in \u001b[0;36m<module>\u001b[0;34m\u001b[0m\n\u001b[1;32m      5\u001b[0m \u001b[0mprint\u001b[0m\u001b[0;34m(\u001b[0m\u001b[0mrun_name\u001b[0m\u001b[0;34m)\u001b[0m\u001b[0;34m\u001b[0m\u001b[0;34m\u001b[0m\u001b[0m\n\u001b[1;32m      6\u001b[0m \u001b[0;34m\u001b[0m\u001b[0m\n\u001b[0;32m----> 7\u001b[0;31m \u001b[0mwandb\u001b[0m\u001b[0;34m.\u001b[0m\u001b[0minit\u001b[0m\u001b[0;34m(\u001b[0m\u001b[0mproject\u001b[0m\u001b[0;34m=\u001b[0m\u001b[0;34m\"neto-customer-churn\"\u001b[0m\u001b[0;34m,\u001b[0m \u001b[0mname\u001b[0m\u001b[0;34m=\u001b[0m\u001b[0;34mf\"customer_churn-{int(seconds)}\"\u001b[0m\u001b[0;34m)\u001b[0m\u001b[0;34m\u001b[0m\u001b[0;34m\u001b[0m\u001b[0m\n\u001b[0m\u001b[1;32m      8\u001b[0m \u001b[0;34m\u001b[0m\u001b[0m\n\u001b[1;32m      9\u001b[0m \u001b[0mcolumns\u001b[0m \u001b[0;34m=\u001b[0m \u001b[0mdf_raw\u001b[0m\u001b[0;34m.\u001b[0m\u001b[0mcolumns\u001b[0m\u001b[0;34m\u001b[0m\u001b[0;34m\u001b[0m\u001b[0m\n",
      "\u001b[0;32m~/anaconda3/envs/fastai/lib/python3.6/site-packages/wandb/__init__.py\u001b[0m in \u001b[0;36minit\u001b[0;34m(job_type, dir, config, project, entity, reinit, tags, group, allow_val_change, resume, force, tensorboard, sync_tensorboard, monitor_gym, name, notes, id, magic, anonymous)\u001b[0m\n\u001b[1;32m   1021\u001b[0m     \u001b[0mset_global_config\u001b[0m\u001b[0;34m(\u001b[0m\u001b[0mrun\u001b[0m\u001b[0;34m)\u001b[0m\u001b[0;34m\u001b[0m\u001b[0;34m\u001b[0m\u001b[0m\n\u001b[1;32m   1022\u001b[0m     \u001b[0;32mglobal\u001b[0m \u001b[0msummary\u001b[0m\u001b[0;34m\u001b[0m\u001b[0;34m\u001b[0m\u001b[0m\n\u001b[0;32m-> 1023\u001b[0;31m     \u001b[0msummary\u001b[0m \u001b[0;34m=\u001b[0m \u001b[0mrun\u001b[0m\u001b[0;34m.\u001b[0m\u001b[0msummary\u001b[0m\u001b[0;34m\u001b[0m\u001b[0;34m\u001b[0m\u001b[0m\n\u001b[0m\u001b[1;32m   1024\u001b[0m \u001b[0;34m\u001b[0m\u001b[0m\n\u001b[1;32m   1025\u001b[0m     \u001b[0;31m# set this immediately after setting the run and the config. if there is an\u001b[0m\u001b[0;34m\u001b[0m\u001b[0;34m\u001b[0m\u001b[0;34m\u001b[0m\u001b[0m\n",
      "\u001b[0;32m~/anaconda3/envs/fastai/lib/python3.6/site-packages/wandb/wandb_run.py\u001b[0m in \u001b[0;36msummary\u001b[0;34m(self)\u001b[0m\n\u001b[1;32m    627\u001b[0m     \u001b[0;32mdef\u001b[0m \u001b[0msummary\u001b[0m\u001b[0;34m(\u001b[0m\u001b[0mself\u001b[0m\u001b[0;34m)\u001b[0m\u001b[0;34m:\u001b[0m\u001b[0;34m\u001b[0m\u001b[0;34m\u001b[0m\u001b[0m\n\u001b[1;32m    628\u001b[0m         \u001b[0;32mif\u001b[0m \u001b[0mself\u001b[0m\u001b[0;34m.\u001b[0m\u001b[0m_summary\u001b[0m \u001b[0;32mis\u001b[0m \u001b[0;32mNone\u001b[0m\u001b[0;34m:\u001b[0m\u001b[0;34m\u001b[0m\u001b[0;34m\u001b[0m\u001b[0m\n\u001b[0;32m--> 629\u001b[0;31m             \u001b[0mself\u001b[0m\u001b[0;34m.\u001b[0m\u001b[0m_summary\u001b[0m \u001b[0;34m=\u001b[0m \u001b[0msummary\u001b[0m\u001b[0;34m.\u001b[0m\u001b[0mFileSummary\u001b[0m\u001b[0;34m(\u001b[0m\u001b[0mself\u001b[0m\u001b[0;34m)\u001b[0m\u001b[0;34m\u001b[0m\u001b[0;34m\u001b[0m\u001b[0m\n\u001b[0m\u001b[1;32m    630\u001b[0m         \u001b[0;32mreturn\u001b[0m \u001b[0mself\u001b[0m\u001b[0;34m.\u001b[0m\u001b[0m_summary\u001b[0m\u001b[0;34m\u001b[0m\u001b[0;34m\u001b[0m\u001b[0m\n\u001b[1;32m    631\u001b[0m \u001b[0;34m\u001b[0m\u001b[0m\n",
      "\u001b[0;32m~/anaconda3/envs/fastai/lib/python3.6/site-packages/wandb/util.py\u001b[0m in \u001b[0;36m__getattr__\u001b[0;34m(self, key)\u001b[0m\n\u001b[1;32m    182\u001b[0m     \u001b[0;32mdef\u001b[0m \u001b[0m__getattr__\u001b[0m\u001b[0;34m(\u001b[0m\u001b[0mself\u001b[0m\u001b[0;34m,\u001b[0m \u001b[0mkey\u001b[0m\u001b[0;34m)\u001b[0m\u001b[0;34m:\u001b[0m\u001b[0;34m\u001b[0m\u001b[0;34m\u001b[0m\u001b[0m\n\u001b[1;32m    183\u001b[0m         \u001b[0;32mif\u001b[0m \u001b[0;32mnot\u001b[0m \u001b[0mkey\u001b[0m\u001b[0;34m.\u001b[0m\u001b[0mstartswith\u001b[0m\u001b[0;34m(\u001b[0m\u001b[0;34m\"_\"\u001b[0m\u001b[0;34m)\u001b[0m\u001b[0;34m:\u001b[0m\u001b[0;34m\u001b[0m\u001b[0;34m\u001b[0m\u001b[0m\n\u001b[0;32m--> 184\u001b[0;31m             raise wandb.Error(\n\u001b[0m\u001b[1;32m    185\u001b[0m                 'You must call wandb.init() before {}.{}'.format(self._name, key))\n\u001b[1;32m    186\u001b[0m         \u001b[0;32melse\u001b[0m\u001b[0;34m:\u001b[0m\u001b[0;34m\u001b[0m\u001b[0;34m\u001b[0m\u001b[0m\n",
      "\u001b[0;32m~/anaconda3/envs/fastai/lib/python3.6/site-packages/wandb/core.py\u001b[0m in \u001b[0;36m__init__\u001b[0;34m(self, message)\u001b[0m\n\u001b[1;32m     49\u001b[0m \u001b[0;34m\u001b[0m\u001b[0m\n\u001b[1;32m     50\u001b[0m     \u001b[0;32mdef\u001b[0m \u001b[0m__init__\u001b[0m\u001b[0;34m(\u001b[0m\u001b[0mself\u001b[0m\u001b[0;34m,\u001b[0m \u001b[0mmessage\u001b[0m\u001b[0;34m)\u001b[0m\u001b[0;34m:\u001b[0m\u001b[0;34m\u001b[0m\u001b[0;34m\u001b[0m\u001b[0m\n\u001b[0;32m---> 51\u001b[0;31m         \u001b[0msuper\u001b[0m\u001b[0;34m(\u001b[0m\u001b[0mError\u001b[0m\u001b[0;34m,\u001b[0m \u001b[0mself\u001b[0m\u001b[0;34m)\u001b[0m\u001b[0;34m.\u001b[0m\u001b[0m__init__\u001b[0m\u001b[0;34m(\u001b[0m\u001b[0mmessage\u001b[0m\u001b[0;34m)\u001b[0m\u001b[0;34m\u001b[0m\u001b[0;34m\u001b[0m\u001b[0m\n\u001b[0m\u001b[1;32m     52\u001b[0m         \u001b[0mself\u001b[0m\u001b[0;34m.\u001b[0m\u001b[0mmessage\u001b[0m \u001b[0;34m=\u001b[0m \u001b[0mmessage\u001b[0m\u001b[0;34m\u001b[0m\u001b[0;34m\u001b[0m\u001b[0m\n\u001b[1;32m     53\u001b[0m \u001b[0;34m\u001b[0m\u001b[0m\n",
      "\u001b[0;31mTypeError\u001b[0m: super(type, obj): obj must be an instance or subtype of type"
     ]
    }
   ],
   "source": [
    "columns = df_raw.columns\n",
    "n_estimators = 2000\n",
    "min_samples_leaf = 3\n",
    "max_features = 'sqrt'\n",
    "n_jobs = -1\n",
    "max_depth = 2\n",
    "bootstrap = False\n",
    "criterion = 'entropy'\n",
    "class_weight = {0: 3, 1: 1}\n",
    "\n",
    "\n",
    "m = RandomForestClassifier(\n",
    "    n_estimators=n_estimators,\n",
    "    min_samples_leaf=min_samples_leaf, \n",
    "    max_features=max_features,\n",
    "    n_jobs=n_jobs,\n",
    "    max_depth=max_depth,\n",
    "    bootstrap=bootstrap,\n",
    "    criterion=criterion,\n",
    "    class_weight=class_weight\n",
    "    )\n",
    "\n",
    "%time m.fit(X_train, y_train)\n",
    "#m.fit(X_train, y_train)\n",
    "\n",
    "y_pred = m.predict(X_valid)\n",
    "\n",
    "wandb.config.columns = columns\n",
    "wandb.config.n_estimators = n_estimators\n",
    "wandb.config.min_samples_leaf = min_samples_leaf\n",
    "wandb.config.max_features = max_features\n",
    "wandb.config.n_jobs = n_jobs\n",
    "wandb.config.max_depth = max_depth\n",
    "wandb.config.bootstrap = bootstrap\n",
    "wandb.config.criterion = criterion\n",
    "wandb.config.class_weight = class_weight\n",
    "\n",
    "wandb.log({'accuracy': accuracy_score(y_valid,y_pred),\n",
    "           'precision': precision_score(y_valid,y_pred),\n",
    "           'recall': recall_score(y_valid,y_pred),\n",
    "           'cohen_kappa': cohen_kappa_score(y_valid,y_pred),\n",
    "           'mean_abs_error': mean_absolute_error(y_valid,y_pred),\n",
    "           'f1_score': f1_score(y_valid,y_pred)})\n",
    "\n",
    "# you can create this file config-defaults.yaml\n",
    "# sample config defaults file\n",
    "#n_estimators:\n",
    "#  desc: number of estimators in the forest\n",
    "#  value: 2000\n",
    "\n",
    "print(utils.uber_score(y_valid, y_pred))\n",
    "utils.conf_matrix(y_valid, y_pred)\n",
    "\n",
    "# Save to file in the current working directory\n",
    "joblib_file = \"./wandb/churn_model.pkl\"\n",
    "joblib.dump(m, joblib_file)\n",
    "\n",
    "wandb.save(\"churn_model.pkl\")"
   ]
  },
  {
   "cell_type": "code",
   "execution_count": null,
   "metadata": {},
   "outputs": [],
   "source": [
    "utils.plot_roc_pr(m, X_valid, y_valid)\n",
    "#df_filtered.plot('golive_days', 'days_active', 'scatter', alpha=0.01, figsize=(10,8));"
   ]
  },
  {
   "cell_type": "code",
   "execution_count": null,
   "metadata": {},
   "outputs": [],
   "source": [
    "fi = rf_feat_importance(m, X_valid); fi[:10]"
   ]
  },
  {
   "cell_type": "code",
   "execution_count": null,
   "metadata": {},
   "outputs": [],
   "source": [
    "def plot_fi(fi): return fi.plot('cols', 'imp', 'barh', figsize=(12,7), legend=False)\n",
    "plot_fi(fi[:30]);"
   ]
  },
  {
   "cell_type": "code",
   "execution_count": 22,
   "metadata": {},
   "outputs": [
    {
     "name": "stdout",
     "output_type": "stream",
     "text": [
      "Frequency of unique values of the said array:\n",
      "[[  0   1]\n",
      " [639 361]]\n"
     ]
    }
   ],
   "source": [
    "unique_elements, counts_elements = np.unique(y_pred, return_counts=True)\n",
    "print(\"Frequency of unique values of the said array:\")\n",
    "print(np.asarray((unique_elements, counts_elements)))"
   ]
  },
  {
   "cell_type": "code",
   "execution_count": 50,
   "metadata": {},
   "outputs": [],
   "source": [
    "to_keep = fi[fi.imp>0.01].cols; len(to_keep)\n",
    "df_keep = df_trn[to_keep].copy()\n",
    "X_train, X_valid = split_vals(df_keep, n_trn)"
   ]
  },
  {
   "cell_type": "code",
   "execution_count": 51,
   "metadata": {},
   "outputs": [
    {
     "data": {
      "text/plain": [
       "RandomForestClassifier(bootstrap=False, class_weight={0: 2, 1: 1},\n",
       "                       criterion='entropy', max_depth=2, max_features='sqrt',\n",
       "                       max_leaf_nodes=None, min_impurity_decrease=0.0,\n",
       "                       min_impurity_split=None, min_samples_leaf=3,\n",
       "                       min_samples_split=2, min_weight_fraction_leaf=0.0,\n",
       "                       n_estimators=2000, n_jobs=-1, oob_score=False,\n",
       "                       random_state=None, verbose=0, warm_start=False)"
      ]
     },
     "execution_count": 51,
     "metadata": {},
     "output_type": "execute_result"
    }
   ],
   "source": [
    "m.fit(X_train, y_train)"
   ]
  },
  {
   "cell_type": "code",
   "execution_count": 52,
   "metadata": {},
   "outputs": [
    {
     "data": {
      "image/png": "[encoded data removed]",
      "text/plain": [
       "<Figure size 720x720 with 1 Axes>"
      ]
     },
     "metadata": {
      "needs_background": "light"
     },
     "output_type": "display_data"
    },
    {
     "name": "stdout",
     "output_type": "stream",
     "text": [
      "auc=0.888 ap=0.886\n"
     ]
    }
   ],
   "source": [
    "utils.plot_roc_pr(m, X_valid, y_valid)"
   ]
  },
  {
   "cell_type": "code",
   "execution_count": 22,
   "metadata": {},
   "outputs": [],
   "source": [
    "# Save to file in the current working directory\n",
    "#joblib_file = \"churn_model.pkl\"\n",
    "#joblib.dump(m, joblib_file)"
   ]
  },
  {
   "cell_type": "code",
   "execution_count": 23,
   "metadata": {},
   "outputs": [
    {
     "data": {
      "image/png": "[encoded data removed]",
      "text/plain": [
       "<Figure size 720x720 with 1 Axes>"
      ]
     },
     "metadata": {
      "needs_background": "light"
     },
     "output_type": "display_data"
    }
   ],
   "source": [
    "from scipy.cluster import hierarchy as hc\n",
    "\n",
    "corr = np.round(scipy.stats.spearmanr(df_keep).correlation, 4)\n",
    "corr_condensed = hc.distance.squareform(1-corr)\n",
    "z = hc.linkage(corr_condensed, method='average')\n",
    "fig = plt.figure(figsize=(10,10))\n",
    "dendrogram = hc.dendrogram(z, labels=df_trn.columns, orientation='left', leaf_font_size=16)\n",
    "plt.show()"
   ]
  },
  {
   "cell_type": "code",
   "execution_count": 209,
   "metadata": {},
   "outputs": [
    {
     "name": "stdout",
     "output_type": "stream",
     "text": [
      "precision, recall, f1_score, accuracy, cohen_kappa_score, mean abs error\n",
      "0.9896995708154507 0.7795807978363759 0.8721633888048411 0.8660590449772142 0.735608778995085 0.1339409550227858\n",
      "days_active None\n",
      "0.9968253968253968 0.7430696416497633 0.8514429595196591 0.84802853180107 0.702521755174738 0.15197146819893007\n",
      "cases_closed None\n",
      "0.997649271274095 0.7173766058147397 0.8346116027531957 0.8333663562512383 0.6755113253815958 0.16663364374876163\n",
      "cases_total None\n",
      "0.997649271274095 0.7173766058147397 0.8346116027531957 0.8333663562512383 0.6755113253815958 0.16663364374876163\n",
      "annual_revenue None\n",
      "0.9967166979362101 0.7183908045977011 0.8349705304518664 0.8335644937586685 0.675789469176262 0.1664355062413315\n",
      "cases_age_hours_total None\n",
      "0.9950383400992332 0.7457741717376606 0.8525603864734299 0.8488210818307905 0.7038358069819595 0.15117891816920942\n",
      "cases_open None\n",
      "0.9957845433255269 0.7187288708586883 0.8348713921068133 0.8333663562512383 0.6753387771842287 0.16663364374876163\n",
      "plan_PLAN-S-19Q1 None\n",
      "0.9950203712086917 0.7430696416497633 0.8507838203986839 0.8472359817713493 0.7008904711629779 0.15276401822865068\n",
      "plan_STANDARD None\n",
      "0.9945921586300135 0.7461122379986478 0.8526173459532548 0.8488210818307905 0.7037962142851374 0.15117891816920942\n",
      "golive_days None\n",
      "0.9950271247739603 0.7440838404327248 0.8514506769825919 0.8478303942936398 0.7019946031298403 0.1521696057063602\n",
      "plan_PLAN-S None\n",
      "0.9945848375451264 0.7450980392156863 0.8519520680324701 0.8482266693085001 0.7026912046014088 0.1517733306914999\n",
      "golive_Dayofyear None\n",
      "0.9950248756218906 0.7437457741717377 0.8512284774617914 0.8476322567862097 0.7016265099652382 0.15236774321379037\n",
      "golive_Elapsed None\n",
      "0.9963669391462306 0.7417173766058147 0.8503875968992247 0.8470378442639191 0.7006424960785181 0.15296215573608085\n",
      "golive_Is_year_start None\n",
      "0.9954648526077098 0.7420554428668019 0.8502808444702693 0.846839706756489 0.7001946763364699 0.153160293243511\n",
      "plan_PLAN-S-17Q2 None\n",
      "0.9950158586316267 0.742393509127789 0.8503388189738624 0.846839706756489 0.7001546289976215 0.153160293243511\n",
      "golive_Year None\n",
      "0.9962669155389641 0.7217714672075727 0.8370907665163695 0.83534773132554 0.6790285180892981 0.16465226867446006\n",
      "interactions_completed None\n",
      "0.9959422903516681 0.7467883705206221 0.8535548686244205 0.8498117693679413 0.7057569293095365 0.15018823063205866\n",
      "golive_Week None\n",
      "0.9995294117647059 0.718052738336714 0.8357269329136336 0.8345551812958193 0.6778691464968853 0.1654448187041807\n",
      "golive_Is_quarter_start None\n",
      "0.996301433194637 0.7285327924273157 0.8416324936535833 0.8393104814741431 0.6863362616719155 0.16068951852585694\n",
      "interactions_total None\n",
      "0.9976303317535545 0.7116294793779581 0.8307024467245463 0.8299980186249257 0.6693255573926672 0.1700019813750743\n",
      "golive_Is_month_start None\n",
      "0.9950181159420289 0.7427315753887762 0.8505613627564848 0.8470378442639191 0.700522525505612 0.15296215573608085\n",
      "username None\n",
      "0.9968340117593849 0.7450980392156863 0.8527761656026311 0.8492173568456509 0.70473052546625 0.1507826431543491\n",
      "golive_Day None\n",
      "0.9967012252591895 0.7150101419878296 0.8326771653543308 0.831583118684367 0.6721476975787863 0.16841688131563304\n",
      "plan_PLAN-L-19Q1 None\n"
     ]
    }
   ],
   "source": [
    "print(\"precision, recall, f1_score, accuracy, cohen_kappa_score, mean abs error\")\n",
    "\n",
    "for column in df_keep.columns:\n",
    "    m = RandomForestClassifier(\n",
    "        n_estimators=200,\n",
    "        min_samples_leaf=2, \n",
    "        max_features='sqrt',\n",
    "        n_jobs=-1, \n",
    "        max_depth=3,\n",
    "        bootstrap=False,\n",
    "        criterion='entropy',\n",
    "        class_weight={0: 4, 1: 1}\n",
    "        )\n",
    "\n",
    "    x, _ = split_vals(df_keep.drop(columns=[column]), n_trn)\n",
    "    m.fit(x, y_train)\n",
    "    y_pred = m.predict(x)\n",
    "    print(column, utils.uber_score(y_train, y_pred))"
   ]
  },
  {
   "cell_type": "code",
   "execution_count": null,
   "metadata": {},
   "outputs": [],
   "source": []
  }
 ],
 "metadata": {
  "_draft": {
   "nbviewer_url": "https://gist.github.com/1292bacee4b6c087ed3ec76def23c344"
  },
  "gist": {
   "data": {
    "description": "courses/ml1/churn.ipynb",
    "public": false
   },
   "id": "1292bacee4b6c087ed3ec76def23c344"
  },
  "kernelspec": {
   "display_name": "Python 3",
   "language": "python",
   "name": "python3"
  },
  "language_info": {
   "codemirror_mode": {
    "name": "ipython",
    "version": 3
   },
   "file_extension": ".py",
   "mimetype": "text/x-python",
   "name": "python",
   "nbconvert_exporter": "python",
   "pygments_lexer": "ipython3",
   "version": "3.6.9"
  }
 },
 "nbformat": 4,
 "nbformat_minor": 2
}
