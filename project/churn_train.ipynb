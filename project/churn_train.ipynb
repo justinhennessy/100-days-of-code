{
 "cells": [
  {
   "cell_type": "code",
   "execution_count": 1,
   "metadata": {},
   "outputs": [],
   "source": [
    "%reload_ext autoreload"
   ]
  },
  {
   "cell_type": "code",
   "execution_count": 2,
   "metadata": {},
   "outputs": [],
   "source": [
    "# Packages needed\n",
    "\n",
    "#!pip install \"tabulate\" \"pandas_summary\" \"imblearn\" \"fastai\" \"joblib\"\n",
    "#!pip install fastai==0.7.0"
   ]
  },
  {
   "cell_type": "code",
   "execution_count": 35,
   "metadata": {},
   "outputs": [
    {
     "name": "stdout",
     "output_type": "stream",
     "text": [
      "The autoreload extension is already loaded. To reload it, use:\n",
      "  %reload_ext autoreload\n"
     ]
    },
    {
     "name": "stderr",
     "output_type": "stream",
     "text": [
      "/Users/justinhennessy/anaconda3/envs/fastai/lib/python3.6/site-packages/sklearn/externals/joblib/__init__.py:15: DeprecationWarning: sklearn.externals.joblib is deprecated in 0.21 and will be removed in 0.23. Please import this functionality directly from joblib, which can be installed with: pip install joblib. If this warning is raised when loading pickled models, you may need to re-serialize those models with scikit-learn 0.21+.\n",
      "  warnings.warn(msg, category=DeprecationWarning)\n"
     ]
    }
   ],
   "source": [
    "# Imports\n",
    "\n",
    "%load_ext autoreload\n",
    "%autoreload 2\n",
    "\n",
    "%matplotlib inline\n",
    "import sys\n",
    "import pandas as pd\n",
    "from fastai.imports import *\n",
    "from fastai.structured import *\n",
    "from imblearn.over_sampling import SMOTE\n",
    "from sklearn.ensemble import RandomForestClassifier\n",
    "from sklearn.externals import joblib\n",
    "\n",
    "#import numpy as np\n",
    "#import random\n",
    "#from matplotlib import pyplot\n",
    "#from pandas_summary import DataFrameSummary\n",
    "#from IPython.display import display\n",
    "#from tabulate import tabulate\n",
    "#from sklearn.model_selection import GridSearchCV\n",
    "#from scipy.stats.mstats import mode, gmean, hmean\n",
    "#from sklearn import metrics\n",
    "\n",
    "#set_plot_sizes(12,14,16)"
   ]
  },
  {
   "cell_type": "code",
   "execution_count": 11,
   "metadata": {},
   "outputs": [],
   "source": [
    "sys.path.append('../lib')\n",
    "import utils\n",
    "import preprocessing"
   ]
  },
  {
   "cell_type": "code",
   "execution_count": 12,
   "metadata": {},
   "outputs": [],
   "source": [
    "# Load in data\n",
    "\n",
    "PATH = \"../data/\"\n",
    "df_raw = pd.read_csv(f'{PATH}churn.csv', low_memory=False, \n",
    "                     parse_dates=['canceldate', 'licence_registration_date', 'golive_date'])"
   ]
  },
  {
   "cell_type": "code",
   "execution_count": 14,
   "metadata": {},
   "outputs": [
    {
     "name": "stdout",
     "output_type": "stream",
     "text": [
      "5889 (5889, 38)\n",
      "5889 (5889, 99)\n"
     ]
    }
   ],
   "source": [
    "print(len(df_raw), df_raw.shape)\n",
    "df_processed = preprocessing.prepare_data(df_raw)\n",
    "print(len(df_processed), df_processed.shape)"
   ]
  },
  {
   "cell_type": "code",
   "execution_count": 15,
   "metadata": {},
   "outputs": [
    {
     "name": "stdout",
     "output_type": "stream",
     "text": [
      "1351 (1351, 99)\n"
     ]
    }
   ],
   "source": [
    "df_filtered = df_processed[df_processed.licence_registration_Year >2017]\n",
    "print(len(df_filtered), df_filtered.shape)"
   ]
  },
  {
   "cell_type": "code",
   "execution_count": 16,
   "metadata": {},
   "outputs": [
    {
     "name": "stdout",
     "output_type": "stream",
     "text": [
      "4538    2018\n",
      "4539    2018\n",
      "4540    2018\n",
      "4541    2018\n",
      "4542    2018\n",
      "Name: licence_registration_Year, dtype: int64 5884    2019\n",
      "5885    2019\n",
      "5887    2019\n",
      "5886    2019\n",
      "5888    2019\n",
      "Name: licence_registration_Year, dtype: int64\n"
     ]
    }
   ],
   "source": [
    "print(df_filtered.licence_registration_Year.head(), df_filtered.licence_registration_Year.tail())"
   ]
  },
  {
   "cell_type": "code",
   "execution_count": 17,
   "metadata": {},
   "outputs": [
    {
     "data": {
      "text/plain": [
       "(412, 939)"
      ]
     },
     "execution_count": 17,
     "metadata": {},
     "output_type": "execute_result"
    }
   ],
   "source": [
    "len(df_filtered[df_filtered.churned == 1]), len(df_filtered[df_filtered.churned == 0])"
   ]
  },
  {
   "cell_type": "code",
   "execution_count": 25,
   "metadata": {},
   "outputs": [
    {
     "name": "stdout",
     "output_type": "stream",
     "text": [
      "1351 (1351, 102)\n"
     ]
    },
    {
     "name": "stderr",
     "output_type": "stream",
     "text": [
      "/Users/justinhennessy/anaconda3/envs/fastai/lib/python3.6/site-packages/pandas/core/frame.py:4102: SettingWithCopyWarning: \n",
      "A value is trying to be set on a copy of a slice from a DataFrame\n",
      "\n",
      "See the caveats in the documentation: http://pandas.pydata.org/pandas-docs/stable/user_guide/indexing.html#returning-a-view-versus-a-copy\n",
      "  errors=errors,\n"
     ]
    }
   ],
   "source": [
    "df_trn, y_trn, nas = proc_df(df_filtered, 'churned')\n",
    "print(len(df_trn), df_trn.shape)"
   ]
  },
  {
   "cell_type": "code",
   "execution_count": 26,
   "metadata": {},
   "outputs": [],
   "source": [
    "def split_vals(a,n): return a[:n], a[n:]\n",
    "\n",
    "n_valid = 500\n",
    "n_trn = len(df_trn)-n_valid\n",
    "X_train, X_valid = split_vals(df_trn, n_trn)\n",
    "y_train, y_valid = split_vals(y_trn, n_trn)"
   ]
  },
  {
   "cell_type": "code",
   "execution_count": 29,
   "metadata": {},
   "outputs": [
    {
     "data": {
      "text/plain": [
       "(1040, 102)"
      ]
     },
     "execution_count": 29,
     "metadata": {},
     "output_type": "execute_result"
    }
   ],
   "source": [
    "# Fix the dataset imbalance\n",
    "\n",
    "sm = SMOTE(random_state=12, ratio = 1.0)\n",
    "X_train_res, y_train_res = sm.fit_sample(X_train, y_train)\n",
    "X_train_res.shape"
   ]
  },
  {
   "cell_type": "code",
   "execution_count": 30,
   "metadata": {},
   "outputs": [
    {
     "data": {
      "text/plain": [
       "(412, 939)"
      ]
     },
     "execution_count": 30,
     "metadata": {},
     "output_type": "execute_result"
    }
   ],
   "source": [
    "len(df_filtered[df_filtered.churned == 1]), len(df_filtered[df_filtered.churned == 0])"
   ]
  },
  {
   "cell_type": "code",
   "execution_count": 36,
   "metadata": {},
   "outputs": [
    {
     "name": "stdout",
     "output_type": "stream",
     "text": [
      "precision, recall, f1_score, accuracy, cohen_kappa_score, mean abs error\n",
      "[0.6375, 0.6296296296296297, 0.6335403726708074, 0.882, 0.5632217944921528, 0.118]\n",
      "[[390  29]\n",
      " [ 30  51]]\n"
     ]
    },
    {
     "data": {
      "text/plain": [
       "['churn_model.pkl']"
      ]
     },
     "execution_count": 36,
     "metadata": {},
     "output_type": "execute_result"
    }
   ],
   "source": [
    "m = RandomForestClassifier(\n",
    "    n_estimators=200,\n",
    "    min_samples_leaf=2, \n",
    "    max_features='sqrt',\n",
    "    n_jobs=-1, \n",
    "    #oob_score=True,\n",
    "    max_depth=3,\n",
    "    bootstrap=False,\n",
    "    criterion='entropy',\n",
    "    class_weight={0: 4, 1: 1}\n",
    "    )\n",
    "\n",
    "m.fit(X_train_res, y_train_res)\n",
    "\n",
    "y_pred = m.predict(X_valid)\n",
    "print(utils.uber_score(y_valid, y_pred))\n",
    "utils.conf_matrix(y_valid, y_pred)\n",
    "\n",
    "# Save to file in the current working directory\n",
    "joblib_file = \"churn_model.pkl\"\n",
    "joblib.dump(m, joblib_file)"
   ]
  },
  {
   "cell_type": "code",
   "execution_count": 44,
   "metadata": {},
   "outputs": [
    {
     "data": {
      "image/png": "[encoded data removed]",
      "text/plain": [
       "<Figure size 432x288 with 1 Axes>"
      ]
     },
     "metadata": {
      "needs_background": "light"
     },
     "output_type": "display_data"
    }
   ],
   "source": [
    "import matplotlib.pyplot as plt\n",
    "import numpy as np\n",
    "\n",
    "def gini(p):\n",
    "   return (p)*(1 - (p)) + (1 - p)*(1 - (1-p))\n",
    "\n",
    "def entropy(p):\n",
    "   return - p*np.log2(p) - (1 - p)*np.log2((1 - p))\n",
    "\n",
    "def classification_error(p):\n",
    "   return 1 - np.max([p, 1 - p])\n",
    "\n",
    "x = np.arange(0.0, 1.0, 0.01)\n",
    "ent = [entropy(p) if p != 0 else None for p in x]\n",
    "scaled_ent = [e*0.5 if e else None for e in ent]\n",
    "c_err = [classification_error(i) for i in x]\n",
    "\n",
    "fig = plt.figure()\n",
    "ax = plt.subplot(111)\n",
    "\n",
    "for j, lab, ls, c, in zip(\n",
    "      [ent, scaled_ent, gini(x), c_err],\n",
    "      ['Entropy', 'Entropy (scaled)', 'Gini Impurity', 'Misclassification Error'],\n",
    "      ['-', '-', '--', '-.'],\n",
    "      ['lightgray', 'red', 'green', 'blue']):\n",
    "   line = ax.plot(x, j, label=lab, linestyle=ls, lw=1, color=c)\n",
    "\n",
    "ax.legend(loc='upper left', bbox_to_anchor=(0.01, 0.85),\n",
    "         ncol=1, fancybox=True, shadow=False)\n",
    "\n",
    "ax.axhline(y=0.5, linewidth=1, color='k', linestyle='--')\n",
    "ax.axhline(y=1.0, linewidth=1, color='k', linestyle='--')\n",
    "\n",
    "plt.ylim([0, 1.1])\n",
    "plt.xlabel('p(j=1)')\n",
    "plt.ylabel('Impurity Index')\n",
    "plt.show()"
   ]
  },
  {
   "cell_type": "code",
   "execution_count": null,
   "metadata": {},
   "outputs": [],
   "source": []
  }
 ],
 "metadata": {
  "_draft": {
   "nbviewer_url": "https://gist.github.com/1292bacee4b6c087ed3ec76def23c344"
  },
  "gist": {
   "data": {
    "description": "courses/ml1/churn.ipynb",
    "public": false
   },
   "id": "1292bacee4b6c087ed3ec76def23c344"
  },
  "kernelspec": {
   "display_name": "Python 3",
   "language": "python",
   "name": "python3"
  },
  "language_info": {
   "codemirror_mode": {
    "name": "ipython",
    "version": 3
   },
   "file_extension": ".py",
   "mimetype": "text/x-python",
   "name": "python",
   "nbconvert_exporter": "python",
   "pygments_lexer": "ipython3",
   "version": "3.6.9"
  }
 },
 "nbformat": 4,
 "nbformat_minor": 2
}
